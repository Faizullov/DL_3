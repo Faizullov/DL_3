{
  "cells": [
    {
      "cell_type": "markdown",
      "metadata": {
        "id": "IQwlunyE86kE"
      },
      "source": [
        "# 1. Практическое задание. Обучение полносвязной нейронной сети.\n",
        "\n",
        "**ФИО**: Файзуллов Айрат Рафагатович\n",
        "\n",
        "**Дедлайн**: 14 октября 2023"
      ]
    },
    {
      "cell_type": "code",
      "execution_count": 2284,
      "metadata": {
        "id": "UyCGfNgA86kF"
      },
      "outputs": [],
      "source": [
        "import numpy as np\n",
        "import torch\n",
        "import cv2\n",
        "\n",
        "from glob import glob\n",
        "from collections import OrderedDict\n",
        "from matplotlib import pyplot as plt\n",
        "\n",
        "from torch import nn\n",
        "from torch.autograd import Function\n",
        "from torch.autograd import gradcheck\n",
        "from torch.optim import Optimizer, Adam\n",
        "from torch.utils.data import Dataset, DataLoader\n",
        "from torchvision import datasets\n",
        "from torchvision import transforms"
      ]
    },
    {
      "cell_type": "markdown",
      "metadata": {
        "id": "uFaWrLT4GkfY"
      },
      "source": [
        "## 1. Загрузка данных"
      ]
    },
    {
      "cell_type": "markdown",
      "metadata": {
        "id": "R930jTYMG6nB"
      },
      "source": [
        "Если вам требуется работать с каким-нибубь набором данных (dataset), то прежде всего проверьте нет ли его среди встроенных наборов данных https://pytorch.org/vision/stable/datasets.html.\n",
        "\n",
        "В текущем домашнем задании мы будем работать с набором данных FashionMNIST. Он присутствует в списке встроенных наборов данных, однако мы воспользуемся реализацией только для удобного и быстрого способа скачать наборы данных. Ниже предлагается реализовать собственный класс для считывания, обработки и упаковки данных."
      ]
    },
    {
      "cell_type": "code",
      "execution_count": 2285,
      "metadata": {
        "id": "LauGpMvGF5qr"
      },
      "outputs": [],
      "source": [
        "training_data = datasets.FashionMNIST(\n",
        "    root=\"data\",\n",
        "    train=True,\n",
        "    download=True\n",
        ")\n",
        "\n",
        "test_data = datasets.FashionMNIST(\n",
        "    root=\"data\",\n",
        "    train=False,\n",
        "    download=True\n",
        ")"
      ]
    },
    {
      "cell_type": "markdown",
      "metadata": {
        "id": "RIT32OCMaLLP"
      },
      "source": [
        "Воспользуемся функцией загрузки данных из репозитория наборов данных."
      ]
    },
    {
      "cell_type": "code",
      "execution_count": 2286,
      "metadata": {
        "id": "Fm_cf_hEIapm",
        "colab": {
          "base_uri": "https://localhost:8080/"
        },
        "outputId": "d1b5607f-538a-4611-eca1-4ce783ef9020"
      },
      "outputs": [
        {
          "output_type": "stream",
          "name": "stdout",
          "text": [
            "t10k-images-idx3-ubyte\t   train-images-idx3-ubyte\n",
            "t10k-images-idx3-ubyte.gz  train-images-idx3-ubyte.gz\n",
            "t10k-labels-idx1-ubyte\t   train-labels-idx1-ubyte\n",
            "t10k-labels-idx1-ubyte.gz  train-labels-idx1-ubyte.gz\n"
          ]
        }
      ],
      "source": [
        "! ls data/FashionMNIST/raw"
      ]
    },
    {
      "cell_type": "code",
      "execution_count": 2287,
      "metadata": {
        "id": "-xnY5xk1KBg2"
      },
      "outputs": [],
      "source": [
        "#https://github.com/zalandoresearch/fashion-mnist/blob/master/utils/mnist_reader.py\n",
        "\n",
        "def load_mnist(path, kind='train'):\n",
        "    import os\n",
        "    import gzip\n",
        "    import numpy as np\n",
        "\n",
        "    \"\"\"Load MNIST data from `path`\"\"\"\n",
        "    labels_path = os.path.join(path,\n",
        "                               '%s-labels-idx1-ubyte.gz'\n",
        "                               % kind)\n",
        "    images_path = os.path.join(path,\n",
        "                               '%s-images-idx3-ubyte.gz'\n",
        "                               % kind)\n",
        "\n",
        "    with gzip.open(labels_path, 'rb') as lbpath:\n",
        "        labels = np.frombuffer(lbpath.read(), dtype=np.uint8,\n",
        "                               offset=8)\n",
        "\n",
        "    with gzip.open(images_path, 'rb') as imgpath:\n",
        "        images = np.frombuffer(imgpath.read(), dtype=np.uint8,\n",
        "                               offset=16).reshape(len(labels), 784)\n",
        "\n",
        "    return images, labels"
      ]
    },
    {
      "cell_type": "markdown",
      "metadata": {
        "id": "qHIlWRV0aZnA"
      },
      "source": [
        "Для удобства PyTorch предоставляет ряд базовых классов `Dataset, DataLoader`, от которых предлагается отнаследоваться при разработке пользовательских классов. Базовый класс `Dataset` используется для загрузки и обработки данных, класс `DataLoader` используется для управления процессом загрузки данных, позволяет в многопоточном режиме загружать данные и упаковывать их.\n",
        "Эти вспомогательные классы находятся в модуле `torch.utils.data`.\n",
        "\n",
        "При наследовании от класса `torch.utils.data.Dataset` требуется переопределить метод `__len__`, который возвращает количество примеров в наборе данных, а также метод `__getitem__`, который позволяет получить доступ к примеру из набора данных по индексу."
      ]
    },
    {
      "cell_type": "markdown",
      "metadata": {
        "id": "3jf2e5cPbJV2"
      },
      "source": [
        "Реализуем класс для FasionMnist.\n",
        "\n",
        "Элементами датасета должны являться пары '(np.array, int)', массив имеет размерность `(28, 28)`, тип элемента `np.float32`."
      ]
    },
    {
      "cell_type": "code",
      "execution_count": 2288,
      "metadata": {
        "id": "snTBHRTQI1bc"
      },
      "outputs": [],
      "source": [
        "import os\n",
        "\n",
        "class FashionMnist(Dataset):\n",
        "    def __init__(self, path, train=True, image_transform=None,\n",
        "                 label_transform=None):\n",
        "        if train:\n",
        "            images, labels = load_mnist(os.path.join(path,\"raw\"))\n",
        "        else:\n",
        "            images, labels = load_mnist(os.path.join(path,\"raw\"), kind=\"t10k\")\n",
        "\n",
        "        ###########################################################\n",
        "        ############# YOUR CODE HERE ##############################\n",
        "        ###########################################################\n",
        "        if not image_transform:\n",
        "          self._images = torch.tensor(images, dtype=torch.float32)\n",
        "        else:\n",
        "          self._images = image_transform(images.astype(np.float32))\n",
        "\n",
        "        if not label_transform:\n",
        "          self._labels = torch.tensor(labels)\n",
        "        else:\n",
        "          self._labels = label_transform(labels)\n",
        "\n",
        "    def __len__(self,):\n",
        "        ###########################################################\n",
        "        ############# YOUR CODE HERE ##############################\n",
        "        ###########################################################\n",
        "        length = len(self._labels)\n",
        "\n",
        "        return length\n",
        "\n",
        "    def __getitem__(self, idx):\n",
        "        ###########################################################\n",
        "        ############# YOUR CODE HERE ##############################\n",
        "        ###########################################################\n",
        "        img = self._images[idx].reshape((28, 28))\n",
        "        label = self._labels[idx]\n",
        "        return img, label\n"
      ]
    },
    {
      "cell_type": "code",
      "execution_count": 2289,
      "metadata": {
        "id": "XVGv_2zBNfpz"
      },
      "outputs": [],
      "source": [
        "test_dataset = FashionMnist(\"data/FashionMNIST\", train=False)\n",
        "train_dataset = FashionMnist(\"data/FashionMNIST\")"
      ]
    },
    {
      "cell_type": "markdown",
      "metadata": {
        "id": "JciETIfndiGR"
      },
      "source": [
        "Визуализируйте случайные элементы набора данных."
      ]
    },
    {
      "cell_type": "code",
      "execution_count": 2290,
      "metadata": {
        "id": "wBky4UtmOS71",
        "colab": {
          "base_uri": "https://localhost:8080/",
          "height": 487
        },
        "outputId": "4e530c84-cc8b-4ce5-d4e8-e985f2cafb83"
      },
      "outputs": [
        {
          "output_type": "stream",
          "name": "stdout",
          "text": [
            "322\n",
            "6\n"
          ]
        },
        {
          "output_type": "display_data",
          "data": {
            "text/plain": [
              "<Figure size 640x480 with 1 Axes>"
            ],
            "image/png": "[encoded data removed]"
          },
          "metadata": {}
        }
      ],
      "source": [
        "###########################################################\n",
        "############# YOUR CODE HERE ##############################\n",
        "###########################################################\n",
        "\n",
        "decode_type = {\n",
        "    0: \"T-shirt/top\", 1: \"Trouser\", 2: \"Pullover\", 3: \"Dress\", 4: \"Coat\", 5: \"Sandal\",\n",
        "    6: \"Shirt\", 7: \"Sneaker\", 8: \"Bag\", 9: \"Ankle boot\"}\n",
        "\n",
        "rand_i = np.random.randint(len(test_dataset))\n",
        "\n",
        "print(rand_i)\n",
        "print(test_dataset[rand_i][1].item())\n",
        "plt.imshow(test_dataset[rand_i][0], cmap='gray')\n",
        "plt.title(decode_type[test_dataset[rand_i][1].item()])\n",
        "plt.show()"
      ]
    },
    {
      "cell_type": "markdown",
      "metadata": {
        "id": "320RvzL7PZrI"
      },
      "source": [
        "В конструктор `Dataset` можно передать объект `torchvision.transforms`, который позволяет преобразовать исходные данные. Преобразование `torchvision.transforms.ToTensor` позволяет преобразоать данные из типа `PIL Image` и `numpy.float32` в тип `torch.float32`\n",
        "\n",
        "Реализуйте собственную поддержку преобразований в `FashionMnist`. Проверьте, что приведение типов работает корректно."
      ]
    },
    {
      "cell_type": "code",
      "execution_count": 2291,
      "metadata": {
        "id": "pQsGbfXUTxcx"
      },
      "outputs": [],
      "source": [
        "class ToTensor:\n",
        "    \"\"\"Convert ndarrays in sample to Tensors.\"\"\"\n",
        "\n",
        "    def __call__(self, sample):\n",
        "        return torch.from_numpy(sample)"
      ]
    },
    {
      "cell_type": "code",
      "execution_count": 2292,
      "metadata": {
        "id": "7BpFQ_Y2PoeI"
      },
      "outputs": [],
      "source": [
        "transform = ToTensor()\n",
        "\n",
        "test_dataset = FashionMnist(\"data/FashionMNIST\",\n",
        "                            train=False,\n",
        "                            image_transform=transform,\n",
        "                            label_transform=transform\n",
        "                            )\n",
        "train_dataset = FashionMnist(\"data/FashionMNIST\",\n",
        "                             image_transform=transform,\n",
        "                             label_transform=transform\n",
        "                             )"
      ]
    },
    {
      "cell_type": "code",
      "execution_count": 2293,
      "metadata": {
        "id": "ukLn9rY7SCsS",
        "colab": {
          "base_uri": "https://localhost:8080/"
        },
        "outputId": "83d1dcf8-27dd-48e0-ae30-717fad5945f0"
      },
      "outputs": [
        {
          "output_type": "stream",
          "name": "stdout",
          "text": [
            "The type of the data is <class 'torch.Tensor'>\n"
          ]
        }
      ],
      "source": [
        "print(f\"The type of the data is {type(test_dataset[0][0])}\")"
      ]
    },
    {
      "cell_type": "markdown",
      "metadata": {
        "id": "5Ltavx0QUMnm"
      },
      "source": [
        "Элементы набора данных могут быть объединены в пакеты (batch) явно и неявно. Если данные могут быть сконкатенированы или обЪединены каким-нибудь тривиальным способом, то можно не передавать никаких дополнительных парамертов в `torch.utils.data.Dataloader`."
      ]
    },
    {
      "cell_type": "code",
      "execution_count": 2294,
      "metadata": {
        "id": "Cizxx6m0VAI7"
      },
      "outputs": [],
      "source": [
        "test_dataloader = DataLoader(test_dataset, batch_size=15, num_workers=2, shuffle=True)\n",
        "batch = next(iter(test_dataloader))"
      ]
    },
    {
      "cell_type": "code",
      "execution_count": 2295,
      "metadata": {
        "id": "SIZiPrBgVwGA",
        "colab": {
          "base_uri": "https://localhost:8080/"
        },
        "outputId": "9776d38c-e778-4280-e07b-26ff676a4b63"
      },
      "outputs": [
        {
          "output_type": "stream",
          "name": "stdout",
          "text": [
            "The length of the batch is 2\n",
            "The shape of the batch[0] is torch.Size([15, 28, 28])\n"
          ]
        }
      ],
      "source": [
        "print(f\"The length of the batch is {len(batch)}\")\n",
        "print(f\"The shape of the batch[0] is {batch[0].shape}\")"
      ]
    },
    {
      "cell_type": "markdown",
      "metadata": {
        "id": "BCggRyOQWVIx"
      },
      "source": [
        "Однако, если наша структура данных не позволяет нам использовать объединение по умолчанию, то можно написать собственную функцию, которая будет пакетировать данные.\n",
        "\n",
        "Реализуйте функцию, преобразующую последовательность элементов массива в пакет (batch)."
      ]
    },
    {
      "cell_type": "code",
      "execution_count": 2296,
      "metadata": {
        "id": "nQVh93fmWSjA"
      },
      "outputs": [],
      "source": [
        "def collate(batch):\n",
        "    ###########################################################\n",
        "    ############# YOUR CODE HERE ##############################\n",
        "    ###########################################################\n",
        "    imgs = torch.tensor([np.ravel(img[0].tolist()) for img in batch]).float()\n",
        "    labels = torch.tensor([label[1].tolist() for label in batch])\n",
        "    return imgs, labels"
      ]
    },
    {
      "cell_type": "markdown",
      "metadata": {
        "id": "Wij6F-vpe7KS"
      },
      "source": [
        "Убедитесть, что все работает корректно."
      ]
    },
    {
      "cell_type": "code",
      "execution_count": 2297,
      "metadata": {
        "id": "4dDtlvlCXNbW",
        "colab": {
          "base_uri": "https://localhost:8080/"
        },
        "outputId": "ab6e384d-a8ce-4292-9446-dfbf6fb3707a"
      },
      "outputs": [
        {
          "output_type": "stream",
          "name": "stderr",
          "text": [
            "<ipython-input-2296-a60754b173b7>:5: UserWarning: Creating a tensor from a list of numpy.ndarrays is extremely slow. Please consider converting the list to a single numpy.ndarray with numpy.array() before converting to a tensor. (Triggered internally at ../torch/csrc/utils/tensor_new.cpp:245.)\n",
            "  imgs = torch.tensor([np.ravel(img[0].tolist()) for img in batch]).float()\n",
            "<ipython-input-2296-a60754b173b7>:5: UserWarning: Creating a tensor from a list of numpy.ndarrays is extremely slow. Please consider converting the list to a single numpy.ndarray with numpy.array() before converting to a tensor. (Triggered internally at ../torch/csrc/utils/tensor_new.cpp:245.)\n",
            "  imgs = torch.tensor([np.ravel(img[0].tolist()) for img in batch]).float()\n"
          ]
        }
      ],
      "source": [
        "test_dataloader = DataLoader(test_dataset, batch_size=15, num_workers=2,\n",
        "                             shuffle=True, collate_fn=collate)\n",
        "train_dataloader = DataLoader(train_dataset, batch_size=15, num_workers=2,\n",
        "                              shuffle=True, collate_fn=collate)\n",
        "batch = next(iter(test_dataloader))"
      ]
    },
    {
      "cell_type": "code",
      "execution_count": 2298,
      "metadata": {
        "id": "PFN00IyZXYaF",
        "colab": {
          "base_uri": "https://localhost:8080/"
        },
        "outputId": "353e2f13-aac5-4d5b-87b8-173e4ba074d1"
      },
      "outputs": [
        {
          "output_type": "stream",
          "name": "stdout",
          "text": [
            "The length of the batch is 2\n",
            "The shape of the batch[0] is torch.Size([15, 784])\n"
          ]
        }
      ],
      "source": [
        "print(f\"The length of the batch is {len(batch)}\")\n",
        "print(f\"The shape of the batch[0] is {batch[0].shape}\")"
      ]
    },
    {
      "cell_type": "markdown",
      "metadata": {
        "id": "VHcumwuF86kL"
      },
      "source": [
        "## 2. Реализация модулей нейронной сети (15 баллов)\n",
        "\n",
        "В этом разделе мы полностью реализуем модули для полносвязанной сети.\n",
        "\n",
        "Для начала нам понадобится реализовать прямой и обратный проход через слои.\n",
        "\n",
        "Наши слои будут соответствовать следующему интерфейсу (на примере \"тождественного\" слоя):"
      ]
    },
    {
      "cell_type": "markdown",
      "metadata": {
        "id": "zzhCW5HcfmKd"
      },
      "source": [
        "Сначала, мы реализуем функцию и её градиент."
      ]
    },
    {
      "cell_type": "code",
      "execution_count": 2299,
      "metadata": {
        "id": "rcqeFXxsFGQO"
      },
      "outputs": [],
      "source": [
        "class IdentityFunction(Function):\n",
        "    \"\"\"\n",
        "    We can implement our own custom autograd Functions by subclassing\n",
        "    torch.autograd.Function and implementing the forward and backward passes\n",
        "    which operate on Tensors.\n",
        "    \"\"\"\n",
        "    @staticmethod\n",
        "    def forward(ctx, input):\n",
        "        \"\"\"\n",
        "        In the forward pass we receive a Tensor containing the input and return\n",
        "        a Tensor containing the output. ctx is a context object that can be used\n",
        "        to stash information for backward computation. You can cache arbitrary\n",
        "        objects for use in the backward pass using the ctx.save_for_backward method.\n",
        "        \"\"\"\n",
        "        return input\n",
        "\n",
        "    @staticmethod\n",
        "    def backward(ctx, grad_output):\n",
        "        \"\"\"\n",
        "        In the backward pass we receive a Tensor containing the gradient of the loss\n",
        "        with respect to the output, and we need to compute the gradient of the loss\n",
        "        with respect to the input.\n",
        "        \"\"\"\n",
        "        return grad_output"
      ]
    },
    {
      "cell_type": "markdown",
      "metadata": {
        "id": "jc6Rtczffxv4"
      },
      "source": [
        "Разработанную функцию обернем классом `IdentityLayer`, все слои в `PyTorch` должны быть наследниками базового класса `nn.Module()`\n"
      ]
    },
    {
      "cell_type": "code",
      "execution_count": 2300,
      "metadata": {
        "id": "SiqeRVcM86kM"
      },
      "outputs": [],
      "source": [
        "class IdentityLayer(nn.Module):\n",
        "    def __init__(self):\n",
        "        # An identity layer does nothing\n",
        "        super().__init__()\n",
        "        self.identity = IdentityFunction.apply\n",
        "\n",
        "    def forward(self, inp):\n",
        "        # An identity layer just returns whatever it gets as input.\n",
        "        return self.identity(inp)"
      ]
    },
    {
      "cell_type": "markdown",
      "metadata": {
        "id": "N4IoM_pX86kQ"
      },
      "source": [
        "\n",
        "### 2.1 Функция активации ReLU\n",
        "Для начала реализуем функцию активации, слой нелинейности `ReLU(x) = max(x, 0)`. Параметров у слоя нет. Метод `forward` должен вернуть результат поэлементного применения `ReLU` к входному массиву, метод `backward` - градиент функции потерь по входу слоя. В нуле будем считать производную равной 0. Обратите внимание, что при обратном проходе могут понадобиться величины, посчитанные во время прямого прохода, поэтому их стоит сохранить в `ctx`."
      ]
    },
    {
      "cell_type": "code",
      "execution_count": 2301,
      "metadata": {
        "id": "U9qrJ47xY6H0"
      },
      "outputs": [],
      "source": [
        "class ReLUFunction(Function):\n",
        "    @staticmethod\n",
        "    def forward(ctx, input):\n",
        "        ctx.save_for_backward(input)\n",
        "        return torch.max(torch.zeros(input.shape), input)\n",
        "\n",
        "    @staticmethod\n",
        "    def backward(ctx, grad_output):\n",
        "        x = ctx.saved_tensors\n",
        "        return grad_output * torch.where(x[0] > 0, 1.0, 0.0)\n"
      ]
    },
    {
      "cell_type": "code",
      "execution_count": 2302,
      "metadata": {
        "id": "y09ZVCsT86kT"
      },
      "outputs": [],
      "source": [
        "class ReLU(nn.Module):\n",
        "    def __init__(self):\n",
        "        ###########################################################\n",
        "        ############# YOUR CODE HERE ##############################\n",
        "        ###########################################################\n",
        "        super().__init__()\n",
        "        self.relu = ReLUFunction.apply\n",
        "\n",
        "\n",
        "    def forward(self, input):\n",
        "        ###########################################################\n",
        "        ############# YOUR CODE HERE ##############################\n",
        "        ###########################################################\n",
        "        return self.relu(input)"
      ]
    },
    {
      "cell_type": "markdown",
      "metadata": {
        "id": "2RwKEUp_V3-L"
      },
      "source": [
        "Не забываем после реализации функции проверить градиент, испльзуя функцию `gradcheck`."
      ]
    },
    {
      "cell_type": "code",
      "execution_count": 2303,
      "metadata": {
        "id": "K0RnDQZCXXZn"
      },
      "outputs": [],
      "source": [
        "###########################################################\n",
        "############# YOUR CODE HERE ##############################\n",
        "###########################################################\n",
        "relu = ReLU()\n",
        "x = torch.randn(2, 6, requires_grad=True)\n",
        "assert gradcheck(relu, x, eps=1e-4, atol=1e-3)"
      ]
    },
    {
      "cell_type": "code",
      "execution_count": 2304,
      "metadata": {
        "id": "vUmbmR4iXurd"
      },
      "outputs": [],
      "source": [
        "###########################################################\n",
        "############# YOUR CODE HERE ##############################\n",
        "###########################################################\n",
        "torch_relu = torch.nn.ReLU()\n",
        "our_relu = ReLU()\n",
        "\n",
        "assert torch.norm(torch_relu(x.float()) - our_relu(x)) < 1e-5"
      ]
    },
    {
      "cell_type": "markdown",
      "metadata": {
        "id": "ojTR4GFd86kY"
      },
      "source": [
        "### 2.2 Линейный слой (linear, fully-connected)\n",
        "Далее реализуем полносвязный слой без нелинейности. У слоя два набора параметра: матрица весов (weights) и вектор смещения (bias)."
      ]
    },
    {
      "cell_type": "code",
      "execution_count": 2305,
      "metadata": {
        "id": "fBl34oykbcBf"
      },
      "outputs": [],
      "source": [
        "class LinearFunction(Function):\n",
        "    @staticmethod\n",
        "    def forward(ctx, inp, weight, bias):\n",
        "        ###########################################################\n",
        "        ############# YOUR CODE HERE ##############################\n",
        "        ###########################################################\n",
        "        ctx.save_for_backward(inp, weight, bias)\n",
        "        output = inp  @ weight + bias\n",
        "        return output\n",
        "    @staticmethod\n",
        "    def backward(ctx, grad_output):\n",
        "        ###########################################################\n",
        "        ############# YOUR CODE HERE ##############################\n",
        "        ###########################################################\n",
        "        (inp, weight, bias) = ctx.saved_tensors\n",
        "\n",
        "        grad_input = grad_output @ weight.t()\n",
        "        grad_weight = inp.t() @ grad_output\n",
        "\n",
        "        grad_bias = torch.ones(len(bias))\n",
        "        return grad_input, grad_weight, grad_bias"
      ]
    },
    {
      "cell_type": "code",
      "execution_count": 2306,
      "metadata": {
        "id": "YbN5JOc886kZ"
      },
      "outputs": [],
      "source": [
        "class Linear(nn.Module):\n",
        "    def __init__(self, input_units, output_units):\n",
        "        super().__init__()\n",
        "\n",
        "        # initialize weights with small random numbers from normal distribution\n",
        "        self.weight = nn.Parameter(torch.normal(0, 1/256, size=(input_units, output_units)))\n",
        "        self.bias = nn.Parameter(torch.zeros(output_units))\n",
        "        self.linear = LinearFunction.apply\n",
        "\n",
        "\n",
        "    def forward(self,inp):\n",
        "\n",
        "        return self.linear(inp, self.weight, self.bias)\n"
      ]
    },
    {
      "cell_type": "markdown",
      "metadata": {
        "id": "gToXI43WYMDv"
      },
      "source": [
        "Проверим градиент, а также сравним с работой нашего модуля с имплементированным в `PyTorch`."
      ]
    },
    {
      "cell_type": "markdown",
      "metadata": {
        "id": "et7mKX5xZfMI"
      },
      "source": [
        "Проверка градиента:"
      ]
    },
    {
      "cell_type": "code",
      "execution_count": 2307,
      "metadata": {
        "id": "PxLVozqLZb_H"
      },
      "outputs": [],
      "source": [
        "###########################################################\n",
        "############# YOUR CODE HERE ##############################\n",
        "###########################################################\n",
        "\n",
        "linear = Linear(6, 2)\n",
        "x = torch.randn((2, 6), requires_grad=True)\n",
        "\n",
        "assert gradcheck(linear, x, eps=1e-3, atol=1e-3)"
      ]
    },
    {
      "cell_type": "markdown",
      "metadata": {
        "id": "pW8ppOciZndN"
      },
      "source": [
        "Сравнение с `PyTorch`."
      ]
    },
    {
      "cell_type": "code",
      "execution_count": 2308,
      "metadata": {
        "id": "IIR9svs7Zmq0"
      },
      "outputs": [],
      "source": [
        "###########################################################\n",
        "############# YOUR CODE HERE ##############################\n",
        "###########################################################\n",
        "x = torch.randn((2, 6), requires_grad=True)\n",
        "torch_linear = torch.nn.Linear(6, 2)\n",
        "our_linear = Linear(6, 2)\n",
        "\n",
        "weight_q = torch.normal(0, 1, size=(6, 2), requires_grad=True)\n",
        "bias = torch.zeros(2, requires_grad=True)\n",
        "\n",
        "state_dict = OrderedDict([(\"weight\", weight_q.T), (\"bias\", bias)])\n",
        "\n",
        "torch_linear.load_state_dict(state_dict)\n",
        "state_dict = OrderedDict([(\"weight\", weight_q), (\"bias\", bias)])\n",
        "our_linear.load_state_dict(state_dict)\n",
        "\n",
        "\n",
        "assert torch.norm(torch_linear(x.float()) - our_linear(x)) < 1e-5\n",
        "###########################################################\n",
        "############# YOUR CODE HERE ##############################\n",
        "###########################################################"
      ]
    },
    {
      "cell_type": "markdown",
      "metadata": {
        "id": "0dyhDg0D86kt"
      },
      "source": [
        "### 2.3 LogSoftmax (Log + Softmax)"
      ]
    },
    {
      "cell_type": "markdown",
      "metadata": {
        "id": "ArL0HLGH86ku"
      },
      "source": [
        "Для решения задачи многоклассовой классификации обычно используют `softmax` в качестве нелинейности на последнем слое, чтобы получить \"оценку\" вероятности классов для каждого объекта:$$\\hat y = softmax(x)  = \\bigl \\{\\frac {exp(x_i)}{\\sum_j exp(x_j)} \\bigr \\}_{i=1}^K, \\quad K - \\text{число классов}$$В этом случае удобно оптимизировать логарифм правдоподобия:$$L(y, \\hat y) = -\\sum_{i=1}^K y_i \\log \\hat y_i \\rightarrow \\min,$$где $y_i=1$, если объект принадлежит $i$-му классу, и 0 иначе. Записанная в таком виде, эта функция потерь совпадает с выражением для кросс-энтропии. Очевидно, что ее также можно переписать через индексацию, если через $y_i$ обозначить класс данного объекта:$$L(y, \\hat y) = - \\log \\hat y_{y_i} \\rightarrow \\min$$В таком виде ее удобно реализовывать.\n",
        "\n",
        "Реализуйте слой `LogSoftmax` (без параметров). Метод `forward` должен вычислять логарифм от `softmax`, а метод `backward` - пропускать градиенты. В общем случае в промежуточных вычислениях `backward` получится трехмерный тензор, однако для нашей конкретной функции потерь все вычисления можно реализовать в матричном виде. Поэтому мы будем предполагать, что аргумент `grad_output` - это матрица, у которой в каждой строке только одно ненулевое значение (не обязательно единица).\n",
        "\n",
        "Комментарий: разобраться `Log-Sum-Exp trick`"
      ]
    },
    {
      "cell_type": "code",
      "execution_count": 2309,
      "metadata": {
        "id": "xSV3XD0N86ky"
      },
      "outputs": [],
      "source": [
        "class LogSoftmaxFunction(Function):\n",
        "    @staticmethod\n",
        "    def forward(ctx, inp):\n",
        "        ###########################################################\n",
        "        ############# YOUR CODE HERE ##############################\n",
        "        ###########################################################\n",
        "\n",
        "        # y = torch.exp(inp)\n",
        "        # s = torch.sum(y)\n",
        "        # y = torch.log(s\n",
        "\n",
        "        y = inp - torch.log(torch.sum(torch.exp(inp), axis=1)).view(-1, 1)\n",
        "\n",
        "        ctx.save_for_backward(y)\n",
        "        return y\n",
        "\n",
        "    @staticmethod\n",
        "    def backward(ctx, grad_output):\n",
        "        ###########################################################\n",
        "        ############# YOUR CODE HERE ##############################\n",
        "        ###########################################################\n",
        "        y = ctx.saved_tensors\n",
        "        grad_input = grad_output - grad_output.sum(axis=1, keepdims=True) * torch.exp(y[0])\n",
        "        return grad_input\n"
      ]
    },
    {
      "cell_type": "code",
      "execution_count": 2310,
      "metadata": {
        "id": "z7OnC6o_z2vg"
      },
      "outputs": [],
      "source": [
        "class LogSoftmax(nn.Module):\n",
        "    def __init__(self):\n",
        "        super().__init__()\n",
        "        ###########################################################\n",
        "        ############# YOUR CODE HERE ##############################\n",
        "        ###########################################################\n",
        "        self.logsoftmax = LogSoftmaxFunction.apply\n",
        "\n",
        "\n",
        "    def forward(self, input):\n",
        "        ###########################################################\n",
        "        ############# YOUR CODE HERE ##############################\n",
        "        ###########################################################\n",
        "        return  self.logsoftmax(input)"
      ]
    },
    {
      "cell_type": "markdown",
      "metadata": {
        "id": "Ke4G67cddjVA"
      },
      "source": [
        "Проверка градиентов."
      ]
    },
    {
      "cell_type": "code",
      "execution_count": 2311,
      "metadata": {
        "id": "cfgkVgGbrQEv"
      },
      "outputs": [],
      "source": [
        "###########################################################\n",
        "############# YOUR CODE HERE ##############################\n",
        "###########################################################\n",
        "\n",
        "\n",
        "logsoftmax = LogSoftmax()\n",
        "x = torch.randn((15, 6), requires_grad=True)\n",
        "\n",
        "assert gradcheck(logsoftmax, x, eps=1e-2, atol=1e-3)"
      ]
    },
    {
      "cell_type": "code",
      "source": [
        "torch_softmax = torch.nn.LogSoftmax(dim=1)\n",
        "our_softmax = LogSoftmax()\n",
        "print(torch_softmax(x.float()))\n",
        "print(our_softmax(x.float()))\n",
        "print(torch.norm(torch_softmax(x.float()) - our_softmax(x.float())))"
      ],
      "metadata": {
        "colab": {
          "base_uri": "https://localhost:8080/"
        },
        "id": "1-dEcD3mByoB",
        "outputId": "76e6df05-fd4d-4e7d-ef47-645d6edc40f9"
      },
      "execution_count": 2312,
      "outputs": [
        {
          "output_type": "stream",
          "name": "stdout",
          "text": [
            "tensor([[-1.8947, -1.4744, -2.3562, -1.7705, -1.1859, -2.9912],\n",
            "        [-1.2372, -2.5032, -2.2864, -1.8627, -1.1331, -3.0143],\n",
            "        [-2.6036, -1.6817, -1.8773, -1.0379, -1.7427, -2.8523],\n",
            "        [-0.5816, -1.6990, -2.2387, -3.1959, -2.3699, -4.0677],\n",
            "        [-3.1274, -3.4741, -4.0683, -0.1943, -3.5101, -2.9048],\n",
            "        [-2.9783, -0.3165, -2.4894, -4.8924, -2.7001, -2.7684],\n",
            "        [-2.2611, -0.6211, -2.9859, -3.2134, -2.4607, -1.7019],\n",
            "        [-3.2993, -2.9856, -1.2170, -3.2425, -1.0551, -1.4729],\n",
            "        [-1.8580, -2.3331, -1.6354, -2.4970, -0.8950, -2.7937],\n",
            "        [-3.4977, -0.4940, -2.0371, -2.8931, -2.8546, -2.1530],\n",
            "        [-3.2599, -2.5496, -1.9801, -2.0499, -1.3608, -1.0210],\n",
            "        [-1.7687, -1.4234, -4.0599, -1.0690, -4.8270, -1.5144],\n",
            "        [-3.5284, -2.1272, -1.4213, -1.7543, -1.7222, -1.3533],\n",
            "        [-3.0849, -1.0393, -1.4763, -1.6698, -3.5066, -1.8722],\n",
            "        [-2.3879, -1.3004, -1.6742, -2.4993, -2.1524, -1.3866]],\n",
            "       grad_fn=<LogSoftmaxBackward0>)\n",
            "tensor([[-1.8947, -1.4744, -2.3562, -1.7705, -1.1859, -2.9912],\n",
            "        [-1.2372, -2.5032, -2.2864, -1.8627, -1.1331, -3.0143],\n",
            "        [-2.6036, -1.6817, -1.8773, -1.0379, -1.7427, -2.8523],\n",
            "        [-0.5816, -1.6990, -2.2387, -3.1959, -2.3699, -4.0677],\n",
            "        [-3.1274, -3.4741, -4.0683, -0.1943, -3.5101, -2.9048],\n",
            "        [-2.9783, -0.3165, -2.4894, -4.8924, -2.7001, -2.7684],\n",
            "        [-2.2611, -0.6211, -2.9859, -3.2134, -2.4607, -1.7019],\n",
            "        [-3.2993, -2.9856, -1.2170, -3.2425, -1.0551, -1.4729],\n",
            "        [-1.8580, -2.3331, -1.6354, -2.4970, -0.8950, -2.7937],\n",
            "        [-3.4977, -0.4940, -2.0371, -2.8931, -2.8546, -2.1530],\n",
            "        [-3.2599, -2.5496, -1.9801, -2.0499, -1.3608, -1.0210],\n",
            "        [-1.7687, -1.4234, -4.0599, -1.0690, -4.8270, -1.5144],\n",
            "        [-3.5284, -2.1272, -1.4213, -1.7543, -1.7222, -1.3533],\n",
            "        [-3.0849, -1.0393, -1.4763, -1.6698, -3.5066, -1.8722],\n",
            "        [-2.3879, -1.3004, -1.6742, -2.4993, -2.1524, -1.3866]],\n",
            "       grad_fn=<LogSoftmaxFunctionBackward>)\n",
            "tensor(1.2801e-06, grad_fn=<LinalgVectorNormBackward0>)\n"
          ]
        }
      ]
    },
    {
      "cell_type": "markdown",
      "metadata": {
        "id": "3Sn2M_Q086k2"
      },
      "source": [
        "### 2.4 Dropout\n",
        "Реализуйте слой Dropout."
      ]
    },
    {
      "cell_type": "code",
      "execution_count": 2313,
      "metadata": {
        "id": "qCLECy1y86k3"
      },
      "outputs": [],
      "source": [
        "class DropoutFunction(Function):\n",
        "    @staticmethod\n",
        "    def forward(ctx, inp, p):\n",
        "        ###########################################################\n",
        "        ############# YOUR CODE HERE ##############################\n",
        "        ###########################################################\n",
        "        x = torch.bernoulli((1-p) * torch.ones_like(inp)) / (1 - p)\n",
        "        ctx.save_for_backward(x, torch.tensor(p))\n",
        "\n",
        "        return inp * x\n",
        "\n",
        "\n",
        "    @staticmethod\n",
        "    def backward(ctx, grad_output):\n",
        "        ###########################################################\n",
        "        ############# YOUR CODE HERE ##############################\n",
        "        ###########################################################\n",
        "        (x, p) = ctx.saved_tensors\n",
        "        return grad_output * x, None"
      ]
    },
    {
      "cell_type": "code",
      "execution_count": 2314,
      "metadata": {
        "id": "pS5z_mth1ZAZ"
      },
      "outputs": [],
      "source": [
        "class Dropout(nn.Module):\n",
        "    def __init__(self, p):\n",
        "        super().__init__()\n",
        "        ###########################################################\n",
        "        ############# YOUR CODE HERE ##############################\n",
        "        ###########################################################\n",
        "        self.dropout = DropoutFunction.apply\n",
        "        self.p = p\n",
        "\n",
        "\n",
        "    def forward(self, input):\n",
        "        ###########################################################\n",
        "        ############# YOUR CODE HERE ##############################\n",
        "        ###########################################################\n",
        "        if not self.training:\n",
        "          output = self.dropout(input, self.p)\n",
        "        else:\n",
        "          output = input\n",
        "        return output"
      ]
    },
    {
      "cell_type": "code",
      "source": [],
      "metadata": {
        "id": "eLLxHX-HRgFb"
      },
      "execution_count": 2314,
      "outputs": []
    },
    {
      "cell_type": "markdown",
      "metadata": {
        "id": "hyPPzkCI86k7"
      },
      "source": [
        "### 2.5 CrossEntropy\n",
        "\n",
        "При решении задачи многоклассовой классификации мы будет использовать в качестве функции потерь кроссэнтропию. Реализуйте функцию потерь. В разделе 2.3 приведены полезные формулы."
      ]
    },
    {
      "cell_type": "code",
      "execution_count": 2315,
      "metadata": {
        "id": "KotXWXnT3-j5"
      },
      "outputs": [],
      "source": [
        "class CrossEntropyFunction(Function):\n",
        "    @staticmethod\n",
        "    def forward(ctx, activations, target):\n",
        "        ###########################################################\n",
        "        ############# YOUR CODE HERE ##############################\n",
        "        ###########################################################\n",
        "        ctx.save_for_backward(activations, target)\n",
        "        loss = torch.mean(-activations[range(activations.size(0)), target])\n",
        "\n",
        "        return loss\n",
        "\n",
        "    @staticmethod\n",
        "    def backward(ctx, grad_output):\n",
        "        ###########################################################\n",
        "        ############# YOUR CODE HERE ##############################\n",
        "        ###########################################################\n",
        "        (activations, target) = ctx.saved_tensors\n",
        "\n",
        "        grad_input = torch.zeros_like(activations)\n",
        "        grad_input[range(activations.shape[0]), target] = True\n",
        "\n",
        "        grad_input = -grad_input * grad_output / len(target)\n",
        "\n",
        "\n",
        "        return grad_input, None\n",
        "\n",
        "\n",
        "class CrossEntropy(nn.Module):\n",
        "    def __init__(self, ):\n",
        "        super().__init__()\n",
        "        ###########################################################\n",
        "        ############# YOUR CODE HERE ##############################\n",
        "        ###########################################################\n",
        "        self.crossentropy = CrossEntropyFunction.apply\n",
        "\n",
        "    def forward(self, activations, target):\n",
        "        ###########################################################\n",
        "        ############# YOUR CODE HERE ##############################\n",
        "        ###########################################################\n",
        "        return self.crossentropy(activations, target)"
      ]
    },
    {
      "cell_type": "markdown",
      "metadata": {
        "id": "vFNcOfVNesCC"
      },
      "source": [
        "Проверка градиентов."
      ]
    },
    {
      "cell_type": "code",
      "source": [
        "our_crossentr = CrossEntropy()\n",
        "x = torch.randn((2, 6), requires_grad=True)\n",
        "trgt = torch.randint(6, (2, ))\n",
        "\n",
        "assert gradcheck(our_crossentr, (x, trgt), eps=1e-2, atol=1e-3)"
      ],
      "metadata": {
        "id": "wmn3q9bslIqa"
      },
      "execution_count": 2316,
      "outputs": []
    },
    {
      "cell_type": "code",
      "execution_count": 2317,
      "metadata": {
        "id": "lXQr7sllKi8k"
      },
      "outputs": [],
      "source": [
        "###########################################################\n",
        "############# YOUR CODE HERE ##############################\n",
        "###########################################################\n",
        "\n",
        "torch_crossentr = torch.nn.CrossEntropyLoss()\n",
        "our_crossentr = CrossEntropy()\n",
        "x = torch.randn((2, 6), requires_grad=True)\n",
        "trgt = torch.randint(6, (2, ))\n",
        "\n",
        "assert torch.norm(torch_crossentr(x.float(), trgt).sum() - our_crossentr(our_softmax(x.float()), trgt)) < 1e-3"
      ]
    },
    {
      "cell_type": "markdown",
      "metadata": {
        "id": "kmzKDpyE86lg"
      },
      "source": [
        "## 3. Сборка и обучение нейронной сети (5 балла)"
      ]
    },
    {
      "cell_type": "markdown",
      "metadata": {
        "id": "mPqlZfj_86lg"
      },
      "source": [
        "Реализуйте произвольную нейросеть, состоящую из ваших блоков. Она должна состоять из нескольких полносвязанных слоев."
      ]
    },
    {
      "cell_type": "code",
      "execution_count": 2318,
      "metadata": {
        "id": "tkESXVD87sM8"
      },
      "outputs": [],
      "source": [
        "class Network(nn.Module):\n",
        "    def __init__(self, input_size=28*28, hidden_layers_size=32, num_layers=5,\n",
        "                 num_classes=10):\n",
        "        super().__init__()\n",
        "        ###########################################################\n",
        "        ############# YOUR CODE HERE ##############################\n",
        "        ###########################################################\n",
        "        self.layers = nn.ModuleList()\n",
        "\n",
        "        self.layers.append(Linear(input_size, hidden_layers_size))\n",
        "        self.layers.append(Dropout(0.5))\n",
        "        self.layers.append(ReLU())\n",
        "\n",
        "        for _ in range(num_layers-2):\n",
        "          self.layers.append(Linear(hidden_layers_size, hidden_layers_size))\n",
        "          self.layers.append(Dropout(0.5))\n",
        "          self.layers.append(ReLU())\n",
        "\n",
        "        self.layers.append(Linear(hidden_layers_size, num_classes))\n",
        "        self.layers.append(LogSoftmax())\n",
        "\n",
        "\n",
        "    def forward(self, inp):\n",
        "        ###########################################################\n",
        "        ############# YOUR CODE HERE ##############################\n",
        "        ###########################################################\n",
        "        for layer in self.layers:\n",
        "            inp = layer(inp)\n",
        "        return inp\n",
        "\n",
        "    def predict(self, inp):\n",
        "        ###########################################################\n",
        "        ############# YOUR CODE HERE ##############################\n",
        "        ###########################################################\n",
        "        for layer in self.layers:\n",
        "          inp = layer(inp)\n",
        "        return torch.argmax(inp, dim=1)\n"
      ]
    },
    {
      "cell_type": "markdown",
      "metadata": {
        "id": "Vj-eEvMFfbSo"
      },
      "source": [
        "Ниже приведены функции, реализующие обучение нейронной сети. В данном задании их предлагается просто переиспользовать."
      ]
    },
    {
      "cell_type": "code",
      "execution_count": 2319,
      "metadata": {
        "id": "vDhcoCB4OpXE"
      },
      "outputs": [],
      "source": [
        "class EmptyContext:\n",
        "    def __enter__(self):\n",
        "        pass\n",
        "\n",
        "    def __exit__(self, *args):\n",
        "        pass"
      ]
    },
    {
      "cell_type": "code",
      "execution_count": 2320,
      "metadata": {
        "id": "8AsWblqIOquI"
      },
      "outputs": [],
      "source": [
        "# accuract metric for our classififcation\n",
        "def accuracy(model_labels, labels):\n",
        "  #print(model_labels)\n",
        "  return torch.mean((model_labels == labels).float())"
      ]
    },
    {
      "cell_type": "code",
      "execution_count": 2321,
      "metadata": {
        "id": "Oy33FHuv_Us-"
      },
      "outputs": [],
      "source": [
        "def perform_epoch(model, loader, criterion,\n",
        "                optimizer=None, device=None):\n",
        "    is_train = optimizer is not None\n",
        "    model = model.to(device)\n",
        "    if is_train:\n",
        "        model.train()\n",
        "    else:\n",
        "        model.eval()\n",
        "\n",
        "    total_loss = 0\n",
        "    total_acc = 0\n",
        "    total_n = 0\n",
        "    with EmptyContext() if is_train else torch.no_grad():\n",
        "        for batch_data, batch_labels in loader:\n",
        "            batch_data = batch_data.to(device)\n",
        "            batch_labels = batch_labels.to(device)\n",
        "            model_labels = model(batch_data)\n",
        "            model_prediction = model.predict(batch_data)\n",
        "            new_loss = criterion(model_labels, batch_labels)\n",
        "            if is_train:\n",
        "              optimizer.zero_grad()\n",
        "              new_loss.backward()\n",
        "              optimizer.step()\n",
        "\n",
        "            one_batch_loss = float(criterion(model_labels, batch_labels))\n",
        "            one_batch_acc = accuracy(model_prediction, batch_labels)\n",
        "\n",
        "            total_loss += one_batch_loss\n",
        "            total_acc += one_batch_acc\n",
        "            total_n += 1\n",
        "    return (total_loss / total_n, total_acc / total_n)"
      ]
    },
    {
      "cell_type": "markdown",
      "metadata": {
        "id": "FtamPEJZgOY5"
      },
      "source": [
        "Теперь обучим нашу нейронную сеть. В данном разделе будем использовать оптимизатор `Adam` с параметрами по умолчанию."
      ]
    },
    {
      "cell_type": "code",
      "execution_count": 2322,
      "metadata": {
        "id": "mEcyUJJI_aAn"
      },
      "outputs": [],
      "source": [
        "model     = Network()\n",
        "optimizer = torch.optim.Adam(model.parameters())\n",
        "criterion = CrossEntropy()"
      ]
    },
    {
      "cell_type": "code",
      "execution_count": 2323,
      "metadata": {
        "id": "OBADDSi0_jx7",
        "colab": {
          "base_uri": "https://localhost:8080/"
        },
        "outputId": "114445c7-44ac-4808-f05a-c956758a782c"
      },
      "outputs": [
        {
          "output_type": "stream",
          "name": "stderr",
          "text": [
            "<ipython-input-2296-a60754b173b7>:5: UserWarning: Creating a tensor from a list of numpy.ndarrays is extremely slow. Please consider converting the list to a single numpy.ndarray with numpy.array() before converting to a tensor. (Triggered internally at ../torch/csrc/utils/tensor_new.cpp:245.)\n",
            "  imgs = torch.tensor([np.ravel(img[0].tolist()) for img in batch]).float()\n",
            "<ipython-input-2296-a60754b173b7>:5: UserWarning: Creating a tensor from a list of numpy.ndarrays is extremely slow. Please consider converting the list to a single numpy.ndarray with numpy.array() before converting to a tensor. (Triggered internally at ../torch/csrc/utils/tensor_new.cpp:245.)\n",
            "  imgs = torch.tensor([np.ravel(img[0].tolist()) for img in batch]).float()\n"
          ]
        },
        {
          "output_type": "stream",
          "name": "stdout",
          "text": [
            "Epoch - 0 : loss 1.1476441325452178, accuracy 0.5338825583457947\n",
            "Current learning rate: 0.001\n"
          ]
        },
        {
          "output_type": "stream",
          "name": "stderr",
          "text": [
            "<ipython-input-2296-a60754b173b7>:5: UserWarning: Creating a tensor from a list of numpy.ndarrays is extremely slow. Please consider converting the list to a single numpy.ndarray with numpy.array() before converting to a tensor. (Triggered internally at ../torch/csrc/utils/tensor_new.cpp:245.)\n",
            "  imgs = torch.tensor([np.ravel(img[0].tolist()) for img in batch]).float()\n",
            "<ipython-input-2296-a60754b173b7>:5: UserWarning: Creating a tensor from a list of numpy.ndarrays is extremely slow. Please consider converting the list to a single numpy.ndarray with numpy.array() before converting to a tensor. (Triggered internally at ../torch/csrc/utils/tensor_new.cpp:245.)\n",
            "  imgs = torch.tensor([np.ravel(img[0].tolist()) for img in batch]).float()\n"
          ]
        },
        {
          "output_type": "stream",
          "name": "stdout",
          "text": [
            "Epoch - 1 : loss 0.5491086401510984, accuracy 0.8086344599723816\n",
            "Current learning rate: 0.001\n"
          ]
        },
        {
          "output_type": "stream",
          "name": "stderr",
          "text": [
            "<ipython-input-2296-a60754b173b7>:5: UserWarning: Creating a tensor from a list of numpy.ndarrays is extremely slow. Please consider converting the list to a single numpy.ndarray with numpy.array() before converting to a tensor. (Triggered internally at ../torch/csrc/utils/tensor_new.cpp:245.)\n",
            "  imgs = torch.tensor([np.ravel(img[0].tolist()) for img in batch]).float()\n",
            "<ipython-input-2296-a60754b173b7>:5: UserWarning: Creating a tensor from a list of numpy.ndarrays is extremely slow. Please consider converting the list to a single numpy.ndarray with numpy.array() before converting to a tensor. (Triggered internally at ../torch/csrc/utils/tensor_new.cpp:245.)\n",
            "  imgs = torch.tensor([np.ravel(img[0].tolist()) for img in batch]).float()\n"
          ]
        },
        {
          "output_type": "stream",
          "name": "stdout",
          "text": [
            "Epoch - 2 : loss 0.49225384333124383, accuracy 0.8311514258384705\n",
            "Current learning rate: 0.001\n"
          ]
        },
        {
          "output_type": "stream",
          "name": "stderr",
          "text": [
            "<ipython-input-2296-a60754b173b7>:5: UserWarning: Creating a tensor from a list of numpy.ndarrays is extremely slow. Please consider converting the list to a single numpy.ndarray with numpy.array() before converting to a tensor. (Triggered internally at ../torch/csrc/utils/tensor_new.cpp:245.)\n",
            "  imgs = torch.tensor([np.ravel(img[0].tolist()) for img in batch]).float()\n",
            "<ipython-input-2296-a60754b173b7>:5: UserWarning: Creating a tensor from a list of numpy.ndarrays is extremely slow. Please consider converting the list to a single numpy.ndarray with numpy.array() before converting to a tensor. (Triggered internally at ../torch/csrc/utils/tensor_new.cpp:245.)\n",
            "  imgs = torch.tensor([np.ravel(img[0].tolist()) for img in batch]).float()\n"
          ]
        },
        {
          "output_type": "stream",
          "name": "stdout",
          "text": [
            "Epoch - 3 : loss 0.469542593490798, accuracy 0.8375845551490784\n",
            "Current learning rate: 0.001\n"
          ]
        },
        {
          "output_type": "stream",
          "name": "stderr",
          "text": [
            "<ipython-input-2296-a60754b173b7>:5: UserWarning: Creating a tensor from a list of numpy.ndarrays is extremely slow. Please consider converting the list to a single numpy.ndarray with numpy.array() before converting to a tensor. (Triggered internally at ../torch/csrc/utils/tensor_new.cpp:245.)\n",
            "  imgs = torch.tensor([np.ravel(img[0].tolist()) for img in batch]).float()\n",
            "<ipython-input-2296-a60754b173b7>:5: UserWarning: Creating a tensor from a list of numpy.ndarrays is extremely slow. Please consider converting the list to a single numpy.ndarray with numpy.array() before converting to a tensor. (Triggered internally at ../torch/csrc/utils/tensor_new.cpp:245.)\n",
            "  imgs = torch.tensor([np.ravel(img[0].tolist()) for img in batch]).float()\n"
          ]
        },
        {
          "output_type": "stream",
          "name": "stdout",
          "text": [
            "Epoch - 4 : loss 0.4526301876233774, accuracy 0.8421180248260498\n",
            "Current learning rate: 0.001\n"
          ]
        },
        {
          "output_type": "stream",
          "name": "stderr",
          "text": [
            "<ipython-input-2296-a60754b173b7>:5: UserWarning: Creating a tensor from a list of numpy.ndarrays is extremely slow. Please consider converting the list to a single numpy.ndarray with numpy.array() before converting to a tensor. (Triggered internally at ../torch/csrc/utils/tensor_new.cpp:245.)\n",
            "  imgs = torch.tensor([np.ravel(img[0].tolist()) for img in batch]).float()\n",
            "<ipython-input-2296-a60754b173b7>:5: UserWarning: Creating a tensor from a list of numpy.ndarrays is extremely slow. Please consider converting the list to a single numpy.ndarray with numpy.array() before converting to a tensor. (Triggered internally at ../torch/csrc/utils/tensor_new.cpp:245.)\n",
            "  imgs = torch.tensor([np.ravel(img[0].tolist()) for img in batch]).float()\n"
          ]
        },
        {
          "output_type": "stream",
          "name": "stdout",
          "text": [
            "Epoch - 5 : loss 0.44637916130851957, accuracy 0.8446509838104248\n",
            "Current learning rate: 0.001\n"
          ]
        },
        {
          "output_type": "stream",
          "name": "stderr",
          "text": [
            "<ipython-input-2296-a60754b173b7>:5: UserWarning: Creating a tensor from a list of numpy.ndarrays is extremely slow. Please consider converting the list to a single numpy.ndarray with numpy.array() before converting to a tensor. (Triggered internally at ../torch/csrc/utils/tensor_new.cpp:245.)\n",
            "  imgs = torch.tensor([np.ravel(img[0].tolist()) for img in batch]).float()\n",
            "<ipython-input-2296-a60754b173b7>:5: UserWarning: Creating a tensor from a list of numpy.ndarrays is extremely slow. Please consider converting the list to a single numpy.ndarray with numpy.array() before converting to a tensor. (Triggered internally at ../torch/csrc/utils/tensor_new.cpp:245.)\n",
            "  imgs = torch.tensor([np.ravel(img[0].tolist()) for img in batch]).float()\n"
          ]
        },
        {
          "output_type": "stream",
          "name": "stdout",
          "text": [
            "Epoch - 6 : loss 0.4319304634318687, accuracy 0.8498013019561768\n",
            "Current learning rate: 0.001\n"
          ]
        },
        {
          "output_type": "stream",
          "name": "stderr",
          "text": [
            "<ipython-input-2296-a60754b173b7>:5: UserWarning: Creating a tensor from a list of numpy.ndarrays is extremely slow. Please consider converting the list to a single numpy.ndarray with numpy.array() before converting to a tensor. (Triggered internally at ../torch/csrc/utils/tensor_new.cpp:245.)\n",
            "  imgs = torch.tensor([np.ravel(img[0].tolist()) for img in batch]).float()\n",
            "<ipython-input-2296-a60754b173b7>:5: UserWarning: Creating a tensor from a list of numpy.ndarrays is extremely slow. Please consider converting the list to a single numpy.ndarray with numpy.array() before converting to a tensor. (Triggered internally at ../torch/csrc/utils/tensor_new.cpp:245.)\n",
            "  imgs = torch.tensor([np.ravel(img[0].tolist()) for img in batch]).float()\n"
          ]
        },
        {
          "output_type": "stream",
          "name": "stdout",
          "text": [
            "Epoch - 7 : loss 0.43346671729371883, accuracy 0.8492845892906189\n",
            "Current learning rate: 0.001\n"
          ]
        },
        {
          "output_type": "stream",
          "name": "stderr",
          "text": [
            "<ipython-input-2296-a60754b173b7>:5: UserWarning: Creating a tensor from a list of numpy.ndarrays is extremely slow. Please consider converting the list to a single numpy.ndarray with numpy.array() before converting to a tensor. (Triggered internally at ../torch/csrc/utils/tensor_new.cpp:245.)\n",
            "  imgs = torch.tensor([np.ravel(img[0].tolist()) for img in batch]).float()\n",
            "<ipython-input-2296-a60754b173b7>:5: UserWarning: Creating a tensor from a list of numpy.ndarrays is extremely slow. Please consider converting the list to a single numpy.ndarray with numpy.array() before converting to a tensor. (Triggered internally at ../torch/csrc/utils/tensor_new.cpp:245.)\n",
            "  imgs = torch.tensor([np.ravel(img[0].tolist()) for img in batch]).float()\n"
          ]
        },
        {
          "output_type": "stream",
          "name": "stdout",
          "text": [
            "Epoch - 8 : loss 0.428495947082527, accuracy 0.8509683609008789\n",
            "Current learning rate: 0.001\n"
          ]
        },
        {
          "output_type": "stream",
          "name": "stderr",
          "text": [
            "<ipython-input-2296-a60754b173b7>:5: UserWarning: Creating a tensor from a list of numpy.ndarrays is extremely slow. Please consider converting the list to a single numpy.ndarray with numpy.array() before converting to a tensor. (Triggered internally at ../torch/csrc/utils/tensor_new.cpp:245.)\n",
            "  imgs = torch.tensor([np.ravel(img[0].tolist()) for img in batch]).float()\n",
            "<ipython-input-2296-a60754b173b7>:5: UserWarning: Creating a tensor from a list of numpy.ndarrays is extremely slow. Please consider converting the list to a single numpy.ndarray with numpy.array() before converting to a tensor. (Triggered internally at ../torch/csrc/utils/tensor_new.cpp:245.)\n",
            "  imgs = torch.tensor([np.ravel(img[0].tolist()) for img in batch]).float()\n"
          ]
        },
        {
          "output_type": "stream",
          "name": "stdout",
          "text": [
            "Epoch - 9 : loss 0.4253551564901136, accuracy 0.8520345091819763\n",
            "Current learning rate: 0.001\n"
          ]
        }
      ],
      "source": [
        "device = torch.device(\"cuda\" if torch.cuda.is_available() else \"cpu\")\n",
        "\n",
        "model.to(device)\n",
        "\n",
        "for epoch in range(10):\n",
        "    loss, acc = perform_epoch(model, train_dataloader, criterion,\n",
        "                                optimizer=optimizer, device=device)\n",
        "    print(f\"Epoch - {epoch} : loss {loss}, accuracy {acc}\")\n",
        "    print(f\"Current learning rate: {optimizer.param_groups[0]['lr']}\")"
      ]
    },
    {
      "cell_type": "code",
      "execution_count": 2326,
      "metadata": {
        "id": "JxrvNtm3YSJn",
        "colab": {
          "base_uri": "https://localhost:8080/"
        },
        "outputId": "ea7391cf-b14d-4b4e-84f5-6ff6fdad47c0"
      },
      "outputs": [
        {
          "output_type": "stream",
          "name": "stdout",
          "text": [
            "Epoch - 9 : loss 0.4253551564901136, accuracy 0.8520345091819763\n",
            "Current learning rate: 0.001\n"
          ]
        }
      ],
      "source": [
        "print(f\"Epoch - {epoch} : loss {loss}, accuracy {acc}\")\n",
        "print(f\"Current learning rate: {optimizer.param_groups[0]['lr']}\")"
      ]
    },
    {
      "cell_type": "markdown",
      "source": [
        "Видим, что модель обучилась"
      ],
      "metadata": {
        "id": "bStJKrZvgHv2"
      }
    },
    {
      "cell_type": "code",
      "source": [
        "model     = Network(num_layers=4)\n",
        "optimizer = torch.optim.Adam(model.parameters())\n",
        "criterion = CrossEntropy()"
      ],
      "metadata": {
        "id": "9DCRYOKsgMke"
      },
      "execution_count": null,
      "outputs": []
    },
    {
      "cell_type": "markdown",
      "metadata": {
        "id": "WS41CQj0Y6Q8"
      },
      "source": [
        "Дальше:\n",
        "- Проведите эксперименты с числом слоев.\n",
        "- Постройте графики зависимости качества модели на тренировочной и тестовой выборках от числа слоев. Для получения статистически значимых результатов повторите эксперименты несколько раз.\n",
        "- Сделайте выводы."
      ]
    },
    {
      "cell_type": "markdown",
      "source": [
        "Проведём эксперименты с числом слоёв"
      ],
      "metadata": {
        "id": "SfXHK6kKi44Y"
      }
    },
    {
      "cell_type": "code",
      "source": [
        "model     = Network(num_layers=4)\n",
        "optimizer = torch.optim.Adam(model.parameters())\n",
        "criterion = CrossEntropy()\n",
        "\n",
        "save_acc = []\n",
        "save_loss = []"
      ],
      "metadata": {
        "id": "-0rIIKcKi_4r"
      },
      "execution_count": 2342,
      "outputs": []
    },
    {
      "cell_type": "code",
      "source": [
        "device = torch.device(\"cuda\" if torch.cuda.is_available() else \"cpu\")\n",
        "\n",
        "model.to(device)\n",
        "\n",
        "for epoch in range(10):\n",
        "    loss, acc = perform_epoch(model, train_dataloader, criterion,\n",
        "                                optimizer=optimizer, device=device)\n",
        "    print(f\"Epoch - {epoch} : loss {loss}, accuracy {acc}\")\n",
        "    print(f\"Current learning rate: {optimizer.param_groups[0]['lr']}\")\n",
        "    save_acc.append(acc)\n",
        "    save_loss.append(loss)"
      ],
      "metadata": {
        "colab": {
          "base_uri": "https://localhost:8080/"
        },
        "id": "JMVYhENrjZvC",
        "outputId": "5b130fb1-96ea-46cc-bf08-8426da47ea41"
      },
      "execution_count": 2343,
      "outputs": [
        {
          "output_type": "stream",
          "name": "stderr",
          "text": [
            "<ipython-input-2296-a60754b173b7>:5: UserWarning: Creating a tensor from a list of numpy.ndarrays is extremely slow. Please consider converting the list to a single numpy.ndarray with numpy.array() before converting to a tensor. (Triggered internally at ../torch/csrc/utils/tensor_new.cpp:245.)\n",
            "  imgs = torch.tensor([np.ravel(img[0].tolist()) for img in batch]).float()\n",
            "<ipython-input-2296-a60754b173b7>:5: UserWarning: Creating a tensor from a list of numpy.ndarrays is extremely slow. Please consider converting the list to a single numpy.ndarray with numpy.array() before converting to a tensor. (Triggered internally at ../torch/csrc/utils/tensor_new.cpp:245.)\n",
            "  imgs = torch.tensor([np.ravel(img[0].tolist()) for img in batch]).float()\n"
          ]
        },
        {
          "output_type": "stream",
          "name": "stdout",
          "text": [
            "Epoch - 0 : loss 0.7395468326844274, accuracy 0.7164774537086487\n",
            "Current learning rate: 0.001\n"
          ]
        },
        {
          "output_type": "stream",
          "name": "stderr",
          "text": [
            "<ipython-input-2296-a60754b173b7>:5: UserWarning: Creating a tensor from a list of numpy.ndarrays is extremely slow. Please consider converting the list to a single numpy.ndarray with numpy.array() before converting to a tensor. (Triggered internally at ../torch/csrc/utils/tensor_new.cpp:245.)\n",
            "  imgs = torch.tensor([np.ravel(img[0].tolist()) for img in batch]).float()\n",
            "<ipython-input-2296-a60754b173b7>:5: UserWarning: Creating a tensor from a list of numpy.ndarrays is extremely slow. Please consider converting the list to a single numpy.ndarray with numpy.array() before converting to a tensor. (Triggered internally at ../torch/csrc/utils/tensor_new.cpp:245.)\n",
            "  imgs = torch.tensor([np.ravel(img[0].tolist()) for img in batch]).float()\n"
          ]
        },
        {
          "output_type": "stream",
          "name": "stdout",
          "text": [
            "Epoch - 1 : loss 0.48700648699887095, accuracy 0.8310511112213135\n",
            "Current learning rate: 0.001\n"
          ]
        },
        {
          "output_type": "stream",
          "name": "stderr",
          "text": [
            "<ipython-input-2296-a60754b173b7>:5: UserWarning: Creating a tensor from a list of numpy.ndarrays is extremely slow. Please consider converting the list to a single numpy.ndarray with numpy.array() before converting to a tensor. (Triggered internally at ../torch/csrc/utils/tensor_new.cpp:245.)\n",
            "  imgs = torch.tensor([np.ravel(img[0].tolist()) for img in batch]).float()\n",
            "<ipython-input-2296-a60754b173b7>:5: UserWarning: Creating a tensor from a list of numpy.ndarrays is extremely slow. Please consider converting the list to a single numpy.ndarray with numpy.array() before converting to a tensor. (Triggered internally at ../torch/csrc/utils/tensor_new.cpp:245.)\n",
            "  imgs = torch.tensor([np.ravel(img[0].tolist()) for img in batch]).float()\n"
          ]
        },
        {
          "output_type": "stream",
          "name": "stdout",
          "text": [
            "Epoch - 2 : loss 0.4477982891011052, accuracy 0.8448506593704224\n",
            "Current learning rate: 0.001\n"
          ]
        },
        {
          "output_type": "stream",
          "name": "stderr",
          "text": [
            "<ipython-input-2296-a60754b173b7>:5: UserWarning: Creating a tensor from a list of numpy.ndarrays is extremely slow. Please consider converting the list to a single numpy.ndarray with numpy.array() before converting to a tensor. (Triggered internally at ../torch/csrc/utils/tensor_new.cpp:245.)\n",
            "  imgs = torch.tensor([np.ravel(img[0].tolist()) for img in batch]).float()\n",
            "<ipython-input-2296-a60754b173b7>:5: UserWarning: Creating a tensor from a list of numpy.ndarrays is extremely slow. Please consider converting the list to a single numpy.ndarray with numpy.array() before converting to a tensor. (Triggered internally at ../torch/csrc/utils/tensor_new.cpp:245.)\n",
            "  imgs = torch.tensor([np.ravel(img[0].tolist()) for img in batch]).float()\n"
          ]
        },
        {
          "output_type": "stream",
          "name": "stdout",
          "text": [
            "Epoch - 3 : loss 0.4311057607653784, accuracy 0.8531351685523987\n",
            "Current learning rate: 0.001\n"
          ]
        },
        {
          "output_type": "stream",
          "name": "stderr",
          "text": [
            "<ipython-input-2296-a60754b173b7>:5: UserWarning: Creating a tensor from a list of numpy.ndarrays is extremely slow. Please consider converting the list to a single numpy.ndarray with numpy.array() before converting to a tensor. (Triggered internally at ../torch/csrc/utils/tensor_new.cpp:245.)\n",
            "  imgs = torch.tensor([np.ravel(img[0].tolist()) for img in batch]).float()\n",
            "<ipython-input-2296-a60754b173b7>:5: UserWarning: Creating a tensor from a list of numpy.ndarrays is extremely slow. Please consider converting the list to a single numpy.ndarray with numpy.array() before converting to a tensor. (Triggered internally at ../torch/csrc/utils/tensor_new.cpp:245.)\n",
            "  imgs = torch.tensor([np.ravel(img[0].tolist()) for img in batch]).float()\n"
          ]
        },
        {
          "output_type": "stream",
          "name": "stdout",
          "text": [
            "Epoch - 4 : loss 0.4194346586811589, accuracy 0.8554011583328247\n",
            "Current learning rate: 0.001\n"
          ]
        },
        {
          "output_type": "stream",
          "name": "stderr",
          "text": [
            "<ipython-input-2296-a60754b173b7>:5: UserWarning: Creating a tensor from a list of numpy.ndarrays is extremely slow. Please consider converting the list to a single numpy.ndarray with numpy.array() before converting to a tensor. (Triggered internally at ../torch/csrc/utils/tensor_new.cpp:245.)\n",
            "  imgs = torch.tensor([np.ravel(img[0].tolist()) for img in batch]).float()\n",
            "<ipython-input-2296-a60754b173b7>:5: UserWarning: Creating a tensor from a list of numpy.ndarrays is extremely slow. Please consider converting the list to a single numpy.ndarray with numpy.array() before converting to a tensor. (Triggered internally at ../torch/csrc/utils/tensor_new.cpp:245.)\n",
            "  imgs = torch.tensor([np.ravel(img[0].tolist()) for img in batch]).float()\n"
          ]
        },
        {
          "output_type": "stream",
          "name": "stdout",
          "text": [
            "Epoch - 5 : loss 0.4150186154625844, accuracy 0.8569678068161011\n",
            "Current learning rate: 0.001\n"
          ]
        },
        {
          "output_type": "stream",
          "name": "stderr",
          "text": [
            "<ipython-input-2296-a60754b173b7>:5: UserWarning: Creating a tensor from a list of numpy.ndarrays is extremely slow. Please consider converting the list to a single numpy.ndarray with numpy.array() before converting to a tensor. (Triggered internally at ../torch/csrc/utils/tensor_new.cpp:245.)\n",
            "  imgs = torch.tensor([np.ravel(img[0].tolist()) for img in batch]).float()\n",
            "<ipython-input-2296-a60754b173b7>:5: UserWarning: Creating a tensor from a list of numpy.ndarrays is extremely slow. Please consider converting the list to a single numpy.ndarray with numpy.array() before converting to a tensor. (Triggered internally at ../torch/csrc/utils/tensor_new.cpp:245.)\n",
            "  imgs = torch.tensor([np.ravel(img[0].tolist()) for img in batch]).float()\n"
          ]
        },
        {
          "output_type": "stream",
          "name": "stdout",
          "text": [
            "Epoch - 6 : loss 0.4007925677623134, accuracy 0.8621342778205872\n",
            "Current learning rate: 0.001\n"
          ]
        },
        {
          "output_type": "stream",
          "name": "stderr",
          "text": [
            "<ipython-input-2296-a60754b173b7>:5: UserWarning: Creating a tensor from a list of numpy.ndarrays is extremely slow. Please consider converting the list to a single numpy.ndarray with numpy.array() before converting to a tensor. (Triggered internally at ../torch/csrc/utils/tensor_new.cpp:245.)\n",
            "  imgs = torch.tensor([np.ravel(img[0].tolist()) for img in batch]).float()\n",
            "<ipython-input-2296-a60754b173b7>:5: UserWarning: Creating a tensor from a list of numpy.ndarrays is extremely slow. Please consider converting the list to a single numpy.ndarray with numpy.array() before converting to a tensor. (Triggered internally at ../torch/csrc/utils/tensor_new.cpp:245.)\n",
            "  imgs = torch.tensor([np.ravel(img[0].tolist()) for img in batch]).float()\n"
          ]
        },
        {
          "output_type": "stream",
          "name": "stdout",
          "text": [
            "Epoch - 7 : loss 0.4039252343769185, accuracy 0.8638843297958374\n",
            "Current learning rate: 0.001\n"
          ]
        },
        {
          "output_type": "stream",
          "name": "stderr",
          "text": [
            "<ipython-input-2296-a60754b173b7>:5: UserWarning: Creating a tensor from a list of numpy.ndarrays is extremely slow. Please consider converting the list to a single numpy.ndarray with numpy.array() before converting to a tensor. (Triggered internally at ../torch/csrc/utils/tensor_new.cpp:245.)\n",
            "  imgs = torch.tensor([np.ravel(img[0].tolist()) for img in batch]).float()\n",
            "<ipython-input-2296-a60754b173b7>:5: UserWarning: Creating a tensor from a list of numpy.ndarrays is extremely slow. Please consider converting the list to a single numpy.ndarray with numpy.array() before converting to a tensor. (Triggered internally at ../torch/csrc/utils/tensor_new.cpp:245.)\n",
            "  imgs = torch.tensor([np.ravel(img[0].tolist()) for img in batch]).float()\n"
          ]
        },
        {
          "output_type": "stream",
          "name": "stdout",
          "text": [
            "Epoch - 8 : loss 0.39427274736599066, accuracy 0.8665170073509216\n",
            "Current learning rate: 0.001\n"
          ]
        },
        {
          "output_type": "stream",
          "name": "stderr",
          "text": [
            "<ipython-input-2296-a60754b173b7>:5: UserWarning: Creating a tensor from a list of numpy.ndarrays is extremely slow. Please consider converting the list to a single numpy.ndarray with numpy.array() before converting to a tensor. (Triggered internally at ../torch/csrc/utils/tensor_new.cpp:245.)\n",
            "  imgs = torch.tensor([np.ravel(img[0].tolist()) for img in batch]).float()\n",
            "<ipython-input-2296-a60754b173b7>:5: UserWarning: Creating a tensor from a list of numpy.ndarrays is extremely slow. Please consider converting the list to a single numpy.ndarray with numpy.array() before converting to a tensor. (Triggered internally at ../torch/csrc/utils/tensor_new.cpp:245.)\n",
            "  imgs = torch.tensor([np.ravel(img[0].tolist()) for img in batch]).float()\n"
          ]
        },
        {
          "output_type": "stream",
          "name": "stdout",
          "text": [
            "Epoch - 9 : loss 0.38809271637513304, accuracy 0.8694499731063843\n",
            "Current learning rate: 0.001\n"
          ]
        }
      ]
    },
    {
      "cell_type": "code",
      "source": [
        "model     = Network(num_layers=3)\n",
        "optimizer = torch.optim.Adam(model.parameters())\n",
        "criterion = CrossEntropy()\n",
        "\n",
        "save_acc3 = []\n",
        "save_loss3 = []"
      ],
      "metadata": {
        "id": "JGMfB00em_Vj"
      },
      "execution_count": 2344,
      "outputs": []
    },
    {
      "cell_type": "code",
      "source": [
        "device = torch.device(\"cuda\" if torch.cuda.is_available() else \"cpu\")\n",
        "\n",
        "model.to(device)\n",
        "\n",
        "for epoch in range(10):\n",
        "    loss, acc = perform_epoch(model, train_dataloader, criterion,\n",
        "                                optimizer=optimizer, device=device)\n",
        "    print(f\"Epoch - {epoch} : loss {loss}, accuracy {acc}\")\n",
        "    print(f\"Current learning rate: {optimizer.param_groups[0]['lr']}\")\n",
        "    save_acc3.append(acc)\n",
        "    save_loss3.append(loss)"
      ],
      "metadata": {
        "colab": {
          "base_uri": "https://localhost:8080/"
        },
        "id": "QwX4ukYPm_98",
        "outputId": "9811b604-1772-4a23-bb89-94a9ec9c7023"
      },
      "execution_count": 2345,
      "outputs": [
        {
          "output_type": "stream",
          "name": "stderr",
          "text": [
            "<ipython-input-2296-a60754b173b7>:5: UserWarning: Creating a tensor from a list of numpy.ndarrays is extremely slow. Please consider converting the list to a single numpy.ndarray with numpy.array() before converting to a tensor. (Triggered internally at ../torch/csrc/utils/tensor_new.cpp:245.)\n",
            "  imgs = torch.tensor([np.ravel(img[0].tolist()) for img in batch]).float()\n",
            "<ipython-input-2296-a60754b173b7>:5: UserWarning: Creating a tensor from a list of numpy.ndarrays is extremely slow. Please consider converting the list to a single numpy.ndarray with numpy.array() before converting to a tensor. (Triggered internally at ../torch/csrc/utils/tensor_new.cpp:245.)\n",
            "  imgs = torch.tensor([np.ravel(img[0].tolist()) for img in batch]).float()\n"
          ]
        },
        {
          "output_type": "stream",
          "name": "stdout",
          "text": [
            "Epoch - 0 : loss 0.5572166333051864, accuracy 0.797798752784729\n",
            "Current learning rate: 0.001\n"
          ]
        },
        {
          "output_type": "stream",
          "name": "stderr",
          "text": [
            "<ipython-input-2296-a60754b173b7>:5: UserWarning: Creating a tensor from a list of numpy.ndarrays is extremely slow. Please consider converting the list to a single numpy.ndarray with numpy.array() before converting to a tensor. (Triggered internally at ../torch/csrc/utils/tensor_new.cpp:245.)\n",
            "  imgs = torch.tensor([np.ravel(img[0].tolist()) for img in batch]).float()\n",
            "<ipython-input-2296-a60754b173b7>:5: UserWarning: Creating a tensor from a list of numpy.ndarrays is extremely slow. Please consider converting the list to a single numpy.ndarray with numpy.array() before converting to a tensor. (Triggered internally at ../torch/csrc/utils/tensor_new.cpp:245.)\n",
            "  imgs = torch.tensor([np.ravel(img[0].tolist()) for img in batch]).float()\n"
          ]
        },
        {
          "output_type": "stream",
          "name": "stdout",
          "text": [
            "Epoch - 1 : loss 0.4480183974970132, accuracy 0.840435266494751\n",
            "Current learning rate: 0.001\n"
          ]
        },
        {
          "output_type": "stream",
          "name": "stderr",
          "text": [
            "<ipython-input-2296-a60754b173b7>:5: UserWarning: Creating a tensor from a list of numpy.ndarrays is extremely slow. Please consider converting the list to a single numpy.ndarray with numpy.array() before converting to a tensor. (Triggered internally at ../torch/csrc/utils/tensor_new.cpp:245.)\n",
            "  imgs = torch.tensor([np.ravel(img[0].tolist()) for img in batch]).float()\n",
            "<ipython-input-2296-a60754b173b7>:5: UserWarning: Creating a tensor from a list of numpy.ndarrays is extremely slow. Please consider converting the list to a single numpy.ndarray with numpy.array() before converting to a tensor. (Triggered internally at ../torch/csrc/utils/tensor_new.cpp:245.)\n",
            "  imgs = torch.tensor([np.ravel(img[0].tolist()) for img in batch]).float()\n"
          ]
        },
        {
          "output_type": "stream",
          "name": "stdout",
          "text": [
            "Epoch - 2 : loss 0.4258654814339243, accuracy 0.8489507436752319\n",
            "Current learning rate: 0.001\n"
          ]
        },
        {
          "output_type": "stream",
          "name": "stderr",
          "text": [
            "<ipython-input-2296-a60754b173b7>:5: UserWarning: Creating a tensor from a list of numpy.ndarrays is extremely slow. Please consider converting the list to a single numpy.ndarray with numpy.array() before converting to a tensor. (Triggered internally at ../torch/csrc/utils/tensor_new.cpp:245.)\n",
            "  imgs = torch.tensor([np.ravel(img[0].tolist()) for img in batch]).float()\n",
            "<ipython-input-2296-a60754b173b7>:5: UserWarning: Creating a tensor from a list of numpy.ndarrays is extremely slow. Please consider converting the list to a single numpy.ndarray with numpy.array() before converting to a tensor. (Triggered internally at ../torch/csrc/utils/tensor_new.cpp:245.)\n",
            "  imgs = torch.tensor([np.ravel(img[0].tolist()) for img in batch]).float()\n"
          ]
        },
        {
          "output_type": "stream",
          "name": "stdout",
          "text": [
            "Epoch - 3 : loss 0.40912252018880096, accuracy 0.8529180884361267\n",
            "Current learning rate: 0.001\n"
          ]
        },
        {
          "output_type": "stream",
          "name": "stderr",
          "text": [
            "<ipython-input-2296-a60754b173b7>:5: UserWarning: Creating a tensor from a list of numpy.ndarrays is extremely slow. Please consider converting the list to a single numpy.ndarray with numpy.array() before converting to a tensor. (Triggered internally at ../torch/csrc/utils/tensor_new.cpp:245.)\n",
            "  imgs = torch.tensor([np.ravel(img[0].tolist()) for img in batch]).float()\n",
            "<ipython-input-2296-a60754b173b7>:5: UserWarning: Creating a tensor from a list of numpy.ndarrays is extremely slow. Please consider converting the list to a single numpy.ndarray with numpy.array() before converting to a tensor. (Triggered internally at ../torch/csrc/utils/tensor_new.cpp:245.)\n",
            "  imgs = torch.tensor([np.ravel(img[0].tolist()) for img in batch]).float()\n"
          ]
        },
        {
          "output_type": "stream",
          "name": "stdout",
          "text": [
            "Epoch - 4 : loss 0.4000873397201067, accuracy 0.8588838577270508\n",
            "Current learning rate: 0.001\n"
          ]
        },
        {
          "output_type": "stream",
          "name": "stderr",
          "text": [
            "<ipython-input-2296-a60754b173b7>:5: UserWarning: Creating a tensor from a list of numpy.ndarrays is extremely slow. Please consider converting the list to a single numpy.ndarray with numpy.array() before converting to a tensor. (Triggered internally at ../torch/csrc/utils/tensor_new.cpp:245.)\n",
            "  imgs = torch.tensor([np.ravel(img[0].tolist()) for img in batch]).float()\n",
            "<ipython-input-2296-a60754b173b7>:5: UserWarning: Creating a tensor from a list of numpy.ndarrays is extremely slow. Please consider converting the list to a single numpy.ndarray with numpy.array() before converting to a tensor. (Triggered internally at ../torch/csrc/utils/tensor_new.cpp:245.)\n",
            "  imgs = torch.tensor([np.ravel(img[0].tolist()) for img in batch]).float()\n"
          ]
        },
        {
          "output_type": "stream",
          "name": "stdout",
          "text": [
            "Epoch - 5 : loss 0.3969304754562036, accuracy 0.8601667284965515\n",
            "Current learning rate: 0.001\n"
          ]
        },
        {
          "output_type": "stream",
          "name": "stderr",
          "text": [
            "<ipython-input-2296-a60754b173b7>:5: UserWarning: Creating a tensor from a list of numpy.ndarrays is extremely slow. Please consider converting the list to a single numpy.ndarray with numpy.array() before converting to a tensor. (Triggered internally at ../torch/csrc/utils/tensor_new.cpp:245.)\n",
            "  imgs = torch.tensor([np.ravel(img[0].tolist()) for img in batch]).float()\n",
            "<ipython-input-2296-a60754b173b7>:5: UserWarning: Creating a tensor from a list of numpy.ndarrays is extremely slow. Please consider converting the list to a single numpy.ndarray with numpy.array() before converting to a tensor. (Triggered internally at ../torch/csrc/utils/tensor_new.cpp:245.)\n",
            "  imgs = torch.tensor([np.ravel(img[0].tolist()) for img in batch]).float()\n"
          ]
        },
        {
          "output_type": "stream",
          "name": "stdout",
          "text": [
            "Epoch - 6 : loss 0.3946626074768137, accuracy 0.8616506457328796\n",
            "Current learning rate: 0.001\n"
          ]
        },
        {
          "output_type": "stream",
          "name": "stderr",
          "text": [
            "<ipython-input-2296-a60754b173b7>:5: UserWarning: Creating a tensor from a list of numpy.ndarrays is extremely slow. Please consider converting the list to a single numpy.ndarray with numpy.array() before converting to a tensor. (Triggered internally at ../torch/csrc/utils/tensor_new.cpp:245.)\n",
            "  imgs = torch.tensor([np.ravel(img[0].tolist()) for img in batch]).float()\n",
            "<ipython-input-2296-a60754b173b7>:5: UserWarning: Creating a tensor from a list of numpy.ndarrays is extremely slow. Please consider converting the list to a single numpy.ndarray with numpy.array() before converting to a tensor. (Triggered internally at ../torch/csrc/utils/tensor_new.cpp:245.)\n",
            "  imgs = torch.tensor([np.ravel(img[0].tolist()) for img in batch]).float()\n"
          ]
        },
        {
          "output_type": "stream",
          "name": "stdout",
          "text": [
            "Epoch - 7 : loss 0.39118483250960706, accuracy 0.8629835844039917\n",
            "Current learning rate: 0.001\n"
          ]
        },
        {
          "output_type": "stream",
          "name": "stderr",
          "text": [
            "<ipython-input-2296-a60754b173b7>:5: UserWarning: Creating a tensor from a list of numpy.ndarrays is extremely slow. Please consider converting the list to a single numpy.ndarray with numpy.array() before converting to a tensor. (Triggered internally at ../torch/csrc/utils/tensor_new.cpp:245.)\n",
            "  imgs = torch.tensor([np.ravel(img[0].tolist()) for img in batch]).float()\n",
            "<ipython-input-2296-a60754b173b7>:5: UserWarning: Creating a tensor from a list of numpy.ndarrays is extremely slow. Please consider converting the list to a single numpy.ndarray with numpy.array() before converting to a tensor. (Triggered internally at ../torch/csrc/utils/tensor_new.cpp:245.)\n",
            "  imgs = torch.tensor([np.ravel(img[0].tolist()) for img in batch]).float()\n"
          ]
        },
        {
          "output_type": "stream",
          "name": "stdout",
          "text": [
            "Epoch - 8 : loss 0.3839629437113763, accuracy 0.8643172979354858\n",
            "Current learning rate: 0.001\n"
          ]
        },
        {
          "output_type": "stream",
          "name": "stderr",
          "text": [
            "<ipython-input-2296-a60754b173b7>:5: UserWarning: Creating a tensor from a list of numpy.ndarrays is extremely slow. Please consider converting the list to a single numpy.ndarray with numpy.array() before converting to a tensor. (Triggered internally at ../torch/csrc/utils/tensor_new.cpp:245.)\n",
            "  imgs = torch.tensor([np.ravel(img[0].tolist()) for img in batch]).float()\n",
            "<ipython-input-2296-a60754b173b7>:5: UserWarning: Creating a tensor from a list of numpy.ndarrays is extremely slow. Please consider converting the list to a single numpy.ndarray with numpy.array() before converting to a tensor. (Triggered internally at ../torch/csrc/utils/tensor_new.cpp:245.)\n",
            "  imgs = torch.tensor([np.ravel(img[0].tolist()) for img in batch]).float()\n"
          ]
        },
        {
          "output_type": "stream",
          "name": "stdout",
          "text": [
            "Epoch - 9 : loss nan, accuracy 0.10225153714418411\n",
            "Current learning rate: 0.001\n"
          ]
        }
      ]
    },
    {
      "cell_type": "code",
      "source": [
        "model     = Network(num_layers=2)\n",
        "optimizer = torch.optim.Adam(model.parameters())\n",
        "criterion = CrossEntropy()\n",
        "\n",
        "save_acc2 = []\n",
        "save_loss2 = []"
      ],
      "metadata": {
        "id": "-HVcsUDTpAA5"
      },
      "execution_count": 2346,
      "outputs": []
    },
    {
      "cell_type": "code",
      "source": [
        "device = torch.device(\"cuda\" if torch.cuda.is_available() else \"cpu\")\n",
        "\n",
        "model.to(device)\n",
        "\n",
        "for epoch in range(10):\n",
        "    loss, acc = perform_epoch(model, train_dataloader, criterion,\n",
        "                                optimizer=optimizer, device=device)\n",
        "    print(f\"Epoch - {epoch} : loss {loss}, accuracy {acc}\")\n",
        "    print(f\"Current learning rate: {optimizer.param_groups[0]['lr']}\")\n",
        "    save_acc2.append(acc)\n",
        "    save_loss2.append(loss)"
      ],
      "metadata": {
        "colab": {
          "base_uri": "https://localhost:8080/"
        },
        "id": "3dVh0dC3pJX6",
        "outputId": "245c3f5e-28cd-4a26-dca4-7fac143db11d"
      },
      "execution_count": 2347,
      "outputs": [
        {
          "output_type": "stream",
          "name": "stderr",
          "text": [
            "<ipython-input-2296-a60754b173b7>:5: UserWarning: Creating a tensor from a list of numpy.ndarrays is extremely slow. Please consider converting the list to a single numpy.ndarray with numpy.array() before converting to a tensor. (Triggered internally at ../torch/csrc/utils/tensor_new.cpp:245.)\n",
            "  imgs = torch.tensor([np.ravel(img[0].tolist()) for img in batch]).float()\n",
            "<ipython-input-2296-a60754b173b7>:5: UserWarning: Creating a tensor from a list of numpy.ndarrays is extremely slow. Please consider converting the list to a single numpy.ndarray with numpy.array() before converting to a tensor. (Triggered internally at ../torch/csrc/utils/tensor_new.cpp:245.)\n",
            "  imgs = torch.tensor([np.ravel(img[0].tolist()) for img in batch]).float()\n"
          ]
        },
        {
          "output_type": "stream",
          "name": "stdout",
          "text": [
            "Epoch - 0 : loss 0.7032291752719321, accuracy 0.7172958850860596\n",
            "Current learning rate: 0.001\n"
          ]
        },
        {
          "output_type": "stream",
          "name": "stderr",
          "text": [
            "<ipython-input-2296-a60754b173b7>:5: UserWarning: Creating a tensor from a list of numpy.ndarrays is extremely slow. Please consider converting the list to a single numpy.ndarray with numpy.array() before converting to a tensor. (Triggered internally at ../torch/csrc/utils/tensor_new.cpp:245.)\n",
            "  imgs = torch.tensor([np.ravel(img[0].tolist()) for img in batch]).float()\n",
            "<ipython-input-2296-a60754b173b7>:5: UserWarning: Creating a tensor from a list of numpy.ndarrays is extremely slow. Please consider converting the list to a single numpy.ndarray with numpy.array() before converting to a tensor. (Triggered internally at ../torch/csrc/utils/tensor_new.cpp:245.)\n",
            "  imgs = torch.tensor([np.ravel(img[0].tolist()) for img in batch]).float()\n"
          ]
        },
        {
          "output_type": "stream",
          "name": "stdout",
          "text": [
            "Epoch - 1 : loss 0.6607059539975598, accuracy 0.7316970229148865\n",
            "Current learning rate: 0.001\n"
          ]
        },
        {
          "output_type": "stream",
          "name": "stderr",
          "text": [
            "<ipython-input-2296-a60754b173b7>:5: UserWarning: Creating a tensor from a list of numpy.ndarrays is extremely slow. Please consider converting the list to a single numpy.ndarray with numpy.array() before converting to a tensor. (Triggered internally at ../torch/csrc/utils/tensor_new.cpp:245.)\n",
            "  imgs = torch.tensor([np.ravel(img[0].tolist()) for img in batch]).float()\n",
            "<ipython-input-2296-a60754b173b7>:5: UserWarning: Creating a tensor from a list of numpy.ndarrays is extremely slow. Please consider converting the list to a single numpy.ndarray with numpy.array() before converting to a tensor. (Triggered internally at ../torch/csrc/utils/tensor_new.cpp:245.)\n",
            "  imgs = torch.tensor([np.ravel(img[0].tolist()) for img in batch]).float()\n"
          ]
        },
        {
          "output_type": "stream",
          "name": "stdout",
          "text": [
            "Epoch - 2 : loss inf, accuracy 0.3187549114227295\n",
            "Current learning rate: 0.001\n"
          ]
        },
        {
          "output_type": "stream",
          "name": "stderr",
          "text": [
            "<ipython-input-2296-a60754b173b7>:5: UserWarning: Creating a tensor from a list of numpy.ndarrays is extremely slow. Please consider converting the list to a single numpy.ndarray with numpy.array() before converting to a tensor. (Triggered internally at ../torch/csrc/utils/tensor_new.cpp:245.)\n",
            "  imgs = torch.tensor([np.ravel(img[0].tolist()) for img in batch]).float()\n",
            "<ipython-input-2296-a60754b173b7>:5: UserWarning: Creating a tensor from a list of numpy.ndarrays is extremely slow. Please consider converting the list to a single numpy.ndarray with numpy.array() before converting to a tensor. (Triggered internally at ../torch/csrc/utils/tensor_new.cpp:245.)\n",
            "  imgs = torch.tensor([np.ravel(img[0].tolist()) for img in batch]).float()\n"
          ]
        },
        {
          "output_type": "stream",
          "name": "stdout",
          "text": [
            "Epoch - 3 : loss inf, accuracy 0.10000135004520416\n",
            "Current learning rate: 0.001\n"
          ]
        },
        {
          "output_type": "stream",
          "name": "stderr",
          "text": [
            "<ipython-input-2296-a60754b173b7>:5: UserWarning: Creating a tensor from a list of numpy.ndarrays is extremely slow. Please consider converting the list to a single numpy.ndarray with numpy.array() before converting to a tensor. (Triggered internally at ../torch/csrc/utils/tensor_new.cpp:245.)\n",
            "  imgs = torch.tensor([np.ravel(img[0].tolist()) for img in batch]).float()\n",
            "<ipython-input-2296-a60754b173b7>:5: UserWarning: Creating a tensor from a list of numpy.ndarrays is extremely slow. Please consider converting the list to a single numpy.ndarray with numpy.array() before converting to a tensor. (Triggered internally at ../torch/csrc/utils/tensor_new.cpp:245.)\n",
            "  imgs = torch.tensor([np.ravel(img[0].tolist()) for img in batch]).float()\n"
          ]
        },
        {
          "output_type": "stream",
          "name": "stdout",
          "text": [
            "Epoch - 4 : loss inf, accuracy 0.10000143200159073\n",
            "Current learning rate: 0.001\n"
          ]
        },
        {
          "output_type": "stream",
          "name": "stderr",
          "text": [
            "<ipython-input-2296-a60754b173b7>:5: UserWarning: Creating a tensor from a list of numpy.ndarrays is extremely slow. Please consider converting the list to a single numpy.ndarray with numpy.array() before converting to a tensor. (Triggered internally at ../torch/csrc/utils/tensor_new.cpp:245.)\n",
            "  imgs = torch.tensor([np.ravel(img[0].tolist()) for img in batch]).float()\n",
            "<ipython-input-2296-a60754b173b7>:5: UserWarning: Creating a tensor from a list of numpy.ndarrays is extremely slow. Please consider converting the list to a single numpy.ndarray with numpy.array() before converting to a tensor. (Triggered internally at ../torch/csrc/utils/tensor_new.cpp:245.)\n",
            "  imgs = torch.tensor([np.ravel(img[0].tolist()) for img in batch]).float()\n"
          ]
        },
        {
          "output_type": "stream",
          "name": "stdout",
          "text": [
            "Epoch - 5 : loss inf, accuracy 0.10000135749578476\n",
            "Current learning rate: 0.001\n"
          ]
        },
        {
          "output_type": "stream",
          "name": "stderr",
          "text": [
            "<ipython-input-2296-a60754b173b7>:5: UserWarning: Creating a tensor from a list of numpy.ndarrays is extremely slow. Please consider converting the list to a single numpy.ndarray with numpy.array() before converting to a tensor. (Triggered internally at ../torch/csrc/utils/tensor_new.cpp:245.)\n",
            "  imgs = torch.tensor([np.ravel(img[0].tolist()) for img in batch]).float()\n",
            "<ipython-input-2296-a60754b173b7>:5: UserWarning: Creating a tensor from a list of numpy.ndarrays is extremely slow. Please consider converting the list to a single numpy.ndarray with numpy.array() before converting to a tensor. (Triggered internally at ../torch/csrc/utils/tensor_new.cpp:245.)\n",
            "  imgs = torch.tensor([np.ravel(img[0].tolist()) for img in batch]).float()\n"
          ]
        },
        {
          "output_type": "stream",
          "name": "stdout",
          "text": [
            "Epoch - 6 : loss inf, accuracy 0.10000155121088028\n",
            "Current learning rate: 0.001\n"
          ]
        },
        {
          "output_type": "stream",
          "name": "stderr",
          "text": [
            "<ipython-input-2296-a60754b173b7>:5: UserWarning: Creating a tensor from a list of numpy.ndarrays is extremely slow. Please consider converting the list to a single numpy.ndarray with numpy.array() before converting to a tensor. (Triggered internally at ../torch/csrc/utils/tensor_new.cpp:245.)\n",
            "  imgs = torch.tensor([np.ravel(img[0].tolist()) for img in batch]).float()\n",
            "<ipython-input-2296-a60754b173b7>:5: UserWarning: Creating a tensor from a list of numpy.ndarrays is extremely slow. Please consider converting the list to a single numpy.ndarray with numpy.array() before converting to a tensor. (Triggered internally at ../torch/csrc/utils/tensor_new.cpp:245.)\n",
            "  imgs = torch.tensor([np.ravel(img[0].tolist()) for img in batch]).float()\n"
          ]
        },
        {
          "output_type": "stream",
          "name": "stdout",
          "text": [
            "Epoch - 7 : loss inf, accuracy 0.10000139474868774\n",
            "Current learning rate: 0.001\n"
          ]
        },
        {
          "output_type": "stream",
          "name": "stderr",
          "text": [
            "<ipython-input-2296-a60754b173b7>:5: UserWarning: Creating a tensor from a list of numpy.ndarrays is extremely slow. Please consider converting the list to a single numpy.ndarray with numpy.array() before converting to a tensor. (Triggered internally at ../torch/csrc/utils/tensor_new.cpp:245.)\n",
            "  imgs = torch.tensor([np.ravel(img[0].tolist()) for img in batch]).float()\n",
            "<ipython-input-2296-a60754b173b7>:5: UserWarning: Creating a tensor from a list of numpy.ndarrays is extremely slow. Please consider converting the list to a single numpy.ndarray with numpy.array() before converting to a tensor. (Triggered internally at ../torch/csrc/utils/tensor_new.cpp:245.)\n",
            "  imgs = torch.tensor([np.ravel(img[0].tolist()) for img in batch]).float()\n"
          ]
        },
        {
          "output_type": "stream",
          "name": "stdout",
          "text": [
            "Epoch - 8 : loss inf, accuracy 0.10000152885913849\n",
            "Current learning rate: 0.001\n"
          ]
        },
        {
          "output_type": "stream",
          "name": "stderr",
          "text": [
            "<ipython-input-2296-a60754b173b7>:5: UserWarning: Creating a tensor from a list of numpy.ndarrays is extremely slow. Please consider converting the list to a single numpy.ndarray with numpy.array() before converting to a tensor. (Triggered internally at ../torch/csrc/utils/tensor_new.cpp:245.)\n",
            "  imgs = torch.tensor([np.ravel(img[0].tolist()) for img in batch]).float()\n",
            "<ipython-input-2296-a60754b173b7>:5: UserWarning: Creating a tensor from a list of numpy.ndarrays is extremely slow. Please consider converting the list to a single numpy.ndarray with numpy.array() before converting to a tensor. (Triggered internally at ../torch/csrc/utils/tensor_new.cpp:245.)\n",
            "  imgs = torch.tensor([np.ravel(img[0].tolist()) for img in batch]).float()\n"
          ]
        },
        {
          "output_type": "stream",
          "name": "stdout",
          "text": [
            "Epoch - 9 : loss inf, accuracy 0.1000015065073967\n",
            "Current learning rate: 0.001\n"
          ]
        }
      ]
    },
    {
      "cell_type": "code",
      "source": [
        "model     = Network(num_layers=1)\n",
        "optimizer = torch.optim.Adam(model.parameters())\n",
        "criterion = CrossEntropy()\n",
        "\n",
        "save_acc6 = []\n",
        "save_loss6 = []"
      ],
      "metadata": {
        "id": "oQlgMWsCt7nm"
      },
      "execution_count": 2357,
      "outputs": []
    },
    {
      "cell_type": "code",
      "source": [
        "device = torch.device(\"cuda\" if torch.cuda.is_available() else \"cpu\")\n",
        "\n",
        "model.to(device)\n",
        "\n",
        "for epoch in range(10):\n",
        "    loss, acc = perform_epoch(model, train_dataloader, criterion,\n",
        "                                optimizer=optimizer, device=device)\n",
        "    print(f\"Epoch - {epoch} : loss {loss}, accuracy {acc}\")\n",
        "    print(f\"Current learning rate: {optimizer.param_groups[0]['lr']}\")\n",
        "    save_acc6.append(acc)\n",
        "    save_loss6.append(loss)"
      ],
      "metadata": {
        "colab": {
          "base_uri": "https://localhost:8080/"
        },
        "id": "AlE76ZFlt_ZY",
        "outputId": "f006cc4d-35fd-4aee-efde-fa8e6f71ff23"
      },
      "execution_count": 2358,
      "outputs": [
        {
          "output_type": "stream",
          "name": "stderr",
          "text": [
            "<ipython-input-2296-a60754b173b7>:5: UserWarning: Creating a tensor from a list of numpy.ndarrays is extremely slow. Please consider converting the list to a single numpy.ndarray with numpy.array() before converting to a tensor. (Triggered internally at ../torch/csrc/utils/tensor_new.cpp:245.)\n",
            "  imgs = torch.tensor([np.ravel(img[0].tolist()) for img in batch]).float()\n",
            "<ipython-input-2296-a60754b173b7>:5: UserWarning: Creating a tensor from a list of numpy.ndarrays is extremely slow. Please consider converting the list to a single numpy.ndarray with numpy.array() before converting to a tensor. (Triggered internally at ../torch/csrc/utils/tensor_new.cpp:245.)\n",
            "  imgs = torch.tensor([np.ravel(img[0].tolist()) for img in batch]).float()\n"
          ]
        },
        {
          "output_type": "stream",
          "name": "stdout",
          "text": [
            "Epoch - 0 : loss 0.6492692687623203, accuracy 0.77011638879776\n",
            "Current learning rate: 0.001\n"
          ]
        },
        {
          "output_type": "stream",
          "name": "stderr",
          "text": [
            "<ipython-input-2296-a60754b173b7>:5: UserWarning: Creating a tensor from a list of numpy.ndarrays is extremely slow. Please consider converting the list to a single numpy.ndarray with numpy.array() before converting to a tensor. (Triggered internally at ../torch/csrc/utils/tensor_new.cpp:245.)\n",
            "  imgs = torch.tensor([np.ravel(img[0].tolist()) for img in batch]).float()\n",
            "<ipython-input-2296-a60754b173b7>:5: UserWarning: Creating a tensor from a list of numpy.ndarrays is extremely slow. Please consider converting the list to a single numpy.ndarray with numpy.array() before converting to a tensor. (Triggered internally at ../torch/csrc/utils/tensor_new.cpp:245.)\n",
            "  imgs = torch.tensor([np.ravel(img[0].tolist()) for img in batch]).float()\n"
          ]
        },
        {
          "output_type": "stream",
          "name": "stdout",
          "text": [
            "Epoch - 1 : loss 0.5930316600701772, accuracy 0.7954850196838379\n",
            "Current learning rate: 0.001\n"
          ]
        },
        {
          "output_type": "stream",
          "name": "stderr",
          "text": [
            "<ipython-input-2296-a60754b173b7>:5: UserWarning: Creating a tensor from a list of numpy.ndarrays is extremely slow. Please consider converting the list to a single numpy.ndarray with numpy.array() before converting to a tensor. (Triggered internally at ../torch/csrc/utils/tensor_new.cpp:245.)\n",
            "  imgs = torch.tensor([np.ravel(img[0].tolist()) for img in batch]).float()\n",
            "<ipython-input-2296-a60754b173b7>:5: UserWarning: Creating a tensor from a list of numpy.ndarrays is extremely slow. Please consider converting the list to a single numpy.ndarray with numpy.array() before converting to a tensor. (Triggered internally at ../torch/csrc/utils/tensor_new.cpp:245.)\n",
            "  imgs = torch.tensor([np.ravel(img[0].tolist()) for img in batch]).float()\n"
          ]
        },
        {
          "output_type": "stream",
          "name": "stdout",
          "text": [
            "Epoch - 2 : loss 0.5864302387251519, accuracy 0.7993838787078857\n",
            "Current learning rate: 0.001\n"
          ]
        },
        {
          "output_type": "stream",
          "name": "stderr",
          "text": [
            "<ipython-input-2296-a60754b173b7>:5: UserWarning: Creating a tensor from a list of numpy.ndarrays is extremely slow. Please consider converting the list to a single numpy.ndarray with numpy.array() before converting to a tensor. (Triggered internally at ../torch/csrc/utils/tensor_new.cpp:245.)\n",
            "  imgs = torch.tensor([np.ravel(img[0].tolist()) for img in batch]).float()\n",
            "<ipython-input-2296-a60754b173b7>:5: UserWarning: Creating a tensor from a list of numpy.ndarrays is extremely slow. Please consider converting the list to a single numpy.ndarray with numpy.array() before converting to a tensor. (Triggered internally at ../torch/csrc/utils/tensor_new.cpp:245.)\n",
            "  imgs = torch.tensor([np.ravel(img[0].tolist()) for img in batch]).float()\n"
          ]
        },
        {
          "output_type": "stream",
          "name": "stdout",
          "text": [
            "Epoch - 3 : loss 0.5670293176553678, accuracy 0.8043672442436218\n",
            "Current learning rate: 0.001\n"
          ]
        },
        {
          "output_type": "stream",
          "name": "stderr",
          "text": [
            "<ipython-input-2296-a60754b173b7>:5: UserWarning: Creating a tensor from a list of numpy.ndarrays is extremely slow. Please consider converting the list to a single numpy.ndarray with numpy.array() before converting to a tensor. (Triggered internally at ../torch/csrc/utils/tensor_new.cpp:245.)\n",
            "  imgs = torch.tensor([np.ravel(img[0].tolist()) for img in batch]).float()\n",
            "<ipython-input-2296-a60754b173b7>:5: UserWarning: Creating a tensor from a list of numpy.ndarrays is extremely slow. Please consider converting the list to a single numpy.ndarray with numpy.array() before converting to a tensor. (Triggered internally at ../torch/csrc/utils/tensor_new.cpp:245.)\n",
            "  imgs = torch.tensor([np.ravel(img[0].tolist()) for img in batch]).float()\n"
          ]
        },
        {
          "output_type": "stream",
          "name": "stdout",
          "text": [
            "Epoch - 4 : loss 0.5762810328477063, accuracy 0.8036169409751892\n",
            "Current learning rate: 0.001\n"
          ]
        },
        {
          "output_type": "stream",
          "name": "stderr",
          "text": [
            "<ipython-input-2296-a60754b173b7>:5: UserWarning: Creating a tensor from a list of numpy.ndarrays is extremely slow. Please consider converting the list to a single numpy.ndarray with numpy.array() before converting to a tensor. (Triggered internally at ../torch/csrc/utils/tensor_new.cpp:245.)\n",
            "  imgs = torch.tensor([np.ravel(img[0].tolist()) for img in batch]).float()\n",
            "<ipython-input-2296-a60754b173b7>:5: UserWarning: Creating a tensor from a list of numpy.ndarrays is extremely slow. Please consider converting the list to a single numpy.ndarray with numpy.array() before converting to a tensor. (Triggered internally at ../torch/csrc/utils/tensor_new.cpp:245.)\n",
            "  imgs = torch.tensor([np.ravel(img[0].tolist()) for img in batch]).float()\n"
          ]
        },
        {
          "output_type": "stream",
          "name": "stdout",
          "text": [
            "Epoch - 5 : loss 0.5614959933268837, accuracy 0.8075357675552368\n",
            "Current learning rate: 0.001\n"
          ]
        },
        {
          "output_type": "stream",
          "name": "stderr",
          "text": [
            "<ipython-input-2296-a60754b173b7>:5: UserWarning: Creating a tensor from a list of numpy.ndarrays is extremely slow. Please consider converting the list to a single numpy.ndarray with numpy.array() before converting to a tensor. (Triggered internally at ../torch/csrc/utils/tensor_new.cpp:245.)\n",
            "  imgs = torch.tensor([np.ravel(img[0].tolist()) for img in batch]).float()\n",
            "<ipython-input-2296-a60754b173b7>:5: UserWarning: Creating a tensor from a list of numpy.ndarrays is extremely slow. Please consider converting the list to a single numpy.ndarray with numpy.array() before converting to a tensor. (Triggered internally at ../torch/csrc/utils/tensor_new.cpp:245.)\n",
            "  imgs = torch.tensor([np.ravel(img[0].tolist()) for img in batch]).float()\n"
          ]
        },
        {
          "output_type": "stream",
          "name": "stdout",
          "text": [
            "Epoch - 6 : loss 0.5711254649232141, accuracy 0.803518533706665\n",
            "Current learning rate: 0.001\n"
          ]
        },
        {
          "output_type": "stream",
          "name": "stderr",
          "text": [
            "<ipython-input-2296-a60754b173b7>:5: UserWarning: Creating a tensor from a list of numpy.ndarrays is extremely slow. Please consider converting the list to a single numpy.ndarray with numpy.array() before converting to a tensor. (Triggered internally at ../torch/csrc/utils/tensor_new.cpp:245.)\n",
            "  imgs = torch.tensor([np.ravel(img[0].tolist()) for img in batch]).float()\n",
            "<ipython-input-2296-a60754b173b7>:5: UserWarning: Creating a tensor from a list of numpy.ndarrays is extremely slow. Please consider converting the list to a single numpy.ndarray with numpy.array() before converting to a tensor. (Triggered internally at ../torch/csrc/utils/tensor_new.cpp:245.)\n",
            "  imgs = torch.tensor([np.ravel(img[0].tolist()) for img in batch]).float()\n"
          ]
        },
        {
          "output_type": "stream",
          "name": "stdout",
          "text": [
            "Epoch - 7 : loss 0.5622398548149504, accuracy 0.8097509145736694\n",
            "Current learning rate: 0.001\n"
          ]
        },
        {
          "output_type": "stream",
          "name": "stderr",
          "text": [
            "<ipython-input-2296-a60754b173b7>:5: UserWarning: Creating a tensor from a list of numpy.ndarrays is extremely slow. Please consider converting the list to a single numpy.ndarray with numpy.array() before converting to a tensor. (Triggered internally at ../torch/csrc/utils/tensor_new.cpp:245.)\n",
            "  imgs = torch.tensor([np.ravel(img[0].tolist()) for img in batch]).float()\n",
            "<ipython-input-2296-a60754b173b7>:5: UserWarning: Creating a tensor from a list of numpy.ndarrays is extremely slow. Please consider converting the list to a single numpy.ndarray with numpy.array() before converting to a tensor. (Triggered internally at ../torch/csrc/utils/tensor_new.cpp:245.)\n",
            "  imgs = torch.tensor([np.ravel(img[0].tolist()) for img in batch]).float()\n"
          ]
        },
        {
          "output_type": "stream",
          "name": "stdout",
          "text": [
            "Epoch - 8 : loss 0.584019125275896, accuracy 0.7995696663856506\n",
            "Current learning rate: 0.001\n"
          ]
        },
        {
          "output_type": "stream",
          "name": "stderr",
          "text": [
            "<ipython-input-2296-a60754b173b7>:5: UserWarning: Creating a tensor from a list of numpy.ndarrays is extremely slow. Please consider converting the list to a single numpy.ndarray with numpy.array() before converting to a tensor. (Triggered internally at ../torch/csrc/utils/tensor_new.cpp:245.)\n",
            "  imgs = torch.tensor([np.ravel(img[0].tolist()) for img in batch]).float()\n",
            "<ipython-input-2296-a60754b173b7>:5: UserWarning: Creating a tensor from a list of numpy.ndarrays is extremely slow. Please consider converting the list to a single numpy.ndarray with numpy.array() before converting to a tensor. (Triggered internally at ../torch/csrc/utils/tensor_new.cpp:245.)\n",
            "  imgs = torch.tensor([np.ravel(img[0].tolist()) for img in batch]).float()\n"
          ]
        },
        {
          "output_type": "stream",
          "name": "stdout",
          "text": [
            "Epoch - 9 : loss 0.5561237859255634, accuracy 0.8124681115150452\n",
            "Current learning rate: 0.001\n"
          ]
        }
      ]
    },
    {
      "cell_type": "code",
      "source": [
        "x1 = np.arange(10)\n",
        "x1"
      ],
      "metadata": {
        "colab": {
          "base_uri": "https://localhost:8080/"
        },
        "id": "KeLVr3qCmZBP",
        "outputId": "1903fd82-2cc8-43bf-bf5f-093cd5986598"
      },
      "execution_count": 2348,
      "outputs": [
        {
          "output_type": "execute_result",
          "data": {
            "text/plain": [
              "array([0, 1, 2, 3, 4, 5, 6, 7, 8, 9])"
            ]
          },
          "metadata": {},
          "execution_count": 2348
        }
      ]
    },
    {
      "cell_type": "code",
      "source": [
        "save_acc"
      ],
      "metadata": {
        "colab": {
          "base_uri": "https://localhost:8080/"
        },
        "id": "LeFWYDDFo5p1",
        "outputId": "5ad73438-78ae-43c8-8a9e-ade19232a84c"
      },
      "execution_count": 2349,
      "outputs": [
        {
          "output_type": "execute_result",
          "data": {
            "text/plain": [
              "[tensor(0.7165),\n",
              " tensor(0.8311),\n",
              " tensor(0.8449),\n",
              " tensor(0.8531),\n",
              " tensor(0.8554),\n",
              " tensor(0.8570),\n",
              " tensor(0.8621),\n",
              " tensor(0.8639),\n",
              " tensor(0.8665),\n",
              " tensor(0.8694)]"
            ]
          },
          "metadata": {},
          "execution_count": 2349
        }
      ]
    },
    {
      "cell_type": "code",
      "source": [
        "plt.plot(x1, save_acc, label=\"4 labels\")\n",
        "plt.plot(x1, save_acc3, label=\"3 labels\")\n",
        "plt.plot(x1, save_acc2, label=\"2 labels\")\n",
        "plt.plot(x1, save_acc6, label=\"1 label\")\n",
        "# plt.plot(x1, b_basic, label = \"basic\")\n",
        "plt.xlabel(\"epoch\")\n",
        "plt.ylabel(\"accuracy\")\n",
        "plt.legend()\n",
        "plt.show()"
      ],
      "metadata": {
        "colab": {
          "base_uri": "https://localhost:8080/",
          "height": 451
        },
        "id": "FaCjGkERmmLV",
        "outputId": "9f02bc12-0453-438c-e5fb-a1b7de1ea00f"
      },
      "execution_count": 2359,
      "outputs": [
        {
          "output_type": "display_data",
          "data": {
            "text/plain": [
              "<Figure size 640x480 with 1 Axes>"
            ],
            "image/png": "[encoded data removed]"
          },
          "metadata": {}
        }
      ]
    },
    {
      "cell_type": "markdown",
      "source": [
        "### Вывод"
      ],
      "metadata": {
        "id": "OzRuJHFKwsP8"
      }
    },
    {
      "cell_type": "markdown",
      "source": [
        "Можно сделать вывод, что на 4 слоях сеть показывает наилучшее предсказание.\n",
        "\n",
        "Также можно заметить, что с 2 и 3 слоями она дала нам плохой результат. Скорее всего это связано с начальной инициализацией весов. Стоило их инициализорвать методом, предназначенным для функции активации ReLU.\n",
        "\n",
        "Ещё есть интересное наблюдение: даже с 1 слоем сеть довольно хорошо обучилась и теперь способно с неплохой точностью распознавать картинки."
      ],
      "metadata": {
        "id": "h9n4DM7fw3ON"
      }
    },
    {
      "cell_type": "markdown",
      "metadata": {
        "id": "d3vcONKQ86mu"
      },
      "source": [
        "## 4. Бонусная часть."
      ]
    },
    {
      "cell_type": "markdown",
      "metadata": {
        "id": "Kuhxy7aW86mu"
      },
      "source": [
        "### 4.1 Реализация метода оптимизации (3 + 3 балла).\n",
        "Реализуйте сами метод оптимизации  для рассмотренной выше архитектуры. Вы можете выбрать произвольный метод от градиентного спуска до современных вариантов. Продемонстрируйте правильную работу метода оптимизации, сравните его работы с Adam.\n",
        "\n",
        "**Дополнительные баллы** вы получите, если метод будет уникален среди сдавших задание."
      ]
    },
    {
      "cell_type": "code",
      "execution_count": 2325,
      "metadata": {
        "id": "GYMu0uF1p6o0"
      },
      "outputs": [],
      "source": [
        "class SotaOptimizer(Optimizer):\n",
        "    def __init__(self, params, lr=1e-3):\n",
        "        defaults = dict(lr=lr)\n",
        "        super(SotaOptimizer, self).__init__(params, defaults)\n",
        "\n",
        "    def __setstate__(self, state):\n",
        "        super(SotaOptimizer, self).__setstate__(state)\n",
        "\n",
        "    @torch.no_grad()\n",
        "    def step(self,):\n",
        "\n",
        "        for group in self.param_groups:\n",
        "            lr = group['lr']\n",
        "            for p in group['params']:\n",
        "                if p.grad is not None:\n",
        "                    p.data.add_(-lr*p.grad)"
      ]
    },
    {
      "cell_type": "markdown",
      "metadata": {
        "id": "d3aabYCykXL7"
      },
      "source": [
        "### 4.2 Реализация современной функции активации (2 + 2 балла).\n",
        "Реализуйте одну из активаций, предложенных на лекции или в статье. Например, `Hardswish`. Сравните сеть с вашей активацией и с `ReLU`.\n",
        "\n",
        "**Дополнительные баллы** вы получите, если функция будет уникальна среди сдавших задание."
      ]
    }
  ],
  "metadata": {
    "colab": {
      "provenance": []
    },
    "kernelspec": {
      "display_name": "Python 3 (ipykernel)",
      "language": "python",
      "name": "python3"
    },
    "language_info": {
      "codemirror_mode": {
        "name": "ipython",
        "version": 3
      },
      "file_extension": ".py",
      "mimetype": "text/x-python",
      "name": "python",
      "nbconvert_exporter": "python",
      "pygments_lexer": "ipython3",
      "version": "3.10.12"
    }
  },
  "nbformat": 4,
  "nbformat_minor": 0
}