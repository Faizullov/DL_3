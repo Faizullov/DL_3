{
  "nbformat": 4,
  "nbformat_minor": 0,
  "metadata": {
    "colab": {
      "provenance": [],
      "gpuType": "T4"
    },
    "kernelspec": {
      "name": "python3",
      "display_name": "Python 3"
    },
    "language_info": {
      "name": "python"
    },
    "accelerator": "GPU"
  },
  "cells": [
    {
      "cell_type": "markdown",
      "source": [
        "# ДЗ 4 Чтение номерных знаков\n",
        "\n",
        "## Файзуллов Айрат"
      ],
      "metadata": {
        "id": "UVhjXYtcG5ut"
      }
    },
    {
      "cell_type": "markdown",
      "source": [
        "Работа с гугл диском"
      ],
      "metadata": {
        "id": "lswUZtIBHxuw"
      }
    },
    {
      "cell_type": "code",
      "execution_count": 1,
      "metadata": {
        "colab": {
          "base_uri": "https://localhost:8080/"
        },
        "id": "Jl1v4SUsG5KX",
        "outputId": "1ba3f383-4beb-4dab-fdd4-b4c349e23627"
      },
      "outputs": [
        {
          "output_type": "stream",
          "name": "stdout",
          "text": [
            "Mounted at /content/drive\n"
          ]
        }
      ],
      "source": [
        "from google.colab import drive\n",
        "drive.mount('/content/drive', force_remount=True)\n",
        "dataset_root_dir = 'drive/MyDrive/HW_DL_4'"
      ]
    },
    {
      "cell_type": "code",
      "source": [
        "import zipfile\n",
        "import os\n",
        "\n",
        "with zipfile.ZipFile('drive/MyDrive/HW_DL_4/aimasters2023ml3hw4-license-plate-recognition.zip', 'r') as zip_ref:\n",
        "    zip_ref.extractall('drive/MyDrive/HW_DL_4')"
      ],
      "metadata": {
        "id": "en2qUmI-HjOw"
      },
      "execution_count": 2,
      "outputs": []
    },
    {
      "cell_type": "markdown",
      "source": [
        "Создадим train dataset"
      ],
      "metadata": {
        "id": "FNEMMvMbPiND"
      }
    },
    {
      "cell_type": "code",
      "source": [
        "import pandas as pd\n",
        "from PIL import Image\n",
        "from IPython.display import display\n",
        "import zipfile\n",
        "import os\n",
        "\n",
        "\n",
        "data = {'image': [], 'name': []}\n",
        "\n",
        "df = pd.DataFrame(data)\n",
        "\n",
        "files = os.listdir('drive/MyDrive/HW_DL_4/train/train/simple')\n",
        "\n",
        "for image_file in files:\n",
        "  image_path = os.path.join('drive/MyDrive/HW_DL_4/train/train/simple', image_file)\n",
        "  image = Image.open(image_path)\n",
        "  df = pd.concat([df, pd.DataFrame({'image': [image], 'name': [image_file.split('_')[-1].split('.')[0]]})], ignore_index=True)"
      ],
      "metadata": {
        "id": "WBygM1T4N6sW"
      },
      "execution_count": 3,
      "outputs": []
    },
    {
      "cell_type": "code",
      "source": [
        "files = os.listdir('drive/MyDrive/HW_DL_4/train/train/complex')\n",
        "\n",
        "for image_file in files:\n",
        "  image_path = os.path.join('drive/MyDrive/HW_DL_4/train/train/complex', image_file)\n",
        "  image = Image.open(image_path)\n",
        "  df = pd.concat([df, pd.DataFrame({'image': [image], 'name': [image_file.split('_')[-1].split('.')[0]]})], ignore_index=True)"
      ],
      "metadata": {
        "id": "NPJ-XP0nQfxY"
      },
      "execution_count": 4,
      "outputs": []
    },
    {
      "cell_type": "code",
      "source": [
        "df_train = df"
      ],
      "metadata": {
        "id": "O9nlwd-WRVks"
      },
      "execution_count": 5,
      "outputs": []
    },
    {
      "cell_type": "code",
      "source": [
        "df_train"
      ],
      "metadata": {
        "id": "Ib9_JT2Sr7H8",
        "outputId": "2c5e8a88-326c-4c2d-837f-0431913fade7",
        "colab": {
          "base_uri": "https://localhost:8080/",
          "height": 423
        }
      },
      "execution_count": 6,
      "outputs": [
        {
          "output_type": "execute_result",
          "data": {
            "text/plain": [
              "                                                   image       name\n",
              "0      <PIL.PngImagePlugin.PngImageFile image mode=RG...   B026CO90\n",
              "1      <PIL.PngImagePlugin.PngImageFile image mode=RG...   C421PA35\n",
              "2      <PIL.PngImagePlugin.PngImageFile image mode=RG...   B696TT35\n",
              "3      <PIL.PngImagePlugin.PngImageFile image mode=RG...   B667AE35\n",
              "4      <PIL.PngImagePlugin.PngImageFile image mode=RG...   Y487BY35\n",
              "...                                                  ...        ...\n",
              "24542  <PIL.PngImagePlugin.PngImageFile image mode=RG...  O883BC799\n",
              "24543  <PIL.PngImagePlugin.PngImageFile image mode=RG...   O930EP47\n",
              "24544  <PIL.PngImagePlugin.PngImageFile image mode=RG...   T914MC35\n",
              "24545  <PIL.PngImagePlugin.PngImageFile image mode=RG...   T409XE35\n",
              "24546  <PIL.PngImagePlugin.PngImageFile image mode=RG...  B871PT750\n",
              "\n",
              "[24547 rows x 2 columns]"
            ],
            "text/html": [
              "\n",
              "  <div id=\"df-56b59fd6-d9c6-475d-832a-441b2e96f572\" class=\"colab-df-container\">\n",
              "    <div>\n",
              "<style scoped>\n",
              "    .dataframe tbody tr th:only-of-type {\n",
              "        vertical-align: middle;\n",
              "    }\n",
              "\n",
              "    .dataframe tbody tr th {\n",
              "        vertical-align: top;\n",
              "    }\n",
              "\n",
              "    .dataframe thead th {\n",
              "        text-align: right;\n",
              "    }\n",
              "</style>\n",
              "<table border=\"1\" class=\"dataframe\">\n",
              "  <thead>\n",
              "    <tr style=\"text-align: right;\">\n",
              "      <th></th>\n",
              "      <th>image</th>\n",
              "      <th>name</th>\n",
              "    </tr>\n",
              "  </thead>\n",
              "  <tbody>\n",
              "    <tr>\n",
              "      <th>0</th>\n",
              "      <td>&lt;PIL.PngImagePlugin.PngImageFile image mode=RG...</td>\n",
              "      <td>B026CO90</td>\n",
              "    </tr>\n",
              "    <tr>\n",
              "      <th>1</th>\n",
              "      <td>&lt;PIL.PngImagePlugin.PngImageFile image mode=RG...</td>\n",
              "      <td>C421PA35</td>\n",
              "    </tr>\n",
              "    <tr>\n",
              "      <th>2</th>\n",
              "      <td>&lt;PIL.PngImagePlugin.PngImageFile image mode=RG...</td>\n",
              "      <td>B696TT35</td>\n",
              "    </tr>\n",
              "    <tr>\n",
              "      <th>3</th>\n",
              "      <td>&lt;PIL.PngImagePlugin.PngImageFile image mode=RG...</td>\n",
              "      <td>B667AE35</td>\n",
              "    </tr>\n",
              "    <tr>\n",
              "      <th>4</th>\n",
              "      <td>&lt;PIL.PngImagePlugin.PngImageFile image mode=RG...</td>\n",
              "      <td>Y487BY35</td>\n",
              "    </tr>\n",
              "    <tr>\n",
              "      <th>...</th>\n",
              "      <td>...</td>\n",
              "      <td>...</td>\n",
              "    </tr>\n",
              "    <tr>\n",
              "      <th>24542</th>\n",
              "      <td>&lt;PIL.PngImagePlugin.PngImageFile image mode=RG...</td>\n",
              "      <td>O883BC799</td>\n",
              "    </tr>\n",
              "    <tr>\n",
              "      <th>24543</th>\n",
              "      <td>&lt;PIL.PngImagePlugin.PngImageFile image mode=RG...</td>\n",
              "      <td>O930EP47</td>\n",
              "    </tr>\n",
              "    <tr>\n",
              "      <th>24544</th>\n",
              "      <td>&lt;PIL.PngImagePlugin.PngImageFile image mode=RG...</td>\n",
              "      <td>T914MC35</td>\n",
              "    </tr>\n",
              "    <tr>\n",
              "      <th>24545</th>\n",
              "      <td>&lt;PIL.PngImagePlugin.PngImageFile image mode=RG...</td>\n",
              "      <td>T409XE35</td>\n",
              "    </tr>\n",
              "    <tr>\n",
              "      <th>24546</th>\n",
              "      <td>&lt;PIL.PngImagePlugin.PngImageFile image mode=RG...</td>\n",
              "      <td>B871PT750</td>\n",
              "    </tr>\n",
              "  </tbody>\n",
              "</table>\n",
              "<p>24547 rows × 2 columns</p>\n",
              "</div>\n",
              "    <div class=\"colab-df-buttons\">\n",
              "\n",
              "  <div class=\"colab-df-container\">\n",
              "    <button class=\"colab-df-convert\" onclick=\"convertToInteractive('df-56b59fd6-d9c6-475d-832a-441b2e96f572')\"\n",
              "            title=\"Convert this dataframe to an interactive table.\"\n",
              "            style=\"display:none;\">\n",
              "\n",
              "  <svg xmlns=\"http://www.w3.org/2000/svg\" height=\"24px\" viewBox=\"0 -960 960 960\">\n",
              "    <path d=\"M120-120v-720h720v720H120Zm60-500h600v-160H180v160Zm220 220h160v-160H400v160Zm0 220h160v-160H400v160ZM180-400h160v-160H180v160Zm440 0h160v-160H620v160ZM180-180h160v-160H180v160Zm440 0h160v-160H620v160Z\"/>\n",
              "  </svg>\n",
              "    </button>\n",
              "\n",
              "  <style>\n",
              "    .colab-df-container {\n",
              "      display:flex;\n",
              "      gap: 12px;\n",
              "    }\n",
              "\n",
              "    .colab-df-convert {\n",
              "      background-color: #E8F0FE;\n",
              "      border: none;\n",
              "      border-radius: 50%;\n",
              "      cursor: pointer;\n",
              "      display: none;\n",
              "      fill: #1967D2;\n",
              "      height: 32px;\n",
              "      padding: 0 0 0 0;\n",
              "      width: 32px;\n",
              "    }\n",
              "\n",
              "    .colab-df-convert:hover {\n",
              "      background-color: #E2EBFA;\n",
              "      box-shadow: 0px 1px 2px rgba(60, 64, 67, 0.3), 0px 1px 3px 1px rgba(60, 64, 67, 0.15);\n",
              "      fill: #174EA6;\n",
              "    }\n",
              "\n",
              "    .colab-df-buttons div {\n",
              "      margin-bottom: 4px;\n",
              "    }\n",
              "\n",
              "    [theme=dark] .colab-df-convert {\n",
              "      background-color: #3B4455;\n",
              "      fill: #D2E3FC;\n",
              "    }\n",
              "\n",
              "    [theme=dark] .colab-df-convert:hover {\n",
              "      background-color: #434B5C;\n",
              "      box-shadow: 0px 1px 3px 1px rgba(0, 0, 0, 0.15);\n",
              "      filter: drop-shadow(0px 1px 2px rgba(0, 0, 0, 0.3));\n",
              "      fill: #FFFFFF;\n",
              "    }\n",
              "  </style>\n",
              "\n",
              "    <script>\n",
              "      const buttonEl =\n",
              "        document.querySelector('#df-56b59fd6-d9c6-475d-832a-441b2e96f572 button.colab-df-convert');\n",
              "      buttonEl.style.display =\n",
              "        google.colab.kernel.accessAllowed ? 'block' : 'none';\n",
              "\n",
              "      async function convertToInteractive(key) {\n",
              "        const element = document.querySelector('#df-56b59fd6-d9c6-475d-832a-441b2e96f572');\n",
              "        const dataTable =\n",
              "          await google.colab.kernel.invokeFunction('convertToInteractive',\n",
              "                                                    [key], {});\n",
              "        if (!dataTable) return;\n",
              "\n",
              "        const docLinkHtml = 'Like what you see? Visit the ' +\n",
              "          '<a target=\"_blank\" href=https://colab.research.google.com/notebooks/data_table.ipynb>data table notebook</a>'\n",
              "          + ' to learn more about interactive tables.';\n",
              "        element.innerHTML = '';\n",
              "        dataTable['output_type'] = 'display_data';\n",
              "        await google.colab.output.renderOutput(dataTable, element);\n",
              "        const docLink = document.createElement('div');\n",
              "        docLink.innerHTML = docLinkHtml;\n",
              "        element.appendChild(docLink);\n",
              "      }\n",
              "    </script>\n",
              "  </div>\n",
              "\n",
              "\n",
              "<div id=\"df-4b01c676-d0fe-4646-8806-8be3c6023bf2\">\n",
              "  <button class=\"colab-df-quickchart\" onclick=\"quickchart('df-4b01c676-d0fe-4646-8806-8be3c6023bf2')\"\n",
              "            title=\"Suggest charts\"\n",
              "            style=\"display:none;\">\n",
              "\n",
              "<svg xmlns=\"http://www.w3.org/2000/svg\" height=\"24px\"viewBox=\"0 0 24 24\"\n",
              "     width=\"24px\">\n",
              "    <g>\n",
              "        <path d=\"M19 3H5c-1.1 0-2 .9-2 2v14c0 1.1.9 2 2 2h14c1.1 0 2-.9 2-2V5c0-1.1-.9-2-2-2zM9 17H7v-7h2v7zm4 0h-2V7h2v10zm4 0h-2v-4h2v4z\"/>\n",
              "    </g>\n",
              "</svg>\n",
              "  </button>\n",
              "\n",
              "<style>\n",
              "  .colab-df-quickchart {\n",
              "      --bg-color: #E8F0FE;\n",
              "      --fill-color: #1967D2;\n",
              "      --hover-bg-color: #E2EBFA;\n",
              "      --hover-fill-color: #174EA6;\n",
              "      --disabled-fill-color: #AAA;\n",
              "      --disabled-bg-color: #DDD;\n",
              "  }\n",
              "\n",
              "  [theme=dark] .colab-df-quickchart {\n",
              "      --bg-color: #3B4455;\n",
              "      --fill-color: #D2E3FC;\n",
              "      --hover-bg-color: #434B5C;\n",
              "      --hover-fill-color: #FFFFFF;\n",
              "      --disabled-bg-color: #3B4455;\n",
              "      --disabled-fill-color: #666;\n",
              "  }\n",
              "\n",
              "  .colab-df-quickchart {\n",
              "    background-color: var(--bg-color);\n",
              "    border: none;\n",
              "    border-radius: 50%;\n",
              "    cursor: pointer;\n",
              "    display: none;\n",
              "    fill: var(--fill-color);\n",
              "    height: 32px;\n",
              "    padding: 0;\n",
              "    width: 32px;\n",
              "  }\n",
              "\n",
              "  .colab-df-quickchart:hover {\n",
              "    background-color: var(--hover-bg-color);\n",
              "    box-shadow: 0 1px 2px rgba(60, 64, 67, 0.3), 0 1px 3px 1px rgba(60, 64, 67, 0.15);\n",
              "    fill: var(--button-hover-fill-color);\n",
              "  }\n",
              "\n",
              "  .colab-df-quickchart-complete:disabled,\n",
              "  .colab-df-quickchart-complete:disabled:hover {\n",
              "    background-color: var(--disabled-bg-color);\n",
              "    fill: var(--disabled-fill-color);\n",
              "    box-shadow: none;\n",
              "  }\n",
              "\n",
              "  .colab-df-spinner {\n",
              "    border: 2px solid var(--fill-color);\n",
              "    border-color: transparent;\n",
              "    border-bottom-color: var(--fill-color);\n",
              "    animation:\n",
              "      spin 1s steps(1) infinite;\n",
              "  }\n",
              "\n",
              "  @keyframes spin {\n",
              "    0% {\n",
              "      border-color: transparent;\n",
              "      border-bottom-color: var(--fill-color);\n",
              "      border-left-color: var(--fill-color);\n",
              "    }\n",
              "    20% {\n",
              "      border-color: transparent;\n",
              "      border-left-color: var(--fill-color);\n",
              "      border-top-color: var(--fill-color);\n",
              "    }\n",
              "    30% {\n",
              "      border-color: transparent;\n",
              "      border-left-color: var(--fill-color);\n",
              "      border-top-color: var(--fill-color);\n",
              "      border-right-color: var(--fill-color);\n",
              "    }\n",
              "    40% {\n",
              "      border-color: transparent;\n",
              "      border-right-color: var(--fill-color);\n",
              "      border-top-color: var(--fill-color);\n",
              "    }\n",
              "    60% {\n",
              "      border-color: transparent;\n",
              "      border-right-color: var(--fill-color);\n",
              "    }\n",
              "    80% {\n",
              "      border-color: transparent;\n",
              "      border-right-color: var(--fill-color);\n",
              "      border-bottom-color: var(--fill-color);\n",
              "    }\n",
              "    90% {\n",
              "      border-color: transparent;\n",
              "      border-bottom-color: var(--fill-color);\n",
              "    }\n",
              "  }\n",
              "</style>\n",
              "\n",
              "  <script>\n",
              "    async function quickchart(key) {\n",
              "      const quickchartButtonEl =\n",
              "        document.querySelector('#' + key + ' button');\n",
              "      quickchartButtonEl.disabled = true;  // To prevent multiple clicks.\n",
              "      quickchartButtonEl.classList.add('colab-df-spinner');\n",
              "      try {\n",
              "        const charts = await google.colab.kernel.invokeFunction(\n",
              "            'suggestCharts', [key], {});\n",
              "      } catch (error) {\n",
              "        console.error('Error during call to suggestCharts:', error);\n",
              "      }\n",
              "      quickchartButtonEl.classList.remove('colab-df-spinner');\n",
              "      quickchartButtonEl.classList.add('colab-df-quickchart-complete');\n",
              "    }\n",
              "    (() => {\n",
              "      let quickchartButtonEl =\n",
              "        document.querySelector('#df-4b01c676-d0fe-4646-8806-8be3c6023bf2 button');\n",
              "      quickchartButtonEl.style.display =\n",
              "        google.colab.kernel.accessAllowed ? 'block' : 'none';\n",
              "    })();\n",
              "  </script>\n",
              "</div>\n",
              "    </div>\n",
              "  </div>\n"
            ]
          },
          "metadata": {},
          "execution_count": 6
        }
      ]
    },
    {
      "cell_type": "markdown",
      "source": [
        "Создадим test dataset"
      ],
      "metadata": {
        "id": "ezc5t_x3RPd3"
      }
    },
    {
      "cell_type": "code",
      "source": [
        "data = {'image': [], 'name': []}\n",
        "\n",
        "df = pd.DataFrame(data)\n",
        "\n",
        "files = os.listdir('drive/MyDrive/HW_DL_4/test/result')\n",
        "\n",
        "for image_file in files:\n",
        "  image_path = os.path.join('drive/MyDrive/HW_DL_4/test/result', image_file)\n",
        "  image = Image.open(image_path)\n",
        "  df = pd.concat([df, pd.DataFrame({'image': [image], 'name': [image_file.split('.')[0]]})], ignore_index=True)"
      ],
      "metadata": {
        "id": "ZdO02tKHRSp6"
      },
      "execution_count": 7,
      "outputs": []
    },
    {
      "cell_type": "code",
      "source": [
        "df_test = df\n",
        "df_test['name'] = df_test['name'].astype(int)\n",
        "df_test = df_test.sort_values(by='name', ascending=True)"
      ],
      "metadata": {
        "id": "Y7PDEQLYShJk"
      },
      "execution_count": 8,
      "outputs": []
    },
    {
      "cell_type": "markdown",
      "source": [],
      "metadata": {
        "id": "017trTZ2TQYj"
      }
    },
    {
      "cell_type": "code",
      "source": [
        "import matplotlib.pyplot as plt\n",
        "import numpy as np\n",
        "\n",
        "import torch\n",
        "import tqdm\n",
        "import json\n",
        "import cv2\n",
        "import os\n",
        "\n",
        "from torch.nn            import Module, Sequential, Conv2d, AvgPool2d, GRU, Linear, LSTM\n",
        "from torch.utils.data    import Dataset, DataLoader\n",
        "from torch.nn.functional import ctc_loss, log_softmax\n",
        "from torchvision         import models\n",
        "\n",
        "from string import digits, ascii_uppercase\n",
        "\n",
        "np.random.seed(42)"
      ],
      "metadata": {
        "id": "dxzaJpzRysw7"
      },
      "execution_count": 10,
      "outputs": []
    },
    {
      "cell_type": "code",
      "source": [
        "abc = \"0123456789ABEKMHOPCTYX\""
      ],
      "metadata": {
        "id": "7VBj5E0uzYA-"
      },
      "execution_count": 11,
      "outputs": []
    },
    {
      "cell_type": "code",
      "source": [
        "class RecognitionDataset(Dataset):\n",
        "    \"\"\"Class for training image-to-text mapping using CTC-Loss.\"\"\"\n",
        "\n",
        "    def __init__(self, config, alphabet=abc, transforms=None):\n",
        "        \"\"\"Constructor for class.\n",
        "\n",
        "        Args:\n",
        "            - config: List of items, each of which is a dict with keys \"file\" & \"text\".\n",
        "            - alphabet: String of chars required for predicting.\n",
        "            - transforms: Transformation for items, should accept and return dict with keys \"image\", \"seq\", \"seq_len\" & \"text\".\n",
        "        \"\"\"\n",
        "        super(RecognitionDataset, self).__init__()\n",
        "        self.config = config\n",
        "        self.alphabet = alphabet\n",
        "        self.image_names, self.texts = self._parse_root_()\n",
        "        self.transforms = transforms\n",
        "\n",
        "    def _parse_root_(self):\n",
        "        image_names, texts = [], []\n",
        "        for id, item in self.config:\n",
        "            image_name = item['image']\n",
        "            text = item['name']\n",
        "            texts.append(text)\n",
        "            image_names.append(image_name)\n",
        "        return image_names, texts\n",
        "\n",
        "    def __len__(self):\n",
        "        return len(self.texts)\n",
        "\n",
        "    def __getitem__(self, item):\n",
        "        \"\"\"Returns dict with keys \"image\", \"seq\", \"seq_len\" & \"text\".\n",
        "        Image is a numpy array, float32, [0, 1].\n",
        "        Seq is list of integers.\n",
        "        Seq_len is an integer.\n",
        "        Text is a string.\n",
        "        \"\"\"\n",
        "        image = np.array(self.image_names[item]).astype(np.float32) / 255.\n",
        "        #print(image.shape)\n",
        "        if len(image.shape) == 2:\n",
        "          image = cv2.cvtColor(image, cv2.COLOR_GRAY2RGB)\n",
        "        if image.shape[2] == 4:\n",
        "          image = image[:, : , :3]\n",
        "        text = self.texts[item]\n",
        "        seq = self.text_to_seq(text)\n",
        "        seq_len = len(seq)\n",
        "        output = dict(image=image, seq=seq, seq_len=seq_len, text=text)\n",
        "        if self.transforms is not None:\n",
        "            output = self.transforms(output)\n",
        "        return output\n",
        "\n",
        "    def text_to_seq(self, text):\n",
        "        \"\"\"Encode text to sequence of integers.\n",
        "\n",
        "        Args:\n",
        "            - String of text.\n",
        "\n",
        "        Returns:\n",
        "            List of integers where each number is index of corresponding characted in alphabet + 1.\n",
        "        \"\"\"\n",
        "\n",
        "        # YOUR CODE HERE\n",
        "        seq = [self.alphabet.find(c) + 1 for c in text]\n",
        "        # END OF YOUR CODE\n",
        "\n",
        "        return seq"
      ],
      "metadata": {
        "id": "1UAefbigymA4"
      },
      "execution_count": 12,
      "outputs": []
    },
    {
      "cell_type": "code",
      "source": [
        "class Resize(object):\n",
        "\n",
        "    def __init__(self, size=(320, 64)):\n",
        "        self.size = size\n",
        "\n",
        "    def __call__(self, item):\n",
        "        \"\"\"Apply resizing.\n",
        "\n",
        "        Args:\n",
        "            - item: Dict with keys \"image\", \"seq\", \"seq_len\", \"text\".\n",
        "\n",
        "        Returns:\n",
        "            Dict with image resized to self.size.\n",
        "        \"\"\"\n",
        "\n",
        "        # YOUR CODE HERE\n",
        "        interpolation = cv2.INTER_AREA if self.size[0] < item[\"image\"].shape[1] else cv2.INTER_LINEAR\n",
        "        item[\"image\"] = cv2.resize(item[\"image\"], self.size, interpolation=interpolation)\n",
        "        # END OF YOUR CODE\n",
        "\n",
        "        return item"
      ],
      "metadata": {
        "id": "uj2AxxmJ1pz9"
      },
      "execution_count": 13,
      "outputs": []
    },
    {
      "cell_type": "code",
      "source": [
        "transforms = Resize(size=(320, 64))\n",
        "dataset = RecognitionDataset(df_train.iterrows(), alphabet=abc, transforms=transforms)"
      ],
      "metadata": {
        "id": "nRFqkPpz106O"
      },
      "execution_count": 14,
      "outputs": []
    },
    {
      "cell_type": "code",
      "source": [
        "for j in dataset:\n",
        "  if j[\"image\"].shape[2] != 3:\n",
        "    print(j[\"image\"].shape)\n",
        "    print(j['text'])"
      ],
      "metadata": {
        "id": "xNibzpfPi-f-"
      },
      "execution_count": 19,
      "outputs": []
    },
    {
      "cell_type": "code",
      "source": [
        "x = dataset[0]\n",
        "print(x.keys())"
      ],
      "metadata": {
        "id": "alcJUfiteokt",
        "colab": {
          "base_uri": "https://localhost:8080/"
        },
        "outputId": "b2af11bf-3e87-4dae-f825-58522c0fe3a8"
      },
      "execution_count": 20,
      "outputs": [
        {
          "output_type": "stream",
          "name": "stdout",
          "text": [
            "dict_keys(['image', 'seq', 'seq_len', 'text'])\n"
          ]
        }
      ]
    },
    {
      "cell_type": "code",
      "source": [
        "def collate_fn(batch):\n",
        "    \"\"\"Function for torch.utils.data.Dataloader for batch collecting.\n",
        "\n",
        "    Args:\n",
        "        - batch: List of dataset __getitem__ return values (dicts).\n",
        "\n",
        "    Returns:\n",
        "        Dict with same keys but values are either torch.Tensors of batched images or sequences or so.\n",
        "    \"\"\"\n",
        "    images, seqs, seq_lens, texts = [], [], [], []\n",
        "    for item in batch:\n",
        "      #print(item[\"image\"].shape)\n",
        "      images.append(torch.from_numpy(item[\"image\"]).permute(2, 0, 1).float())\n",
        "      seqs.extend(item[\"seq\"])\n",
        "      seq_lens.append(item[\"seq_len\"])\n",
        "      texts.append(item[\"text\"])\n",
        "    images = torch.stack(images)\n",
        "    seqs = torch.Tensor(seqs).int()\n",
        "    seq_lens = torch.Tensor(seq_lens).int()\n",
        "    batch = {\"image\": images, \"seq\": seqs, \"seq_len\": seq_lens, \"text\": texts}\n",
        "    return batch"
      ],
      "metadata": {
        "id": "8aeFRiKj8M6j"
      },
      "execution_count": 21,
      "outputs": []
    },
    {
      "cell_type": "code",
      "source": [
        "xs = [dataset[i] for i in range(4)]\n",
        "batch = collate_fn(xs)\n",
        "print(batch.keys())"
      ],
      "metadata": {
        "id": "DTUhONCZ9zEo",
        "colab": {
          "base_uri": "https://localhost:8080/"
        },
        "outputId": "ea584f9e-b7c5-49eb-aaf5-7be8099b5ae5"
      },
      "execution_count": 22,
      "outputs": [
        {
          "output_type": "stream",
          "name": "stdout",
          "text": [
            "dict_keys(['image', 'seq', 'seq_len', 'text'])\n"
          ]
        }
      ]
    },
    {
      "cell_type": "code",
      "source": [
        "for i in xs:\n",
        "  print(i[\"image\"].shape)"
      ],
      "metadata": {
        "id": "K_-yFqa3Se34",
        "colab": {
          "base_uri": "https://localhost:8080/"
        },
        "outputId": "93259a1b-067c-4d4b-c093-addc9f808a29"
      },
      "execution_count": 23,
      "outputs": [
        {
          "output_type": "stream",
          "name": "stdout",
          "text": [
            "(64, 320, 3)\n",
            "(64, 320, 3)\n",
            "(64, 320, 3)\n",
            "(64, 320, 3)\n"
          ]
        }
      ]
    },
    {
      "cell_type": "code",
      "source": [
        "print(\"Image:\", batch[\"image\"].size())\n",
        "print(\"Seq:\", batch[\"seq\"].size())\n",
        "print(\"Seq:\", batch[\"seq\"])\n",
        "print(\"Seq_len:\", batch[\"seq_len\"])\n",
        "print(\"Text:\", batch[\"text\"])"
      ],
      "metadata": {
        "id": "h7c7IydC92Tu",
        "colab": {
          "base_uri": "https://localhost:8080/"
        },
        "outputId": "ab8a685f-49ca-48c5-8dfe-f89be0414aea"
      },
      "execution_count": 24,
      "outputs": [
        {
          "output_type": "stream",
          "name": "stdout",
          "text": [
            "Image: torch.Size([4, 3, 64, 320])\n",
            "Seq: torch.Size([32])\n",
            "Seq: tensor([12,  1,  3,  7, 19, 17, 10,  1, 19,  5,  3,  2, 18, 11,  4,  6, 12,  7,\n",
            "        10,  7, 20, 20,  4,  6, 12,  7,  7,  8, 11, 13,  4,  6],\n",
            "       dtype=torch.int32)\n",
            "Seq_len: tensor([8, 8, 8, 8], dtype=torch.int32)\n",
            "Text: ['B026CO90', 'C421PA35', 'B696TT35', 'B667AE35']\n"
          ]
        }
      ]
    },
    {
      "cell_type": "code",
      "source": [
        "resnet = getattr(models, 'resnet18')(pretrained=True)\n",
        "list(resnet.children())[:-3]"
      ],
      "metadata": {
        "colab": {
          "base_uri": "https://localhost:8080/"
        },
        "id": "9SVJ_IbsYSG7",
        "outputId": "1bf60dc3-e93c-4cee-a4cb-a3e71f30f841"
      },
      "execution_count": 57,
      "outputs": [
        {
          "output_type": "execute_result",
          "data": {
            "text/plain": [
              "[Conv2d(3, 64, kernel_size=(7, 7), stride=(2, 2), padding=(3, 3), bias=False),\n",
              " BatchNorm2d(64, eps=1e-05, momentum=0.1, affine=True, track_running_stats=True),\n",
              " ReLU(inplace=True),\n",
              " MaxPool2d(kernel_size=3, stride=2, padding=1, dilation=1, ceil_mode=False),\n",
              " Sequential(\n",
              "   (0): BasicBlock(\n",
              "     (conv1): Conv2d(64, 64, kernel_size=(3, 3), stride=(1, 1), padding=(1, 1), bias=False)\n",
              "     (bn1): BatchNorm2d(64, eps=1e-05, momentum=0.1, affine=True, track_running_stats=True)\n",
              "     (relu): ReLU(inplace=True)\n",
              "     (conv2): Conv2d(64, 64, kernel_size=(3, 3), stride=(1, 1), padding=(1, 1), bias=False)\n",
              "     (bn2): BatchNorm2d(64, eps=1e-05, momentum=0.1, affine=True, track_running_stats=True)\n",
              "   )\n",
              "   (1): BasicBlock(\n",
              "     (conv1): Conv2d(64, 64, kernel_size=(3, 3), stride=(1, 1), padding=(1, 1), bias=False)\n",
              "     (bn1): BatchNorm2d(64, eps=1e-05, momentum=0.1, affine=True, track_running_stats=True)\n",
              "     (relu): ReLU(inplace=True)\n",
              "     (conv2): Conv2d(64, 64, kernel_size=(3, 3), stride=(1, 1), padding=(1, 1), bias=False)\n",
              "     (bn2): BatchNorm2d(64, eps=1e-05, momentum=0.1, affine=True, track_running_stats=True)\n",
              "   )\n",
              " ),\n",
              " Sequential(\n",
              "   (0): BasicBlock(\n",
              "     (conv1): Conv2d(64, 128, kernel_size=(3, 3), stride=(2, 2), padding=(1, 1), bias=False)\n",
              "     (bn1): BatchNorm2d(128, eps=1e-05, momentum=0.1, affine=True, track_running_stats=True)\n",
              "     (relu): ReLU(inplace=True)\n",
              "     (conv2): Conv2d(128, 128, kernel_size=(3, 3), stride=(1, 1), padding=(1, 1), bias=False)\n",
              "     (bn2): BatchNorm2d(128, eps=1e-05, momentum=0.1, affine=True, track_running_stats=True)\n",
              "     (downsample): Sequential(\n",
              "       (0): Conv2d(64, 128, kernel_size=(1, 1), stride=(2, 2), bias=False)\n",
              "       (1): BatchNorm2d(128, eps=1e-05, momentum=0.1, affine=True, track_running_stats=True)\n",
              "     )\n",
              "   )\n",
              "   (1): BasicBlock(\n",
              "     (conv1): Conv2d(128, 128, kernel_size=(3, 3), stride=(1, 1), padding=(1, 1), bias=False)\n",
              "     (bn1): BatchNorm2d(128, eps=1e-05, momentum=0.1, affine=True, track_running_stats=True)\n",
              "     (relu): ReLU(inplace=True)\n",
              "     (conv2): Conv2d(128, 128, kernel_size=(3, 3), stride=(1, 1), padding=(1, 1), bias=False)\n",
              "     (bn2): BatchNorm2d(128, eps=1e-05, momentum=0.1, affine=True, track_running_stats=True)\n",
              "   )\n",
              " ),\n",
              " Sequential(\n",
              "   (0): BasicBlock(\n",
              "     (conv1): Conv2d(128, 256, kernel_size=(3, 3), stride=(2, 2), padding=(1, 1), bias=False)\n",
              "     (bn1): BatchNorm2d(256, eps=1e-05, momentum=0.1, affine=True, track_running_stats=True)\n",
              "     (relu): ReLU(inplace=True)\n",
              "     (conv2): Conv2d(256, 256, kernel_size=(3, 3), stride=(1, 1), padding=(1, 1), bias=False)\n",
              "     (bn2): BatchNorm2d(256, eps=1e-05, momentum=0.1, affine=True, track_running_stats=True)\n",
              "     (downsample): Sequential(\n",
              "       (0): Conv2d(128, 256, kernel_size=(1, 1), stride=(2, 2), bias=False)\n",
              "       (1): BatchNorm2d(256, eps=1e-05, momentum=0.1, affine=True, track_running_stats=True)\n",
              "     )\n",
              "   )\n",
              "   (1): BasicBlock(\n",
              "     (conv1): Conv2d(256, 256, kernel_size=(3, 3), stride=(1, 1), padding=(1, 1), bias=False)\n",
              "     (bn1): BatchNorm2d(256, eps=1e-05, momentum=0.1, affine=True, track_running_stats=True)\n",
              "     (relu): ReLU(inplace=True)\n",
              "     (conv2): Conv2d(256, 256, kernel_size=(3, 3), stride=(1, 1), padding=(1, 1), bias=False)\n",
              "     (bn2): BatchNorm2d(256, eps=1e-05, momentum=0.1, affine=True, track_running_stats=True)\n",
              "   )\n",
              " )]"
            ]
          },
          "metadata": {},
          "execution_count": 57
        }
      ]
    },
    {
      "cell_type": "code",
      "source": [
        "from torch.optim.lr_scheduler import CosineAnnealingLR"
      ],
      "metadata": {
        "id": "DtT-NuNjOJSZ"
      },
      "execution_count": 59,
      "outputs": []
    },
    {
      "cell_type": "code",
      "source": [
        "import torch.nn as nn\n",
        "\n",
        "class FeatureExtractor(Module):\n",
        "\n",
        "    def __init__(self, input_size=(64, 320), output_len=20):\n",
        "        super(FeatureExtractor, self).__init__()\n",
        "\n",
        "        h, w = input_size\n",
        "        resnet = getattr(models, 'resnet34')(pretrained=True)\n",
        "        self.cnn = Sequential(*list(resnet.children())[:-2])\n",
        "\n",
        "        #self.custom_conv = nn.Conv2d(3, 64, kernel_size=(7, 7), stride=(1, 2), padding=(3, 3), bias=False)\n",
        "        self.pool = AvgPool2d(kernel_size=(h // 32, 1))\n",
        "        self.proj = Conv2d(w // 32, output_len, kernel_size=1)\n",
        "\n",
        "        self.num_output_features = self.cnn[-1][-1].bn2.num_features\n",
        "\n",
        "    def apply_projection(self, x):\n",
        "        \"\"\"Use convolution to increase width of a features.\n",
        "\n",
        "        Args:\n",
        "            - x: Tensor of features (shaped B x C x H x W).\n",
        "\n",
        "        Returns:\n",
        "            New tensor of features (shaped B x C x H x W').\n",
        "        \"\"\"\n",
        "        x = x.permute(0, 3, 2, 1).contiguous()\n",
        "        x = self.proj(x)\n",
        "        x = x.permute(0, 2, 3, 1).contiguous()\n",
        "\n",
        "        return x\n",
        "\n",
        "    def forward(self, x):\n",
        "        # Apply conv layers\n",
        "        #features = self.custom_conv(x)\n",
        "        features = self.cnn(x)\n",
        "\n",
        "        # Pool to make height == 1\n",
        "        features = self.pool(features)\n",
        "\n",
        "        # Apply projection to increase width\n",
        "        features = self.apply_projection(features)\n",
        "\n",
        "        return features\n",
        "\n",
        "\n",
        "feature_extractor = FeatureExtractor()\n",
        "\n",
        "x = torch.randn(1, 3, 64, 320)\n",
        "y = feature_extractor(x)\n",
        "print(y.size())\n",
        "assert y.size() == (1, 1, 512, 20)"
      ],
      "metadata": {
        "id": "rjffI8D9_1hN",
        "colab": {
          "base_uri": "https://localhost:8080/"
        },
        "outputId": "07d27015-20d8-4958-add8-522505aa1033"
      },
      "execution_count": 228,
      "outputs": [
        {
          "output_type": "stream",
          "name": "stderr",
          "text": [
            "/usr/local/lib/python3.10/dist-packages/torchvision/models/_utils.py:208: UserWarning: The parameter 'pretrained' is deprecated since 0.13 and may be removed in the future, please use 'weights' instead.\n",
            "  warnings.warn(\n",
            "/usr/local/lib/python3.10/dist-packages/torchvision/models/_utils.py:223: UserWarning: Arguments other than a weight enum or `None` for 'weights' are deprecated since 0.13 and may be removed in the future. The current behavior is equivalent to passing `weights=ResNet34_Weights.IMAGENET1K_V1`. You can also use `weights=ResNet34_Weights.DEFAULT` to get the most up-to-date weights.\n",
            "  warnings.warn(msg)\n"
          ]
        },
        {
          "output_type": "stream",
          "name": "stdout",
          "text": [
            "torch.Size([1, 1, 512, 20])\n"
          ]
        }
      ]
    },
    {
      "cell_type": "code",
      "source": [
        "feature_extractor = FeatureExtractor()\n",
        "\n",
        "x = torch.randn(1, 3, 64, 320)\n",
        "y = feature_extractor(x)\n",
        "assert y.size() == (1, 1, 512, 20)"
      ],
      "metadata": {
        "id": "uSmyPXqR_6WS"
      },
      "execution_count": 229,
      "outputs": []
    },
    {
      "cell_type": "code",
      "source": [
        "class SequencePredictor(Module):\n",
        "\n",
        "    def __init__(self, input_size, hidden_size, num_layers, num_classes, dropout=0.3, bidirectional=False):\n",
        "        super(SequencePredictor, self).__init__()\n",
        "\n",
        "        self.num_classes = num_classes\n",
        "        self.rnn = GRU(input_size=input_size,\n",
        "                       hidden_size=hidden_size,\n",
        "                       num_layers=num_layers,\n",
        "                       dropout=dropout,\n",
        "                       bidirectional=bidirectional)\n",
        "\n",
        "        fc_in = hidden_size if not bidirectional else 2 * hidden_size\n",
        "        self.fc = Linear(in_features=fc_in,\n",
        "                         out_features=num_classes)\n",
        "\n",
        "    def _init_hidden(self, batch_size):\n",
        "        \"\"\"Initialize new tensor of zeroes for RNN hidden state.\n",
        "\n",
        "        Args:\n",
        "            - batch_size: Int size of batch\n",
        "\n",
        "        Returns:\n",
        "            Tensor of zeros shaped (num_layers * num_directions, batch, hidden_size).\n",
        "        \"\"\"\n",
        "        num_directions = 2 if self.rnn.bidirectional else 1\n",
        "\n",
        "        # YOUR CODE HERE\n",
        "        h = torch.zeros(self.rnn.num_layers * num_directions, batch_size, self.rnn.hidden_size)\n",
        "        # END OF YOUR CODE\n",
        "\n",
        "        return h\n",
        "\n",
        "    def _reshape_features(self, x):\n",
        "        \"\"\"Change dimensions of x to fit RNN expected input.\n",
        "\n",
        "        Args:\n",
        "            - x: Tensor x shaped (B x (C=1) x H x W).\n",
        "\n",
        "        Returns:\n",
        "            New tensor shaped (W x B x H).\n",
        "        \"\"\"\n",
        "\n",
        "        # YOUR CODE HERE\n",
        "        x = x.squeeze(1)\n",
        "        x = x.permute(2, 0, 1)\n",
        "        # END OF YOUR CODE\n",
        "\n",
        "        return x\n",
        "\n",
        "    def forward(self, x):\n",
        "        x = self._reshape_features(x)\n",
        "\n",
        "        batch_size = x.size(1)\n",
        "        h_0 = self._init_hidden(batch_size)\n",
        "        h_0 = h_0.to(x.device)\n",
        "        x, h = self.rnn(x, h_0)\n",
        "\n",
        "        x = self.fc(x)\n",
        "        return x"
      ],
      "metadata": {
        "id": "DUrTrlv0CAHj"
      },
      "execution_count": 230,
      "outputs": []
    },
    {
      "cell_type": "code",
      "source": [
        "sequence_predictor = SequencePredictor(input_size=512,\n",
        "                                       hidden_size=128,\n",
        "                                       num_layers=2,\n",
        "                                       num_classes=len(abc) + 1)"
      ],
      "metadata": {
        "id": "_Y_joJgeCFgH"
      },
      "execution_count": 231,
      "outputs": []
    },
    {
      "cell_type": "code",
      "source": [
        "x = torch.randn(1, 1, 512, 20)\n",
        "assert sequence_predictor._reshape_features(x).size() == (20, 1, 512)"
      ],
      "metadata": {
        "id": "t8-KJat2CKSE"
      },
      "execution_count": 232,
      "outputs": []
    },
    {
      "cell_type": "code",
      "source": [
        "y = sequence_predictor(x)\n",
        "assert y.size() == (20, 1, 23)"
      ],
      "metadata": {
        "id": "iW-zuodwCL_O"
      },
      "execution_count": 233,
      "outputs": []
    },
    {
      "cell_type": "code",
      "source": [
        "class CRNN(Module):\n",
        "\n",
        "    def __init__(self, alphabet=abc,\n",
        "                 cnn_input_size=(64, 320), cnn_output_len=20,\n",
        "                 rnn_hidden_size=128, rnn_num_layers=2, rnn_dropout=0.3, rnn_bidirectional=False):\n",
        "        super(CRNN, self).__init__()\n",
        "        self.alphabet = alphabet\n",
        "        self.features_extractor = FeatureExtractor(\n",
        "            input_size=cnn_input_size, output_len=cnn_output_len\n",
        "        )\n",
        "        self.sequence_predictor = SequencePredictor(\n",
        "            input_size=self.features_extractor.num_output_features,\n",
        "            hidden_size=rnn_hidden_size, num_layers=rnn_num_layers,\n",
        "            num_classes=len(alphabet)+1, dropout=rnn_dropout,\n",
        "            bidirectional=rnn_bidirectional\n",
        "        )\n",
        "\n",
        "    def forward(self, x):\n",
        "        features = self.features_extractor(x)\n",
        "        sequence = self.sequence_predictor(features)\n",
        "        return sequence"
      ],
      "metadata": {
        "id": "OnXkLmwNCOR3"
      },
      "execution_count": 234,
      "outputs": []
    },
    {
      "cell_type": "code",
      "source": [
        "def pred_to_string(pred, abc):\n",
        "    seq = []\n",
        "    for i in range(len(pred)):\n",
        "        label = np.argmax(pred[i])\n",
        "        seq.append(label - 1)\n",
        "    out = []\n",
        "    for i in range(len(seq)):\n",
        "        if len(out) == 0:\n",
        "            if seq[i] != -1:\n",
        "                out.append(seq[i])\n",
        "        else:\n",
        "            if seq[i] != -1 and seq[i] != seq[i - 1]:\n",
        "                out.append(seq[i])\n",
        "    out = ''.join([abc[c] for c in out])\n",
        "    return out\n",
        "\n",
        "def decode(pred, abc):\n",
        "    pred = pred.permute(1, 0, 2).cpu().data.numpy()\n",
        "    outputs = []\n",
        "    for i in range(len(pred)):\n",
        "        outputs.append(pred_to_string(pred[i], abc))\n",
        "    return outputs"
      ],
      "metadata": {
        "id": "ro9PD1QjCSCK"
      },
      "execution_count": 235,
      "outputs": []
    },
    {
      "cell_type": "code",
      "source": [
        "crnn = CRNN()"
      ],
      "metadata": {
        "id": "Fd9aRuJ0CU-f"
      },
      "execution_count": 236,
      "outputs": []
    },
    {
      "cell_type": "code",
      "source": [
        "num_epochs = 30\n",
        "batch_size = 32\n",
        "num_workers = 4"
      ],
      "metadata": {
        "id": "Ucs2_IrOCyzu"
      },
      "execution_count": 237,
      "outputs": []
    },
    {
      "cell_type": "code",
      "source": [
        "device = torch.device(\"cuda:0\") if torch.cuda.is_available() else torch.device(\"cpu\")\n",
        "crnn.to(device);"
      ],
      "metadata": {
        "id": "0SKDGHFSCzc4"
      },
      "execution_count": 238,
      "outputs": []
    },
    {
      "cell_type": "code",
      "source": [
        "optimizer = torch.optim.Adam(crnn.parameters(), lr=3e-4, amsgrad=True, weight_decay=1e-4)"
      ],
      "metadata": {
        "id": "RcfJhMEJC1qX"
      },
      "execution_count": 239,
      "outputs": []
    },
    {
      "cell_type": "code",
      "source": [
        "train_size = int(len(df_train) * 0.8)\n",
        "config_train = df_train[:train_size]\n",
        "config_val   = df_train[train_size:]\n",
        "\n",
        "#train_dataset = RecognitionDataset(config_train.iterrows(), transforms=Resize())\n",
        "train_dataset = RecognitionDataset(df_train.iterrows(), transforms=Resize())\n",
        "val_dataset   = RecognitionDataset(config_val.iterrows(), transforms=Resize())"
      ],
      "metadata": {
        "id": "j5WWLWUVC444"
      },
      "execution_count": 240,
      "outputs": []
    },
    {
      "cell_type": "code",
      "source": [
        "scheduler = CosineAnnealingLR(optimizer, T_max=int(len(train_dataset)))"
      ],
      "metadata": {
        "id": "QsIcTzc5OZV-"
      },
      "execution_count": 241,
      "outputs": []
    },
    {
      "cell_type": "code",
      "source": [
        "train_dataloader = DataLoader(train_dataset,\n",
        "                              batch_size=batch_size, shuffle=True, num_workers=num_workers, pin_memory=True,\n",
        "                              drop_last=True, collate_fn=collate_fn)\n",
        "val_dataloader = DataLoader(val_dataset,\n",
        "                            batch_size=batch_size, shuffle=False, num_workers=num_workers, pin_memory=True,\n",
        "                            drop_last=False, collate_fn=collate_fn)"
      ],
      "metadata": {
        "id": "vtYAX8HAIlRc",
        "colab": {
          "base_uri": "https://localhost:8080/"
        },
        "outputId": "bb43549a-aef1-4da2-beef-2c42b5b33a43"
      },
      "execution_count": 242,
      "outputs": [
        {
          "output_type": "stream",
          "name": "stderr",
          "text": [
            "/usr/local/lib/python3.10/dist-packages/torch/utils/data/dataloader.py:557: UserWarning: This DataLoader will create 4 worker processes in total. Our suggested max number of worker in current system is 2, which is smaller than what this DataLoader is going to create. Please be aware that excessive worker creation might get DataLoader running slow or even freeze, lower the worker number to avoid potential slowness/freeze if necessary.\n",
            "  warnings.warn(_create_warning_msg(\n"
          ]
        }
      ]
    },
    {
      "cell_type": "code",
      "source": [
        "ACTUALLY_TRAIN = True"
      ],
      "metadata": {
        "id": "02XjcG_AIwLq"
      },
      "execution_count": 243,
      "outputs": []
    },
    {
      "cell_type": "code",
      "source": [
        "crnn.train()\n",
        "if ACTUALLY_TRAIN:\n",
        "    for i, epoch in enumerate(range(num_epochs)):\n",
        "      epoch_losses = []\n",
        "      for j, b in enumerate(tqdm.tqdm(train_dataloader, total=len(train_dataloader))):\n",
        "          images = b[\"image\"].to(device)\n",
        "          seqs_gt = b[\"seq\"]\n",
        "          seq_lens_gt = b[\"seq_len\"]\n",
        "\n",
        "          seqs_pred = crnn(images).cpu()\n",
        "          log_probs = log_softmax(seqs_pred, dim=2)\n",
        "          seq_lens_pred = torch.Tensor([seqs_pred.size(0)] * seqs_pred.size(1)).int()\n",
        "\n",
        "          loss = ctc_loss(log_probs=log_probs,  # (T, N, C)\n",
        "                          targets=seqs_gt,  # N, S or sum(target_lengths)\n",
        "                          input_lengths=seq_lens_pred,  # N\n",
        "                          target_lengths=seq_lens_gt)  # N\n",
        "\n",
        "          optimizer.zero_grad()\n",
        "          loss.backward()\n",
        "          optimizer.step()\n",
        "          scheduler.step()\n",
        "\n",
        "          epoch_losses.append(loss.item())\n",
        "\n",
        "      print(i, np.mean(epoch_losses))\n",
        "else:\n",
        "    image_train_log = cv2.imread(\"./resources/train_log.png\")\n",
        "    plt.figure(figsize=(15, 20))\n",
        "    plt.imshow(image_train_log[:, :, ::-1], interpolation=\"bilinear\")\n",
        "    plt.axis(\"off\")\n",
        "    plt.show()\n",
        "\n",
        "    with open(\"./data/crnn.pth.tar\", \"rb\") as fp:\n",
        "        state_dict = torch.load(fp, map_location=\"cpu\")\n",
        "    crnn.load_state_dict(state_dict)"
      ],
      "metadata": {
        "colab": {
          "base_uri": "https://localhost:8080/"
        },
        "id": "uJ-G1JTfIoG1",
        "outputId": "78506fbe-2a76-40e3-ef60-3b036d7d16bc"
      },
      "execution_count": 226,
      "outputs": [
        {
          "output_type": "stream",
          "name": "stderr",
          "text": [
            "100%|██████████| 767/767 [01:05<00:00, 11.71it/s]\n"
          ]
        },
        {
          "output_type": "stream",
          "name": "stdout",
          "text": [
            "0 1.737191776486388\n"
          ]
        },
        {
          "output_type": "stream",
          "name": "stderr",
          "text": [
            "100%|██████████| 767/767 [01:04<00:00, 11.84it/s]\n"
          ]
        },
        {
          "output_type": "stream",
          "name": "stdout",
          "text": [
            "1 0.5808532681350136\n"
          ]
        },
        {
          "output_type": "stream",
          "name": "stderr",
          "text": [
            "100%|██████████| 767/767 [01:05<00:00, 11.80it/s]\n"
          ]
        },
        {
          "output_type": "stream",
          "name": "stdout",
          "text": [
            "2 0.1684380690949681\n"
          ]
        },
        {
          "output_type": "stream",
          "name": "stderr",
          "text": [
            "100%|██████████| 767/767 [01:04<00:00, 11.84it/s]\n"
          ]
        },
        {
          "output_type": "stream",
          "name": "stdout",
          "text": [
            "3 0.08041618732830226\n"
          ]
        },
        {
          "output_type": "stream",
          "name": "stderr",
          "text": [
            "100%|██████████| 767/767 [01:04<00:00, 11.85it/s]\n"
          ]
        },
        {
          "output_type": "stream",
          "name": "stdout",
          "text": [
            "4 0.05250574120307023\n"
          ]
        },
        {
          "output_type": "stream",
          "name": "stderr",
          "text": [
            "100%|██████████| 767/767 [01:04<00:00, 11.87it/s]\n"
          ]
        },
        {
          "output_type": "stream",
          "name": "stdout",
          "text": [
            "5 0.04844403168856806\n"
          ]
        },
        {
          "output_type": "stream",
          "name": "stderr",
          "text": [
            "100%|██████████| 767/767 [01:04<00:00, 11.83it/s]\n"
          ]
        },
        {
          "output_type": "stream",
          "name": "stdout",
          "text": [
            "6 0.04083060023448924\n"
          ]
        },
        {
          "output_type": "stream",
          "name": "stderr",
          "text": [
            "100%|██████████| 767/767 [01:05<00:00, 11.78it/s]\n"
          ]
        },
        {
          "output_type": "stream",
          "name": "stdout",
          "text": [
            "7 0.03260487750551458\n"
          ]
        },
        {
          "output_type": "stream",
          "name": "stderr",
          "text": [
            "100%|██████████| 767/767 [01:04<00:00, 11.86it/s]\n"
          ]
        },
        {
          "output_type": "stream",
          "name": "stdout",
          "text": [
            "8 0.026006382781371105\n"
          ]
        },
        {
          "output_type": "stream",
          "name": "stderr",
          "text": [
            "100%|██████████| 767/767 [01:04<00:00, 11.84it/s]\n"
          ]
        },
        {
          "output_type": "stream",
          "name": "stdout",
          "text": [
            "9 0.025816098684894293\n"
          ]
        },
        {
          "output_type": "stream",
          "name": "stderr",
          "text": [
            "100%|██████████| 767/767 [01:04<00:00, 11.91it/s]\n"
          ]
        },
        {
          "output_type": "stream",
          "name": "stdout",
          "text": [
            "10 0.024577540421987138\n"
          ]
        },
        {
          "output_type": "stream",
          "name": "stderr",
          "text": [
            "100%|██████████| 767/767 [01:04<00:00, 11.85it/s]\n"
          ]
        },
        {
          "output_type": "stream",
          "name": "stdout",
          "text": [
            "11 0.021876095176396364\n"
          ]
        },
        {
          "output_type": "stream",
          "name": "stderr",
          "text": [
            "100%|██████████| 767/767 [01:04<00:00, 11.85it/s]\n"
          ]
        },
        {
          "output_type": "stream",
          "name": "stdout",
          "text": [
            "12 0.017668229343510457\n"
          ]
        },
        {
          "output_type": "stream",
          "name": "stderr",
          "text": [
            "100%|██████████| 767/767 [01:04<00:00, 11.85it/s]\n"
          ]
        },
        {
          "output_type": "stream",
          "name": "stdout",
          "text": [
            "13 0.018081657384793035\n"
          ]
        },
        {
          "output_type": "stream",
          "name": "stderr",
          "text": [
            "100%|██████████| 767/767 [01:04<00:00, 11.85it/s]\n"
          ]
        },
        {
          "output_type": "stream",
          "name": "stdout",
          "text": [
            "14 0.01615556526620723\n"
          ]
        },
        {
          "output_type": "stream",
          "name": "stderr",
          "text": [
            "100%|██████████| 767/767 [01:04<00:00, 11.90it/s]\n"
          ]
        },
        {
          "output_type": "stream",
          "name": "stdout",
          "text": [
            "15 0.011829148627686492\n"
          ]
        },
        {
          "output_type": "stream",
          "name": "stderr",
          "text": [
            "100%|██████████| 767/767 [01:04<00:00, 11.87it/s]\n"
          ]
        },
        {
          "output_type": "stream",
          "name": "stdout",
          "text": [
            "16 0.010247158787894456\n"
          ]
        },
        {
          "output_type": "stream",
          "name": "stderr",
          "text": [
            "100%|██████████| 767/767 [01:04<00:00, 11.91it/s]\n"
          ]
        },
        {
          "output_type": "stream",
          "name": "stdout",
          "text": [
            "17 0.008848001367523003\n"
          ]
        },
        {
          "output_type": "stream",
          "name": "stderr",
          "text": [
            "100%|██████████| 767/767 [01:04<00:00, 11.83it/s]\n"
          ]
        },
        {
          "output_type": "stream",
          "name": "stdout",
          "text": [
            "18 0.008467797038474422\n"
          ]
        },
        {
          "output_type": "stream",
          "name": "stderr",
          "text": [
            "100%|██████████| 767/767 [01:04<00:00, 11.85it/s]\n"
          ]
        },
        {
          "output_type": "stream",
          "name": "stdout",
          "text": [
            "19 0.006481820792433316\n"
          ]
        },
        {
          "output_type": "stream",
          "name": "stderr",
          "text": [
            "100%|██████████| 767/767 [01:04<00:00, 11.88it/s]\n"
          ]
        },
        {
          "output_type": "stream",
          "name": "stdout",
          "text": [
            "20 0.004984967814906557\n"
          ]
        },
        {
          "output_type": "stream",
          "name": "stderr",
          "text": [
            "100%|██████████| 767/767 [01:04<00:00, 11.81it/s]\n"
          ]
        },
        {
          "output_type": "stream",
          "name": "stdout",
          "text": [
            "21 0.0040273427690963376\n"
          ]
        },
        {
          "output_type": "stream",
          "name": "stderr",
          "text": [
            "100%|██████████| 767/767 [01:04<00:00, 11.85it/s]\n"
          ]
        },
        {
          "output_type": "stream",
          "name": "stdout",
          "text": [
            "22 0.0032686425019007037\n"
          ]
        },
        {
          "output_type": "stream",
          "name": "stderr",
          "text": [
            "100%|██████████| 767/767 [01:04<00:00, 11.83it/s]\n"
          ]
        },
        {
          "output_type": "stream",
          "name": "stdout",
          "text": [
            "23 0.0030441421516375637\n"
          ]
        },
        {
          "output_type": "stream",
          "name": "stderr",
          "text": [
            "100%|██████████| 767/767 [01:04<00:00, 11.85it/s]\n"
          ]
        },
        {
          "output_type": "stream",
          "name": "stdout",
          "text": [
            "24 0.0027210316734602178\n"
          ]
        },
        {
          "output_type": "stream",
          "name": "stderr",
          "text": [
            "100%|██████████| 767/767 [01:04<00:00, 11.85it/s]\n"
          ]
        },
        {
          "output_type": "stream",
          "name": "stdout",
          "text": [
            "25 0.00253681108541301\n"
          ]
        },
        {
          "output_type": "stream",
          "name": "stderr",
          "text": [
            "100%|██████████| 767/767 [01:04<00:00, 11.87it/s]\n"
          ]
        },
        {
          "output_type": "stream",
          "name": "stdout",
          "text": [
            "26 0.002531499115141859\n"
          ]
        },
        {
          "output_type": "stream",
          "name": "stderr",
          "text": [
            "100%|██████████| 767/767 [01:04<00:00, 11.86it/s]\n"
          ]
        },
        {
          "output_type": "stream",
          "name": "stdout",
          "text": [
            "27 0.002278609645572361\n"
          ]
        },
        {
          "output_type": "stream",
          "name": "stderr",
          "text": [
            "100%|██████████| 767/767 [01:04<00:00, 11.86it/s]\n"
          ]
        },
        {
          "output_type": "stream",
          "name": "stdout",
          "text": [
            "28 0.002374612840257993\n"
          ]
        },
        {
          "output_type": "stream",
          "name": "stderr",
          "text": [
            "100%|██████████| 767/767 [01:04<00:00, 11.83it/s]"
          ]
        },
        {
          "output_type": "stream",
          "name": "stdout",
          "text": [
            "29 0.002242184244096279\n"
          ]
        },
        {
          "output_type": "stream",
          "name": "stderr",
          "text": [
            "\n"
          ]
        }
      ]
    },
    {
      "cell_type": "markdown",
      "source": [
        "\n",
        "100%|██████████| 767/767 [01:05<00:00, 11.74it/s]\n",
        "0 0.00319003735637387\n",
        "\n",
        "100%|██████████| 767/767 [01:05<00:00, 11.66it/s]\n",
        "1 0.003010707575283857\n",
        "\n",
        "100%|██████████| 767/767 [01:04<00:00, 11.92it/s]\n",
        "2 0.0027783586740168357\n",
        "\n",
        "100%|██████████| 767/767 [01:04<00:00, 11.85it/s]\n",
        "3 0.0026729905792977054\n",
        "\n",
        "100%|██████████| 767/767 [01:04<00:00, 11.90it/s]\n",
        "4 0.0025629221327843283\n",
        "\n",
        "100%|██████████| 767/767 [01:04<00:00, 11.87it/s]\n",
        "5 0.0025050713490352345\n",
        "\n",
        "100%|██████████| 767/767 [01:04<00:00, 11.87it/s]\n",
        "6 0.002460858085213382\n",
        "\n",
        "100%|██████████| 767/767 [01:04<00:00, 11.89it/s]\n",
        "7 0.0023997828723787483\n",
        "\n",
        "100%|██████████| 767/767 [01:04<00:00, 11.89it/s]\n",
        "8 0.0023387975931881575\n",
        "\n",
        "100%|██████████| 767/767 [01:04<00:00, 11.84it/s]9 0.002393255625260117"
      ],
      "metadata": {
        "id": "O3m1-uDqAsTM"
      }
    },
    {
      "cell_type": "code",
      "source": [
        "crnn.eval()\n",
        "if ACTUALLY_TRAIN:\n",
        "    val_losses = []\n",
        "    for i, b in enumerate(tqdm.tqdm(val_dataloader, total=len(val_dataloader))):\n",
        "        images = b[\"image\"].to(device)\n",
        "        seqs_gt = b[\"seq\"]\n",
        "        seq_lens_gt = b[\"seq_len\"]\n",
        "\n",
        "        with torch.no_grad():\n",
        "            seqs_pred = crnn(images).cpu()\n",
        "        log_probs = log_softmax(seqs_pred, dim=2)\n",
        "        seq_lens_pred = torch.Tensor([seqs_pred.size(0)] * seqs_pred.size(1)).int()\n",
        "\n",
        "        loss = ctc_loss(log_probs=log_probs,  # (T, N, C)\n",
        "                        targets=seqs_gt,  # N, S or sum(target_lengths)\n",
        "                        input_lengths=seq_lens_pred,  # N\n",
        "                        target_lengths=seq_lens_gt)  # N\n",
        "\n",
        "        val_losses.append(loss.item())\n",
        "\n",
        "    print(np.mean(val_losses))\n",
        "else:\n",
        "    image_val_log = cv2.imread(\"./resources/val_log.png\")\n",
        "    plt.figure(figsize=(15, 20))\n",
        "    plt.imshow(image_val_log[:, :, ::-1], interpolation=\"bilinear\")\n",
        "    plt.axis(\"off\")\n",
        "    plt.show()"
      ],
      "metadata": {
        "colab": {
          "base_uri": "https://localhost:8080/"
        },
        "id": "cvxioxB_7sst",
        "outputId": "b10eb680-c7ab-42d9-8915-0a8488b566cf"
      },
      "execution_count": 198,
      "outputs": [
        {
          "output_type": "stream",
          "name": "stderr",
          "text": [
            "100%|██████████| 154/154 [00:05<00:00, 26.52it/s]"
          ]
        },
        {
          "output_type": "stream",
          "name": "stdout",
          "text": [
            "0.0007382182399863256\n"
          ]
        },
        {
          "output_type": "stream",
          "name": "stderr",
          "text": [
            "\n"
          ]
        }
      ]
    },
    {
      "cell_type": "markdown",
      "source": [
        "100%|██████████| 154/154 [00:08<00:00, 18.14it/s]0.04778159772765569\n",
        "\n",
        "100%|██████████| 154/154 [00:06<00:00, 24.91it/s]0.04428751703031216\n",
        "\n",
        "100%|██████████| 154/154 [00:07<00:00, 21.42it/s]0.029348851702411888"
      ],
      "metadata": {
        "id": "3GKMwUH3AuHX"
      }
    },
    {
      "cell_type": "markdown",
      "source": [
        "Предсказываем для test"
      ],
      "metadata": {
        "id": "Lo56cVks6c8o"
      }
    },
    {
      "cell_type": "code",
      "source": [
        "crnn.eval()"
      ],
      "metadata": {
        "colab": {
          "base_uri": "https://localhost:8080/"
        },
        "id": "IKwli1aE8-Fb",
        "outputId": "9af7da18-68e9-4d8f-b3fc-78773480b7d2"
      },
      "execution_count": 199,
      "outputs": [
        {
          "output_type": "execute_result",
          "data": {
            "text/plain": [
              "CRNN(\n",
              "  (features_extractor): FeatureExtractor(\n",
              "    (cnn): Sequential(\n",
              "      (0): Conv2d(3, 64, kernel_size=(7, 7), stride=(2, 2), padding=(3, 3), bias=False)\n",
              "      (1): BatchNorm2d(64, eps=1e-05, momentum=0.1, affine=True, track_running_stats=True)\n",
              "      (2): ReLU(inplace=True)\n",
              "      (3): MaxPool2d(kernel_size=3, stride=2, padding=1, dilation=1, ceil_mode=False)\n",
              "      (4): Sequential(\n",
              "        (0): BasicBlock(\n",
              "          (conv1): Conv2d(64, 64, kernel_size=(3, 3), stride=(1, 1), padding=(1, 1), bias=False)\n",
              "          (bn1): BatchNorm2d(64, eps=1e-05, momentum=0.1, affine=True, track_running_stats=True)\n",
              "          (relu): ReLU(inplace=True)\n",
              "          (conv2): Conv2d(64, 64, kernel_size=(3, 3), stride=(1, 1), padding=(1, 1), bias=False)\n",
              "          (bn2): BatchNorm2d(64, eps=1e-05, momentum=0.1, affine=True, track_running_stats=True)\n",
              "        )\n",
              "        (1): BasicBlock(\n",
              "          (conv1): Conv2d(64, 64, kernel_size=(3, 3), stride=(1, 1), padding=(1, 1), bias=False)\n",
              "          (bn1): BatchNorm2d(64, eps=1e-05, momentum=0.1, affine=True, track_running_stats=True)\n",
              "          (relu): ReLU(inplace=True)\n",
              "          (conv2): Conv2d(64, 64, kernel_size=(3, 3), stride=(1, 1), padding=(1, 1), bias=False)\n",
              "          (bn2): BatchNorm2d(64, eps=1e-05, momentum=0.1, affine=True, track_running_stats=True)\n",
              "        )\n",
              "        (2): BasicBlock(\n",
              "          (conv1): Conv2d(64, 64, kernel_size=(3, 3), stride=(1, 1), padding=(1, 1), bias=False)\n",
              "          (bn1): BatchNorm2d(64, eps=1e-05, momentum=0.1, affine=True, track_running_stats=True)\n",
              "          (relu): ReLU(inplace=True)\n",
              "          (conv2): Conv2d(64, 64, kernel_size=(3, 3), stride=(1, 1), padding=(1, 1), bias=False)\n",
              "          (bn2): BatchNorm2d(64, eps=1e-05, momentum=0.1, affine=True, track_running_stats=True)\n",
              "        )\n",
              "      )\n",
              "      (5): Sequential(\n",
              "        (0): BasicBlock(\n",
              "          (conv1): Conv2d(64, 128, kernel_size=(3, 3), stride=(2, 2), padding=(1, 1), bias=False)\n",
              "          (bn1): BatchNorm2d(128, eps=1e-05, momentum=0.1, affine=True, track_running_stats=True)\n",
              "          (relu): ReLU(inplace=True)\n",
              "          (conv2): Conv2d(128, 128, kernel_size=(3, 3), stride=(1, 1), padding=(1, 1), bias=False)\n",
              "          (bn2): BatchNorm2d(128, eps=1e-05, momentum=0.1, affine=True, track_running_stats=True)\n",
              "          (downsample): Sequential(\n",
              "            (0): Conv2d(64, 128, kernel_size=(1, 1), stride=(2, 2), bias=False)\n",
              "            (1): BatchNorm2d(128, eps=1e-05, momentum=0.1, affine=True, track_running_stats=True)\n",
              "          )\n",
              "        )\n",
              "        (1): BasicBlock(\n",
              "          (conv1): Conv2d(128, 128, kernel_size=(3, 3), stride=(1, 1), padding=(1, 1), bias=False)\n",
              "          (bn1): BatchNorm2d(128, eps=1e-05, momentum=0.1, affine=True, track_running_stats=True)\n",
              "          (relu): ReLU(inplace=True)\n",
              "          (conv2): Conv2d(128, 128, kernel_size=(3, 3), stride=(1, 1), padding=(1, 1), bias=False)\n",
              "          (bn2): BatchNorm2d(128, eps=1e-05, momentum=0.1, affine=True, track_running_stats=True)\n",
              "        )\n",
              "        (2): BasicBlock(\n",
              "          (conv1): Conv2d(128, 128, kernel_size=(3, 3), stride=(1, 1), padding=(1, 1), bias=False)\n",
              "          (bn1): BatchNorm2d(128, eps=1e-05, momentum=0.1, affine=True, track_running_stats=True)\n",
              "          (relu): ReLU(inplace=True)\n",
              "          (conv2): Conv2d(128, 128, kernel_size=(3, 3), stride=(1, 1), padding=(1, 1), bias=False)\n",
              "          (bn2): BatchNorm2d(128, eps=1e-05, momentum=0.1, affine=True, track_running_stats=True)\n",
              "        )\n",
              "        (3): BasicBlock(\n",
              "          (conv1): Conv2d(128, 128, kernel_size=(3, 3), stride=(1, 1), padding=(1, 1), bias=False)\n",
              "          (bn1): BatchNorm2d(128, eps=1e-05, momentum=0.1, affine=True, track_running_stats=True)\n",
              "          (relu): ReLU(inplace=True)\n",
              "          (conv2): Conv2d(128, 128, kernel_size=(3, 3), stride=(1, 1), padding=(1, 1), bias=False)\n",
              "          (bn2): BatchNorm2d(128, eps=1e-05, momentum=0.1, affine=True, track_running_stats=True)\n",
              "        )\n",
              "      )\n",
              "      (6): Sequential(\n",
              "        (0): BasicBlock(\n",
              "          (conv1): Conv2d(128, 256, kernel_size=(3, 3), stride=(2, 2), padding=(1, 1), bias=False)\n",
              "          (bn1): BatchNorm2d(256, eps=1e-05, momentum=0.1, affine=True, track_running_stats=True)\n",
              "          (relu): ReLU(inplace=True)\n",
              "          (conv2): Conv2d(256, 256, kernel_size=(3, 3), stride=(1, 1), padding=(1, 1), bias=False)\n",
              "          (bn2): BatchNorm2d(256, eps=1e-05, momentum=0.1, affine=True, track_running_stats=True)\n",
              "          (downsample): Sequential(\n",
              "            (0): Conv2d(128, 256, kernel_size=(1, 1), stride=(2, 2), bias=False)\n",
              "            (1): BatchNorm2d(256, eps=1e-05, momentum=0.1, affine=True, track_running_stats=True)\n",
              "          )\n",
              "        )\n",
              "        (1): BasicBlock(\n",
              "          (conv1): Conv2d(256, 256, kernel_size=(3, 3), stride=(1, 1), padding=(1, 1), bias=False)\n",
              "          (bn1): BatchNorm2d(256, eps=1e-05, momentum=0.1, affine=True, track_running_stats=True)\n",
              "          (relu): ReLU(inplace=True)\n",
              "          (conv2): Conv2d(256, 256, kernel_size=(3, 3), stride=(1, 1), padding=(1, 1), bias=False)\n",
              "          (bn2): BatchNorm2d(256, eps=1e-05, momentum=0.1, affine=True, track_running_stats=True)\n",
              "        )\n",
              "        (2): BasicBlock(\n",
              "          (conv1): Conv2d(256, 256, kernel_size=(3, 3), stride=(1, 1), padding=(1, 1), bias=False)\n",
              "          (bn1): BatchNorm2d(256, eps=1e-05, momentum=0.1, affine=True, track_running_stats=True)\n",
              "          (relu): ReLU(inplace=True)\n",
              "          (conv2): Conv2d(256, 256, kernel_size=(3, 3), stride=(1, 1), padding=(1, 1), bias=False)\n",
              "          (bn2): BatchNorm2d(256, eps=1e-05, momentum=0.1, affine=True, track_running_stats=True)\n",
              "        )\n",
              "        (3): BasicBlock(\n",
              "          (conv1): Conv2d(256, 256, kernel_size=(3, 3), stride=(1, 1), padding=(1, 1), bias=False)\n",
              "          (bn1): BatchNorm2d(256, eps=1e-05, momentum=0.1, affine=True, track_running_stats=True)\n",
              "          (relu): ReLU(inplace=True)\n",
              "          (conv2): Conv2d(256, 256, kernel_size=(3, 3), stride=(1, 1), padding=(1, 1), bias=False)\n",
              "          (bn2): BatchNorm2d(256, eps=1e-05, momentum=0.1, affine=True, track_running_stats=True)\n",
              "        )\n",
              "        (4): BasicBlock(\n",
              "          (conv1): Conv2d(256, 256, kernel_size=(3, 3), stride=(1, 1), padding=(1, 1), bias=False)\n",
              "          (bn1): BatchNorm2d(256, eps=1e-05, momentum=0.1, affine=True, track_running_stats=True)\n",
              "          (relu): ReLU(inplace=True)\n",
              "          (conv2): Conv2d(256, 256, kernel_size=(3, 3), stride=(1, 1), padding=(1, 1), bias=False)\n",
              "          (bn2): BatchNorm2d(256, eps=1e-05, momentum=0.1, affine=True, track_running_stats=True)\n",
              "        )\n",
              "        (5): BasicBlock(\n",
              "          (conv1): Conv2d(256, 256, kernel_size=(3, 3), stride=(1, 1), padding=(1, 1), bias=False)\n",
              "          (bn1): BatchNorm2d(256, eps=1e-05, momentum=0.1, affine=True, track_running_stats=True)\n",
              "          (relu): ReLU(inplace=True)\n",
              "          (conv2): Conv2d(256, 256, kernel_size=(3, 3), stride=(1, 1), padding=(1, 1), bias=False)\n",
              "          (bn2): BatchNorm2d(256, eps=1e-05, momentum=0.1, affine=True, track_running_stats=True)\n",
              "        )\n",
              "      )\n",
              "      (7): Sequential(\n",
              "        (0): BasicBlock(\n",
              "          (conv1): Conv2d(256, 512, kernel_size=(3, 3), stride=(2, 2), padding=(1, 1), bias=False)\n",
              "          (bn1): BatchNorm2d(512, eps=1e-05, momentum=0.1, affine=True, track_running_stats=True)\n",
              "          (relu): ReLU(inplace=True)\n",
              "          (conv2): Conv2d(512, 512, kernel_size=(3, 3), stride=(1, 1), padding=(1, 1), bias=False)\n",
              "          (bn2): BatchNorm2d(512, eps=1e-05, momentum=0.1, affine=True, track_running_stats=True)\n",
              "          (downsample): Sequential(\n",
              "            (0): Conv2d(256, 512, kernel_size=(1, 1), stride=(2, 2), bias=False)\n",
              "            (1): BatchNorm2d(512, eps=1e-05, momentum=0.1, affine=True, track_running_stats=True)\n",
              "          )\n",
              "        )\n",
              "        (1): BasicBlock(\n",
              "          (conv1): Conv2d(512, 512, kernel_size=(3, 3), stride=(1, 1), padding=(1, 1), bias=False)\n",
              "          (bn1): BatchNorm2d(512, eps=1e-05, momentum=0.1, affine=True, track_running_stats=True)\n",
              "          (relu): ReLU(inplace=True)\n",
              "          (conv2): Conv2d(512, 512, kernel_size=(3, 3), stride=(1, 1), padding=(1, 1), bias=False)\n",
              "          (bn2): BatchNorm2d(512, eps=1e-05, momentum=0.1, affine=True, track_running_stats=True)\n",
              "        )\n",
              "        (2): BasicBlock(\n",
              "          (conv1): Conv2d(512, 512, kernel_size=(3, 3), stride=(1, 1), padding=(1, 1), bias=False)\n",
              "          (bn1): BatchNorm2d(512, eps=1e-05, momentum=0.1, affine=True, track_running_stats=True)\n",
              "          (relu): ReLU(inplace=True)\n",
              "          (conv2): Conv2d(512, 512, kernel_size=(3, 3), stride=(1, 1), padding=(1, 1), bias=False)\n",
              "          (bn2): BatchNorm2d(512, eps=1e-05, momentum=0.1, affine=True, track_running_stats=True)\n",
              "        )\n",
              "      )\n",
              "    )\n",
              "    (custom_conv): Conv2d(3, 64, kernel_size=(7, 7), stride=(1, 2), padding=(3, 3), bias=False)\n",
              "    (pool): AvgPool2d(kernel_size=(2, 1), stride=(2, 1), padding=0)\n",
              "    (proj): Conv2d(10, 20, kernel_size=(1, 1), stride=(1, 1))\n",
              "  )\n",
              "  (sequence_predictor): SequencePredictor(\n",
              "    (rnn): GRU(512, 128, num_layers=2, dropout=0.3)\n",
              "    (fc): Linear(in_features=128, out_features=23, bias=True)\n",
              "  )\n",
              ")"
            ]
          },
          "metadata": {},
          "execution_count": 199
        }
      ]
    },
    {
      "cell_type": "code",
      "source": [
        "df_test_copy = df_test.copy()\n",
        "df_test_copy['name'] = df_test_copy['name'].astype(str)"
      ],
      "metadata": {
        "id": "RomtjxW57v55"
      },
      "execution_count": 200,
      "outputs": []
    },
    {
      "cell_type": "code",
      "source": [
        "test_dataset = RecognitionDataset(df_test_copy.iterrows(), transforms=Resize())\n",
        "\n",
        "test_dataloader = DataLoader(test_dataset,\n",
        "                            batch_size=batch_size, shuffle=False, num_workers=num_workers, pin_memory=True,\n",
        "                            drop_last=False, collate_fn=collate_fn)"
      ],
      "metadata": {
        "id": "VMCNcPQM6fd5"
      },
      "execution_count": 201,
      "outputs": []
    },
    {
      "cell_type": "code",
      "source": [
        "answer_txt = []\n",
        "for i in test_dataloader:\n",
        "  images = i[\"image\"]\n",
        "  preds = crnn(images.to(device)).cpu().detach()\n",
        "  texts_pred = decode(preds, crnn.alphabet)\n",
        "  answer_txt.append(texts_pred)\n",
        "  print(texts_pred)"
      ],
      "metadata": {
        "colab": {
          "base_uri": "https://localhost:8080/"
        },
        "id": "rTJcjziQ63sa",
        "outputId": "0823ab5b-bf2a-4e7d-ed22-497b68f51f65"
      },
      "execution_count": 202,
      "outputs": [
        {
          "output_type": "stream",
          "name": "stdout",
          "text": [
            "['A904CC35', 'B581YY35', 'A481CC35', 'B161EP35', 'A725XO35', 'M417KX777', 'B611YY35', 'B960CC35', 'A119AO777', 'T295KP35', 'A676TO197', 'B721PA35', 'B378PB35', 'B399YX35', 'M347OP77', 'O329YX98', 'O977CC21', 'A763KP750', 'T717KM35', 'M959EB190', 'M806CM197', 'B004KP30', 'E354ET77', 'P349EK777', 'B736OK197', 'B303EY35', 'A963PE35', 'O032HC197', 'X688HC777', 'A001AA52', 'Y308KM47', 'E731AX35']\n",
            "['B937CP777', 'M712YB190', 'B999HT28', 'B671YT77', 'K080BE50', 'P494KE197', 'M888OB777', 'T998TY35', 'M897BK178', 'B345YT35', 'E658CK777', 'M330YE197', 'B482TO150', 'B662YH777', 'C461TB199', 'A367KK77', 'E906PB777', 'E816OE750', 'C267TX35', 'X474YC197', 'Y271EX199', 'Y163BX35', 'X948XX35', 'B227OO178', 'E208PE32', 'T008OO35', 'O568CM47', 'E267TY777', 'Y334BO35', 'B141AP35', 'M813HE190', 'T409XB35']\n",
            "['A604CA35', 'B320KX35', 'E385AX35', 'O830CP150', 'A849HA197', 'O925OT750', 'H333XE98', 'P846BK750', 'H071ME777', 'E886AX35', 'C032YC97', 'T861XC35', 'O459XH199', 'T784TT90', 'A364KY199', 'H447EM178', 'Y520KE150', 'P002AM150', 'P500OM750', 'Y446YK197', 'K663KM71', 'H333XE98', 'H210YO77', 'P592PT750', 'A604TO35', 'X150XX35', 'O573OO90', 'A217YA35', 'X007CP33', 'A174XP199', 'B075KY62', 'Y945AO750']\n",
            "['B124CX35', 'E825XC36', 'M319BY05', 'Y602YM190', 'O092OO47', 'B525CM35', 'B917PP35', 'P667YE199', 'C228TM199', 'X689TK177', 'K571PB77', 'C164MM77', 'K091XA102', 'A998XH35', 'B487PH190', 'Y553AT35', 'B188TK197', 'E180YH70', 'Y122XE98', 'X924CK77', 'Y865TH777', 'T356PA35', 'E330KP197', 'T009PO35', 'X079OT177', 'B817PA35', 'P085PY57', 'Y209EC199', 'B700AX35', 'M252MM99', 'O243KT47', 'H474XA174']\n",
            "['K674TA78', 'X181OP47', 'E455BY777', 'T590MB47', 'Y663PH197', 'C899YP35', 'T233YM77', 'X924CK77', 'A455KA777', 'E440AM35', 'T516KK35', 'K641OM190', 'B488KP750', 'B691MB35', 'A816BC777', 'P737CO190', 'B520PP35', 'B268MA35', 'C953EO197', 'C700OC35', 'A248YX35', 'T511YH97', 'B262TP35', 'B399YX35', 'X897TC150', 'P157XP777', 'B345YT35', 'M901TE199', 'B891EO35', 'Y334BM799', 'C848OT150', 'C106CX35']\n",
            "['A390OB35', 'Y044KK197', 'A831YH77', 'E425CB150', 'B331PC35', 'X947OX36', 'Y758AY35', 'O056MO98', 'E886YC77', 'M058AC152', 'M860OB77', 'A440TP35', 'C117HM197', 'X454OB77', 'K100XB46', 'T646MB35', 'B438CK35', 'E232XP97', 'M925KY124', 'B542OO35', 'X759BO50', 'B967YM35', 'E100AH50', 'B183BM35', 'H654TX199', 'O208OY59', 'B978PY64', 'E442AM35', 'A119AO777', 'C674KE750', 'T003BA177', 'B972HB35']\n",
            "['T827XE35', 'T813BK199', 'P500OM750', 'E900BB199', 'A007HE178', 'A113BT750', 'B624TK777', 'K003TB199', 'A804XO35', 'H211CE190', 'K724XX177', 'X705MO777', 'C276CH35', 'O292PM199', 'E841AB35', 'P542MT750', 'Y969HT150', 'X291PX777', 'E118CH777', 'X550EB750', 'K322OA77', 'Y081BO199', 'X935TX190', 'A363BA199', 'X933OA77', 'T937CK35', 'O954OB78', 'B087CC35', 'M926CH777', 'O672EX777', 'A286OC77', 'E943PM197']\n",
            "['B828KM199', 'P068TP199', 'T210OA35', 'E121HX178', 'C446XA190', 'K972AY199', 'A804MT96', 'B601ME199', 'T736TE35', 'M173CE32', 'B701OO35', 'T544AX197', 'A790ET124', 'B993KB197', 'C606HB33', 'O354MO777', 'K873MA197', 'H532EB777', 'E005KE161', 'X924CK77', 'H728TH190', 'E721TE177', 'O524YB35', 'M496CO197', 'T937CK35', 'M273XC197', 'Y936KE35', 'E029OO62', 'M568AP777', 'B999OK35', 'Y978KM199', 'B705AE50']\n",
            "['X800AO799', 'C441HH35', 'C672PP47', 'B862KO35', 'T905MX197', 'B144EE35', 'E493XX197', 'A113BT750', 'B469CX777', 'H880HA190', 'M375MC77', 'X494CH197', 'H590OK77', 'Y739EP35', 'K683MO750', 'M085PY50', 'B377MM99', 'B616AX35', 'B748KH77', 'C311YX35', 'O971BB35', 'T737HK777', 'A291HT190', 'P906KB750', 'B516AK35', 'K828EA116', 'M018CK46', 'B590KP35', 'H000KK29', 'C383XM177', 'A740TX35', 'P983YX777']\n",
            "['T634TB35', 'P912MY33', 'M282YH197', 'B050CB86', 'P357OH199', 'K383AK750', 'Y446YK197', 'B930BY35', 'B797TA35', 'B969EH35', 'X092TK777', 'B734CE197', 'B463KK35', 'K872TY777', 'E751BK35', 'C018YT190', 'T375EX35', 'M526KT190', 'B239OM93', 'M564OA197', 'T208AM35', 'T478YY35', 'A123CX35', 'C886XA35', 'H474TP77', 'B182CX197', 'M365EB197', 'B565OK35', 'Y731TB197', 'X784TY199', 'T498TB35', 'K217HA197']\n",
            "['X676XA59', 'A989CC35', 'M894MA31', 'E885AX35', 'H060KT199', 'T775YA197', 'P097HM199', 'B016TC35', 'B754CX35', 'A499TM102', 'B416OX190', 'B748XM35', 'B078CX35', 'A847AP750', 'T658OP197', 'H956EB77', 'T979YY35', 'Y417OB77', 'X352HA197', 'T345TO35', 'O673XO199', 'A297CX197', 'M473HX77', 'B001MM197', 'P051AK777', 'C775AA50', 'H380YY199', 'B095KK35', 'K638OX29', 'O820PH150', 'A500HX197', 'B213MA35']\n",
            "['H512BX799', 'T714BO799', 'T433XA150', 'B815CC35', 'X753CA197', 'A434TX35', 'B120AK35', 'A119AO777', 'E085PO750', 'P762OB190', 'T399CT22', 'A808BY71', 'T056BK777', 'Y074YH190', 'H644HE77', 'X039MH77', 'C555KM750', 'Y442YK77', 'T809KH35', 'Y011KK35', 'O508TX178', 'H356TB46', 'E688AX777', 'A444KC197', 'O128PP777', 'B581YY35', 'K204MC799', 'A452KT199', 'A176TM28', 'A559AC50', 'B518TT35', 'K666HO72']\n",
            "['A368XB35', 'B129KX35', 'X758BO199', 'X244YE77', 'E304CC178', 'H654TX199', 'Y222AE161', 'T717TY35', 'A290AP777', 'T520OY35', 'M128HB178', 'C424TH97', 'H564MM97', 'A994MP77', 'X401BX50', 'P461BP799', 'B921BT35', 'K377BA777', 'B619PA35', 'T447YB35', 'B362HX35', 'O001OO10', 'O991MM777', 'B870OK35', 'B438OE35', 'T780YO35', 'X655YC197', 'B582EH35', 'A783CX35', 'K379MK190', 'T269EA35', 'B183BM35']\n",
            "['Y927BM799', 'B951PP77', 'M408MM40', 'Y050YX777', 'E622HE77', 'T870CH35', 'Y699EC35', 'P372HB750', 'B571AX35', 'K638OX29', 'O361MT40', 'H219AB150', 'M788KC58', 'Y795MM76', 'P018XO77', 'M347OP77', 'B240PB35', 'H979TK98', 'O115MT197', 'C523YB86', 'E171AX35', 'B810CX35', 'P147BE123', 'M576AE177', 'E432XT177', 'X294XO190', 'B404KT35', 'H593KK46', 'B473CB35', 'P500PH35', 'O759YC150', 'T312HA71']\n",
            "['K486EA68', 'T250EE777', 'M955AX57', 'A217YA35', 'P824HO178', 'H872KH197', 'M694BC178', 'T487PA750', 'A808BY71', 'E979XC77', 'B059YT199', 'O954OB78', 'B670TE47', 'E821AP197', 'A949TT197', 'X140CK174', 'A384CP35', 'H139PY178', 'C442AC35', 'B146TH152', 'A368MT67', 'E762AM35', 'A130CA777', 'P046KY750', 'X801TA178', 'C932TM777', 'P048XP71', 'P561OM750', 'P015EP97', 'Y075XK199', 'A119AO777', 'H824AA750']\n",
            "['P204EO799', 'B162YX35', 'B970AX35', 'K234BO77', 'P297XO35', 'C827KT197', 'P333PK777', 'Y009EP47', 'A197OY35', 'B100EX35', 'C001YP152', 'Y765HK190', 'Y032AY35', 'Y802YM777', 'E901HX177', 'P494KE197', 'E217EM50', 'B566YY35', 'T737HK777', 'B305EE35', 'M414PM190', 'A003AE04', 'X082BT777', 'P008OT54', 'Y832AX777', 'H320YB46', 'A374AC198', 'P739OB199', 'X593EH750', 'E167TY197', 'T649AY71', 'T312MC35']\n",
            "['A875XB35', 'B629BT35', 'A429YB21', 'K016BP197', 'O809CB199', 'H400HB116', 'M273XC197', 'B638BM35', 'T601TB35', 'A744TB177', 'P429PM750', 'B440KT35', 'E252EA35', 'M798YY71', 'T601YO35', 'M191AO190', 'B614YO77', 'A165CA35', 'P641XE178', 'Y355EY59', 'K997EB197', 'K914PB71', 'M676XO197', 'H764TC197', 'B020KM777', 'O214CM197', 'M829OC199', 'K260HP97', 'X019OC750', 'X884PM750', 'B964AB35', 'Y414BX750']\n",
            "['K770MP77', 'O070MM40', 'P062TE77', 'O112XC777', 'Y831AC35', 'E995BA35', 'B266XK35', 'B979YT35', 'E072OA77', 'H222CT197', 'C376YX35', 'B808OH35', 'O631YO199', 'B759OO35', 'B922CB190', 'T361BX71', 'B336BB197', 'T598YC35', 'H150MX31', 'A931TT197', 'A748MY199', 'B034AX35', 'B505AA177', 'B316TO190', 'B197EO35', 'O746TE197', 'K611AB199', 'B698XM35', 'P505CH199', 'K449OX750', 'M714TC777', 'T046CO66']\n",
            "['O000OO77', 'A468PX99', 'C442HO33', 'T415EC777', 'A580XB77', 'C479XC116', 'B584TA35', 'T780EK71', 'B349TT35', 'B255KX35', 'P690CX190', 'A707YK21', 'K547YK190', 'P707CM199', 'A119AO777', 'B194PB102', 'Y449ME47', 'Y304CA98', 'P481BC777', 'E293BM35', 'T765CC190', 'E098AM35', 'C634YE35', 'X776EE177', 'A826PP199', 'A063MK197', 'K415KC777', 'K043XY86', 'E342AM35', 'B296HE35', 'Y011MT47', 'A478CE35']\n",
            "['P846BK750', 'M405MC199', 'B209AK35', 'A422CA35', 'T321TA777', 'T809XE35', 'B005AM199', 'Y130MA123', 'B362HX35', 'P538CC190', 'B557PA35', 'C526BA35', 'A294PB35', 'X804PH76', 'C366YT59', 'M606CM750', 'E028AX799', 'B847HX35', 'B336HE35', 'Y346KA197', 'X726CP178', 'C002MB35', 'H822KB750', 'A991PH199', 'E999HK99', 'B579KX35', 'H229TK197', 'T666TT36', 'E264YP777', 'P865KT777', 'B017CK35', 'B737KX35']\n",
            "['M473XH54', 'X782EP78', 'P710PK77', 'T404TY35', 'M203KO32', 'B824BB177', 'X112TE190', 'Y691XC777', 'T593PM199', 'E351XA777', 'P538CC190', 'C135BX178', 'X190AP197', 'K122KM197', 'K408KO777', 'B433BY35', 'T682PA750', 'A550YC35', 'O435YA98', 'A041ET197', 'M361TT71', 'B988ET35', 'H068XP199', 'A027CM197', 'A575BA150', 'O883BC799', 'X656HC47', 'B040YH35', 'A000AA177', 'Y029BC178', 'B687TY777', 'P154OT190']\n",
            "['P914OM69', 'B330MO750', 'P244PH190', 'A185OA43', 'A791TY35', 'B202KO150', 'A417OY35', 'Y446YK197', 'A696YX178', 'B661YY35', 'P624MH197', 'A461BT90', 'P593TB178', 'C002TP47', 'O923KT77', 'K347KH177', 'A828MO35', 'Y314YA197', 'B367YX35', 'O618HE750', 'T236PA35', 'B752TO197', 'E073BM50', 'Y999BE177', 'Y770AO197', 'H533AM199', 'T060BK197', 'B050CB86', 'P339OX35', 'B490XK35', 'B979BA190', 'P375AH750']\n",
            "['X777XX77', 'B467PK77', 'A851TH197', 'M542HY197', 'K140EM125', 'O888OH777', 'B633PA35', 'K489PC750', 'B179PC35', 'A562KY35', 'B209OO35', 'C297XO199', 'C182KC35', 'A376OX35', 'B188BH77', 'B149XE35', 'E911BM750', 'O045EX47', 'B051CC35', 'Y422BX35', 'X764OH77', 'M453KT199', 'B573AK35', 'E410HC750', 'Y518ME50', 'K841AK750', 'B570KH178', 'Y383PY177', 'T863TY35', 'T888YH36', 'C063KX199', 'A351TB35']\n",
            "['O001OO01', 'B017MP35', 'M976HX161', 'B830MB35', 'C203EM178', 'C429BP777', 'O564ME51', 'T269XX35', 'B531TC35', 'B572PE190', 'B626OE35', 'A638XA35', 'C808TM777', 'O325PC38', 'Y638YM77', 'K128HP777', 'Y715AA50', 'A197OY35', 'E061TT177', 'E999HK99', 'B498MX777', 'P854EX777', 'P057YA177', 'K344XO82', 'C135BX178', 'E765AM35', 'T690XX35', 'B947EB35', 'H400HB116', 'E309BP35', 'K874XA77', 'E654AX35']\n",
            "['X806TC750', 'E300EK777', 'Y792PH777', 'E685EH750', 'T422OT35', 'O048CA38', 'E666AH13', 'M563HP197', 'H379EK199', 'M915YX199', 'X232YK77', 'P846BK750', 'K491PO178', 'K767MP77', 'T777BH35', 'H330EK123', 'T612XY35', 'Y553AT35', 'C111PB97', 'H133BM799', 'A594TX35', 'M106BO799', 'X030HO98', 'C732BY777', 'K874XA77', 'O053HM199', 'B899HY35', 'M897BK178', 'T432KO777', 'H806HB777', 'X448HK750', 'T866OP199']\n",
            "['O678TC190', 'A572TK21', 'B221CM35', 'B152KK35', 'A179MO99', 'M003PX190', 'Y294CP47', 'T221KK35', 'Y012EE35', 'K692AK799', 'B686KY35', 'H795OY33', 'P255CB197', 'A401XA190', 'C523YB86', 'C395OB35', 'Y598HB47', 'H940CA77', 'A500HX197', 'O174OO154', 'A725TH35', 'M803PY163', 'Y900YT98', 'T697OP35', 'Y304PO177', 'T969MK35', 'P322KA178', 'Y648MB799', 'X956XX35', 'T969XE35', 'A719HO177', 'H841ME40']\n",
            "['T606KA190', 'B612EE197', 'H666AX177', 'P752XY54', 'O698BE799', 'B281AT35', 'C690AE90', 'Y807EC77', 'C274BP197', 'T654OA190', 'Y983KX190', 'C168TX53', 'C706YP35', 'Y633EY35', 'A321MM150', 'Y747YK199', 'T913AP799', 'C820BC97', 'H462EA799', 'T951PC750', 'A221CY197', 'E433OO199', 'B806PC35', 'B764BX777', 'B837HX50', 'K427BH199', 'Y918XX190', 'B609BB197', 'C520YH35', 'C967BK35', 'Y272TK190', 'C209CC197']\n",
            "['T450TY35', 'E929MY197', 'B328XE35', 'P195CH777', 'B720CB35', 'M389OB71', 'C342PP35', 'H564MM97', 'M375YP190', 'O818BM197', 'O028PB199', 'T762TH35', 'B287PC35', 'T062BO799', 'A184XE38', 'E073BM50', 'E649EH50', 'B055PB35', 'P747EA197', 'T616XY35', 'T537YM777', 'B857AM198', 'P494KE197', 'T368OT199', 'M937KB750', 'M584PB46', 'P175TY61', 'B198AM777', 'E999HK99', 'E388BM35', 'C314PE777', 'E996CB750']\n",
            "['P404XP35', 'T836XP197', 'X007CP33', 'B750TC35', 'K205HB199', 'X777XX78', 'P494KE197', 'X626XX35', 'B390OO35', 'B091HE35', 'C070HM197', 'M997ME190', 'M496MX777', 'E585AX35', 'H274AT57', 'B444CY21', 'K306YA197', 'X375YE38', 'A621XC150', 'O188PB178', 'B825TY199', 'Y949XC777', 'C939HE35', 'A300HM35', 'B306OK35', 'X151BB750', 'A136TH197', 'O797BB777', 'B136EP35', 'B599XM35', 'B399TP35', 'B570PE190']\n",
            "['O614KP177', 'A653CB777', 'X782OM178', 'E846AT750', 'X500KK197', 'K696TK177', 'C985AT777', 'B002EX197', 'C748KB777', 'C651XE177', 'M639YH197', 'A141XO35', 'X087TM47', 'M153MM90', 'P438PH190', 'M239YB71', 'B655AE35', 'B681HB35', 'T303TO35', 'C240MY35', 'E820TE152', 'M787KY190', 'C441OC66', 'K663KM71', 'T062MT150', 'A941PY35', 'O613OE47', 'T146MM77', 'P362CB750', 'C647TX35', 'X290YC177', 'A083YY35']\n",
            "['B191EY35', 'A851XB35', 'B490XK35', 'P126XK178', 'A062XC35', 'C464OH174', 'M015TB161', 'H654TX199', 'B563OO35', 'T704YO35', 'H033CM76', 'B560BT35', 'B898MB35', 'P476PE177', 'T528XE77', 'P555OE71', 'O469EA47', 'E686XB90', 'C748KA96', 'A828ME197', 'P606AB50', 'B146TH152', 'T842CB35', 'C188YC777', 'K010OX178', 'O000OO77', 'T817OH35', 'B236TP35', 'Y684EY35', 'Y446TC197', 'P780XH35', 'P385MK750']\n",
            "['C523YB86', 'C414OH35', 'Y436AT35', 'H533K35', 'B423PB35', 'A157BP197', 'B393HB35', 'Y033KP177', 'B156CX35', 'T654KT197', 'K874XA77', 'A047PK35', 'K226OP750', 'B393PC35', 'T488CP47', 'K865HH750', 'X503CO190', 'T584KE197', 'P401KO71', 'C881BK35', 'B281OK35', 'C267EC150', 'Y021TP77', 'B948OH35', 'B624BY35', 'B385HX35', 'E393YK71', 'E778AB35', 'A307YE35', 'X715XP47', 'X856ET64', 'A567CE35']\n",
            "['B446XH777', 'B182CX197', 'T627TO35', 'B389XY72', 'T424PA750', 'B238HE35', 'B039HA35', 'Y955PB750', 'E488AK35', 'B010PP35', 'B292HY35', 'C276XY35', 'Y060BO35', 'T594YC35', 'A637CC35', 'C740TP199', 'B227TP35', 'A595KX134', 'P001ET750', 'H857PA190', 'B253PC35', 'B687CK35', 'E121AY799', 'A464XB777', 'K076PO190', 'H889CO199', 'A428OT197', 'B972HB35', 'O032OO199', 'E618YH199', 'C616YE163', 'X077XX35']\n",
            "['X779EM51', 'A468YA35', 'P362XE71', 'Y975HH177', 'E828AA35', 'A001AA01', 'O108OA47', 'E224AH35', 'M989AK777', 'T584KE197', 'Y965BA197', 'A093CE197', 'E523EA35', 'T711XB47', 'P290HB150', 'T701XH35', 'C070XE178', 'B672KT35', 'B377MM99', 'M488PX77', 'T323XC35', 'P763OM777', 'M186CB178', 'B778YT154', 'C274BP197', 'T677YO35', 'A504CO197', 'M421YK46', 'O603OE47', 'E292BA35', 'T646HO54', 'P070BK92']\n",
            "['H950XO777', 'B377MM99', 'A139XC197', 'K160TM178', 'A430TO75', 'O128PP777', 'E236EA99', 'B294CB35', 'P909PM35', 'X876AT750', 'A356CE35', 'C106AE199', 'B973KE35', 'A444KC197', 'P777KY150', 'E788TA777', 'T801KK54', 'M414PM190', 'Y339HP69', 'M584PB46', 'P085PY57', 'K160TM178', 'X828PK177', 'C336TE35', 'C001KC23', 'O695XX97', 'B664AB777', 'K571PT99', 'T070TC35', 'Y295PO199', 'X148MA190', 'B599MO197']\n",
            "['A663OY35', 'H087XM190', 'K828EB77', 'A027EX190', 'C171YH190', 'H889BC77', 'E894KM77', 'T916EE197', 'C774MA777', 'H262ET777', 'O668EY190', 'X152XT199', 'T862PT197', 'O289OT197', 'C065MK78', 'T566TC35', 'M469PE57', 'H139MT190', 'B459BK35', 'X965KO199', 'O213OO177', 'P969KP197', 'A777XA96', 'C760AY98', 'A861MC95', 'B979AK35', 'B843AC35', 'A454XX197', 'A001AA36', 'C351CK35', 'B380EO35', 'E027AM35']\n",
            "['E959HT197', 'E028OA777', 'O056MO98', 'B419HB35', 'H999MC190', 'H309XA70', 'A672HC57', 'M656PE197', 'A013OA150', 'O333YY177', 'P899KY777', 'T404TE35', 'B003YH35', 'C949PP35', 'C113MP161', 'T596BC35', 'C523YB86', 'T120KB750', 'B502TP35', 'B626AK177', 'X360TT197', 'T994YY35', 'B564PB35', 'O602CE47', 'C065MK78', 'M730AE799', 'O971CM47', 'O674EY750', 'P960EB99', 'K192OX42', 'M877OH777', 'E165EE197']\n",
            "['X563YX77', 'Y492BX750', 'B884OE35', 'E581PA750', 'A786OO35', 'K206CY77', 'K003AP750', 'T608CK35', 'T527XA35', 'T973MM190', 'P422TP93', 'P614XA71', 'H704AO777', 'H400OT750', 'B335YH35', 'O297PB190', 'T772OT199', 'Y545BX35', 'K298MH154', 'E318OA71', 'X993XY47', 'P027EM71', 'B050CB86', 'H873YA178', 'H400HB116', 'B809CM35', 'Y488YX47', 'E602EK750', 'K202EC199', 'E915KT77', 'C652OC35', 'P179CA47']\n",
            "['E048OH777', 'P333CX102', 'M857CM32', 'O143HK47', 'B351KH750', 'Y892BB777', 'P922PO777', 'A415MP77', 'C403OH190', 'M479BC190', 'T375PB77', 'P417XP35', 'X001XX166', 'T383XY35', 'P494KE197', 'T282KP52', 'X777XX77', 'O712PY47', 'K449OX750', 'T737HO98', 'B846EO35', 'B052TA35', 'H295PP190', 'Y713OP197', 'P563TY35', 'H400HB116', 'B498HX777', 'B267HH777', 'P282MB31', 'M153XP96', 'P562KE750', 'B439CA77']\n",
            "['A776XO190', 'Y969AB35', 'B363OM35', 'Y961HO197', 'B395KK35', 'Y721BY35', 'P260OK35', 'X924CK77', 'Y704PY98', 'P494KE197', 'T788OT35', 'H447EM178', 'O320TE750', 'E310AX35', 'P977OE50', 'H142OX750', 'K261PO777', 'Y559BX799', 'A707YK21', 'T925TH35', 'B438TA35', 'C523YB86', 'M425CY25', 'X934EX777', 'T606KA190', 'M443TB40', 'A876PB35', 'O296HY190', 'B659PB35', 'P625XA777', 'T991HP199', 'B278CO57']\n",
            "['O121MO190', 'O938OB177', 'O568AO799', 'K712KP199', 'Y009EP47', 'T800PA69', 'M569TA199', 'C093TX190', 'H330EK123', 'C599YC197', 'P992TE777', 'B870CB35', 'T108AP777', 'Y901BM124', 'B829XM35', 'B591XB177', 'C808HA35', 'H379EK199', 'K168PA777', 'X675HY777', 'B219YY35', 'P509HH35', 'M058AC152', 'M010PE36', 'B544HB35', 'P048OP750', 'B569XP777', 'T606KA190', 'K183BB102', 'Y616TA197', 'A320YE197', 'B121YK197']\n",
            "['T645TO35', 'K264CP197', 'Y455CY777', 'K587BH197', 'B643OH35', 'C338CP777', 'A979XE77', 'T894TK35', 'O855KM47', 'T223KO190', 'X848EA199', 'O280EH190', 'P035MX750', 'E397AA35', 'O655EE01', 'E486XO178', 'E363AO178', 'X561AH777', 'B371YP35', 'C523YB86', 'O208OY59', 'H000KK29', 'T264YX35', 'P570TA190', 'C573CB190', 'C656KK35', 'B845BK35', 'H567XM197', 'Y064KM35', 'O695BY750', 'B887PC35', 'E410HC750']\n",
            "['P395HO178', 'A725TH35', 'T952MO35', 'X179AP197', 'H777CA199', 'B513BE35', 'T654KT197', 'T477EB71', 'A434TX35', 'M966HP750', 'O151KX40', 'H642PP197', 'A859TX35', 'K743XO58', 'A724AH150', 'K487MM750', 'E820AM35', 'C641PM197', 'B066KP35', 'A428OT197', 'A372TA150', 'B071OB77', 'B753PX190', 'Y101EX35', 'K128HP777', 'A947PX35', 'C104OO35', 'C667MC177', 'B953OK159', 'T998XC98', 'B340HX35', 'B606YM35']\n",
            "['T109HO777', 'P596OM750', 'M282YH197', 'Y189OM197', 'E613PM77', 'X816EC116', 'B327OK35', 'T752TC777', 'O317XC197', 'B282TT35', 'T307PX77', 'O807MT152', 'B651PC35', 'Y771PY777', 'P412YB35', 'O879TH777', 'O423AE77', 'A119AO777', 'B476XK35', 'A595KX134', 'Y743CP77', 'B601ME199', 'P763BH777', 'T673OH35', 'H104CK98', 'A119AO777', 'O615EB777', 'B488KP750', 'B918ET35', 'C577CO35', 'B106CP77', 'A087CA35']\n",
            "['X447XX35', 'Y158BA799', 'E593EM190', 'B898ET35', 'A790ET124', 'Y834CA77', 'P977OE50', 'P957PH190', 'H007EY47', 'P737CO190', 'A696CE35', 'B080HK35', 'O137PE197', 'E767OB150', 'T973PP750', 'Y996BC35', 'O222YM98', 'P425PE190', 'Y188BE799', 'A176TM28', 'T910EE197', 'K090YP71', 'E427OH777', 'T504TM197', 'A035XA35', 'X025XA77', 'A001AA777', 'Y009MO150', 'E788TA777', 'Y882YX178', 'O090YE190', 'C070XE190']\n",
            "['H777CA199', 'A148XO35', 'K539PH750', 'C197MC777', 'T303BE190', 'K180XC197', 'B828OH35', 'C249OO35', 'B315TC163', 'C808XC35', 'T548YP35', 'Y747CP777', 'B038TO57', 'B043YH35', 'Y800EY35', 'E073BM50', 'B464EA799', 'O618HE750', 'T873EA35', 'A498CB35', 'Y415YK22', 'E853YC190', 'T095KE799', 'Y417OB77', 'X465YH199', 'B454XM99', 'B440KT35', 'B202AK35', 'B746PP35', 'B292HY35', 'A440KX178', 'B482TY199']\n",
            "['T915TK35', 'M989AK777', 'H849YB197', 'O325PC38', 'P233AT750', 'X647TX197', 'K616KE199', 'A360TO35', 'B863YY35', 'H552OA750', 'M029AO190', 'A272CO197', 'B684KX35', 'X931YX190', 'Y111EE35', 'X941XX35', 'T177TT35', 'E622HE77', 'B848PB35', 'B863CY35', 'B778YT154', 'M158KY178', 'K445TX71', 'T313OB77', 'T569MB35', 'B188BH77', 'Y346KA197', 'M176PC197', 'A326PT750', 'P081EO799', 'A157BP197', 'B788AB197']\n",
            "['T584AA777', 'H933OT777', 'A001AA777', 'K720MM190', 'O775KA40', 'A299EP799', 'O875KO77', 'B468TB47', 'T535TH35', 'X422PM777', 'M020HX197', 'E770AX799', 'A790ET124', 'T961TK35', 'T558XA35', 'E004OE36', 'H324CH57', 'E038BM35', 'T287PA750', 'K040YK82', 'X222YH190', 'T657EK177', 'B381YX35', 'P763BH777', 'P136MH777', 'H071ME777', 'O655EE01', 'B349XK77', 'H350OY750', 'T924TT190', 'H711OM750', 'H620TK197']\n",
            "['A001AA54', 'A041AO799', 'A101BM77', 'X792KB67', 'H105EM197', 'T796PA750', 'K880PO190', 'C454ME777', 'A333TT35', 'A119AO777', 'M500TC52', 'C461TB199', 'T910AB750', 'B338YA777', 'A919YX77', 'M830YM40', 'A823CT199', 'B267CX35', 'B899KE35', 'A350OY35', 'M223HY152', 'E438PE777', 'T583PT178', 'M784PC750', 'A295XO35', 'B086YH35', 'B734AC35', 'E893KA199', 'B981MM197', 'B474PB35', 'X929OA77', 'X615HC777']\n",
            "['T263HM199', 'C523YB86', 'C608CM750', 'X260BK77', 'M241MY124', 'P423MB777', 'B212OO35', 'H940CA77', 'P440TM35', 'T411OP35', 'Y320BE750', 'X082BT777', 'E528AA35', 'H512BX799', 'O073EP799', 'A164OE37', 'H678OE750', 'Y283AO197', 'B773EE197', 'E404BT777', 'H125PK197', 'C723AP799', 'A949KP750', 'P481BC777', 'E410HC750', 'B982EA750', 'H531CM39', 'A408CX199', 'X960OT174', 'T757PB178', 'X123BB777', 'K717CP190']\n",
            "['O198TK197', 'T279MX777', 'E729CX29', 'B334CX35', 'B195MB35', 'M453KT199', 'H376PA69', 'A999AA777', 'A272CO197', 'C303MM35', 'A813XE190', 'O631PY197', 'B582KX35', 'O263KY197', 'A107YO190', 'B302HB178', 'O360EP197', 'A905TX35', 'B714CM35', 'B234BP35', 'B725YX35', 'B998TC35', 'P349EK777', 'H409TY37', 'M616EH178', 'A160YY35', 'C097PO35', 'O127AA177', 'A119AO777', 'A456OO35', 'O245BC750', 'T056BK777']\n",
            "['B451PT777', 'Y446YK197', 'A737TC77', 'E648PE777', 'P154OT190', 'X234AP777', 'Y861PB750', 'T361CH35', 'T723CH35', 'K437HM197', 'B297OO35', 'B540TC35', 'P145XX177', 'P696AK777', 'H072XB178', 'K865HM750', 'B567XK199', 'A438OO35', 'C442HO33', 'Y720PM750', 'P494KE197', 'B768OO35', 'C884YK190', 'Y765HK190', 'A160HA750', 'B811YC77', 'E205CA750', 'K683AX777', 'T866PA750', 'T969MK35', 'B525CM35', 'C020OT190']\n",
            "['B071BT35', 'O271OP199', 'O032OO199', 'M577MX71', 'T999YB35', 'O157PE77', 'B662BY35', 'X777XX77', 'M697OP777', 'C174MY199', 'A918HA161', 'Y083XT77', 'B498HX777', 'X292MX197', 'A079TO35', 'K053MO199', 'B121TO35', 'B622CB777', 'A909TT35', 'T095KE799', 'E100AH50', 'O819PB190', 'O333OK750', 'Y362OP77', 'C757YH35', 'E908PT190', 'P475OP199', 'M624BA197', 'C638AK50', 'B205MH35', 'M750OB71', 'A087OX197']\n",
            "['B399KE35', 'E864AK35', 'H719AO197', 'T611KK35', 'T923XE35', 'M116MO777', 'M764KX77', 'C257HX77', 'B808OH35', 'O570EM750', 'H462EA799', 'T737HK777', 'A894TT35', 'Y453YB102', 'A285OH750', 'C100OT190', 'H361XH150', 'E673OE199', 'A119AO777', 'C502MX35', 'B488EO35', 'E921PE197', 'K873MA197', 'E097AM35', 'T614CA750', 'A452KT199', 'A536XA35', 'Y341MK799', 'B478XA35', 'B892MA35', 'B402AA35', 'T859CE750']\n",
            "['B541EY35', 'A962OB196', 'P418YH197', 'A724XT77', 'P214YM190', 'Y211EC35', 'E296AX35', 'T437AB76', 'P674BP777', 'O029EM177', 'A474PK35', 'Y002XK777', 'H636YE71', 'C367ET750', 'B703YY35', 'P358TB177', 'E529CO178', 'H267BO29', 'E376HE777', 'A982PX197', 'P319XM197', 'B726MT197', 'K233YY82', 'K374XX177', 'K874XA77', 'H043TC199', 'K141XE197', 'B141AP35', 'B208YX35', 'K779XA777', 'A230YP177', 'T062MX777']\n",
            "['B710HB35', 'M989AK777', 'B784XT35', 'H106AH178', 'T454HK35', 'B792EH198', 'A176TM28', 'M025KX750', 'O208OY59', 'O791TK197', 'B756YX35', 'M827XA193', 'T736HP35', 'O772EP799', 'X492CK177', 'B850BK35', 'T959MM51', 'O631YO199', 'B659EY35', 'B814MB35', 'T923PH163', 'B150CC35', 'C606HB33', 'P277OX178', 'H822KB750', 'B275KK35', 'P592PT750', 'K587BH197', 'B071CA152', 'B006HE35', 'O467AP777', 'E528YM190']\n",
            "['X517PC197', 'T970CE750', 'A725TY35', 'T784TT90', 'B601XE197', 'T477TT99', 'B201YT35', 'M549HM152', 'K930PT32', 'M706XK199', 'T576PA35', 'T209BY47', 'E999HK99', 'P425XB31', 'C656XT35', 'T329PA750', 'B020KM777', 'M989AK777', 'T779YX35', 'B462EP35', 'T957EP97', 'A323BT777', 'T403TE35', 'T473MO47', 'A233OM35', 'K324XO82', 'A233PE197', 'E242AA35', 'P494KE197', 'M020HX197', 'P432OB197', 'H873BY777']\n",
            "['B755KX35', 'T066TT52', 'H683AP750', 'A536TX35', 'E792AM35', 'E007EX40', 'C006YX77', 'O185OM98', 'C573CB190', 'T198PA197', 'A872BE90', 'T230OP35', 'Y019PX197', 'P529MB197', 'K489PC750', 'H496AE178', 'E636AB35', 'P308EB150', 'B878EB35', 'H588MC750', 'A432YM197', 'B521HX35', 'P267CT177', 'K606XE177', 'K954AB777', 'A148XO35', 'H086PA197', 'Y336MK750', 'T356PA35', 'B514PO199', 'T339CE190', 'A452CH35']\n",
            "['Y253EY35', 'T494XA47', 'B110AT799', 'M158PK777', 'A216CM35', 'X870YC77', 'T286TO35', 'T582KA71', 'T356BM35', 'T172XM199', 'P017HE02', 'P772BP50', 'K116PP197', 'A429YB21', 'C740XK35', 'A906OO69', 'H644HE77', 'C303MM35', 'B708YX35', 'C875TX190', 'A711EA77', 'A119AO777', 'B060BK35', 'T916BM71', 'C052AT777', 'O655EE01', 'T551XX197', 'T031YB35', 'A464XB777', 'T727XB77', 'H402CP190', 'B571CX35']\n",
            "['T561CB35', 'X055OT47', 'A900AP750', 'T238KB35', 'T465OO35', 'B945XM35', 'B373YB47', 'E941BA35', 'A931EO750', 'A074YY197', 'O409PH47', 'O048CA38', 'Y821KO35', 'H316CK199', 'B308XE35', 'B391PB69', 'B997PA197', 'T745AY35', 'Y085YC35', 'E308EO750', 'C892OB50', 'Y263HC52', 'Y974BE750', 'B856KP198', 'O432TO116', 'K675PB777', 'Y346KA197', 'B890HE35', 'P136MH777', 'M656PE197', 'B213MA35', 'T411OP35']\n",
            "['K770MP77', 'B631YK35', 'H311XP777', 'A184XE38', 'Y700BB177', 'X870YC77', 'P534PA150', 'H026BB199', 'O948XE40', 'O174CE77', 'A578EH77', 'O779HH777', 'A828MO35', 'C463CP199', 'E888MM38', 'C663CB750', 'O842KX777', 'Y586EB35', 'C748KB777', 'T517AY35', 'Y605BT50', 'P641XE178', 'B250MO77', 'H314OO22', 'K136HM197', 'Y081MO777', 'X011OT197', 'O611BE178', 'B146TH152', 'O325PC38', 'A221MX750', 'B164AA35']\n",
            "['T858EP154', 'A572CX199', 'E290CX777', 'M574TK105', 'A512TY35', 'A184XE38', 'O325PC38', 'A608KX777', 'M066PO757', 'M691AK34', 'B754CX35', 'A147OC197', 'B922EH35', 'A305OC35', 'B823MH35', 'P267CT177', 'A294PB35', 'A523CM37', 'E402CM197', 'B788CK35', 'X777XX77', 'T147HB750', 'P500PH35', 'M568AP777', 'M981AA163', 'T220YT35', 'K067HK777', 'X293BC777', 'X001XX166', 'H999MC190', 'C191EA21', 'K185XP199']\n",
            "['B219TM150', 'B673XE150', 'A056YA35', 'P085AT750', 'K762TK777', 'E471XB90', 'B979BA190', 'Y745EE35', 'M251AX75', 'T069XM197', 'T223YX35', 'A571XX197', 'B404KA35', 'P056BH93', 'T364AA177', 'B767HB35', 'B284MA35', 'A170YB77', 'T250EE777', 'B089BY123', 'A992XO35', 'T467OH35', 'A119AO777', 'P945OT199', 'X254YB199', 'A328AA177', 'P906BM799', 'T528XE77', 'E740AK35', 'E509BX799', 'T760AO35', 'C190OE199']\n",
            "['B569XP777', 'E236EA99', 'C468CB22', 'P630OC190', 'A894TT35', 'K766AP199', 'T840MY35', 'T062BO799', 'T211XA35', 'P476PE177', 'T505EK777', 'A184XE38', 'P648MB190', 'E416YK178', 'P081XH777', 'T340KH35', 'O611BE178', 'P813OK750', 'Y868PP199', 'B687BT35', 'Y832AX777', 'H064XP199', 'B758YY35', 'A750PY35', 'T246CH35', 'H130KE199', 'B071OB77', 'B362CO199', 'O029EM177', 'X500KK197', 'E661AB35', 'O550YO77']\n",
            "['K717CP190', 'O497EM777', 'P550AP750', 'X447YX197', 'C930CO35', 'T821CB35', 'T479OP35', 'P877XH77', 'K570KO71', 'H950KT77', 'T770XO197', 'B765YK35', 'P096KE178', 'B975CM35', 'X030HO98', 'E022BP35', 'O489KT47', 'T697YX35', 'T260TT90', 'T540EE35', 'B442PA35', 'H120MC199', 'A999AA777', 'T009TT35', 'T365OH35', 'B025TO35', 'B493PM35', 'A663YX197', 'K757YO77', 'H163OP777', 'P561OM750', 'A214CX35']\n",
            "['C212KB777', 'B867OH35', 'Y168EC199', 'Y832PP42', 'T307PX77', 'O979TO199', 'B103CX35', 'T988YO35', 'H957YA197', 'H593KK46', 'O648TB190', 'B057XE35', 'E375AM77', 'B322EE35', 'B846HX35', 'B245BO142', 'T584KE197', 'A468HA126', 'E125AK799', 'O720OO73', 'A888PC102', 'X998AP199', 'M806CM197', 'A239PC77', 'O572AC70', 'O157AT799', 'B371YP35', 'H778OH177', 'C883PH199', 'B677AK35', 'B063BC50', 'T222OX35']\n",
            "['C466HH750', 'A294PB35', 'C330TY35', 'A955AY777', 'B025TO35', 'A001AA01', 'P122KH199', 'T607BA35', 'C494AY799', 'X587BM57', 'A001AA199', 'T972TE35', 'B991KM21', 'M710YT97', 'C785XH35', 'B648TC35', 'H436XE777', 'X157EB108', 'Y758YX190', 'T588AX57', 'A529CB35', 'T512PM35', 'T885TE35', 'T933YM71', 'M551EH197', 'B072OK199', 'E901HX17', 'T030YB35', 'O040TT178', 'E072OA77', 'A119AO777', 'M282YH197']\n",
            "['M204AH750', 'B279BY35', 'T339EE35', 'O048CA38', 'Y746EC35', 'T560YP35', 'B576XE35', 'Y955PB750', 'H562BE50', 'K770MP77', 'X818YM190', 'B365XK35', 'P468AB197', 'A030MY777', 'H400HB116', 'Y446YK197', 'H292PO197', 'A368XC177', 'H654BC799', 'X419AY90', 'P112CK777', 'O791TK197', 'T683EK47', 'H313OB777', 'X243BM799', 'H026BB199', 'P843YP197', 'Y508AY35', 'C122AC750', 'B058CH197', 'Y457KH35', 'B726TA197']\n",
            "['T403EY71', 'B781XM35', 'E469BA35', 'P539MK750', 'A603TY35', 'O522BP40', 'E850CY197', 'P075OO190', 'T754MY35', 'Y446YK197', 'B188BH77', 'B221CM35', 'A973YC71', 'K736XM197', 'A176TM28', 'H473OB177', 'B110XK35', 'T446CB35', 'A101YH35', 'A594YP197', 'Y918YY158', 'C902YT197', 'K051MP77', 'M198OP777', 'X773OP750', 'A119AO777', 'B508TP35', 'T515TY150', 'O333MM98', 'E024BA35', 'A000AA177', 'A646KY116']\n",
            "['T998XC98', 'B636AC35', 'T582KA71', 'K338MO750', 'E351XA777', 'P882YC35', 'E680EA35', 'T494XA47', 'X870YC77', 'Y446YK197', 'O133XE777', 'M579AO777', 'C825TP197', 'B188BH77', 'C333BO199', 'O520EK799', 'B895EO35', 'B091KK35', 'B488XK35', 'X426PP199', 'C479BP777', 'T240MK35', 'T056PX150', 'A100KY197', 'B640BM35', 'B417BT35', 'O975AA190', 'T288YO35', 'B038CY21', 'C674PT35', 'T801EC35', 'A736CA750']\n",
            "['X973PP199', 'K571PT99', 'T109TK97', 'P593TB178', 'P494KE197', 'X777XX77', 'P156OB150', 'B578OK35', 'B508AA35', 'A013EK50', 'T542CB35', 'H933OT777', 'X705MO777', 'A456OO35', 'Y134MC150', 'B815CC35', 'M631OC190', 'M975AK190', 'B776BT35', 'X740M750', 'E799AA35', 'O755OA178', 'A831MM125', 'M001XE54', 'C228TM199', 'O423TX47', 'C691YB777', 'T081HX35', 'A899KC777', 'E490XA777', 'E363AO178', 'O340TK197']\n",
            "['A952PE35', 'Y003HT97', 'B013PC47', 'T727XB77', 'O631PY197', 'B577OA35', 'C364HP777', 'B504OK35', 'A080OT35', 'B477YM35', 'P999CT71', 'B050CB86', 'M999PP178', 'B701CC35', 'X145PY77', 'K306YA197', 'P364PT750', 'C052AT777', 'T368OT199', 'B146TH152', 'M955KH177', 'E322AX35', 'B610YT35', 'C817YE35', 'X511OP190', 'T910MB35', 'T303BE190', 'Y649OC777', 'Y561XH199', 'A804PB35', 'A476CX97', 'M621OA777']\n",
            "['O323EX47', 'O233EC50', 'O325PC38', 'E712BM35', 'O638KB40', 'B841MO777', 'B384MO178', 'T397YY35', 'A724XT77', 'H234TO197', 'H927CB750', 'B188BH77', 'Y346KA197', 'A653CX35', 'X924CK77', 'T575OP35', 'B634AA35', 'O153XC61', 'A149YC35', 'X559TK777', 'B612EE197', 'B268MA35', 'M268YY71', 'C120EC35', 'C953CB197', 'C461TB199', 'B548TB35', 'A300HM35', 'Y854PY777', 'O473HT750', 'A999AA777', 'E156TK777']\n",
            "['O137PE197', 'C476CB98', 'Y572XK199', 'B885TP77', 'Y560PH750', 'M591HK178', 'T476PK197', 'C325XH35', 'M292AO799', 'B328PA35', 'C662EA47', 'P310MX750', 'B953PK777', 'T933TH35', 'T328EO50', 'Y061AT35', 'O772OA97', 'B671YK35', 'Y709EC35', 'T301BP750', 'B809CM35', 'M491MT150', 'B355OO35', 'M333MM37', 'P534PB71', 'B337HE35', 'Y913AA777', 'E410HC750', 'P594KT71', 'T496ET178', 'X712TY35', 'B191BO35']\n",
            "['A059MM99', 'E081AE35', 'P996AY90', 'C991OX35', 'H844KX71', 'T961TK35', 'E145MA799', 'K440MO29', 'Y745EE35', 'O826OO51', 'H505TA150', 'B815MH77', 'T927KE150', 'B948OH35', 'M027ET190', 'Y478KK750', 'A683AY777', 'T046CO66', 'O221EY190', 'O048CA38', 'T717EE199', 'C461TB199', 'P830MK750', 'M469PE57', 'T906OX35', 'C446XA150', 'X941XX35', 'M096KX77', 'B463KK35', 'C338BA35', 'B734OB150', 'P124MK750']\n",
            "['A813CO154', 'O894HX98', 'B557PA35', 'B461KE35', 'M611KA178', 'B663OK35', 'E125EK125', 'T588AX57', 'B439XO190', 'P494KE197', 'A500EH177', 'H911EX199', 'Y140YB190', 'O265CX77', 'Y320BE750', 'H166TB777', 'B607PX190', 'T941YH42', 'B038CY21', 'K455HX750', 'E310CP71', 'A838HX35', 'B281TP35', 'T266HP35', 'H933OT777', 'A651TE61', 'O208OY59', 'K979OH29', 'Y717MC777', 'T320XE190', 'E300CO150', 'K799OB750']\n",
            "['E421CM177', 'B304PA35', 'B301HY35', 'M056CO777', 'C293XO777', 'T329PA750', 'H615KM77', 'K160TM178', 'B890PT42', 'A888AA177', 'B013YO777', 'M120AC199', 'H863HC177', 'A613XE190', 'B100ME18', 'B440KT35', 'H791BC31', 'E133BO35', 'T377XT777', 'Y446YK197', 'A705YB77', 'Y663PH197', 'B531OH161', 'Y663PH197', 'P209XP35', 'B353XC199', 'B743EY35', 'Y774AP197', 'O261BY799', 'B619PA35', 'O128PP777', 'P527TP197']\n",
            "['A092PC77', 'T631XP35', 'A820BC777', 'E591XK86', 'B701CC35', 'T805OA35', 'B585AE35', 'B243KT35', 'E042BX190', 'T765TC35', 'A283CY77', 'T535TT90', 'H124KM77', 'C264YK777', 'P211OC777', 'T247XC35', 'A816KC777', 'C065MK78', 'K920XH77', 'H822KB750', 'K149MA750', 'M282YH197', 'H295PP190', 'A482OY197', 'E005KE161', 'A380OO35', 'C251CB199', 'Y714EE35', 'B795XT35', 'E052XC199', 'P494KE197', 'Y934BM190']\n",
            "['C808TM777', 'K783BK116', 'P707CM199', 'T448TX59', 'X941MK777', 'T220XA35', 'A119AO777', 'T584KE197', 'A341PB35', 'Y648MB799', 'M792PY77', 'B461KE35', 'C373OK77', 'K051YM199', 'X131TX190', 'A704TP35', 'A775XO35', 'E079AM35', 'E445AB35', 'A122KP750', 'M003PX190', 'O056MO98', 'A894CA777', 'B585PP35', 'E165EE197', 'B050CB86', 'A119AO777', 'H222OT71', 'H456HC197', 'B802TA98', 'A003AE04', 'X806HK750']\n",
            "['B003AT35', 'T450TY35', 'X416PX178', 'T984TE35', 'T990AO35', 'K264CP197', 'B871KY35', 'O068CX199', 'A172HH199', 'X725AC50', 'P936XH777', 'B084YM197', 'K070TK197', 'T670XY35', 'P326YK71', 'X702HE190', 'P763XC777', 'M608EK197', 'X837BM777', 'A782EC178', 'C417TH197', 'A354OK750', 'B386KP35', 'C848OT150', 'B953OK159', 'B356EC77', 'K975KE777', 'T529TY35', 'X931YX190', 'C065MK78', 'Y549AC35', 'X207XP177']\n",
            "['B585AE35', 'X777XX77', 'O706PM77', 'A841CX35', 'E958ET60', 'M101AB150', 'B690BO197', 'T770XO197', 'K669KA99', 'P700EM777', 'O001OO10', 'A030KP750', 'A505MT116', 'T701KT750', 'Y157PX97', 'B061AH777', 'E318OA71', 'P357OH199', 'C115CC178', 'X869KY197', 'A307YE35', 'P098PP71', 'Y314YA197', 'B372TH777', 'T700EB799', 'C446XA150', 'B599CH177', 'B884TP35', 'B855YK35', 'E351XA777', 'X654TB197', 'T658KK60']\n",
            "['B846HX35', 'O392AA777', 'B690XB35', 'P925EK47', 'T797TT24', 'K020AY190', 'B416OX190', 'B020KM777', 'B113BB177', 'A905HE197', 'T389XT197', 'K483CA199', 'K674AK750', 'C492BH190', 'B190YP21', 'T355TB35', 'B544OK35', 'K311XH77', 'O813EE77', 'X169ET750', 'O505OP750', 'E809HT197', 'O544BA39', 'A300HM35', 'O623AE50', 'P559OP35', 'X141TO199', 'A716OC35', 'T666TT36', 'T894EE35', 'T765CC190', 'E787HC750']\n",
            "['B736KE777', 'C589KM750', 'B117AK35', 'M666EA03', 'A942XO35', 'T833XE35', 'T647YX35', 'B336YX35', 'O678TC190', 'T436YP35', 'H060KT199', 'K123MK177', 'O190HY178', 'C595BP750', 'Y260YT777', 'K255KA29', 'O615KM40', 'T078PP77', 'T929PT197', 'B250MO77', 'Y644AC35', 'E864HC750', 'B772KE35', 'H877AX77', 'K437HM197', 'H877YH77', 'C001TA35', 'B892MA35', 'H680BB178', 'B634AA35', 'A783CX35', 'Y996BC35']\n",
            "['T090AP77', 'X014XM199', 'B012YH35', 'X234AP777', 'O086AO37', 'A119AO777', 'E886AB35', 'C721XC35', 'B378PH54', 'T005XM47', 'X987PT77', 'B525PC35', 'B717PE199', 'B518XK77', 'B164XM35', 'X507AX197', 'B441XX190', 'X777XX77', 'B856KP198', 'A905HE197', 'A733AA77', 'C967MY35', 'P352XA77', 'B488ME750', 'K636YK57', 'A119AO777', 'H296XC40', 'T765XP35', 'E433OO199', 'B161EY35', 'M860OB77', 'T545BK35']\n",
            "['B490XK35', 'M341TO32', 'Y002EE35', 'B780YB21', 'E143XC197', 'A561CC35', 'X615HC777', 'C817YE35', 'O044XA47', 'P922XX35', 'B302HB178', 'C159KM750', 'K377BA777', 'M594PC178', 'X140EP150', 'E125EK125', 'A890TC35', 'M770AM97', 'E042OX178', 'A847AP750', 'K331OK177', 'M035HH750', 'B524HY35', 'O591PB190', 'B137PC35', 'C240MY35', 'C423BX178', 'T829AX799', 'X800AO799', 'A119AO777', 'B344EO178', 'K396YO10']\n",
            "['T278OP35', 'X993XY47', 'H663BT29', 'P616AC50', 'H812MC150', 'A211HO62', 'E315EO50', 'K122OY199', 'Y996TO197', 'H784PC199', 'T897KB197', 'T596EP35', 'E999HK99', 'K697TY177', 'C008XH197', 'B074OE777', 'C350HX777', 'Y406TK190', 'B001YH35', 'P471HA77', 'Y417OB77', 'B989XM35', 'C446XA150', 'B817KT35', 'Y642KA178', 'E409AM35', 'T314BH777', 'K826CK750', 'B682TT35', 'O708PT77', 'H632ME777', 'H537PH178']\n",
            "['Y732BY35', 'P402BY114', 'M473KT799', 'P494KE197', 'B093PH35', 'T689TC35', 'A278HE177', 'B486HB35', 'E072OA77', 'T644HB777', 'C719AT35', 'T671TE35', 'A507YT190', 'X720OP777', 'B978PY64', 'K234TE71', 'Y759AB197', 'B531YX35', 'M968EA799', 'P048XP71', 'A737BP777', 'T511XA35', 'P752XY54', 'Y522KK35', 'E692OY750', 'K832YX199', 'B390OK35', 'B213TM35', 'E755XM35', 'X500YO197', 'T240MK35', 'A294PB35']\n",
            "['A030MY777', 'E260TA750', 'B524PA35', 'H023EA199', 'H771TB197', 'C656OK77', 'A150XB35', 'C212TX35', 'X187BX97', 'K379MK190', 'T600KH35', 'H262ET777', 'B269AE750', 'A831OO750', 'T419PA750', 'A000AA00', 'Y488TM47', 'P100YC31', 'A166XP190', 'T378XE35', 'Y567XK77', 'T535HY35', 'B302MB35', 'H130KE199', 'X705EM47', 'O816AY98', 'A716PK35', 'P364PT750', 'Y340XK36', 'E723AX35', 'B106CK35', 'C491OY86']\n",
            "['C911XK190', 'B243AC799', 'O950HY190', 'A653CB777', 'A001PE150', 'M200CM197', 'K811XE777', 'Y158EX199', 'H266AH750', 'O706PM77', 'B244AK35', 'B938EA199', 'B917PP35', 'A274PT750', 'X500KK197', 'K705YK190', 'T170MB35', 'T467CE71', 'O000OO77', 'B977AC35', 'M989AK777', 'X458CM197', 'E864HC750', 'E322KO777', 'C928TK116', 'A563HH199', 'B716YP77', 'M592YC197', 'P787AX777', 'X777XX77', 'B827HB35', 'P161HT47']\n",
            "['E040EK197', 'K205HB199', 'E318OA71', 'P429PM750', 'Y373ME50', 'B084HP190', 'A945CY35', 'K766AP199', 'T433XY35', 'K816OP178', 'B322HB35', 'Y105EA750', 'X106EP67', 'T970CE750', 'B240PB35', 'Y149CX197', 'A456OO35', 'M827TB190', 'H383YY26', 'Y549KE35', 'O096MM40', 'T009PO35', 'A229XO35', 'H683CP177', 'Y013EY35', 'E740YX177', 'B626AK177', 'A261TE126', 'B050CB86', 'H026BB199', 'T876HY35', 'A512XB35']\n",
            "['K874XA77', 'O891OY35', 'O918M190', 'B676ME178', 'T534XP35', 'B096MA35', 'T069CH197', 'H857PA190', 'A964OA750', 'B989XM35', 'B667TT35', 'P900AP35', 'A932TC35', 'Y409KA777', 'T939CK35', 'T321EO50', 'Y955MH177', 'T261MY35', 'Y777CA750', 'A838HX35', 'X275OT190', 'K519YX197', 'B377MM99', 'B489PO197', 'A027EX190', 'C414XM154', 'C264YK777', 'B146TH152', 'T206BC35', 'T511HO35', 'X106EP67', 'E357EA35']\n",
            "['A041ET197', 'T003TT03', 'P258AC197', 'A001PE150', 'B967YM35', 'P845PH35', 'M478XB71', 'T935PK35', 'M989AK777', 'A588KT199', 'B280BK35', 'B361BT35', 'E338XK150', 'B154PA35', 'P494KE197', 'B544OK35', 'P233AT750', 'K064AC777', 'B354AX35', 'P777AB57', 'O508TX178', 'T755PA750', 'B949OO35', 'B092MB35', 'B242MP35', 'P193YH197', 'T410EC35', 'A394XB35', 'X501HK750', 'P777KY150', 'K005YY23', 'M466OE71']\n",
            "['E855YX77', 'T806XC35', 'B669XB97', 'B880TC35', 'B544OO35', 'B427PX190', 'A211EB776', 'T088XO777', 'C433MB197', 'M801CP178', 'Y524XK98', 'Y792CO98', 'Y406TK190', 'K488HY40', 'B146TH152', 'B700HE35', 'T551MK35', 'T662CH35', 'B769BK35', 'K606XE177', 'X261HK750', 'B715XE35', 'X948XX150', 'T511YH97', 'M241AP50', 'B713TA35', 'Y025TH190', 'C706XT35', 'Y983EA35', 'K539PH750', 'E325CK777', 'O212EY777']\n",
            "['T846XY35', 'Y605BT50', 'P906KB750', 'C034BX116', 'T307XY35', 'M926CH777', 'M821EK750', 'O727YK90', 'A269OO35', 'E322KO777', 'K086HH77', 'X593EH750', 'M307TC197', 'E471XK77', 'B620AE35', 'M640OB77', 'A808BY71', 'B004MC35', 'E716AX35', 'X585TM76', 'E314BX799', 'O716BM750', 'B793XP97', 'P401KO71', 'T556XP777', 'B613OE35', 'M282YH197', 'T253AH35', 'M326BK750', 'E970TO150', 'E692OY750', 'B570OP21']\n",
            "['M588YA46', 'B399KE35', 'E444OM99', 'Y413KA750', 'B213YX35', 'O432TO116', 'M513KM197', 'Y488TM47', 'P402BY114', 'A721TP35', 'T139PY150', 'A080XE97', 'T077PT190', 'Y412AM799', 'C220KM190', 'T979YY35', 'T963XY35', 'T815EX777', 'A949XY190', 'H548PT197', 'B466AX35', 'A980PP98', 'X978PT77', 'T358MT750', 'B824PB35', 'C840XH197', 'T869TE35', 'A250PK35', 'Y004AO77', 'Y059CH777', 'P267CT177', 'Y442YK77']\n",
            "['P758BP799', 'P711TT35', 'T891MY35', 'A179MO99', 'A907TM777', 'C172OB178', 'M207AT799', 'Y522KK35', 'H784PC199', 'K634YB71', 'P494KE197', 'B695OP750', 'E675MT190', 'P223XK197', 'T221KK35', 'B304PA35', 'X392PM77', 'B291HY35', 'B880EE35', 'C743XB777', 'B096MA35', 'A176OY35', 'E540AK35', 'E933HM134', 'K848TE199', 'C938HX150', 'T160KP199', 'B462EP35', 'C264OH777', 'T611OX35', 'T230HY35', 'X358BO799']\n",
            "['B674KT35', 'O056MO98', 'Y633CP199', 'M621OA777', 'E300EK777', 'Y103CA197', 'K185XP199', 'T813BK199', 'H798HE47', 'Y582KE35', 'K212AA178', 'C620AB777', 'K415KC777', 'M286TK71', 'T292KT777', 'E721TE177', 'H806HB777', 'T866PA750', 'H133BM799', 'Y446YK197', 'E219AB35', 'A293YO197', 'E471XB90', 'P640HP199', 'K793BB50', 'K666EX177', 'A119AO777', 'Y969AB35', 'P299PO71', 'P059YK777', 'O778PT77', 'O320TE750']\n",
            "['X837BM777', 'C624EH150', 'A069YP199', 'B552CB35', 'B528XT35', 'B886YY47', 'X248MM69', 'P494KE197', 'E740AK35', 'B113XM35', 'E416YK178', 'P471HA77', 'T228TT35', 'C361CC35', 'T913TO35', 'A166XP190', 'B722XK35', 'X260BK77', 'O213CM178', 'B994EO35', 'B845EP35', 'B121YK197', 'B490XK35', 'H823PK197', 'K947AB178', 'P069PP178', 'B232OE178', 'B580KA77', 'B511BY35', 'C978YH35', 'T604OA35', 'A034PM150']\n",
            "['A727YK77', 'A001PY177', 'M141Y777', 'B416OX190', 'C929MH750', 'T773PC35', 'A621XC150', 'C411BP177', 'K179BE50', 'B407MO35', 'M955AX57', 'B828AT35', 'H789CA199', 'B659TT35', 'B988AK35', 'O826OO51', 'M106HY197', 'T716OY98', 'T772OT199', 'Y684YC35', 'A176TM28', 'B766PB35', 'A987CM35', 'T280KM35', 'H857PA190', 'A184XE38', 'A474PK35', 'H653OK190', 'T665CH35', 'B188BH77', 'Y715PB190', 'O702MK35']\n",
            "['A988CB35', 'H846EY750', 'C403PO750', 'T524AC35', 'B054YE35', 'B474XK35', 'M989AK777', 'A613XE190', 'P494KE197', 'B541EY35', 'O638KB40', 'Y340XK36', 'P577XY77', 'M207EY58', 'B346CB35', 'B462EP35', 'O644KB40', 'A184XE38', 'X924CK77', 'P199KB750', 'E878XP197', 'B628TP47', 'T056PX150', 'Y442YK77', 'E073BM50', 'K137EB197', 'B349TT35', 'A993HY750', 'C599YC197', 'A119AO777', 'A677PX35', 'P395HO178']\n",
            "['H395KM77', 'B911CC35', 'X442YT190', 'P130KB750', 'B500TT75', 'A119AO777', 'Y934BM190', 'A763KP750', 'T288CK35', 'B184TC35', 'X625BB57', 'P673PC190', 'H892PE750', 'X168HK750', 'Y013CT56', 'O243KP199', 'M219OK199', 'P118MK750', 'K853AY777', 'A119AO777', 'C117HM197', 'Y626MH177', 'M343KA197', 'B227HE35', 'Y019PX197', 'P530YO199', 'E114YA197', 'M654OE50', 'E905BA35', 'M056CO777', 'Y541BY35', 'Y455CY777']\n",
            "['H383YY26', 'A363CH750', 'E900BB199', 'T286TO35', 'M457BA197', 'M405MC199', 'B259YX35', 'B240BP35', 'Y944OB47', 'A001CC172', 'H002OP199', 'A524MP97', 'X442YT190', 'T992XH35', 'Y377PP197', 'C119HK150', 'E416YK178', 'T606KA190', 'K692AK799', 'B201YT35', 'M952HX48', 'B183OM35', 'B565HA750', 'P494KE197', 'B594YX35', 'Y336MK750', 'K401HT190', 'B999OK35', 'A800MC197', 'T644HB777', 'Y163AO777', 'Y716KP35']\n",
            "['T524XT777', 'T970KH777', 'K786HX199', 'T999BO50', 'B764BX777', 'P401ET35', 'C076CK35', 'A001CC177', 'T891CO35', 'B063CA199', 'K359PC750', 'T786HH35', 'T792CK35', 'M271TK97', 'A800MC197', 'H877YH77', 'T056PX150', 'T355EE199', 'H588MC750', 'O736YO197', 'P688BP35', 'H139AO76', 'B544YK35', 'T999YO35', 'P494KE197', 'P908EA71', 'A536XA35', 'M580PM77', 'A470TA35', 'K696TK177', 'A004YK197', 'K949AP777']\n",
            "['Y613TX197', 'T605BH35', 'X302YK199', 'E260TA750', 'A697CE35', 'B082OK35', 'Y597KK777', 'A842OT178', 'Y373ME50', 'X688HC777', 'C269CA197', 'B513BE35', 'A999AA777', 'P533PO47', 'E528AB35', 'A567TP35', 'B640BM35', 'Y012EE35', 'B577OB150', 'E877MA102', 'K475XA190', 'B767AX35', 'B413EC198', 'P726EX35', 'P051EH190', 'O906TT35', 'M615OA750', 'B168BK35', 'B789OE35', 'H265MC71', 'B335HB35', 'M119YB777']\n",
            "['A035XA35', 'B773BE750', 'A571XX197', 'X506PT777', 'T555TA35', 'T469OH750', 'Y955EC35', 'T967CH35', 'T673OH35', 'T206CO190', 'A184XE38', 'C299KC199', 'P048OP750', 'H806HB777', 'T847MK35', 'O052YT150', 'B227HE35', 'T606XP35', 'B945XY197', 'M967ME777', 'B146TH152', 'A714PB35', 'P204EO799', 'B578YK35', 'C930CO35', 'O505OP750', 'A736KA750', 'C188YC777', 'T870CK62', 'A897PB35', 'T869PT750', 'M866XT42']\n",
            "['B913EE35', 'B043CC35', 'E578YE178', 'T865MT190', 'K205HB199', 'Y612EY35', 'A334BC777', 'O027MM40', 'C592PO750', 'B400AP197', 'B979PY197', 'T437MT35', 'C870BA35', 'E034BM35', 'A522CA35', 'C941HA35', 'X007OC197', 'A952XA35', 'P006AY777', 'C070XE178', 'E731AX35', 'M041BP50', 'P494KE197', 'X419AY90', 'B960CC35', 'A629OA150', 'O585CK47', 'M341TO32', 'B069XP197', 'B725AA35', 'T473OH22', 'E548HY750']\n",
            "['M813XY152', 'H400HB116', 'Y497AO777', 'K016XT77', 'X007XX52', 'B935AX35', 'B356MA35', 'B144OO35', 'A417OY35', 'H877YH77', 'B187BM13', 'B247AT35', 'H940MM190', 'A977AT197', 'M282YH197', 'P873BY71', 'C700MO190', 'M140KC90', 'O393EB47', 'H444AB142', 'A906O69', 'O185OM98', 'B444XA50', 'M267AA199', 'A932OO35', 'K179BE50', 'B996KC33', 'E617BK777', 'B449YK35', 'B001XY90', 'X475XM190', 'Y581EE35']\n",
            "['H375PK777', 'E725AX35', 'E363AO178', 'E027AM35', 'T303BE190', 'M382AO125', 'H822AH750', 'B609BB197', 'T494XA47', 'A842OT178', 'C541XH777', 'B252XE35', 'T043OT177', 'H473AX197', 'B019EE35', 'T572PO35', 'H180PT174', 'H848AA197', 'K449TX178', 'C348XC35', 'A142OY35', 'C523YB86', 'B012HX35', 'Y320BE750', 'P002AM150', 'A056YA35', 'C411XH777', 'B212OO35', 'H214AP77', 'T690EC197', 'E886YC77', 'E544BM35']\n",
            "['Y788EE50', 'B987CX35', 'A844PH197', 'E091BM50', 'M553BM777', 'E013XP113', 'K736XM197', 'X322CB199', 'E999TY199', 'A714MP90', 'T429BK178', 'O708XT47', 'C367ET750', 'B548HB35', 'E318OA71', 'P758BP799', 'Y036BT35', 'H896HH59', 'A638XX198', 'T960YB777', 'P114KY750', 'P510YE35', 'Y745EE35', 'P954TA35', 'C787HE35', 'T013AO35', 'M058AC152', 'B131EE35', 'Y735PP76', 'C365KB777', 'C105YH199', 'A001CC172']\n",
            "['P423MB777', 'P027C177', 'E958ET60', 'E712BM35', 'A911OA178', 'T336BH35', 'B380EO35', 'T001MB177', 'A556TY35', 'B979BA190', 'B578YK35', 'A631AX799', 'A553YY97', 'C900OT190', 'P540OM750', 'O182CM197', 'A119AO777', 'E032BA777', 'C333KE35', 'E125EK125', 'Y141EE35', 'B240CK35', 'M463BK777', 'O000OO00', 'M466HH750', 'M532EH125', 'B690BO197', 'P498EC197', 'T462HE199', 'E688AX777', 'B583XE35', 'M972HC71']\n",
            "['T374XE190', 'T433KT199', 'K949AP777', 'X120YC190', 'X825KH98', 'O805CC178', 'C973YB197', 'A119AO777', 'T871KY35', 'K766AP199', 'M584PB46', 'H939CE177', 'T035CA35', 'C671KM50', 'P136MH777', 'B705YK35', 'Y886OT177', 'A801TY35', 'A317XX35', 'T328OT35', 'B764BX777', 'T363BY50', 'K780PM68', 'E308CM197', 'B626AK177', 'A789KK77', 'E432PA197', 'Y753BA59', 'E973BK35', 'A299EP799', 'T394YP35', 'M717CT190']\n",
            "['T515EO50', 'Y820OC777', 'X615HC777', 'T865MT190', 'E999HK99', 'P199KB750', 'B247YK13', 'H121OK190', 'B991XO777', 'Y440PK90', 'C108YO777', 'O975AA190', 'B009OM35', 'P468AB197', 'Y929EE35', 'T230OP35', 'T823HY35', 'Y649OC777', 'B102KX35', 'K495TK40', 'P470XA47', 'E762EX777', 'E156CY197', 'T110OE178', 'X752EM197', 'C483PH42', 'M300XC31', 'Y503OT24', 'Y222BT199', 'B334YX35', 'M490CH174', 'K874XA77']\n",
            "['X150OT190', 'O717AO50', 'A672AK799', 'C682MP150', 'B325EA750', 'B038HE35', 'Y759KO35', 'E984KP45', 'X604OM77', 'A003AE04', 'A141XO35', 'H997KH51', 'M502KE777', 'M079CM71', 'C509YC197', 'E693AX35', 'P266YH777', 'O035EY777', 'H767CH40', 'K831BE750', 'P850MO77', 'P775HY71', 'T714KH35', 'B781MA35', 'P059YK777', 'B245CM35', 'A454XX35', 'B769BK35', 'A552TM116', 'B209EE177', 'T424PA750', 'C835HM35']\n",
            "['A290AP777', 'H267AH199', 'E008AM35', 'Y720PM750', 'T912PP35', 'T689TC35', 'B810EH35', 'E977YX197', 'Y912YC190', 'P111MK197', 'M099KK51', 'A755CH35', 'P817YY197', 'O173BT150', 'B281HK178', 'K377BA777', 'O081PY31', 'M273TX197', 'H727XY197', 'A041ET197', 'O068CX199', 'X767OO197', 'K796PT77', 'A686BT197', 'A711EA77', 'M229PH178', 'K052OY97', 'B980EY35', 'B070MH35', 'C370PE777', 'P538OM750', 'P846BK750']\n",
            "['H343KX197', 'T889HK35', 'A595KX134', 'M248AB99', 'O751KX35', 'C497TY35', 'P494KE197', 'B203KT190', 'X254YB199', 'T301BP750', 'Y503BM750', 'A944OO35', 'Y788EE50', 'B180YA35', 'X752YM777', 'B490XK35', 'B947EB35', 'H181HO178', 'Y778KK35', 'E174BB35', 'P831OE35', 'E548HY750', 'X639AT777', 'K217HA197', 'B043YH35', 'B915KK178', 'T281XA35', 'B202TC35', 'K725OY97', 'P650PY199', 'H335XX40', 'A289BH199']\n",
            "['B225BB777', 'T093AT35', 'M176PC197', 'E438BK77', 'B980EY35', 'K122KM197', 'B868ET35', 'Y718AY35', 'B888CY35', 'B294XK35', 'M085PY50', 'H448OC197', 'P922PO777', 'T672BC750', 'B599YX35', 'O128PP777', 'X290XP777', 'E825XC36', 'A175PB35', 'Y435BE750', 'M421YK46', 'B206CK35', 'K500BX05', 'B445AX750', 'T921XP35', 'M564OA197', 'T001MB177', 'C348OY199', 'M666MM21', 'A761AY198', 'B937EO35', 'A802TC35']\n",
            "['A997PY199', 'Y762EX777', 'B212HH750', 'B452BE35', 'A119AO777', 'Y797CK197', 'C395OB35', 'M572EP77', 'T796PA750', 'T929AC35', 'H826EB161', 'P051AK197', 'A704TP35', 'K168PA777', 'A975OT190', 'O727YK35', 'M404CK197', 'M676XO197', 'T269AY777', 'E953BO50', 'B325AT35', 'Y033YT197', 'C219TY35', 'O174HB197', 'X444YK99', 'B499AT177', 'T846OT35', 'E014CE190', 'B584XK35', 'A826XB35', 'M877OH777', 'K406MB197']\n",
            "['A893BX197', 'A184XE38', 'E553XX29', 'P717AO197', 'H077KT60', 'B365EB35', 'C098PO750', 'B975AY35', 'M679AY777', 'T850MC35', 'K828EA116', 'M173CE32', 'H461BY799', 'C441HH35', 'B678AT35', 'E139AX35', 'C461TB199', 'P787AX777', 'C289BC35', 'B157XM35', 'M003PX190', 'P703BM50', 'O490PB190', 'T321CB35', 'Y974BE750', 'Y424PT77', 'Y401AA35', 'O325PC38', 'A654TP35', 'B377MM99', 'O278MP150', 'M085PY50']\n",
            "['B556HB35', 'B038TO57', 'H189EM32', 'O299PM197', 'B572PE190', 'B760PB35', 'A232AC777', 'A504CO197', 'T915KB197', 'H877YH77', 'B156EY35', 'B247BE35', 'A412BX37', 'A536TX35', 'B279BY35', 'T594YC35', 'E359BM35', 'A456YM76', 'B138YX35', 'Y552BC77', 'O969KT197', 'T526TY35', 'A110AA97', 'M263KY26', 'T477TT99', 'A122TB177', 'A369YA35', 'Y140YB190', 'T247AT777', 'O139OE197', 'T516KK35', 'P500BH190']\n",
            "['B738EB35', 'A493XH35', 'B049MH35', 'A782PY35', 'K019TH29', 'H110PA57', 'T442KX199', 'T071HP77', 'Y472KX750', 'K640BX190', 'B227OO178', 'T642PY69', 'O086YE47', 'O280BP777', 'B416OX190', 'K811PE116', 'P008HP190', 'X479MO98', 'O809CB199', 'B907YH98', 'T450PC77', 'E006PX777', 'P473AX71', 'M526KT190', 'E770AX799', 'T995KH43', 'C768AO750', 'O208OY59', 'B192KH21', 'C900OT190', 'T312PA35', 'H000KK29']\n",
            "['C917TO199', 'Y961HO197', 'T404EM178', 'M414PM190', 'M421YK46', 'O644KB40', 'C444AA35', 'Y747CP777', 'H965KY197', 'K973YP77', 'P470TT197', 'A119XC777', 'Y446YK197', 'T225ET47', 'P592PT750', 'T230OP35', 'B278KX35', 'Y602YM190', 'Y907OM98', 'C265OH197', 'X801TA178', 'P563KC71', 'E438BK77', 'E173XY777', 'P494KE197', 'T584AA777', 'B886YX35', 'T987TC35', 'E016KY197', 'Y496PX178', 'B989XM35', 'C505CX35']\n",
            "['M394YX46', 'T813BK199', 'H316CK199', 'P072HB31', 'K720MM190', 'X888KX190', 'C700OC35', 'B129YM35', 'A881YP35', 'C700OC35', 'A646KY116', 'Y514XC98', 'A042AH197', 'B703AE35', 'X728HC77', 'P747EA197', 'A885YB197', 'P607OB102', 'C483PH42', 'B368HE777', 'P122MO750', 'B212OK35', 'O463EH197', 'T646XT150', 'P561OM750', 'X475XM190', 'T890CK35', 'E601TB197', 'T005XM47', 'C672PP47', 'O007OO77', 'B899KE35']\n",
            "['A942YA77', 'O736AM777', 'X666AM199', 'Y960PT47', 'T998XC98', 'E651HH750', 'B466KE35', 'A750PY35', 'P136MH777', 'C396TX35', 'B086CE197', 'P736HT178', 'Y496PX178', 'K040YK82', 'T338OX35', 'K179BE50', 'O481MA99', 'H120PX777', 'T841OH35', 'E750OK750', 'B606TH35', 'B519HE35', 'K817KM178', 'C523YB86', 'T526PP47', 'E522HA750', 'E656AA35', 'M291MH178', 'T862OP35', 'H540AM777', 'B268KP35', 'E269XB77']\n",
            "['B006EH190', 'O082CC59', 'O519OY197', 'M252TX71', 'B086CE197', 'T957EP97', 'K152TK178', 'B739TC35', 'X837BM777', 'A076BO99', 'K282MH98', 'C398YX77', 'Y268EC35', 'X655BH199', 'H707PE47', 'H948CE777', 'C820BC97', 'Y111EE35', 'Y236ET47', 'T864PA35', 'K066ET50', 'T682PA750', 'A323BT777', 'P494KE197', 'O573OO90', 'E439AH35', 'A805OA777', 'H933OT777', 'X065XX35', 'P211XB35', 'P637HK777', 'C719AP35']\n",
            "['C122MX750', 'P137MB178', 'T981CY197', 'B881CX35', 'K233YY82', 'A833TX35', 'B886PE197', 'K508AH750', 'T993AE35', 'M423CK178', 'B394HY35', 'B241AT35', 'A818MY177', 'H885CA69', 'T500EH35', 'X243HO150', 'E402CM197', 'K721TA197', 'B671MB35', 'T032XO777', 'X248MM69', 'P931OM750', 'T120KB750', 'X120YC190', 'H105EM197', 'O708PT77', 'B196XK35', 'T315TK35', 'B960MA35', 'B919XE35', 'B063BC50', 'B201MA35']\n",
            "['H678XB777', 'E946AX124', 'X375YE38', 'T316XA35', 'P787EP50', 'T742OH71', 'Y779PK199', 'H132MT31', 'C523YB86', 'P955EM50', 'A504CO197', 'Y430EX96', 'A377YC35', 'C280HP197', 'Y064KM35', 'T825MY35', 'B806OX21', 'T101OY777', 'P228YK35', 'B001KK35', 'H400HB116', 'B368CX35', 'B260OX77', 'B427KT35', 'A958PX35', 'C671KM50', 'K881CK750', 'X773OP750', 'B466TC35', 'B330HX35', 'B370EY35', 'K468XK777']\n",
            "['Y771PY777', 'B765YK35', 'T035CK35', 'T498OA35', 'A109CC35', 'T255CH35', 'A762TM777', 'K482YY199', 'B439CK35', 'B680EY35', 'X688HC777', 'B972MB35', 'Y558PH47', 'O323PY750', 'X703CT47', 'C758EO799', 'C726EA35', 'A336KB197', 'A700XM197', 'H834KA197', 'T049MC77', 'P258AC197', 'Y916YT197', 'B121YK197', 'K455HX750', 'K767PK178', 'A385TP35', 'T252AB99', 'Y036BT35', 'X987PT77', 'T725CH35', 'A937TC35']\n",
            "['Y331KP35', 'T468KT777', 'P184HA71', 'O979TO199', 'T044HY35', 'B445AX750', 'M698EB750', 'M404EH90', 'X106EP67', 'M032HB190', 'B035XB35', 'T378XE35', 'P418YH197', 'E916CB77', 'O954TO190', 'T253YA36', 'O763EB178', 'T862XH35', 'M925KY124', 'B759XM197', 'T865MT190', 'X576YB199', 'T741XE35', 'X345KX750', 'P494KE197', 'P100YC31', 'K317YX77', 'C869MA35', 'X355KM777', 'X801TA178', 'C928TK116', 'C077AA190']\n",
            "['T747XH35', 'B684KX35', 'A184XE38', 'T657KH35', 'Y664MM199', 'K022HT50', 'A119MH199', 'E908TB150', 'P770YT177', 'T263HM199', 'M421YK46', 'E712PT197', 'B846HX35', 'B276CA177', 'B771TT35', 'O520EK799', 'B737CB35', 'B143BO799', 'C254BY777', 'H131TE05', 'A859XB35', 'C168TX53', 'M114XH71', 'O422TK777', 'Y521KO35', 'C764XO190', 'Y526OH197', 'A184XE38', 'Y226EP35', 'O128PP777', 'K579TO177', 'X810KM177']\n",
            "['A261TE126', 'B278KX35', 'A454XX197', 'K347AB750', 'B238HE35', 'Y626XO178', 'A211EB716', 'C648KT199', 'M167PY77', 'B796PB35', 'T892TE35', 'H023EA199', 'A789BB152', 'B489CX35', 'H900BH777', 'A041KC37', 'Y469YA177', 'M421YK46', 'H754YM38', 'H008XE98', 'A818KT750', 'B521OK35', 'Y412PX77', 'H306PX77', 'K028BP71', 'C584YP35', 'A594XB35', 'T179TK35', 'P667YE199', 'O413BO11', 'A252CH35', 'T119TK777']\n",
            "['O646YM77', 'C254BY777', 'C384EB35', 'H950HC71', 'H296YT197', 'C272PA35', 'A869MP97', 'T128PP76', 'P789CP34', 'O736HB197', 'K898AE199', 'X347TP177', 'B635EY35', 'B102KX35', 'B734AC35', 'A670XH35', 'A263CB199', 'A556TY35', 'T262YC197', 'K103AH799', 'E167XH77', 'B157CC35', 'B917TT35', 'A530KP750', 'B424XT35', 'C978YH35', 'P592PT750', 'A804MT96', 'C695XH35', 'O772EP799', 'P741YP71', 'P053EX60']\n",
            "['B676CM35', 'B580PA35', 'K484OH197', 'T097OK71', 'P075OO190', 'X984OC777', 'C090KO750', 'Y309MB78', 'H054MY67', 'B183YP28', 'Y345EY35', 'P193YH197', 'M701YM178', 'T177MM177', 'A059HO77', 'K697EP199', 'B834AT35', 'K264ET197', 'O606OE47', 'P095BM799', 'T838BB35', 'B532PA35', 'C376BO750', 'Y687PC777', 'C483XY197', 'B247YK13', 'T998XC98', 'P620ME35', 'X084OY777', 'M116MO777', 'C384EB35', 'T791EE35']\n",
            "['E764KB777', 'O151KX40', 'B806HY35', 'E495MH750', 'H466TO199', 'T916PX35', 'O791BO799', 'K075OE29', 'H912PP199', 'B344EO178', 'A571XX197', 'M282YH197', 'B542CK35', 'B631YK35', 'O413BO11', 'T970CE750', 'K711HE750', 'O946KM31', 'A277TX35', 'H784TC197', 'T772OT199', 'H596AT750', 'T020EP35', 'E015TP197', 'P300CA199', 'C060CK750', 'B170CX35', 'H927CB750', 'H177TE77', 'C734XH35', 'E906PA199', 'T777KX35']\n",
            "['B531TC35', 'B137CC35', 'M740CC77', 'T056BK777', 'H432TK197', 'E075AA102', 'B588KA77', 'B155BA65', 'T418HY35', 'O338KP197', 'T009HT24', 'O182MC190', 'C050OO35', 'A088KK60', 'T747PA750', 'B156CK35', 'B784XK35', 'T542CB35', 'E734BA35', 'E476HC750', 'H378PM77', 'H219AB150', 'B153XE35', 'B986XX98', 'E814AE750', 'Y684EY35', 'P100YC31', 'B567PB35', 'X243HO150', 'Y950YA777', 'C984XK35', 'T389XT197']\n",
            "['T276KE35', 'E062HK190', 'A304OE197', 'X696OX177', 'K600OC178', 'Y771PY777', 'E524XM77', 'A717CE35', 'P505PP32', 'T522TY35', 'E770AX799', 'A467PB35', 'B177HX35', 'Y643HE197', 'E906PB777', 'Y707EY35', 'E862CB750', 'C734XH35', 'T383CK35', 'C777XY199', 'B246CB35', 'B524KT35', 'M594YX46', 'B804PB35', 'B133TC35', 'B093KE35', 'E170BA35', 'B377MM99', 'O000OO77', 'M579CM750', 'X573PX190', 'B741EY35']\n",
            "['T345TO35', 'K075XO150', 'X347TP177', 'B074OE777', 'K539PH750', 'T701XH35', 'T476PA750', 'O507HA161', 'P481BC777', 'H075BP199', 'A468KP750', 'P124TK777', 'E136KE199', 'M045YY77', 'T910AB750', 'B690XB35', 'T468HY35', 'B147TC35', 'X681OK98', 'B750XM35', 'B861TP35', 'A727YK77', 'M118MO777', 'T797OP35', 'A007HE178', 'E309BP35', 'B298OY35', 'C937CC177', 'C441HH35', 'X738EP777', 'C219TY35', 'B499PH35']\n",
            "['Y624MA777', 'B785ET35', 'E310CP71', 'K974AE99', 'Y453YB102', 'T077HK199', 'A931TT197', 'H562BE50', 'T487MT99', 'B442ME35', 'P002AM50', 'C415CX35', 'A119AO777', 'C976HH35', 'O310EP190', 'B767MH69', 'B654AA35', 'M830YM40', 'B845EY35', 'B584AK35', 'E492TA152', 'P791CO35', 'C522BA35', 'B588KA77', 'B377MM99', 'X007CP33', 'T427MM750', 'P384CC197', 'P211PT47', 'X870YC77', 'A818KT750', 'H883XK197']\n",
            "['T738AC35', 'P826CY71', 'X550EB750', 'M717CT190', 'A323BT777', 'M402KX199', 'P646M177', 'P900AB178', 'B739TC35', 'E820AM35', 'T478XY35', 'X801TA178', 'B804PB35', 'B962EO35', 'B113XM35', 'C897MM77', 'B255KX35', 'B316KH77', 'M238CP777', 'B079CX35', 'C061EY177', 'K374TA190', 'X508HO47', 'A914EK98', 'T201BC35', 'O048CA38', 'P470TT197', 'B474PB35', 'C786KB777', 'T673HP197', 'P531MT777', 'A168XE197']\n",
            "['X808YA777', 'B881YY35', 'O751KA40', 'B626AK177', 'T533KY35', 'E621MY98', 'E876HT46', 'B759XM197', 'A119AO777', 'C181PO750', 'O432TO116', 'M500TC52', 'A683OO35', 'A036XA35', 'P256CP777', 'K868YK36', 'B664PB35', 'A302TT152', 'C608CM750', 'O341BE799', 'A119AO777', 'P494KE197', 'Y478KA777', 'T625EP799', 'T396OX199', 'B879EE197', 'Y087EE35', 'B192KH21', 'B199ME750', 'O391MA199', 'H611BB50', 'Y503EY35']\n",
            "['K503HC750', 'E698AB35', 'B111EE35', 'P111MK197', 'T071HP77', 'A785YA77', 'C928TH97', 'Y059CH777', 'T451AT98', 'M717CT190', 'T635KP77', 'T779YX35', 'K086HH77', 'B001XM190', 'O905EX197', 'O842OO97', 'O804PO77', 'B376OC35', 'P255CB197', 'E024BA35', 'Y582AY35', 'E227OP72', 'E098AM35', 'H715YB199', 'B823MA35', 'X998KO77', 'Y430OK33', 'C668OA35', 'M928AY750', 'K549CE190', 'B042CM35', 'B258AM799']\n",
            "['H295PP190', 'B971XX190', 'B912OK35', 'M025KX750', 'B627ET35', 'P423MB777', 'O715KX197', 'M282YH197', 'B978PY64', 'P881MA69', 'O057BA50', 'B477YM35', 'X941MK777', 'P371HT35', 'O802HY77', 'B416OX190', 'C267TX35', 'A274PT750', 'M473XO197', 'K395XA197', 'T882XB190', 'Y514XC98', 'T429BK178', 'C902YT197', 'T635KP77', 'A071TX71', 'B712MA35', 'T499MK777', 'X290XP777', 'T726PX35', 'X596CE197', 'M916CO197']\n",
            "['P531MT777', 'B958PO199', 'B050EK35', 'C233PP35', 'Y161PB02', 'A113BT750', 'Y430OK33', 'H454AY750', 'Y955PB750', 'B020KT77', 'H973PX197', 'H550MT90', 'A175PM750', 'H640OB178', 'A621XC150', 'B349TT35', 'C239MY35', 'O971BB35', 'P223YO71', 'H578KY199', 'A429YB21', 'E495BM35', 'Y100AA98', 'B464EA799', 'A506MP97', 'A184XE38', 'C818TK22', 'H454AY750', 'B575EO35', 'C375BK35', 'E811CE197', 'E375BA35']\n",
            "['E540ME197', 'B799TT35', 'O962HX77', 'B019EE35', 'T809YT77', 'M781AA777', 'T467PC35', 'C613PK190', 'C461TB199', 'B327OH21', 'O505OP750', 'A001CC172', 'B577OA35', 'C461TB199', 'A042HB197', 'Y463TA190', 'A113PA150', 'C739MX35', 'C777BK35', 'M989AK777', 'T634YP35', 'A653CB777', 'P874AA34', 'K341TC199', 'B161HC178', 'H454AY750', 'O968EX40', 'C140CK35', 'K980HP750', 'B626AK177', 'B737KX35', 'A519PK35']\n",
            "['H020HH102', 'T074XP197', 'A424TX35', 'P494KE197', 'Y752KA197', 'T250EE777', 'B780YB21', 'C523YB86', 'C442AC35', 'E999HK99', 'C211OO177', 'B215AA35', 'Y100AA98', 'E673AK35', 'T584AC178', 'T288PA35', 'O139OY77', 'B184TC35', 'X336BP197', 'A568AK50', 'C813YH35', 'C318PT35', 'C833ET35', 'O115MT197', 'T998MY35', 'A789KK77', 'B995YX197', 'B118MA35', 'A330CE35', 'B949AT35', 'M887HC750', 'T528AC57']\n",
            "['O775MB750', 'B860AE35', 'H590AT197', 'T666TT36', 'M129PH199', 'H503KB50', 'O137PE197', 'Y276AC35', 'C733AP777', 'B488AT159', 'X769TH47', 'P065OO71', 'B050CB86', 'M538MM173', 'B655AE35', 'Y120XE177', 'T672BC750', 'T417HY197', 'E195OE77', 'T915XA35', 'H400HB116', 'M095TM150', 'E908XM197', 'M984HA150', 'A459OY35', 'O968EX40', 'B780PP35', 'T880YO35', 'P494KE197', 'H881PA77', 'T770XO197', 'B153XE35']\n",
            "['H954KE197', 'M496CO197', 'P941TY71', 'B996KC33', 'P907AC777', 'E975AX35', 'P921PP190', 'O550YO77', 'Y320BE750', 'M706XK199', 'T222MK35', 'O962HX77', 'A687OO35', 'K962AK750', 'O389PE750', 'X294KE799', 'T473MO47', 'A783CX35', 'E318BA35', 'M694XH150', 'K475PB71', 'H719AO197', 'B603TK190', 'T973MM190', 'B558TA35', 'E742YY177', 'M653TO199', 'B233PC197', 'B920PA35', 'H983EA46', 'B875KK35', 'K101EB199']\n",
            "['H853XB199', 'H520PB77', 'B599EO35', 'O716XE77', 'X154OO77', 'O520EK799', 'H727MH750', 'A562CT199', 'Y276AC35', 'B060HK35', 'P528EA77', 'A745XY198', 'T550XH35', 'A717CE35', 'O697MB40', 'T718BA35', 'B706HX178', 'K011TT98', 'B089CK35', 'H046XP197', 'X011KM178', 'H769EM07', 'T715XY35', 'B567XK199', 'Y396EC35', 'K455MM197', 'X478XA199', 'Y821HC197', 'M204AH750', 'E970TO150', 'H401TE40', 'T735AC35']\n",
            "['A184XE38', 'X294XO190', 'K213TP77', 'P548CB178', 'T755PA750', 'Y304XY77', 'C537CH777', 'O815OA777', 'M421YK46', 'T551BP35', 'P333PK777', 'K986CA777', 'A383OO197', 'T252KX199', 'B846EO35', 'K538MP123', 'H042OB116', 'H235PY777', 'C671YA35', 'M236HO197', 'A676TO197', 'Y785AT35', 'X577TK199', 'E849XC190', 'X724PB197', 'C191CY77', 'B250TP77', 'P090MA35', 'A934YC150', 'O061AX750', 'B834OO35', 'A892XY197']\n",
            "['X508HO47', 'C855KO750', 'X705EM47', 'X367HK750', 'X262HT69', 'H400HB116', 'B953PK777', 'B522MC197', 'H046EC199', 'Y041TC190', 'E113HK199', 'C009KM178', 'H880PX77', 'B119PA35', 'C117AX150', 'C454ME777', 'X816EC116', 'T415EC777', 'T730CO197', 'T971BM35', 'O655EE01', 'T430AP799', 'M110BX199', 'A320OY197', 'A119AO777', 'P071AT750', 'Y882YC35', 'O231BY750', 'A949BE777', 'A937CE35', 'K640PO777', 'Y600KB90']\n",
            "['O487BH777', 'B311TT35', 'K501OA50', 'C932TM777', 'M368HC197', 'H139YB150', 'T581BE35', 'A197CK199', 'A027EX190', 'B682TT35', 'B271BY35', 'Y731TB197', 'H808CM98', 'A003AE04', 'A899KC777', 'B612TO35', 'C523YB86', 'M917KY777', 'K638OX29', 'E300EK777', 'T987TT35', 'A977AT197', 'B101EK35', 'O868XY197', 'K557CT777', 'C113YE90', 'H113PO46', 'Y802YM777', 'A644TT177', 'K674AK750', 'A299OA190', 'X587BM57']\n",
            "['B482TY199', 'O763HE77', 'C535BO197', 'A742TP35', 'B050CB86', 'E298EB13', 'B227HE35', 'Y122XE98', 'E555HE177', 'B096MA35', 'P813OK750', 'P594KT71', 'K347KH177', 'B299HY35', 'T476PA750', 'A595KX134', 'A080YC35', 'Y009BC178', 'A269XH35', 'A977AT197', 'A818MY177', 'A119AO777', 'X033CC178', 'B558AB50', 'E035XC197', 'Y100PA150', 'K233AB197', 'B057OM35', 'E195OE77', 'Y886OO90', 'K962AK750', 'X356TX96']\n",
            "['P013PY35', 'B488ME750', 'A119AO777', 'B328PA35', 'X777XX77', 'P675TO35', 'H702YY190', 'K125YB178', 'A119AO777', 'T267CA71', 'E903PA750', 'O222TY190', 'Y409AY35', 'O695BY750', 'B575AE35', 'B778YT154', 'T466AX76', 'H688EC750', 'E278XH18', 'P125BM199', 'T645KM35', 'Y190XO197', 'A434TX35', 'P112CK777', 'M888OB777', 'B653PA35', 'T743TX102', 'T646MB35', 'H163OP777', 'O907KK77', 'M749MP77', 'Y519EM199']\n",
            "['O001OO01', 'T095KE799', 'B462HH197', 'T604AY777', 'B244BK50', 'B240YY35', 'A876PB35', 'T060BK197', 'C366YT59', 'H992EO750', 'A184XE38', 'P778HM197', 'H020HH102', 'X954XK74', 'M443TB40', 'Y627EK799', 'T578XY35', 'B714CY35', 'E833MM51', 'A813CX35', 'C675AE35', 'A883AE37', 'B491OE35', 'B891XK35', 'B416OX190', 'H130KE199', 'C900OT190', 'B025YY35', 'A955MY777', 'C407MM35', 'B190TC35', 'T186PM35']\n",
            "['H777AX97', 'T909EH35', 'H454AY750', 'E336EA35', 'T793XC35', 'A042TY178', 'T008BH35', 'C763YX57', 'B562CB35', 'B225AP35', 'Y980KO750', 'K482YY199', 'C984XK35', 'Y956CM197', 'B166EY35', 'A900BO799', 'C555KM750', 'K340AM777', 'Y619YM76', 'A184XE38', 'P222HE178', 'E438BK77', 'C383OK35', 'Y788ME750', 'T584KE197', 'Y105MO197', 'Y025TH190', 'A097OY35', 'K831BE750', 'A716PK35', 'K674TA78', 'A184XE38']\n",
            "['P151PH190', 'O906TK31', 'B601ME199', 'E318OA71', 'X895CB199', 'B155CM35', 'Y566BK97', 'B846HX35', 'P494KE197', 'A850PY35', 'A323BT777', 'C523YB86', 'E077BA35', 'B077EY77', 'C340OK47', 'B618AK35', 'Y488TM47', 'Y585BO190', 'C823XH35', 'O564ME51', 'Y362OP77', 'E763YK777', 'T571PO35', 'H008XE98', 'A972BA799', 'A010AA57', 'B074KE35', 'Y064KM35', 'M421YK46', 'T297PA35', 'B071HE35', 'H394MC150']\n",
            "['P842KP47', 'B435AP799', 'H880PX77', 'C892OB50', 'K149MA750', 'B550YB77', 'A578PY178', 'Y033KP177', 'P568BE777', 'Y149CX197', 'O516CK47', 'B544OK35', 'B262EY35', 'H505OB197', 'H801XB777', 'E416YK178', 'A999AA777', 'H377YB197', 'M940XA44', 'P057YA177', 'A894CA777', 'E894CP97', 'E397MO163', 'Y860KH76', 'K811PE116', 'T524XX35', 'H632CB777', 'E472BA35', 'H317MC750', 'A603TY35', 'T524XT777', 'C717PM199']\n",
            "['O000OO77', 'Y009EP47', 'T788OT35', 'M358TP40', 'O489KT47', 'X251HP197', 'B573AK35', 'Y224BH799', 'K486EA68', 'C801OB35', 'Y210CH777', 'B722CK35', 'C150AM750', 'X455MM197', 'B899OK35', 'A429YB21', 'A417OY35', 'T469OH750', 'T494XA47', 'T809YX35', 'O017AM777', 'Y705ME197', 'C269CA197', 'H950HA40', 'B799AA35', 'T321BO199', 'A170CH35', 'T962CO35', 'P994OB71', 'K103AH799', 'H798HE47', 'E014MT199']\n",
            "['X995EA47', 'B962EO35', 'A899AX199', 'E171AX35', 'A229XO35', 'Y242KM35', 'A575BA150', 'Y346KA197', 'K947AB178', 'X935TX190', 'O278MO150', 'E486XO178', 'K068MC32', 'X777XX77', 'H775MM46', 'H020HH102', 'Y975AC89', 'A878OO35', 'B521BE35', 'A652CA35', 'B427PX190', 'E272XE197', 'C609CT777', 'M940XA44', 'E222KX23', 'M517TP197', 'T894TK35', 'A122KP750', 'K928CA199', 'C865XH35', 'T267CA71', 'B101EK35']\n",
            "['H368EE40', 'E318OA71', 'H962MB799', 'E338XK150', 'H044AH750', 'A001CC172', 'Y116OC178', 'B371YP35', 'H999MC190', 'O775EA39', 'B024YH35', 'C220MH76', 'C944YA199', 'H962MB799', 'Y679MO777', 'P112CK777', 'K231HE29', 'X222PP150', 'P364PT750', 'X880XB150', 'A088XX63', 'E631CB123', 'B759PB35', 'B616MA35', 'A037OA134', 'M989AK777', 'T478CK35', 'T894EE35', 'T200TB35', 'X695AY190', 'P923BC35', 'C753MX799']\n",
            "['H133BM799', 'P494KE197', 'C053HY177', 'P877XH77', 'T933TH35', 'B734XM35', 'X828PK177', 'H166TB777', 'C282MH77', 'P873BY71', 'P325BX750', 'M500YO199', 'C941HA35', 'T100HM35', 'X260BK77', 'A565OY115', 'T634TB750', 'X001XX166', 'O070MM40', 'E849MM197', 'E200PA178', 'B289KX35', 'B626AK177', 'A585YH77', 'O835TH152', 'H654BC799', 'M888EO68', 'M003PX190', 'B651AC35', 'H464BH50', 'Y853HT777', 'O418XO72']\n",
            "['E749EO35', 'O209XM35', 'T992BM199', 'B283CM35', 'O351XO36', 'B299HY35', 'X972PE197', 'T124MP77', 'P498EC197', 'B487AT35', 'H927CB750', 'M584PB46', 'B586XH777', 'C446XA150', 'P850MO77', 'Y503OM750', 'B427CB35', 'A119AO777', 'C035HM150', 'M777CT71', 'T631TK35', 'T131KM777', 'A783CX35', 'Y777CA750', 'B410XK35', 'A322CK35', 'A613XE190', 'B020KM777', 'A972BA799', 'P155KT35', 'E726TC77', 'B181CB35']\n",
            "['B055PA35', 'P321MA750', 'Y146HK190', 'E613PM77', 'Y283AO197', 'P637HK777', 'A417TC35', 'A428OY35', 'A911OA178', 'A553PM35', 'Y396EC35', 'T466AX66', 'T106AC197', 'P433KM178', 'Y831AC35', 'C671YB199', 'E451AB35', 'Y188BE799', 'T475EA116', 'C743XB777', 'B205AK35', 'K666YE178', 'T817OH35', 'T995KH43', 'A630CE35', 'C261AC190', 'C510PE777', 'B996KX35', 'B918PB35', 'E073BM50', 'B730HB35', 'T147XY178']\n",
            "['Y552BC77', 'P826YB197', 'Y398KP35', 'T293PP116', 'B549CX35', 'B892CM35', 'T093AT35', 'E227OP72', 'Y820OC777', 'P882YC35', 'E903YA190', 'E809HT197', 'T499HT750', 'O032HC197', 'E808BA35', 'O550HP77', 'C512KY777', 'B373TP35', 'B685MA35', 'P605HE97', 'A300HM35', 'C464BY777', 'C441HH35', 'H133AB99', 'T833XE35', 'B586KA777', 'B610OY161', 'P440TM35', 'E359BM35', 'T477AO197', 'B050XE35', 'A568CE35']\n",
            "['O964PO47', 'P446YE199', 'T278CE71', 'O360EP197', 'B626AK177', 'A633TP99', 'H656HK26', 'A119AO777', 'P800MB35', 'B427AO35', 'B678BK35', 'A869MP97', 'E427OH777', 'A809OB77', 'M643YK47', 'B112YX35', 'O483AT77', 'C469TM35', 'P588PM77', 'E648XK77', 'B564PK150', 'K807EM199', 'O020KC57', 'B353XC199', 'O333OK750', 'P577HO77', 'Y341EB35', 'A122KP750', 'E365HH197', 'M108OB77', 'B754YT35', 'X048EO178']\n",
            "['K740HO777', 'A990CB35', 'X812XY47', 'M991KY177', 'K195EP72', 'B334CX35', 'B227TP35', 'K411CA43', 'Y413BY35', 'T508PP35', 'A001AA01', 'O814OC750', 'E442AM35', 'B301XC197', 'A697XB35', 'M613BO12', 'Y582KE35', 'B804AB35', 'X705PP98', 'A456YA35', 'X924CK77', 'P494KE197', 'A073PA155', 'B271BT750', 'B220EO35', 'B077KT190', 'Y414BX750', 'A651EC77', 'B569XP777', 'B097HK178', 'X703CT47', 'B137MA197']\n",
            "['O329YX98', 'M869XE197', 'T882XB190', 'A050XB35', 'E347YC190', 'M421YK46', 'K638KK750', 'B898YY35', 'A763MC150', 'Y747CX190', 'B001XM190', 'P971PM35', 'C264YK777', 'Y242EC35', 'E707XM190', 'E617AK35', 'E318OA71', 'M691AK34', 'C363BK50', 'Y983KX190', 'X777XX77', 'A157BP197', 'B472OO159', 'H588MH750', 'H957YA197', 'B792EH198', 'B128AC35', 'O261KM750', 'A932TC35', 'Y446YK197', 'Y746BM197', 'P494KE197']\n",
            "['X893TM190', 'X886CT24', 'A861XB35', 'E678YH77', 'B034CK35', 'A310PK35', 'E195OE77', 'H654TX199', 'P222EP97', 'P009KP35', 'O925TB178', 'Y450PA47', 'B050CB86', 'T497KE750', 'C596PA69', 'B626OE35', 'Y167AM197', 'M602HC190', 'E278XH18', 'A528XX35', 'Y793XP77', 'X475XM190', 'B240YA199', 'X348BA190', 'E787MB197', 'P308EB150', 'A860OB77', 'P781OT97', 'P352HP750', 'M871TT71', 'A401XA190', 'P652YP197']\n",
            "['A292XB35', 'B481CM35', 'B755KM199', 'T499HT750', 'B720BA134', 'B465CB35', 'C742MX35', 'T321CB35', 'O704TM197', 'B050CB86', 'T250EE777', 'H120MC199', 'E061BM35', 'A545XM77', 'B697AK35', 'B190YT35', 'P029AO197', 'B374KH50', 'C333EM199', 'T252AB99', 'A398OC35', 'B073CC35', 'E410HC750', 'B133CB35', 'M491XM150', 'E777XT46', 'A184XE38', 'B654AA35', 'K122KM197', 'O888OH777', 'A942YA77', 'H801XB777']\n",
            "['K080BE50', 'H811AP150', 'T725CX71', 'O838OO199', 'M189YY178', 'T108AP777', 'K941EY97', 'B121YK197', 'X776EE177', 'M271TK97', 'H719AO197', 'B281AT35', 'T866OP199', 'C280KC199', 'B136CB35', 'T674XH777', 'C523YB86', 'E946MX199', 'B748KH77', 'B868BM35', 'O775KA40', 'E692OY750', 'T297XP177', 'C555KM750', 'T340KH35', 'E828AA35', 'B439CK35', 'B836TT35', 'E001EE77', 'Y745EE35', 'O746TE197', 'B492OK77']\n",
            "['M421YK46', 'B489PO197', 'E015TP197', 'O925TB178', 'K575HM190', 'P465AK750', 'P778HM197', 'T807XP35', 'A942XO35', 'M421YK46', 'M995AB99', 'A119AO777', 'C523YB86', 'E156TK777', 'B182CX197', 'B708YX35', 'C887BE197', 'T486OB777', 'K500BX05', 'C781EY777', 'T769MY197', 'P863MB777', 'B470TH177', 'O212EY777', 'M989AK777', 'K067HK777', 'P409EK199', 'P473AX71', 'T361CB35', 'A999AA777', 'H862AH750', 'E455BY777']\n",
            "['T090MO750', 'T049KM777', 'K204MC799', 'E024BA35', 'M393MT93', 'T340PP35', 'A325PK35', 'B778YT154', 'P659BA777', 'C677HK154', 'E351XA777', 'T947TH35', 'A454XX197', 'T548HE77', 'B823PP35', 'B978PY64', 'O133MH77', 'A007CH35', 'P953AO199', 'K551MX199', 'X705YH47', 'P056BH93', 'M300XC31', 'E396CE777', 'K340AM777', 'X467MT190', 'T454HK35', 'M695EY777', 'O486ET777', 'A160YY35', 'C603YO35', 'C424TH97']\n",
            "['O941BE199', 'T212TC35', 'B841MO777', 'O983YO35', 'B155CM35', 'Y231TK190', 'E360EK21', 'T535TT90', 'B057HB35', 'O616XH199', 'M127AO178', 'K544AC777', 'K873MA197', 'M928KH77', 'C613AK47', 'Y497AO777', 'T731CH35', 'Y788PK190', 'B872OE35', 'P953PK750', 'M639YH197', 'C520AM197', 'C596PA69', 'A491XE777', 'A369YA35', 'A919YX77', 'P494CY77', 'A696XH35', 'H444KH47', 'P494KE197', 'O999PC39', 'C808ME35']\n",
            "['B274OO35', 'X772OC47', 'P606AB50', 'A231MP97', 'E649XT199', 'M207PK199', 'E450TM29', 'T725OE50', 'B085AC35', 'P745MO97', 'A880TP35', 'C989AO197', 'A707TB199', 'M189YY175', 'H041CK22', 'K305MC71', 'H026BB199', 'C697BT02', 'O016CC77', 'T951YP35', 'O788YA90', 'A172HH199', 'A033HO750', 'H350TC199', 'E032AH35', 'B153OO197', 'X848EA199', 'B444HB35', 'T606KA190', 'C929XA777', 'T876HY35', 'C688BO21']\n",
            "['B753PX190', 'B555HA35', 'T473OH22', 'H719AO197', 'Y344KK199', 'E973HM134', 'Y528PH750', 'B073BO190', 'M128HB178', 'P136MH777', 'H131EP197', 'B559PB35', 'A293YO197', 'O043AT777', 'B813XE98', 'E121HX178', 'X128EO178', 'K001MP32', 'A293YO197', 'H896HH59', 'C461TB199', 'B708YY35', 'B967TB190', 'H296XC40', 'A063MK197', 'Y969AB35', 'P381KE178', 'X406BP777', 'Y730EY35', 'H193YH197', 'B027YM35', 'B322XT35']\n",
            "['A713AP750', 'O310EP190', 'Y691XC777', 'C734YA35', 'E807BA35', 'Y345AY190', 'T725EC35', 'A542PK35', 'X702OC199', 'X500KK197', 'C728PB69', 'E290CY750', 'E031CM777', 'B222HB35', 'P194CA47', 'B441XX190', 'A971PE35', 'O128CA178', 'E089EB35', 'T208AM35', 'O636XA190', 'H005BT93', 'M897BK178', 'E750AB35', 'E824BK35', 'X234AP777', 'B999YT35', 'A119AO777', 'Y298EE35', 'E183AX35', 'X238KE177', 'K770MP77']\n",
            "['O499PC52', 'A003AE04', 'E843KO77', 'P650PY199', 'H999MC190', 'H824AA750', 'Y374AY99', 'B750OX35', 'Y079CE197', 'P954TA35', 'M699HE197', 'A841CX35', 'M404XT178', 'P467BY50', 'Y370AC35', 'Y715PB190', 'B696TT35', 'K016XT77', 'A527CB99', 'B718TP35', 'M114XX178', 'O171EY197', 'X546MC777', 'C863HC77', 'M801CP178', 'K692AB799', 'O232BC197', 'M976HX161', 'P971AT197', 'C414XM154', 'C427HM777', 'Y721OB777']\n",
            "['T699MC35', 'O591PB190', 'A826HP33', 'E517HO197', 'X106EP67', 'O176HM197', 'O048CA38', 'Y544AO799', 'X800AO799', 'B105EY35', 'B326MB35', 'E236EA99', 'A994OK35', 'B170CX35', 'M792PY77', 'C900OT190', 'B764BX777', 'A500EH177', 'M176PC197', 'E721TE177', 'O792YK777', 'B196PA35', 'B847PB35', 'B502TP35', 'B247YK13', 'B187BK35', 'B556YX35', 'K924YK197', 'E825XC36', 'B967PB35', 'M072HH750', 'P726EX35']\n",
            "['Y581PH750', 'Y122XE98', 'P577HO77', 'T757AP35', 'K666EX177', 'A690CY97', 'A157KE199', 'A931TT197', 'B158CB35', 'T612XY35', 'T747TO35', 'M914BO750', 'P500CB177', 'T655EP199', 'M375YP190', 'E764KB777', 'E669PO199', 'T638TC77', 'B860BE35', 'K185XY197', 'X243HO150', 'T521TO35', 'B364CT93', 'B727AT198', 'M421YK46', 'B963TP35', 'K051YM199', 'O638KB40', 'P418YH197', 'B892CC199', 'X934EX777', 'T461MY35']\n",
            "['B092MB35', 'C990PC95', 'T636XC150', 'Y917TP123', 'B146TH152', 'B570OP21', 'T403EY71', 'E731AX35', 'T846OT35', 'X257XX35', 'P763BH777', 'A001AA199', 'X700KK97', 'B209AK35', 'M231EK777', 'T388MB35', 'A779AA77', 'B539OK35', 'T466AY35', 'B896CX35', 'M784PC750', 'T347CO35', 'K234BO77', 'T993AE35', 'K949AP777', 'T364AA177', 'Y637EO77', 'T993BP197', 'M975AK190', 'B451PT777', 'K053YK190', 'A286OC77']\n",
            "['X178XM190', 'P522YX777', 'A358XB35', 'O699AP77', 'H094OX199', 'A305BY799', 'A069YP199', 'B373XK35', 'Y758AY35', 'B588KA77', 'X531KB50', 'T993MB190', 'X250YO190', 'M915OC178', 'H397KM102', 'T534XY178', 'E438BK77', 'B068XH77', 'B521TA35', 'B871PT750', 'B634YM35', 'M459XA199', 'M466OE71', 'O631YO199', 'B838OE35', 'B837HX50', 'B514XE35', 'B521BE35', 'E329PK777', 'C588XO190', 'X099PO47', 'A068OY35']\n",
            "['T871KY35', 'M231EK777', 'H653AH177', 'X884BB50', 'P225MA199', 'B183KX750', 'B269KK35', 'K097TM29', 'X212EM47', 'X533CA777', 'P900T99', 'C181PO750', 'B364BY35', 'P384CC197', 'T731CH35', 'B413BE35', 'B993PC35', 'H862AH750', 'B750TC35', 'Y446YK197', 'A618TY178', 'B244YX35', 'T367AB35', 'E707AE35', 'H775MM46', 'H139PY178', 'O001OO01', 'Y287MX750', 'M955KH177', 'A122TB177', 'H234TO197', 'M621OA777']\n",
            "['E156PK750', 'X706MO777', 'T870PO35', 'O697MB40', 'P907KH197', 'K730KP30', 'Y373ME50', 'Y242KM35', 'B628EA35', 'O906TK31', 'E506EB35', 'O338KC178', 'Y032AY35', 'A296OY35', 'B383EY35', 'O371KB777', 'B855OK35', 'P401MK750', 'A093MP77', 'B275OY197', 'T420OH35', 'K066XM197', 'M584PB46', 'P428O47', 'X099EY47', 'A041KC37', 'A119AO777', 'C633KY35', 'P063PC71', 'X465YH199', 'B548XK35', 'X329PO197']\n",
            "['M746AK50', 'B362CO199', 'T737EB35', 'A429YB21', 'B475KK35', 'A732HE777', 'A758TC35', 'B408EM50', 'A160HA750', 'T818XY35', 'B136PB35', 'M421YK46', 'B843CM35', 'B209AK35', 'K444OM98', 'C155TE150', 'E361AA35', 'T009PO35', 'M163AC799', 'B815TP35', 'B291TO35', 'A886TB35', 'T359YT77', 'O778PT77', 'C523YB86', 'T583KE190', 'B839AK35', 'E027AM35', 'B279BY35', 'Y282KP35', 'B688CM35', 'B626AK177']\n",
            "['T449PP35', 'H953PK177', 'O736YB777', 'Y759AB197', 'M775XY199', 'M865PH197', 'C042HO199', 'K047KX77', 'M989AK777', 'P461BP799', 'P593TB178', 'O006KH47', 'C904CC47', 'X095XX35', 'A119AO777', 'M624BA197', 'Y442YK77', 'K920YO77', 'T247AT777', 'Y009EP47', 'K505CA97', 'Y553BY35', 'Y776KK777', 'T649PC35', 'T550XO777', 'K663KM71', 'B464OE35', 'T312HA71', 'H358EM177', 'B075XM35', 'P999YO197', 'C840XH197']\n",
            "['X639AT777', 'B416OX190', 'T880KC750', 'P136MH777', 'E637HY750', 'M520KA50', 'B827HB35', 'B190YX35', 'Y461KA178', 'C968OA35', 'Y969HT150', 'E939AX35', 'B725YE197', 'M980BA750', 'X150XX35', 'O048CA38', 'T941YH42', 'C004AH136', 'E267BM35', 'H862AH750', 'E001EE77', 'O202TH777', 'C763YX57', 'B692HB35', 'A732YC35', 'A278OX35', 'B709AC35', 'B190YP21', 'A119AO777', 'P486PP190', 'T698YX35', 'A248YX35']\n",
            "['C610BT197', 'C353OT150', 'M841TX150', 'B196XK35', 'B278KX35', 'Y382OA197', 'O039CB47', 'H841ME40', 'C717PM199', 'H299OK197', 'A920HK37', 'C770KA199', 'X150OT190', 'M140KC90', 'T473OH22', 'A392PX35', 'P883PH35', 'B275KK35', 'M500TC52', 'B283TY35', 'H015OT150', 'E441KA750', 'P606EY177', 'Y602YM190', 'B393CE35', 'B506AH77', 'T924TT190', 'Y304PO177', 'T669CB35', 'T495XE77', 'P557EM750', 'A716TB177']\n",
            "['T555PH35', 'B310CM35', 'O606OE47', 'O048HE67', 'A705PX35', 'Y125BY142', 'A134CA35', 'H766PX77', 'K954AB777', 'C634XH35', 'C743XB777', 'A527AH190', 'X281PA190', 'M972HC71', 'B709XK35', 'M588KY77', 'X541TX190', 'T767EP47', 'A307YE35', 'P115OM750', 'C662CX77', 'O777AC178', 'B381YX35', 'P395HO178', 'B959XE35', 'C873BK50', 'E016KY197', 'A111PK35', 'B221HM35', 'E035XC197', 'H632ME777', 'C117AX150']\n",
            "['O422TK777', 'A411CX35', 'O523BP40', 'H266AH750', 'T683CB197', 'T095KE799', 'E613PM77', 'K580OT152', 'B478EE35', 'B050XE35', 'M513KM197', 'X501EA799', 'E341CH777', 'P408PY93', 'O077OX98', 'H437HK750', 'C914CX197', 'T694BC35', 'A555BM199', 'K766TM29', 'H082KH150', 'C589KM750', 'E010PC40', 'P266XP190', 'E027AM35', 'A491XE777', 'B262KY35', 'B922MY777', 'P494KE197', 'P780XH35', 'O728TP47', 'T217KE750']\n",
            "['C009KM178', 'P494KE197', 'B598OO35', 'T263HM199', 'B227CX35', 'B153BH197', 'Y222AE161', 'H368BT178', 'K719CM750', 'P336BH34', 'C244HO777', 'T582KA71', 'C364PT35', 'E032EB35', 'A805OA777', 'A119AO777', 'X755PH750', 'H919AM777', 'K640BX190', 'X269XP777', 'H247BO750', 'Y715AA50', 'H177XB777', 'H042OB16', 'Y409KA777', 'E448AP178', 'Y523EK777', 'C712PP750', 'B334YX35', 'X015HK750', 'A272CO197', 'T199TB150']\n",
            "['T270TT197', 'E111MM199', 'P530KP35', 'T847CB35', 'B738EB35', 'C197MC777', 'B282TT35', 'Y552BC77', 'T524XT777', 'A844PY35', 'O115MT197', 'O467AP777', 'Y644AC35', 'Y392YC35', 'B159AC35', 'B382XO190', 'B982EO35', 'A119AO777', 'P494KE197', 'H094PH197', 'B693AK35', 'H857PA190', 'A463YY150', 'P494KE197', 'B616CC47', 'E537CX35', 'M869XE197', 'B161OC35', 'B505EY35', 'T321TA777', 'C414XM154', 'T444YB35']\n",
            "['Y045MA777', 'A813XE190', 'E135AH35', 'K539PH750', 'C949TO97', 'K640BX190', 'K539PH750', 'A562CT199', 'A216CM35', 'B540BB77', 'M380CY190', 'T599EX35', 'K095TE46', 'T223KO190', 'P534CE97', 'K137EB197', 'T100HM35', 'A830XY197', 'T765CC190', 'E354ET77', 'A336KB197', 'O174OO154', 'T386OK35', 'K874XA77', 'O280BP777', 'X924CK77', 'B132TA35', 'M466HH750', 'B041PA35', 'X030HO98', 'X330AO177', 'B979BA190']\n",
            "['B193BT35', 'B451HY35', 'A919YX77', 'C562OP750', 'B692XB152', 'B026TO35', 'A408CX199', 'A861XO197', 'P500BH190', 'E970TO150', 'Y196BY35', 'T862XH35', 'K883PM29', 'B535XM35', 'T339XC35', 'M203BY750', 'C550OK35', 'H499MH190', 'T999OB35', 'A899TO35', 'A392YA35', 'X336TO190', 'H954KE197', 'A972AA71', 'B241KE35', 'T765OE35', 'P953PK750', 'A977AT197', 'K874XA77', 'P577XY77', 'X344XO777', 'P478HA777']\n",
            "['C858CC90', 'B010YH35', 'K642AA50', 'A186OO177', 'K285TB750', 'A630AP750', 'P254AE35', 'T245OP35', 'B559PB35', 'C107PB197', 'O047CM197', 'A465HX35', 'Y095AH35', 'M382AO125', 'A202KB199', 'H885PK97', 'A072XB35', 'C339MM35', 'A119AO777', 'E730YE177', 'T011BE35', 'O737PH35', 'B246XE35', 'B153BH197', 'K447YH77', 'P147BE123', 'O689XB77', 'A763PT57', 'T252YY35', 'H044AH750', 'B951KH199', 'M285PT71']\n",
            "['C619YB199', 'E351XA777', 'K145CP199', 'T780HY35', 'B883CB35', 'O289OT197', 'C256EA777', 'Y809BX35', 'B209EE177', 'T294OA197', 'K857CT777', 'T825YX197', 'C363BK50', 'B234BP35', 'C454ME777', 'T090MO750', 'B173YX35', 'C848OT150', 'C247TA197', 'X247XX35', 'C892OB50', 'B248AC35', 'Y414EC177', 'C182KC35', 'K041EH150', 'P832H66', 'B658MB35', 'T267XY35', 'E908PT190', 'B463KK35', 'M827AA142', 'P222HE178']\n",
            "['B532OC777', 'M158PK777', 'Y864TH22', 'E192CT77', 'Y283AO197', 'A042TY178', 'O067OX47', 'T610TE38', 'B896CX35', 'M173CE32', 'C991HH199', 'H699ME178', 'H311XP777', 'E376HE777', 'H137OM177', 'T420OH35', 'C243TP77', 'Y105CP178', 'C345YB190', 'T865MT190', 'P126XK178', 'B007CC35', 'T840EA777', 'O634BH178', 'B704AE35', 'C090KO750', 'P028EK777', 'H105EM197', 'B890EY35', 'H268OK750', 'K388ET197', 'H838MM77']\n",
            "['H219AB150', 'M088OP77', 'O174PK199', 'O528XC47', 'B599OK35', 'T360KO199', 'H001OK36', 'C505X42', 'B626AK177', 'T522PA35', 'P423MB777', 'H072XB178', 'H100XA177', 'B378PH54', 'B588AK35', 'P926KX177', 'H533AM199', 'P510TE190', 'A828TO197', 'O191BB777', 'T269XX35', 'K719TE197', 'T534EK35', 'B330EP35', 'H757MC750', 'H927HK199', 'T455OT35', 'E196MM97', 'B946HY35', 'T487MT99', 'T303BE190', 'H139PY178']\n",
            "['B327OH21', 'K495TK40', 'T482TP35', 'Y778YE199', 'B247YK13', 'O742MO199', 'T915KB197', 'M817PX777', 'T090MO750', 'B404KT35', 'B174TP35', 'B767PH199', 'T550XH35', 'K932CK750', 'X924CK77', 'A941PB35', 'T774PC77', 'H150MX31', 'T724XX35', 'T184EA777', 'Y867TA197', 'C998XY35', 'Y004AO77', 'T574YP35', 'B498MX777', 'K461OT750', 'Y236ET47', 'M540BO750', 'C904CC47', 'B226YM35', 'X924CK77', 'B555AT35']\n",
            "['K893OK750', 'X212CE150', 'T309MK35', 'T369AE35', 'B284KH178', 'C070XE190', 'P530KP35', 'B892CC199', 'C479BP777', 'Y789BO97', 'C244HO777', 'K670MO77', 'H154OH71', 'K919EC50', 'B232EE35', 'A487AO57', 'T478XY35', 'T270TT197', 'T467CE71', 'Y778KK35', 'T246MC35', 'T584KE197', 'C479XC116', 'P988BP199', 'O871MM197', 'T123TE35', 'Y639AA35', 'B203AT35', 'E363AO178', 'X555XX34', 'C600CC38', 'A213YA777']\n",
            "['E692OY750', 'A001AA01', 'X777XX77', 'C461TB199', 'T826YO77', 'T259YE197', 'A672CK97', 'Y937YP47', 'O750KA40', 'T594PP199', 'O479AE799', 'K873MA197', 'X777XX77', 'X611PA750', 'M388EC50', 'T414CC177', 'T825EB190', 'Y033YT197', 'H999CP47', 'X870YC77', 'Y130MA123', 'P126XK178', 'T026PX197', 'A119AO777', 'A881KH750', 'H400HB116', 'A389OY35', 'E649EH50', 'A700XM197', 'A408CX199', 'X987PT77', 'X655BH199']\n",
            "['O368CH58', 'B139CK35', 'T329HH77', 'C447CA197', 'P624MH197', 'A595KX134', 'M036YB197', 'E119AO777', 'B416OX190', 'T297PA35', 'O086YE47', 'H654TX199', 'H594PY46', 'O445EP98', 'A931EO750', 'C155EO150', 'B162TT35', 'T913BY71', 'M553CM750', 'O430PH750', 'B901MB35', 'T250XX35', 'B106KM35', 'B765YK35', 'B676KC177', 'O751KA40', 'A444BB150', 'C211OO177', 'A413MP97', 'B953KX35', 'K518XP777', 'B697TC35']\n",
            "['T916BM71', 'A447CB35', 'T019PP57', 'M306KP190', 'T871KY35', 'B706YX35', 'C634CO35', 'T535TT90', 'P070BK86', 'K518EY750', 'B448HY35', 'K297CP71', 'C765CB190', 'M306KP190', 'T152MH116', 'C991KT190', 'A380KB177', 'O005OY190', 'Y747CP777', 'A852EX777', 'E889EE777', 'C783BB197', 'K767PK178', 'T445TY35', 'B498HX777', 'B076TT35', 'B303TC35', 'E777XT45', 'B809HB777', 'M506CE197', 'P908EA71', 'B154OO190']\n",
            "['M813XY152', 'T726PX35', 'O646EO197', 'B356MA35', 'T255KT35', 'B271KP35', 'T473OH22', 'P048OP750', 'O745MC197', 'B806OX21', 'E692OY750', 'X198KA199', 'C753TE35', 'T374XE190', 'C191EA21', 'O977CC21', 'A528XB35', 'B766CH35', 'M020HX197', 'Y488TM47', 'M505EC71', 'X244YA178', 'T865MT190', 'T612XY35', 'Y954KM177', 'T757PB178', 'H189EM72', 'C328KY197', 'Y920OH77', 'X848EA199', 'M330YK150', 'P925XO35']\n",
            "['E982PC750', 'K884YY199', 'T946XH777', 'Y800BK161', 'B717KK35', 'E147AB35', 'A008KB21', 'B354XM35', 'E958ET60', 'Y355PY77', 'P719ET197', 'P878XP35', 'A412BX37', 'M989AK777', 'B132TY178', 'Y175YY47', 'P520PPB77', 'X193PT197', 'O572AC70', 'O111TO78', 'Y120XE177', 'M421YK46', 'C523YB86', 'M999KK99', 'B106KM35', 'Y122XE98', 'T447OC35', 'B170TO35', 'T862OP35', 'E450AM35', 'K003AP750', 'P425XB31']\n",
            "['A315XP35', 'T859OB199', 'B221OO35', 'T969CK35', 'A321MM150', 'A815BT142', 'X202BO750', 'T829AX799', 'Y553BY35', 'T637CB35', 'H634HM178', 'T349MY35', 'C080Y59', 'M679KC77', 'H950KT777', 'E165EE197', 'H121OK190', 'B845BK35', 'E321EB35', 'T478HK77', 'B850BK35', 'B127OO35', 'C985OX35', 'E782AB35', 'K219CK77', 'B001XM190', 'A804MT96', 'C008YM177', 'X007OC197', 'B977KY777', 'A826HP33', 'C155TE150']\n",
            "['A124YT35', 'C112CX777', 'A597OY35', 'A092PC77', 'E222KX23', 'K501OA50', 'A310CB35', 'B918XO190', 'C757XB190', 'M294AK42', 'C302AH750', 'C555AT78', 'O048CA38', 'A148XO35', 'A291CP35', 'A813CX35', 'Y223BH35', 'M994OC178', 'M129YE77', 'T596HP35', 'A408CX199', 'B378KT35', 'A727XX35', 'O615EB777', 'H306PX77', 'T854HH35', 'O261BY799', 'O265CX77', 'P084EB197', 'O618HE750', 'A949TT197', 'O189XO47']\n",
            "['E618AC53', 'C514PP35', 'X777XX77', 'Y500BB150', 'H343MY190', 'T233TE35', 'C821CC197', 'M140KC90', 'K854KX33', 'B303HX35', 'A716BY177', 'E690CB177', 'A592XO35', 'B039XT159', 'C900OT190', 'Y441PB199', 'M191AO190', 'A813CO154', 'A007HE178', 'Y636OA98', 'K356EY124', 'O720XY35', 'C461TB199', 'B278CO57', 'A321MM150', 'C733AP777', 'B034YP197', 'C108YO777', 'C059PT197', 'K264CP197', 'Y771KE35', 'A408CX199']\n",
            "['K717CP190', 'H332TC77', 'B401OM197', 'T974HH35', 'O157AT799', 'B608YY35', 'T078PP77', 'M828CY77', 'T836XP197', 'B035XB35', 'X800MY47', 'B234KP35', 'B212OO35', 'T763PP35', 'B975CY35', 'A929BC190', 'H652MB750', 'C008YM177', 'M997ME190', 'P772XC177', 'O695BY750', 'T058BX50', 'H654BC799', 'T478XY35', 'B950KM35', 'H941CT77', 'P667YE199', 'A290AP777', 'A500HX197', 'T290PA777', 'B715HX35', 'M421YK46']\n",
            "['A466TB174', 'H816TY90', 'C523YB86', 'Y478KK750', 'T647PO35', 'E717AX35', 'B426BE35', 'A168XE197', 'C757YH35', 'Y227KP35', 'B050CB86', 'C839TY35', 'A147OC197', 'H919TK199', 'P227XB77', 'M960KO178', 'H368BT178', 'T700EB799', 'Y514XC98', 'T242HH35', 'E411AH77', 'A030MM99', 'P376TO777', 'A119AO777', 'Y153MO150', 'K168PA777', 'P375AH750', 'E915KT77', 'Y441PB199', 'T672BC750', 'A339KB50', 'T845KE50']\n",
            "['C461MO35', 'P126XK178', 'T473OH22', 'A621XC150', 'B806HY35', 'E780AA35', 'X514KB50', 'T487HB750', 'K489YO190', 'Y747YK199', 'A199AO777', 'B505AA177', 'C769KC45', 'M995YA777', 'Y955EO52', 'O455KX777', 'T584KE197', 'M913YP199', 'A597OY35', 'B240YA199', 'E911BT197', 'K944OA190', 'A116OM197', 'T486OB777', 'O001YP152', 'K095TE46', 'M619PM40', 'C016MT199', 'B057KE35', 'P326YK71', 'C461TB199', 'C266TO35']\n",
            "['A737BP777', 'O533YC35', 'M699OO750', 'O805CC178', 'T019PP57', 'C523YB86', 'K625CH62', 'O818BM197', 'P613HA178', 'Y732YH197', 'Y939AA35', 'M631MX177', 'T804OK35', 'Y528PH750', 'T359OX35', 'B784MA35', 'H962MB799', 'B317BY35', 'H654TX199', 'M306OH178', 'P794KB750', 'A126OE197', 'H593KK46', 'E628AK35', 'B162TT35', 'B203YH199', 'T131KM777', 'C108EB799', 'O308YE190', 'X861TE190', 'C093TX190', 'Y812MC197']\n",
            "['M441MO32', 'M032HB190', 'M200K35', 'O807MT152', 'E100MK123', 'B634AA35', 'A565TX35', 'B979BA190', 'A299PB35', 'A571XX197', 'C808HA35', 'M088OH750', 'K549CE190', 'O948AE40', 'O571KA190', 'E449HC190', 'E097CB152', 'B949TC35', 'P794KB750', 'O118KO78', 'T548HE77', 'A126TE199', 'C461TB199', 'K180BP199', 'C686KP750', 'O483AT77', 'C991KT190', 'A008KB21', 'O959BH777', 'E948AA35', 'Y732BY35', 'O086AO37']\n",
            "['B417BT35', 'T535TT90', 'O476YH197', 'K872OH178', 'E296AX35', 'T769MY197', 'Y620BY163', 'H517EK150', 'P882YC35', 'O684YT77', 'T246XH35', 'M496CO197', 'Y427OO98', 'O670YE190', 'C065MK78', 'O720OO73', 'C398MT750', 'X374BM799', 'B509EE35', 'P123OE50', 'C461TB199', 'O309HC177', 'B757CX35', 'H725EA178', 'A072PO750', 'X929OA77', 'K893HM199', 'X353ET50', 'O308YE190', 'B003PP99', 'P154OT190', 'T891CO35']\n",
            "['Y386KB777', 'B990CK35', 'B161HC178', 'B967AT35', 'Y168TA777', 'A886OT178', 'T967CH35', 'B377MM99', 'C328KY197', 'B961BA35', 'K874XA77', 'X294XO190', 'K600OC178', 'M340HA197', 'P089AA138', 'B982EA750', 'T885MM96', 'C411MB750', 'H543CO178', 'H380CY197', 'O043AT777', 'P536XO197', 'H793PE77', 'X358BO799', 'O842OO97', 'A176OY35', 'E393YK71', 'T625EP799', 'Y430HK190', 'A435TP35', 'B155OK53', 'H841ME40']\n",
            "['A113BT750', 'O000OO77', 'M505EC71', 'P557MY71', 'O720OO73', 'B489PO197', 'A575BA150', 'P686KT71', 'B888EP35', 'P466HT750', 'C122AC750', 'A540CA35', 'K600OC178', 'O950BX799', 'B256XA35', 'T436PT197', 'B568TB22', 'B460EH35', 'E849XC190', 'A385TP35', 'P473AX71', 'T734BP35', 'K692AK799', 'X333OC116', 'A978AK777', 'A894XO35', 'E543PP190', 'A129HO190', 'A476TC35', 'B843AC35', 'O445EP98', 'X034OC47']\n",
            "['C437HC197', 'O261BY799', 'A857BP777', 'B550YT35', 'T714BO799', 'A001CC172', 'B997OM190', 'P500OK199', 'B134YT35', 'X777XX77', 'O979TO199', 'C759XK35', 'Y846AY777', 'A062XO35', 'P115OM750', 'C523YB86', 'A719XH35', 'A955KY777', 'E946BA35', 'H274AT57', 'M577MX71', 'K010BH199', 'M502EB777', 'C486PC77', 'B835TO163', 'C733AP777', 'B250XY777', 'C732BY777', 'A278OX35', 'O918MM190', 'T601YO35', 'X941XX35']\n",
            "['H114XK197', 'T364HE199', 'P540OM750', 'A124PX35', 'T554CK35', 'K022BK199', 'P752XY54', 'A705HM190', 'B499AT177', 'Y980KE777', 'H068XP199', 'A714MP90', 'P223XK197', 'O243KP199', 'B181CB35', 'K492TE190', 'H444KH47', 'B188BH77', 'C712XP197', 'E375AM77', 'A300EK799', 'T817PC35', 'Y567XK77', 'M714TC777', 'T782TE777', 'C077CC77', 'M083HB197', 'A041KC37', 'A350CM37', 'C712PP750', 'X837BM777', 'X003OK98']\n",
            "['A413OC35', 'A826XB35', 'C282MH77', 'K416YC99', 'M018EM57', 'B956KX35', 'B584CB35', 'A641PX35', 'B567XK199', 'Y664AC197', 'H642PP197', 'C391KA35', 'O009YA177', 'O059CH150', 'B891YK35', 'P866XY197', 'A972BA799', 'P494KE197', 'T337BC35', 'X684OT22', 'B227CX35', 'C197CC197', 'T697YX35', 'B664YT35', 'E258EY72', 'C461TB199', 'A714MP90', 'T267XY35', 'M414PM190', 'X738KY97', 'P510YE35', 'K086HA197']\n",
            "['T682YC35', 'X996MC750', 'P185YX71', 'K613BM799', 'T710YP35', 'A844PH197', 'B232OE178', 'A468KP750', 'K926KC77', 'A178ET178', 'Y272HB177', 'H376PA69', 'X677AB98', 'M989AK777', 'H657PY86', 'Y035YT77', 'M158PK777', 'E486KH777', 'B443PA35', 'C690AE00', 'B326MB35', 'A844PH197', 'B222AP35', 'Y898OO197', 'T436PT197', 'Y064KM35', 'A625PY190', 'M577MX71', 'Y446YK197', 'A119AO777', 'A853MP97', 'Y122EO50']\n",
            "['E600PH76', 'X296AA777', 'T117YY35', 'O048CA38', 'E705BK35', 'M491BE777', 'T835MC161', 'E127BY777', 'A000AA177', 'A730OC35', 'H654BC799', 'T700EB799', 'B278KX35', 'K395XA197', 'A020PO77', 'K370AK199', 'A220XO35', 'H072YB777', 'H678OE750', 'B433MA35', 'P573HB47', 'C809MB96', 'Y929EE35', 'P100YC31', 'B408HE35', 'X731KY177', 'E124BK150', 'T439PC35', 'T260KO178', 'C752OA35', 'B856HB35', 'E602AM35']\n",
            "['A463PB35', 'E236EA99', 'C541KK35', 'H654TX199', 'K692AK799', 'C446XA150', 'T646HX190', 'A982XA27', 'X777XX77', 'T858EP154', 'K491PO178', 'A392OK199', 'E911AB35', 'X027YK22', 'X973PP199', 'B146TH152', 'Y728EC35', 'T128BO750', 'A777BP177', 'B390HO197', 'T861KY197', 'B090XE35', 'T191XC99', 'A828ME197', 'O938OB177', 'T780EK71', 'P580EC50', 'H517EK150', 'T421YY35', 'O048CA38', 'B774CT35', 'M959EB190']\n",
            "['O054PX47', 'B377MM99', 'C552YH35', 'Y612EY35', 'B389XY72', 'T041HO71', 'P596OM750', 'A463YY150', 'O937BE178', 'O656OO77', 'T124MP77', 'P094KB750', 'B936TC35', 'T925TH35', 'Y849XT177', 'C564BO197', 'C537CH777', 'P267CT177', 'T237EC35', 'B635OK77', 'B576AK35', 'X921AO150', 'T516HP35', 'P736HT178', 'B281HK178', 'T960EY35', 'B728AE35', 'E482OP777', 'B833PK750', 'K401CO777', 'H950HA40', 'B227TY57']\n",
            "['K945YA190', 'C813PE750', 'E355EB35', 'A354TC777', 'T644HB777', 'B566OO35', 'B893AK35', 'H077BO71', 'E277XM77', 'M505EC71', 'H683AP750', 'Y340XK36', 'E713XA77', 'T866OP199', 'T383XY35', 'T935PK47', 'P528KE150', 'A195OK750', 'A231XA35', 'T697MC35', 'C282MH77', 'M306KP190', 'A172MX750', 'O101OK177', 'O759YC150', 'A944XM76', 'A184XE38', 'H559CH777', 'X158MO47', 'C349CX35', 'B249EP199', 'O048CA38']\n",
            "['E600XP77', 'A184XE38', 'O622OB750', 'C353OT150', 'O048CA38', 'B565HA750', 'A851TH197', 'B937EO35', 'T882XB190', 'A780MM99', 'H444AB190', 'E908HM76', 'K683AX777', 'T403XH35', 'M116MO777', 'T446PX98', 'B646HA35', 'H808CM98', 'E100AH50', 'O254OT47', 'H956OK40', 'E500YX150', 'B239OM93', 'X971BY77', 'A555BM199', 'O174OO154', 'B583TC35', 'B311EY35', 'B692XB152', 'P549OO35', 'B628MA35', 'B517BY35']\n",
            "['A550YC35', 'K356EY124', 'K675PB777', 'T339CE190', 'E875EM777', 'Y854EY177', 'B700AX35', 'B823XE35', 'B344EO178', 'X020CX190', 'T584AC178', 'M980BA750', 'M473KT799', 'P009KP35', 'P529MB197', 'B073BO190', 'K338MO750', 'M677YP71', 'H635HY68', 'M107KK98', 'P007HT98', 'H749KO199', 'Y623AA35', 'C913CY777', 'M997YM40', 'H392TO199', 'X332YE199', 'C371CH35', 'B829XK35', 'A571XX197', 'O062MC199', 'B773HA10']\n",
            "['P477OT750', 'X587BM57', 'C208PY78', 'P949YX199', 'Y318HC47', 'A816YX199', 'H720YB31', 'X096XX35', 'E165EB35', 'H749YE150', 'Y122XE98', 'A966CE134', 'O488OM750', 'K356EY124', 'B190YT35', 'K914PB71', 'C437CY59', 'K001MP32', 'P063KT150', 'M318EC150', 'T467CE71', 'C080PY59', 'T587PO35', 'A572YX199', 'H645AM777', 'O208OY59', 'X014EP777', 'T801EC35', 'B268YM35', 'Y754AC35', 'H803AK197', 'P081XH777']\n",
            "['E878XP197', 'E426EP799', 'B596CM35', 'Y853HT777', 'H956OK40', 'K743XO58', 'P690CX190', 'K842BO51', 'E864AK35', 'K455OT750', 'T650XX35', 'C429CC177', 'P494KE197', 'P029AO197', 'Y841HK777', 'C865XH35', 'X498CP99', 'A780MM99', 'T443XO47', 'B504OK35', 'X949HY64', 'K001MP32', 'T974HH35', 'K377BA777', 'O775MB750', 'E451EY750', 'A125YT190', 'M195YA71', 'H719AO197', 'B017YH35', 'Y488TM47', 'O022MB33']\n",
            "['E117TP77', 'B235TH35', 'H195YB77', 'H039HX50', 'P806AT750', 'X639AT777', 'E284EP35', 'P289BT35', 'E911BM750', 'B023MY799', 'O347OH47', 'A549BP50', 'B796PB35', 'B031HX35', 'E028AX799', 'B310KY35', 'H039HX50', 'B446XH777', 'H968EB197', 'B137CC35', 'A790ET124', 'H110PA57', 'E742AB35', 'P971AT197', 'A290KY190', 'E315EO50', 'O708PT77', 'P955EM50', 'T915TK35', 'P999CT71', 'M498MT199', 'Y526OH197']\n",
            "['O486ET777', 'P606EY177', 'C760MC34', 'P145XX177', 'P118PP174', 'B848CY35', 'B138PB35', 'E321EB35', 'Y976BX35', 'M208KB32', 'B694EB35', 'A230CH35', 'B485EP35', 'B231EO35', 'E304CC178', 'M231EK777', 'B421HB35', 'A575BA150', 'H056PM50', 'B446KX35', 'C295EM57', 'O133XE777', 'A184XE38', 'E543PP190', 'C929XA777', 'O193EP47', 'B609BB197', 'T009TT35', 'P321MA750', 'B190YX35', 'B807MB35', 'M532HC777']\n",
            "['X117BK47', 'X096XX35', 'B879HC777', 'C107PB197', 'X674PY190', 'M633TY46', 'O969KT197', 'M380OA69', 'K880PO190', 'B021BK35', 'A283KK197', 'T970CH35', 'A942YA77', 'B979BA190', 'Y004AO77', 'B635OK77', 'M481YX777', 'O807MK177', 'H659CM177', 'X500YO197', 'T488KH35', 'B308PY177', 'T632EH190', 'B218OK35', 'P808PM35', 'P494KE197', 'M160XO71', 'A504TC35', 'Y807EC77', 'B325OM35', 'M900BH71', 'B416OX190']\n",
            "['C994OK77', 'T870CH35', 'E868EO35', 'K608MO11', 'C353YP35', 'E843KO77', 'Y581PH750', 'E296AX35', 'A727YK77', 'Y770AO197', 'H077BO71', 'E372AH35', 'B756MA35', 'B153BH197', 'X702OC199', 'T159TH35', 'B616CT190', 'T329PA750', 'X777XX77', 'Y238PT199', 'B993OY35', 'A005AA98', 'A001AA01', 'T294HK35', 'E174EE174', 'E072OA77', 'X521TX190', 'C550YX57', 'H007EY47', 'M725XC77', 'A841AM799', 'T517AY35']\n",
            "['T988MX777', 'P321MA750', 'O523BP40', 'B571XH77', 'O310EP190', 'X108MO77', 'B594MA35', 'C245KK35', 'E091XK777', 'H962MB799', 'K560BO199', 'O196CP199', 'B442PA35', 'E686XB90', 'C540OK35', 'T612XY35', 'B799YY35', 'E297EO35', 'B778EE35', 'A030MM99', 'B071OB77', 'O004MY750', 'O788YA90', 'A919OO35', 'K942BO57', 'T933YM71', 'B492OK77', 'Y409KA777', 'C523YB86', 'H957YP177', 'B440KT35', 'K775HX197']\n",
            "['E309BP35', 'B010YH35', 'B549CX35', 'B612YX35', 'K096PB177', 'C232MH777', 'X777XX77', 'B963EH50', 'Y400BO79', 'B419HB35', 'T965CX777', 'A230CH35', 'B568TB22', 'O208OY59', 'B631CK35', 'X615HC777', 'C599YC197', 'O479AE799', 'E716AX35', 'B605BY197', 'P089AA138', 'B151PM35', 'P374HH190', 'E440AM35', 'B071MK777', 'C600CC38', 'C700MO190', 'T877HH35', 'C869YK177', 'A460PM197', 'B508CK35', 'E458AH35']\n",
            "['M955AX57', 'H214AP77', 'C810KA77', 'C925BB31', 'B964KY21', 'T548CB197', 'C942PA35', 'C572OH35', 'B254MM177', 'C066KT777', 'B161EP35', 'X557CM197', 'B810CX35', 'C740XK35', 'B716PC35', 'P494KE197', 'T129OM69', 'X518HE197', 'C202YC197', 'E401YA150', 'B202KO150', 'T999YB35', 'T724XX35', 'A571XX197', 'E742AB35', 'A608YT35', 'B221CB750', 'B442OC197', 'B616CT190', 'Y867TA197', 'H255PE197', 'C411MB750']\n",
            "['A616MP97', 'B414YX35', 'B599CK35', 'B669EE35', 'B498MX777', 'A206YE197', 'B764BX777', 'C526BA35', 'E541AA35', 'E114YA197', 'C387TC38', 'A571XX197', 'A208TB35', 'B491TH35', 'O717AO50', 'A857BP777', 'B815TP35', 'M722YC71', 'A301BP799', 'X506HO47', 'B407MO35', 'B885YT35', 'B239OM93', 'B292TY197', 'H797XB777', 'H186BA190', 'T444XX35', 'A654HT197', 'T494XA47', 'Y059CH777', 'A553CH35', 'B276PB35']\n",
            "['E965BK35', 'B462EP35', 'P988BP199', 'T797KE197', 'E592AM35', 'A772KB77', 'X053PA197', 'T349MY35', 'T780EK71', 'X363XX35', 'B440KT35', 'A777CB190', 'H636YE71', 'C411TB199', 'B885TP77', 'B188BH77', 'P139HM777', 'A377PX35', 'M025MX777', 'M806CM197', 'T390XO197', 'B206CK35', 'B123AP35', 'E584YT190', 'H611BB50', 'P195MA777', 'B710XM178', 'B311TT35', 'C351CK35', 'K066ET50', 'B444XA50', 'X475XM190']\n",
            "['E444KC98', 'B470YK197', 'B626CY197', 'T898CA177', 'X506PT777', 'A363OA35', 'A775XB35', 'A300HM35', 'O222TY190', 'B255KX35', 'T367AC197', 'T539EH35', 'K832YX199', 'E137YO190', 'C763YX57', 'A894CA777', 'B613AP35', 'A563OB77', 'H454AY750', 'B489PO197', 'T433MK67', 'X152XT199', 'H180PT174', 'H914CO777', 'E673AK35', 'B304TC35', 'A618TY178', 'A996PY35', 'M100MM77', 'P552M777', 'T390XO197', 'B655KT35']\n",
            "['P605HE97', 'K226ME777', 'X993MA199', 'K600OC178', 'X019OC750', 'T333PH35', 'M959EB190', 'Y044AX35', 'Y664AC197', 'Y372HK197', 'B599AY35', 'M855YB71', 'T488PY197', 'O505OP750', 'O674EY750', 'B723CK35', 'B255CP174', 'T915KB197', 'P116HO35', 'H995KE799', 'Y765HK190', 'T278XX35', 'A626OC35', 'B620AE35', 'E680EA35', 'T226PA750', 'Y572AC799', 'B395HB35', 'X925XT199', 'B552PA35', 'M282YH197', 'A184XE38']\n",
            "['B700B161', 'H841ME40', 'B995EE35', 'T919OC35', 'Y572XK199', 'B655CK35', 'A793XX35', 'Y361PB190', 'O108OA47', 'O538OA43', 'X500KK197', 'C175MA47', 'B750XM35', 'P907CO71', 'A184XE38', 'T865PC35', 'P183EB73', 'T449PP35', 'M085PY50', 'C150AM750', 'H791EB799', 'M894MA31', 'B427PX190', 'B778EE35', 'A295PT750', 'A233AO152', 'H000KK29', 'C237PM197', 'A831YH77', 'M116MO777', 'P641XE178', 'A818KT750']\n",
            "['B045TP35', 'Y374BY35', 'O654TT35', 'A665TY35', 'B106KA750', 'H938BH777', 'T841BP750', 'C461TB199', 'B252HB35', 'P282HY98', 'K055KH40', 'T704XH35', 'A003EA46', 'O840AO799', 'B914BC35', 'X888KX190', 'Y878TA190', 'X200TC190', 'Y471BX750', 'O268OO90', 'H626XB199', 'X901CE199', 'K774TK97', 'B071MK777', 'H444TA99', 'P461BP799', 'P922PO777', 'C810KA77', 'T121TK35', 'C353KM161', 'Y668PK190', 'T307PX77']\n",
            "['T486OH35', 'B603TK190', 'A339XO77', 'B336BB197', 'A832XK97', 'A605OT35', 'A665TY35', 'B408EM50', 'H653OK190', 'O636XA190', 'E999XH199', 'H214AP77', 'A107YO190', 'B074OE777', 'O760MM54', 'O742MO199', 'P350AM799', 'C956BX777', 'O044KK124', 'E645AX35', 'C301BO98', 'E238OK76', 'O408YM98', 'T735KH35', 'E290CX777', 'B476HE35', 'E476HC750', 'O646EO197', 'T292CH35', 'C105YH199', 'T973PP35', 'A119AO777']\n",
            "['E564AK35', 'Y050YX777', 'Y283AT35', 'Y950BE123', 'A721TP35', 'A388AC104', 'T888BY150', 'K580OT152', 'A997PY199', 'O086AO37', 'C379PO178', 'Y977KO197', 'B867OH35', 'E865AB35', 'P116HO35', 'T355EE199', 'B939HX35', 'C523YB86', 'E036KY150', 'C076CK35', 'Y459PH77', 'Y717MC777', 'T615PA35', 'B789BO35', 'H834KA197', 'T590HY35', 'E441KA750', 'T446PX98', 'X030HO98', 'Y074BX35', 'T170MB35', 'T511XA35']\n",
            "['B078BB750', 'T675CT97', 'B527PP35', 'M200CM197', 'K003AP750', 'A312ME190', 'E908XM197', 'A808BY71', 'E442AM35', 'K322OA77', 'E675MT190', 'B542BY35', 'P139OT750', 'B980EY35', 'K785TC777', 'A942YA77', 'E710HA199', 'X859AC799', 'A758TX35', 'B152TT35', 'B922EH35', 'B109TA35', 'A914PM198', 'B636PP35', 'Y883YC35', 'B019YC77', 'P764AT777', 'A488OK190', 'T826OX35', 'B814EO35', 'H009AH750', 'A992OC35']\n",
            "['B611AK35', 'B619EY35', 'C480HE35', 'Y069KA50', 'O807MT152', 'A235XH35', 'A150XY177', 'B159KP35', 'B692XB152', 'T658KK60', 'C117AX150', 'M533OY32', 'E675EC159', 'T799EX71', 'Y002EE35', 'T421YK46', 'B870OO35', 'O261BY799', 'A977AT197', 'B779CC35', 'A363CA35', 'O223OO74', 'P955EM50', 'A037MP37', 'B566OO35', 'P391OT750', 'M368HC197', 'A763MC150', 'K698MT77', 'B855PB35', 'O091BB190', 'T970KH777']\n",
            "['E318OA71', 'T235TO35', 'Y657KO35', 'O059CH150', 'H794KP178', 'A059YA35', 'E782AA50', 'A050EE198', 'P254AE35', 'T694EB50', 'C389YT77', 'A594XB35', 'A710XA35', 'E029OO62', 'T013AO35', 'A659MH750', 'A050EE198', 'A328HE35', 'T864PA35', 'T710EC177', 'T634TB35', 'B867OH35', 'E265BB777', 'A408CX199', 'O221EY190', 'B471KK01', 'B292HY35', 'T654KT197', 'Y036BT35', 'M417KX777', 'K828EB77', 'K929EB799']\n",
            "['A758TC35', 'B700AX35', 'P384CC197', 'T368OT199', 'X518HE197', 'C328KY197', 'P735XP35', 'B778YT154', 'A267EX777', 'T998XC98', 'Y087EE35', 'A905TX35', 'B368PC77', 'Y607CC57', 'T502CK190', 'C529MX150', 'P914OM69', 'O027MM40', 'P035MX750', 'B404KA35', 'B995PC35', 'Y015PE777', 'T806BC35', 'X984OC777', 'B797TA35', 'B457MB35', 'B601XE197', 'O031PM777', 'H087XM190', 'M219OK199', 'H683CP177', 'T985BA35']\n",
            "['P509HH35', 'B527KX97', 'P916AT750', 'B692CK35', 'O690CP777', 'H040OH102', 'O391MA199', 'O325YH190', 'M045YY77', 'A850PY35', 'A956YP35', 'K720MM190', 'M025PM197', 'O278EB47', 'E281PC197', 'M527EY197', 'K501OA50', 'H999MC190', 'C777XY199', 'A092TX35', 'B582PP35', 'H400HB116', 'B467EO197', 'P557MY71', 'C845PB199', 'B916PH777', 'P445BM197', 'B345AT35', 'O714CA777', 'P978AA178', 'O702MK35', 'C609CT777']\n",
            "['M473KT799', 'B075KY62', 'T650EE35', 'C541XH777', 'C541KK35', 'B863CY35', 'C097PO35', 'B080KE72', 'A808BY71', 'P602XX199', 'K879TP77', 'B127OO35', 'O695BY750', 'A763PT57', 'Y007EY777', 'P969KP197', 'K399PA178', 'K725OY97', 'B327XK35', 'X444YK99', 'B815MH77', 'P824HO178', 'O790HA178', 'T628XX35', 'M792YT197', 'X246EH76', 'C679YA35', 'O826AC77', 'B555OX35', 'P494KE197', 'A620XP197', 'C306EA97']\n",
            "['C452OB50', 'P906PC99', 'H800KB55', 'P500TK190', 'C445KM750', 'B841OE35', 'T710KH777', 'Y407MA57', 'B864OO35', 'A793XX35', 'H941CT77', 'P481BC777', 'H882XH77', 'P912MY33', 'X709EA47', 'K986PH163', 'E310AH35', 'K736KY199', 'K503HC750', 'A452KT199', 'E062HK190', 'Y732KX178', 'Y209PT197', 'T989CX197', 'H979TK98', 'H192PM777', 'P747YK47', 'X531KB50', 'A949BE777', 'P415TX197', 'Y087EE35', 'K920YO77']\n",
            "['A230MX750', 'T399CT22', 'E889MM150', 'E550MH55', 'H401TE40', 'K234BO77', 'B446XH777', 'P532HX47', 'M677YP71', 'H462EA799', 'H678TB154', 'A467YX197', 'E449HC190', 'B310KY35', 'O189XO47', 'C202KA190', 'Y572AC799', 'K326KA197', 'P147BE123', 'A003OY35', 'H311XP777', 'A423XX35', 'Y294CP47', 'C808HA35', 'H903MT199', 'T882PT150', 'K005XC197', 'M981AA163', 'P494KE197', 'A796YH150', 'B619PC35', 'K475XA190']\n",
            "['X158MO47', 'B585AE35', 'T729HM33', 'C753TE35', 'B715XE35', 'A019PT150', 'M928KH77', 'A035YX35', 'B768HY35', 'B638YY35', 'A942XO35', 'K160TM178', 'E649EH50', 'A972BA799', 'A429YB21', 'P777BH199', 'M375MC77', 'B944CY197', 'X854BK178', 'C080XT35', 'Y253KP97', 'T726EH57', 'T293PP116', 'Y120EB35', 'E112OT750', 'O603HH178', 'Y536OC197', 'B853BT35', 'B266CB35', 'E165AE35', 'A300EK799', 'O073EP799']\n",
            "['B797TA35', 'X924CK77', 'H940MM190', 'T478OT750', 'O764KX57', 'P852YX71', 'T908YY35', 'B001YY35', 'E849AA35', 'A373TC35', 'T038HC197', 'P247BP50', 'H707PE47', 'O503OY197', 'M553BM777', 'K499XB197', 'K442HK29', 'B524PA35', 'T289KM35', 'B217HH67', 'C442HO33', 'E884BH777', 'B622CB35', 'C523YB86', 'H839MC750', 'O001OO10', 'B404KT35', 'B161BH750', 'O554EP47', 'B792EH198', 'B949OO35', 'T666TT36']\n",
            "['B458EH35', 'O048CA38', 'P602XX199', 'A305OC35', 'B177BT35', 'X503PX777', 'A327AH97', 'B717AC35', 'A001AA97', 'T005BY47', 'K873MA197', 'M801CP178', 'T448TX59', 'E841AB35', 'B817PA35', 'T360KO199', 'X112TE190', 'E073BM50', 'C320OC178', 'A344OA197', 'B838AX35', 'P922PO777', 'X577TK199', 'Y528BK777', 'A126TE199', 'Y272YY70', 'C002MB35', 'B152OM35', 'P969XO35', 'X003OK98', 'A167YY35', 'A900BO799']\n",
            "['C377CC77', 'O231BY750', 'A369YA35', 'B524TC35', 'M340HA197', 'B821CK35', 'A612XA35', 'K874XA77', 'Y809AB35', 'M975AK190', 'T973PP750', 'T828MO197', 'B220XM35', 'H311XP777', 'A944XM76', 'A704TP35', 'O770MK197', 'Y326EY35', 'M857CM32', 'Y014OM99', 'O148AO50', 'B291CK35', 'H000KK29', 'T499MK777', 'C512CH57', 'O469OO197', 'T832CB35', 'K457OH69', 'C940TM64', 'B257TO98', 'K468XK777', 'P401KO71']\n",
            "['X505OE98', 'M916CO197', 'B419MB190', 'X577TK199', 'P411OT750', 'A001AA97', 'T760AO35', 'T582KA71', 'B734CE197', 'C502TY777', 'X111CM197', 'O459XH199', 'M489CE163', 'A235XH35', 'B078HX35', 'B490KE777', 'H800CM98', 'K120XE57', 'A184XE38', 'M797HO77', 'O807MK177', 'K662YK190', 'C486MB35', 'P866TA178', 'B381YX35', 'B043YH35', 'B404KA35', 'B038CY21', 'X121EC47', 'B575EO35', 'B312XC199', 'E787HC750']\n",
            "['E098MM18', 'B469YK35', 'X391YO190', 'Y832ET197', 'B505AA177', 'A206YE197', 'B944CY197', 'A119AO777', 'O188YX197', 'O703XK47', 'T430EE199', 'M916CK750', 'O556AE50', 'H766PX77', 'M818CY197', 'C717PM199', 'X681OK98', 'X444YK99', 'H948CE777', 'A095XB35', 'K940XX199', 'B950BK35', 'A889CB35', 'X079OO97', 'X583TO197', 'K816AY799', 'X696PX199', 'M713EA150', 'P641XE178', 'E229BP35', 'T032EM197', 'O221XY178']\n",
            "['B552CA750', 'Y446YK197', 'B736KE777', 'Y120EB35', 'T665KK35', 'T433XA150', 'X243BM799', 'T866PA750', 'T695TY35', 'T409XB35', 'B778EE35', 'O317PH750', 'K880PO190', 'A130CA777', 'K832YX199', 'M244KE197', 'E206MH190', 'A595KX134', 'T713XP35', 'E208PE32', 'X209XO190', 'X184ME199', 'B884EE35', 'E850CY197', 'B757CE197', 'M779YT197', 'T550XO777', 'E693MM177', 'Y705AY35', 'C421PA35', 'M404CK197', 'K666EX177']\n",
            "['B186HO33', 'P494KE197', 'P412O77', 'X840TH178', 'T531OH35', 'X578TC197', 'O615KM40', 'H413EX39', 'C589KM750', 'A931EO750', 'K949AP777', 'T584KE197', 'C875TX190', 'C052XM99', 'B253BX799', 'H968EB197', 'B999TC35', 'M496CO197', 'C295EM57', 'Y864TH22', 'M196YO177', 'E621MY98', 'Y503OT24', 'E113HK199', 'K872TY777', 'A919XX35', 'B784KK35', 'E906OE750', 'B444CY21', 'Y972YP22', 'O268OO90', 'B736KE777']\n",
            "['T584KE197', 'M667BA40', 'A937MY777', 'H378PM77', 'O716BM750', 'T970CE750', 'X723MK197', 'A604CA35', 'B255CP174', 'A444KC197', 'E808AM35', 'O685MA197', 'O123KA777', 'P425XB31', 'M382AO125', 'B098TA35', 'A340CX35', 'T708TO35', 'C245CH35', 'Y451BX35', 'A984CE35', 'B402PC35', 'X444YK99', 'K688BT777', 'T155PO35', 'B072OK199', 'B177PX190', 'X987PT77', 'T289EA35', 'B937EO35', 'O370XK77', 'X948XX150']\n",
            "['C446CT42', 'T874HH35', 'C329HE777', 'O979TO199', 'O503OY197', 'T678XY35', 'B799TT35', 'H170KB750', 'B200PB35', 'A613TO35', 'B247BE35', 'P052XT47', 'E696CH197', 'M997TY71', 'T850CE750', 'T763PP35', 'T605KX35', 'H933OT777', 'B868EB35', 'A101BM77', 'P609KP177', 'B062XE35', 'B571XH77', 'P423MB777', 'B584AK35', 'C208PY78', 'X282XM190', 'A096BA777', 'O005OY190', 'M242TC199', 'B975CM35', 'P014AM750']\n",
            "['Y730EY35', 'H863BE63', 'A119AO777', 'X301HX77', 'B777CC35', 'EP93BM777', 'Y779CA199', 'Y745BE150', 'B846HX35', 'Y486AC35', 'A036PK35', 'A750YP35', 'P907AC777', 'P778HM197', 'B317BY35', 'O896HT161', 'T723CH35', 'M824AC799', 'B996BK35', 'A260CT77', 'X152XT199', 'O760MM54', 'T838BB35', 'T893TE35', 'B400PC35', 'B130XE35', 'K636BH199', 'T582KA71', 'B189PC35', 'P339OX35', 'P990CA178', 'A163CM77']\n",
            "['B825TY199', 'X158MO47', 'T960YB777', 'H812AT102', 'P364PT750', 'P111MA47', 'H039HX90', 'O476YH197', 'X200EB750', 'P563MA199', 'B091HE35', 'E833AA777', 'T874AM777', 'B480YY35', 'T670EA35', 'E495MH750', 'Y230BT35', 'B495TT35', 'O550YO77', 'A869MP97', 'T426XM174', 'M297PP197', 'C510PE777', 'P756KT178', 'B084YT35', 'B338XM35', 'E098MM18', 'A363CA35', 'H869MY40', 'X251XX150', 'A356CE35', 'X245OK69']\n",
            "['B979HY35', 'P029AO197', 'Y446YK197', 'Y627BE197', 'Y931HE750', 'T433XA150', 'H131TE05', 'H425OK750', 'T767EM177', 'X688HC777', 'T947TH35', 'A992XO35', 'K122KM197', 'B416MH35', 'T965CX777', 'X243HO150', 'K692AK799', 'E911BM750', 'O048CA38', 'M801CP178', 'B001XM190', 'O324EC199', 'P802TE197', 'K473MT69', 'E135OX77', 'A114PB35', 'P542MT750', 'O578PH199', 'B188BH77', 'O101OK177', 'O157AT799', 'M502EB777']\n",
            "['H588MC750', 'A846EA150', 'B178CC35', 'X234YY59', 'P418YH197', 'C244HO777', 'B489CX35', 'P002AM150', 'B193CB35', 'H737HK71', 'P613EP39', 'B373TP35', 'A982XA27', 'B980OX35', 'H330EK123', 'H114XK197', 'T264XE35', 'Y864MH150', 'P925EK47', 'A103YA35', 'B141AP35', 'T608TT35', 'X854PP777', 'P211PK199', 'A857BP777', 'Y471BX750', 'B979BA190', 'E459BM35', 'T986CP35', 'B477CC35', 'B598CM35', 'T648OK199']\n",
            "['A774CE35', 'M028HT777', 'Y487OE750', 'O542PH750', 'C452OB50', 'A119AO777', 'O573OO90', 'P757CM197', 'B898EY35', 'T056PX150', 'K945YA190', 'H266AH750', 'O616XH199', 'T140XC35', 'Y732YE199', 'B416OX190', 'E707XM190', 'C196YE47', 'Y649OC777', 'A328AA177', 'C771EB35', 'A809OB77', 'B361BT35', 'B725YX35', 'A582CX35', 'E414HK134', 'B754CX35', 'T275PO35', 'X530EK777', 'B330XM35', 'B062EB178', 'T898CA177']\n",
            "['T198PA197', 'A119AO777', 'T637BE35', 'E548HY750', 'B038CY21', 'B785PP35', 'P883PH35', 'B150CB35', 'A737BP777', 'Y374AY99', 'B542OX177', 'M997ME190', 'O309HC177', 'A709XY190', 'B218OK35', 'K010BH199', 'A020MP77', 'C463CP199', 'T998MY35', 'O208OY59', 'Y918XX190', 'O936EK98', 'K759XT177', 'T603AE35', 'C409MC197', 'P584KP199', 'H005BT93', 'P273YP190', 'B214KT35', 'H214AP77', 'X013PE197', 'O185OM98']\n",
            "['M740CC77', 'C018YT190', 'O221XY178', 'P559AM199', 'X478XA199', 'O487BH777', 'B058CH197', 'M989AK777', 'O700BX799', 'Y098BB47', 'E493XX197', 'Y351AX799', 'T701XH35', 'P057YA177', 'T940EC150', 'H286BT197', 'P065OO71', 'P539MK750', 'M634OB64', 'C440BC35', 'B613OE35', 'A297CX197', 'X414TM47', 'H719AO197', 'P495KH35', 'B173BY35', 'Y553BY35', 'B467EO197', 'M666MM21', 'H094OX199', 'B250TP77', 'C881BK35']\n",
            "['A860OB77', 'A028PE35', 'A849HA197', 'X063AM777', 'K811XE777', 'P616AC50', 'P846BK750', 'B211HB35', 'T176HX199', 'M008YC71', 'A103YA35', 'T432KO777', 'T897KB197', 'T444XX35', 'O925TB178', 'T410TE35', 'C120CA777', 'P046KY750', 'B038TT35', 'A081YA35', 'T232BY197', 'M382AO125', 'C059PT197', 'B221CB750', 'X709EA47', 'B790HX35', 'P486XO35', 'A578PY178', 'E640MK99', 'O916YY77', 'B270KE35', 'E174PA199']\n",
            "['K368CA750', 'C274BP197', 'B134YT35', 'B091YX35', 'X248MM69', 'P652YO77', 'Y309HH97', 'C619YB199', 'B953PK777', 'Y496PX178', 'T215OH35', 'M469PE57', 'O655EE01', 'E016KY197', 'E368PB77', 'Y386KB777', 'X516MB197', 'C567MY35', 'A542PK35', 'B707EE35', 'X598OY150', 'C763YX57', 'A683OO35', 'P364PT750', 'X948XX150', 'Y923KH177', 'A621XC150', 'K770MP77', 'T694EB50', 'T528XE77', 'B692HB35', 'B766XA35']\n",
            "['T835AP777', 'A830XY197', 'T270TT197', 'A211HO62', 'A677PX35', 'A994BE799', 'Y713OP197', 'M155EK50', 'B468KE35', 'E887AX35', 'T446PC35', 'A853MP97', 'T661MB35', 'E829AM35', 'C457KM750', 'B462PC77', 'X730YX98', 'T562MY35', 'H751EK51', 'X818YM190', 'E318OA71', 'O520EK799', 'A119AO777', 'P133TT150', 'X711AB98', 'K325HC77', 'B254MM177', 'B161EP35', 'C142PH777', 'O698AY68', 'K883AB750', 'H335XX40']\n",
            "['T413HH35', 'A999AA777', 'C674PT35', 'B903BB197', 'B899OK35', 'C768AO750', 'B735CK35', 'B668AA35', 'T829AX799', 'O137PE197', 'B543OE35', 'B464EA799', 'B685AK35', 'B899HY35', 'C959EB35', 'Y424XO197', 'O756EB50', 'E379XC197', 'B203PB35', 'T758CO35', 'P700EM777', 'H950HA40', 'C726HH750', 'A949XY190', 'P238TP71', 'C079BX199', 'C159KM750', 'H873BY777', 'B396AT35', 'A172HH199', 'T870CH35', 'X095YY47']\n",
            "['A632CE35', 'H447EM178', 'X888EP150', 'K831BE750', 'P588XY64', 'A001AA777', 'B847PA35', 'O605BT141', 'H775MM46', 'B244BK50', 'B489PO197', 'H623MK190', 'O189OE77', 'B505BO190', 'K125PT750', 'B344TT35', 'B727EP35', 'P791OE77', 'C303AE35', 'E651BP777', 'B703AP199', 'A377YC35', 'E647AM35', 'T339EE35', 'O333OK750', 'P015KY102', 'A859XB35', 'P357OH199', 'T620EA35', 'A533CC35', 'H423PP77', 'C530PA35']\n",
            "['O951TA34', 'B156KT35', 'B422MB35', 'H939CE177', 'B413EC198', 'E293BM35', 'K052OY97', 'E014OX77', 'A062XC35', 'B102KX35', 'M215YB68', 'M402KX199', 'X816EC116', 'O245BC750', 'B488XK35', 'A263CB199', 'B072OK199', 'Y407EC35', 'K480XK77', 'E620AX35', 'B604MB35', 'B133TC35', 'Y021TA97', 'A453YA35', 'Y722AA35', 'K156CO777', 'C495OO97', 'E681BT142', 'C700OC35', 'P494KE197', 'E137YO190', 'O092OO47']\n",
            "['E071AX35', 'Y501XK47', 'X474YC197', 'E034BM35', 'X930KB777', 'B567KE35', 'B705AE50', 'P883PH35', 'A841AM799', 'A732XX57', 'B898YY35', 'T598HY35', 'H529PP178', 'A119AO777', 'C406YP35', 'O086AO37', 'O846TX750', 'Y686BX35', 'T875YY35', 'O261KM750', 'E998YP46', 'H505OB197', 'E398AM35', 'T858EP154', 'A163CM77', 'B500KX35', 'K109CE69', 'A809TO35', 'A007CH35', 'O684YT77', 'M393TA190', 'C848OT150']\n",
            "['H715YB199', 'T953EE35', 'X809HP750', 'O047CM197', 'X257KB190', 'A737TC77', 'B926PB35', 'M338AX777', 'A842OT178', 'X826AT777', 'E960PC750', 'X336TO190', 'E521BA35', 'P411OT750', 'P046KY750', 'B362MA35', 'O090YE190', 'C164MM77', 'X700KK97', 'A389PA197', 'X924CK77', 'X197XX98', 'T095KE799', 'K932CK750', 'O571KA190', 'B686CK35', 'T769MY197', 'B031HE35', 'A452CH35', 'A437HH102', 'E446AH35', 'T584KE197']\n",
            "['T454MY35', 'M875HA77', 'O166PH199', 'X561AH777', 'M121HO77', 'Y955PB750', 'B330YE35', 'M997YM40', 'O918TA197', 'T990AC71', 'A119AO777', 'X984OC777', 'M466OE71', 'O262EH190', 'C358HT35', 'A676TO197', 'Y282PP777', 'Y626XO178', 'P712EM777', 'T420OH35', 'Y882YC35', 'P494KE197', 'X212EM47', 'C727OP34', 'A119AO777', 'M953XM199', 'H560KY177', 'H043PE77', 'T663XE35', 'C677HK154', 'O477MM777', 'E708CK161']\n",
            "['M129YE77', 'Y758YX190', 'T499MK777', 'P098PP71', 'T099CC197', 'P500BH190', 'A804MT96', 'M157AT799', 'E551TT177', 'P821EM777', 'X933OA77', 'C077CC77', 'B271BT750', 'M056CO777', 'Y387XT777', 'B534EE35', 'B324HX35', 'A233AO152', 'B325MB35', 'O536EM777', 'H623MK190', 'K822OT777', 'A948XO35', 'A218PT750', 'A368OO35', 'A272TM35', 'E100MK123', 'C712AT35', 'B676ME178', 'H519CB44', 'B173PC35', 'C817YE35']\n",
            "['H940CA77', 'O118KO78', 'A500HX197', 'B049AT35', 'M034TK199', 'E642PX178', 'H400HB116', 'C448CH35', 'O321TY35', 'X769TH47', 'T694HP35', 'B753PX190', 'E153KY178', 'Y638YM77', 'C523YB86', 'Y034EP35', 'H181EO197', 'C182KC35', 'B578YK35', 'C479BP777', 'C770KA199', 'A421XA35', 'B440KT35', 'B290KK35', 'B908HY35', 'E908XM197', 'T557OX35', 'A388PX35', 'H075BP199', 'B552CA750', 'O445EP98', 'P865KT777']\n",
            "['X168AH76', 'M155EK50', 'E745XM150', 'B343BK35', 'C429CC177', 'K782OB199', 'Y832EB35', 'E601TB197', 'P494KE197', 'O166PH199', 'Y718BY35', 'C786KB777', 'A001AA54', 'B979BA190', 'C998XY35', 'A714MP90', 'T554HE71', 'E886YC77', 'A528XB35', 'M198OP777', 'P157XP777', 'X642YC197', 'X972CB777', 'C937CC177', 'T395XY35', 'K717XE57', 'P136MH777', 'A291XA77', 'B327OK35', 'K005YY23', 'Y820OC777', 'P630TY98']\n",
            "['T071HP77', 'P525CB47', 'C953EO197', 'H118YB90', 'B477CC35', 'T089TH35', 'H380YY199', 'T318EO199', 'O918TA197', 'B792HH150', 'Y326EY35', 'H715YB199', 'P494KE197', 'K075OE29', 'A881YP35', 'O137PE197', 'T700PH35', 'A273YH35', 'Y812EY35', 'Y064KM35', 'B188BH77', 'H097AH777', 'B393HB35', 'A408CX199', 'A908CX35', 'B722HT35', 'T708TT35', 'T908YY35', 'O432TO116', 'A135MB199', 'Y511MP190', 'O517MC190']\n",
            "['C357BM25', 'C869XY197', 'M003PX190', 'E748AA35', 'T608TT35', 'T340PP35', 'Y747CX190', 'T889BP35', 'X550XT47', 'T228TT35', 'K837HX77', 'P593TB178', 'B676CM35', 'B967TB190', 'E621MY98', 'B048AK35', 'X152HY750', 'X010KX97', 'H587KK77', 'B133OM35', 'E882BA35', 'K054TC75', 'O000OO00', 'T025MT35', 'B715CM35', 'K828EB77', 'E599BA35', 'P965KM35', 'Y747CP777', 'A127CB35', 'H795OY33', 'P349EK777']\n",
            "['B417OE35', 'A297CX197', 'K697TY177', 'E194TT197', 'B788AB197', 'X498YC82', 'A408CX199', 'T473OH22', 'B748PA35', 'P114KY750', 'K853KA197', 'X088YP199', 'P357PX47', 'H062CE197', 'T767EP47', 'B324XE35', 'X000BO98', 'A470TA35', 'A581TH150', 'T829AX799', 'B890AA35', 'T557KM35', 'Y807EC77', 'X913KX190', 'A952YT35', 'M554XP102', 'O235OO197', 'X501AH90', 'T083EO50', 'T888BY150', 'B158PA35', 'X971BY77']\n",
            "['B302XK35', 'K600OC178', 'P494KE197', 'X777XX77', 'T888BY150', 'Y759AB197', 'C990PC95', 'C400PO25', 'H235PY777', 'Y555TO18', 'H968AA197', 'T627XH35', 'E770AX799', 'Y153MO150', 'B750TC35', 'C392EE35', 'A536TO35', 'T852PE777', 'A705PX35', 'E033OX777', 'P481BC777', 'M865PH197', 'P736YB35', 'T227XX35', 'K770MP77', 'T090MO750', 'T528AC57', 'H696KO190', 'T943EA35', 'K100XB46', 'O437TX777', 'X357XM190']\n",
            "['B422MB35', 'A217CA35', 'B338YA777', 'A549PB35', 'X806TC750', 'A667YO197', 'H189EM72', 'K101EB199', 'Y025YP90', 'P712EM777', 'K868BE750', 'A135BY152', 'M058AC152', 'Y669KB178', 'C595BP750', 'C607YE35', 'A832XK97', 'O840AO799', 'P085PY57', 'T934TE35', 'K491PH62', 'T520TC35', 'P863MX750', 'T882XE197', 'K374XX177', 'T861YC190', 'C577CO35', 'A729PB35', 'H896HH59', 'O904YO77', 'A931TT197', 'Y356AA35']\n",
            "['K140EM125', 'H094PH197', 'P011MA197', 'B416MB35', 'X640AX777', 'H133BM799', 'Y765KK35', 'P522YX777', 'Y251AT35', 'E036PY178', 'A119AO777', 'A788AO750', 'X654XC190', 'B146TH152', 'B886YX35', 'B186HO33', 'M477EE177', 'C623AY177', 'E448AP178', 'X777XX77', 'K052PX777', 'K495TK40', 'P333PH750', 'A178ET178', 'C461MO35', 'B134YY35', 'B077KT190', 'Y559MY777', 'P470TT197', 'M032HB190', 'H653OK190', 'C675AE35']\n",
            "['B846EO35', 'K122KM197', 'B054BE142', 'A727XH35', 'Y939AA35', 'C317TB190', 'A374YH777', 'Y138PT199', 'T060BK197', 'E119AO777', 'B611AK35', 'X984OC777', 'X561AH777', 'B340MA35', 'B899HY35', 'A881YP35', 'T606XP35', 'Y770AO197', 'T630YB35', 'B591XB177', 'X063AM777', 'K638KK750', 'T252AB99', 'B993KB197', 'H794KP178', 'P008OT77', 'B106PX178', 'T765CC190', 'K743XO58', 'O481MA99', 'X159TK98', 'P540OM750']\n",
            "['T379OT750', 'X009CX96', 'P115OM750', 'T738AC35', 'K447YH77', 'B707EE35', 'A003AE04', 'M911AY197', 'E156TK777', 'B444XA50', 'M925YO197', 'A342CM750', 'T832CB35', 'X808YA777', 'P926KX177', 'E617BK777', 'M421YK46', 'P148PP174', 'X444YK99', 'T905CB777', 'O057BA50', 'P955EM50', 'M713EA150', 'O785YX197', 'O044KK124', 'Y279EC35', 'Y865TH777', 'O814OC750', 'E750AB35', 'B549EO35', 'X079EX197', 'T290PA777']\n",
            "['T787AB177', 'Y448PK69', 'E399EM777', 'E573PM178', 'A745XY198', 'K364EM199', 'A928TX35', 'C431PH177', 'B944BC35', 'A309CC199', 'B299BM799', 'A704PX35', 'E234CK77', 'P780AB178', 'M083HB197', 'B800PK35', 'A233AO152', 'T444YO35', 'M792YT197', 'B495TT35', 'K122KM197', 'B505EH35', 'E841AB35', 'H880PX77', 'C605TY35', 'E130YC197', 'A524YK97', 'C349CX35', 'T301BP750', 'Y572AC799', 'P018XO777', 'B706HB35']\n",
            "['T526PP47', 'B328PA35', 'B118KK35', 'P988BP199', 'C340OK47', 'Y790XX150', 'T438ET35', 'X439MM32', 'X700KK97', 'A892XY197', 'T089OE77', 'E770AX799', 'A853MP97', 'A857BP777', 'X815TK777', 'Y905AM197', 'C292MB799', 'A532OP35', 'C843CK35', 'H004EP190', 'C662HP199', 'M423CK178', 'E379XC197', 'M829OC199', 'P874AA34', 'P821EM777', 'B448YM35', 'E073BM50', 'Y759AB197', 'C461TB199', 'Y572AC799', 'E917EE777']\n",
            "['O212EY777', 'Y377PP197', 'O325PC38', 'M299CO199', 'A408OY35', 'H400HB116', 'C845PB199', 'T847OH35', 'H040OH102', 'O634BH178', 'K464MP190', 'O292PM199', 'O702MK35', 'B656CC35', 'K539PH750', 'B304TC35', 'B188BH77', 'K247EX777', 'M091YY77', 'Y141EE35', 'T528XE77', 'O708ET178', 'H128MB51', 'B655CK35', 'O556AE50', 'Y350PA777', 'X111CM197', 'H233XP197', 'T375EX35', 'A444BB150', 'E368PB77', 'B495TT35']\n",
            "['C464BY777', 'O171EY197', 'B026CO50', 'M613BO12', 'E293BM35', 'E433OO199', 'A820BC777', 'X211XX35', 'A913KP750', 'B362HX35', 'E999XH199', 'B531OH161', 'X877XX46', 'E448AP178', 'P681XB777', 'K942BO57', 'O522BP40', 'K983XB77', 'A233PE197', 'A717PA197', 'A060AH98', 'E999TY199', 'O325PC38', 'B022PO777', 'M352CM178', 'O487BH777', 'C417XC35', 'B491PC77', 'Y736YK197', 'O390PH750', 'T038HC197', 'Y865AC35']\n",
            "['C390AH750', 'X576YB199', 'Y731TB197', 'X924CK77', 'B698XM35', 'K571PT99', 'K043XY86', 'T604AY777', 'B570OP21', 'C965TO35', 'Y122ET150', 'P494KE197', 'O505OP750', 'E491BO35', 'H026BB199', 'E073BM50', 'B435AP799', 'B344KE35', 'T947CH35', 'C808TM777', 'O906TK31', 'E764AX35', 'E073BM50', 'K919EC50', 'B901MB35', 'M459XA199', 'B084PB35', 'B377MM99', 'T548HE77', 'M928KH77', 'E668AX777', 'C333EM199']\n",
            "['B400PC35', 'T649AY71', 'H065BP777', 'B556AX35', 'Y082YP190', 'T375PB77', 'Y608AK750', 'A119AO777', 'E617BK777', 'A184XE38', 'T419XY35', 'X300ET197', 'T951YP35', 'B268OB178', 'B408EM50', 'X045YB777', 'X978PT77', 'C008YM177', 'A004CB09', 'C442XM199', 'M353OY150', 'C150AM750', 'A743TO35', 'A853MP97', 'O070XT197', 'B302OM35', 'T442KX199', 'M914EO750', 'X274AY77', 'E593TP77', 'X659TO190', 'E363AO178']\n",
            "['P793AP35', 'B247YK13', 'T993HH35', 'T767PY35', 'Y291KM35', 'E448AP178', 'B377MM99', 'A805OA777', 'E524XM77', 'E900BB199', 'B307OM35', 'P307OH197', 'B806OX21', 'E098MM18', 'O926YE777', 'C180TM777', 'A731PY35', 'P977OE50', 'X517PC197', 'C900OT190', 'E595YP42', 'T355EE199', 'C900OT190', 'B987KT35', 'B049AT35', 'A030XM199', 'A860OB77', 'B950AC799', 'T890CK35', 'B046EC199', 'H801XB777', 'C034BX116']\n",
            "['T536TC35', 'B852XX199', 'Y011KK35', 'Y123AE750', 'T728XH35', 'X179AP197', 'H062CE197', 'K654HM197', 'T943EA35', 'E069KY777', 'B153YT35', 'P111AH199', 'K965OM750', 'O520EK799', 'Y220KB35', 'A463PB35', 'Y435BE750', 'A119XC777', 'B003PP99', 'B737CB35', 'K860AK152', 'T227MY35', 'H036AC777', 'H400OT750', 'C875TX190', 'E875AX35', 'A081YA35', 'C777KH71', 'C502MX35', 'C892OB50', 'P763KX150', 'X155XX35']\n",
            "['O070MM40', 'T604OX35', 'T570YY35', 'K979OH29', 'M318EC150', 'E841AB35', 'E318OA71', 'A795YC35', 'A621XC150', 'E111BB197', 'E636AB35', 'T420OH35', 'X356MT750', 'K133XM36', 'E425AM35', 'Y487OH750', 'O920XC47', 'T569EP35', 'A991BY799', 'B456TA35', 'E125EK125', 'A395XC35', 'P548CB178', 'A561CC35', 'X463PC197', 'C120CA777', 'O153XC61', 'B152KK35', 'K219YE199', 'P538CC190', 'T826PK22', 'O853OY750']\n",
            "['X604OM77', 'O777OT177', 'T172XM199', 'O191YT190', 'C690AE50', 'H615KM77', 'B143AC35', 'C240MY35', 'T293CH35', 'A504CO197', 'X200TC190', 'P228YK35', 'H324CH57', 'C697BE199', 'P445BM197', 'T905CB777', 'Y705AY35', 'B686TC35', 'T232BY197', 'H004PM777', 'T649PC35', 'P873BY71', 'A826PP199', 'E745XM150', 'T858EP154', 'X140CK174', 'H808PY750', 'C663CB750', 'H337TP77', 'K989KO98', 'A748MY199', 'B020KT77']\n",
            "['B548HB35', 'P395HO178', 'Y363PP76', 'B738EB35', 'H869MY40', 'T605EP50', 'H857PA190', 'C383OK35', 'E534TH197', 'B459BK35', 'E497OK197', 'T277XE35', 'B488PC35', 'B143MT750', 'A622OO35', 'Y637EO77', 'H727MH750', 'A001AA777', 'O068CX199', 'Y450PA47', 'T870CH35', 'H031YP178', 'B210KX35', 'T597TE35', 'E432AH35', 'O409BP50', 'T314BH777', 'X888KX190', 'B022PO777', 'K020AY190', 'A305BY799', 'B819KX35']\n",
            "['B129KX35', 'T544AX197', 'C807PB69', 'E906PB777', 'X082BT777', 'B625EO35', 'C568YA190', 'M926TO197', 'H579OE68', 'T659OP35', 'T850CE750', 'C884YK190', 'A119AO777', 'T846OT35', 'M830YM40', 'A571XX197', 'H465TP190', 'T299TT35', 'T662CH35', 'H683AP750', 'P577HO77', 'T505EK777', 'Y640PP197', 'B895YM35', 'M989AK777', 'B190YP21', 'B556HB35', 'H001AK799', 'K010BH199', 'X924CK77', 'K016BP197', 'Y640PP197']\n",
            "['C852TA777', 'B050CB86', 'T567ET199', 'C400PO25', 'H885CA69', 'C274TY35', 'B477TP35', 'X501EA799', 'E020EB50', 'T937CK35', 'A232PA35', 'P763BH777', 'B078BB750', 'B050CB86', 'X934EX777', 'H038BE178', 'E675MT190', 'A952YT35', 'P363TO35', 'C940KY35', 'E013XP13', 'T508PP35', 'A676TO197', 'B676ME178', 'K075OE29', 'H447OH71', 'H400HB116', 'B386EO35', 'A299EP799', 'A007HE178', 'A000AA00', 'H110HK77']\n",
            "['A909TP190', 'B753PX190', 'Y611AC35', 'A184XE38', 'P537BY77', 'B440KT35', 'T066TT52', 'A883AE37', 'P443BX799', 'O947XO197', 'O035TT31', 'A208TB35', 'T210OA35', 'B412PM35', 'E008XB199', 'B267HH777', 'O698BE799', 'H425OK750', 'A244TM76', 'B015TM35', 'C918MH35', 'M564BP77', 'T651BH35', 'A003AE04', 'B705YT35', 'A595KX134', 'C191EA27', 'B546YY35', 'B088KB777', 'C609BP35', 'H447OH71', 'T308MH35']\n",
            "['C607HH190', 'E543PP190', 'T235TO35', 'B958PO199', 'A325YM177', 'X752EM197', 'E201KO777', 'A099YP777', 'B428OY177', 'T226PA750', 'A190PK35', 'B422MC35', 'M888BX199', 'O896MP98', 'Y015PE777', 'X463PC197', 'E032BA777', 'P432OC47', 'T701KT750', 'K949XO97', 'Y214OK77', 'C760AY98', 'B752TO197', 'X248MM69', 'T430AP799', 'H234TO197', 'Y705AY35', 'C808HA35', 'B347OA35', 'A627CA35', 'Y413KA750', 'E495MB197']\n",
            "['C777XK35', 'B006EH190', 'O048HE67', 'O709TE31', 'O830CP150', 'M347OP77', 'M615OA750', 'B678BK35', 'B841TP98', 'E336HO197', 'O717AO50', 'C915PP35', 'P912MY33', 'B223PM35', 'A049PM750', 'E293BM35', 'B846EO35', 'B716PC35', 'Y286YK777', 'K989OT71', 'P017HE02', 'B377MM99', 'P079CH750', 'K447YH77', 'K872TY777', 'K010BH199', 'C236XA77', 'C302AT35', 'A333TT35', 'O444PH750', 'B975AY35', 'Y062KA35']\n",
            "['O070MM40', 'Y122XE98', 'B157AK35', 'B050CB86', 'P736HT178', 'K063OK197', 'H094OX199', 'B576AK35', 'O704TM197', 'B344TT35', 'P550PH35', 'A119AO777', 'A007HE178', 'B173EK21', 'E933AE35', 'Y700PC197', 'T888BY150', 'A127YB35', 'K480XK77', 'X576YB199', 'T606XP35', 'T020EP35', 'B750KX35', 'Y877CK77', 'P900AB178', 'X837BM777', 'B197CB35', 'B294CB35', 'K052OY97', 'Y724YT77', 'T809HH35', 'Y578PM77']\n",
            "['X088YP199', 'B313CK35', 'T233YM77', 'E034BM35', 'X938YK99', 'C821CC197', 'H940CA77', 'E359BM35', 'K767PK178', 'B987KT35', 'O317PH750', 'C750CE777', 'A295XO35', 'A552TM116', 'H611BB50', 'C448CH35', 'O746TE197', 'C299KC199', 'A894XP35', 'O616XH199', 'O229AT40', 'C703XK35', 'C739CT199', 'T998MY35', 'A362MP97', 'C732XT35', 'C523YB86', 'B878EH35', 'O517MC190', 'K204MC799', 'A997TC35', 'H097AH777']\n",
            "['C769YE35', 'M058AC152', 'K003AP750', 'Y792CO98', 'K994BP777', 'Y799BY35', 'P652YO77', 'K793TA190', 'B521BE35', 'P747EA197', 'K965OM750', 'B301TC35', 'Y382OA197', 'X454OB77', 'H544MK197', 'K097TM29', 'X254YB199', 'M989AK777', 'H982PP64', 'T246XH35', 'A412MO190', 'K283MM97', 'A805PX35', 'T488MB35', 'X777XX77', 'H893KB750', 'B746TC35', 'A518XX35', 'T260KO178', 'A504HB134', 'K708AT799', 'B759CM35']\n",
            "['Y111EE35', 'T056PX150', 'T407AH35', 'Y696KY177', 'P787PY35', 'T584KE197', 'O503OY197', 'H719AO197', 'B996KC33', 'A413MP97', 'T491HP35', 'O086AO37', 'M241MY750', 'E077BA35', 'O816KE77', 'T548HE77', 'B026CO50', 'Y691XC777', 'K468XK777', 'B860MC178', 'T956PP35', 'B722XK35', 'H933OT777', 'B917TT35', 'H453PH31', 'X659KY199', 'K306YA197', 'T875TY35', 'B798HX35', 'H998TO197', 'T352PC35', 'E939AX35']\n",
            "['K717CP190', 'B898EY35', 'B848EO35', 'B159KP35', 'B559PB35', 'P772XC177', 'K683AX777', 'H921MM99', 'B894KT35', 'H885CA69', 'M937KB750', 'O000OO77', 'C247BC35', 'H000KK29', 'Y663PH197', 'P842EY199', 'B450KX35', 'A963CP35', 'C758EO799', 'X809HP750', 'M819BY50', 'B631OE35', 'T051AT34', 'C573CB190', 'T304KM35', 'C564BO197', 'K899HK190', 'A941PY35', 'H379YE48', 'B227OO178', 'P433KM178', 'A017ET197']\n",
            "['K005YY23', 'O790HA178', 'A289XH35', 'C243TP77', 'C123HM150', 'A999AA777', 'O040TO177', 'E336HO197', 'T620KM123', 'E167TY197', 'C224KE154', 'B979BA190', 'P228YK35', 'E236EA99', 'Y122ET150', 'K395XA197', 'Y927AT35', 'B100ME18', 'B133OM35', 'O728BT190', 'T356BM35', 'O376YK98', 'B063BC50', 'T456XE35', 'X030EM190', 'T981CY197', 'C100YC197', 'H436XE777', 'A512TY35', 'M181YP22', 'K468XK777', 'A265CP199']\n",
            "['T262CP35', 'X587BM57', 'H009AH750', 'C077CC77', 'H715YB199', 'E675MT190', 'B072YX35', 'P563TH35', 'K776XO197', 'A505MT116', 'A975OT190', 'B615EK70', 'Y521KO35', 'P500PP51', 'C398MT750', 'H798HE47', 'A442CY35', 'O379PK47', 'T356BM35', 'T035EK64', 'M457BA197', 'T916PX35', 'T014BH55', 'A623TP35', 'T852PE777', 'O655EE01', 'O522BP40', 'P595TC199', 'P908EA71', 'Y770YT177', 'X998AP199', 'K128HP777']\n",
            "['T596EP35', 'B106PB35', 'P898TA31', 'X889MO750', 'T351YO150', 'B328PA35', 'A543KC45', 'P540OM750', 'K326KA197', 'A119AO777', 'E200PA178', 'E966KA750', 'Y802BO35', 'E923YP77', 'Y288BM799', 'B389XY72', 'P459PP190', 'K842XP197', 'E252EA35', 'E471HO77', 'O664XK777', 'Y120XE177', 'E134EO50', 'B541EY35', 'A166XP190', 'X292MX197', 'A326PT750', 'Y028KP35', 'C016MT199', 'A536TX35', 'A408CX199', 'P607OB102']\n",
            "['X869KY197', 'M204AH750', 'A545XM77', 'B950EE35', 'M655EP150', 'O950HY190', 'B829EK50', 'A231MP97', 'H704AO777', 'M282YH197', 'T445OP35', 'K974AE99', 'H824AA750', 'B776BT35', 'A356CE35', 'B994YX35', 'A772KB77', 'B620AE35', 'K066ET50', 'M714TC777', 'Y299AA98', 'T321TA777', 'B722TA35', 'K969TH93', 'X688HC777', 'B131TP178', 'X159TK98', 'A811PO199', 'B899HY35', 'E833AA777', 'A323BT777', 'T138KT35']\n",
            "['T889BP35', 'O473HT750', 'B910TT35', 'A088XX63', 'C008YM177', 'P427TM76', 'B826EH35', 'M560KP77', 'B151PM35', 'T608TT35', 'A119AO777', 'T873YP35', 'T479OP35', 'Y690AE190', 'X064AM47', 'O520EK799', 'H559YK178', 'O095AM47', 'X941MK777', 'A013EK50', 'X001AY750', 'P509HH35', 'T866OP199', 'B888EP35', 'B536XK35', 'A282CO750', 'B616CT190', 'A001PY177', 'C800EK47', 'B532TT35', 'T737CE77', 'M480OE46']\n",
            "['O137PE197', 'T703YM178', 'X231AC799', 'M777CT71', 'T328EO50', 'P015KY102', 'A548CC35', 'B629BY35', 'M704CA32', 'H079EB197', 'B274YE47', 'E440AM35', 'B488XK35', 'C302AH750', 'P028EK777', 'Y754EC47', 'T891CO35', 'T706AO777', 'O222PB90', 'X015MT750', 'O654YK47', 'K205HB199', 'Y750AB777', 'K641OM190', 'E004OE36', 'A896XB35', 'O473YY199', 'B017MP35', 'C535PO750', 'T601YO35', 'T861KY197', 'B361OY197']\n",
            "['B972OE750', 'B717KK35', 'A686BT197', 'O289OT197', 'E174BB35', 'Y553AT35', 'P927CE190', 'K298MH154', 'H653AH177', 'O888OH777', 'T148XC102', 'A982XA27', 'T885MM96', 'Y478KK750', 'X925XT199', 'X007OC197', 'M083HB197', 'P350AM799', 'E011AM35', 'X106EP67', 'E929MY197', 'P646XT150', 'C593XK53', 'B454BH97', 'O224XO57', 'Y446YK197', 'T916BM71', 'B304TT35', 'B968CX35', 'O802KK99', 'T424HY35', 'K098OY77']\n",
            "['H425OK750', 'T862XH35', 'E585AA35', 'Y122XE98', 'P362MX197', 'B017TP35', 'T765CC190', 'Y567XK77', 'B890PO47', 'A027CM197', 'O715KX197', 'O481MA99', 'B225BB777', 'B891YK35', 'A782AE799', 'E005KE161', 'H543AE750', 'C081PC178', 'E359BM35', 'C429BP777', 'Y651BY35', 'Y290KK35', 'P498EC197', 'B133PC35', 'B361BT35', 'B413HX35', 'Y916OO197', 'Y413KA750', 'A789KK77', 'O603OE47', 'Y396EC35', 'A377OO35']\n",
            "['B087CC35', 'H004PM777', 'A740TX35', 'T363BY50', 'H877YH77', 'E223HA50', 'K759XT177', 'A292XM197', 'O953TX178', 'B979PY197', 'T062BO799', 'O221XY178', 'H883XK197', 'T035EK64', 'O048CA38', 'A328AA177', 'H032XY199', 'T955EH50', 'A959BK152', 'K816AY799', 'A844PH197', 'T563HX750', 'T565TC35', 'C630CB35', 'T738AC35', 'T060BK197', 'O614KP177', 'O265CX77', 'B240YY35', 'Y613TX197', 'A576PK35', 'Y963AB35']\n",
            "['K663HM199', 'A114OA164', 'T476PK197', 'B020YH77', 'K368CA750', 'B101EK35', 'O128CA178', 'A891KO750', 'B123AP35', 'T468KT777', 'O522BP40', 'C443PT777', 'B626AK177', 'B715CM35', 'X854BK178', 'H919TP97', 'T390XO197', 'P056XX71', 'X924CK77', 'X561AH777', 'Y638YM77', 'H979TK98', 'E028AX799', 'B104CC35', 'B969AC190', 'T473OH22', 'M431BY50', 'E293BM35', 'M830YM40', 'E028OA777', 'M989AK777', 'B423KX35']\n",
            "['A926PY35', 'E410EP199', 'P836TX47', 'M478OA98', 'Y605BT50', 'C533CX35', 'A122TB177', 'M291MH178', 'K671BC71', 'T644H190', 'O435KM58', 'B225HE35', 'B095PB35', 'A184XE38', 'X529OT190', 'T719EX35', 'K981MT178', 'B785ET35', 'A568AK50', 'O535YP35', 'M613BO12', 'Y949XC777', 'K261PO777', 'H950HC71', 'M389OB71', 'T043OT177', 'B303EY35', 'B528KH50', 'X079OO97', 'A220XO35', 'B754YT35', 'H400HB116']\n",
            "['K662YK190', 'C273KM197', 'T662PO35', 'C523YB86', 'P228BX750', 'P494KE197', 'Y117MO150', 'Y503EY35', 'P675TO35', 'P494KE197', 'C825TP197', 'E062AB35', 'T473AH35', 'T198PA197', 'B778EE35', 'M136HX197', 'A716AX799', 'K807PO777', 'B001MM197', 'A620CA35', 'B863CY35', 'O174HB197', 'B014CM35', 'X674PY190', 'C523YB86', 'M291MH178', 'B676ME178', 'K606KM750', 'P019HP199', 'T530YP35', 'Y308KM47', 'H822KB750']\n",
            "['P540OM750', 'T461TO35', 'C949TO97', 'T831TO150', 'Y387XP177', 'Y059CH777', 'A231MP97', 'B255KX35', 'E616EB125', 'A286XB35', 'A540CA35', 'E475EY750', 'E999HK99', 'B936TC35', 'A973AH777', 'M652AP799', 'B894BE35', 'C894AC77', 'P051EH190', 'B020KT77', 'B221CB750', 'X236EB47', 'P494KE197', 'H098YH77', 'B769BK35', 'B129KX35', 'C446CE35', 'E906PA199', 'B137CB35', 'T638KE35', 'C460CM777', 'B514BC35']\n",
            "['M691AK34', 'E171EB35', 'C440EC750', 'B626AK177', 'O184AB197', 'H659CM177', 'P300YC86', 'P494KE197', 'X715XP47', 'C595EA90', 'P059YK777', 'A707YK21', 'B748AA35', 'H000HH54', 'B754YT35', 'E941MB159', 'A861MC95', 'P477OT750', 'T671PC190', 'T362EX777', 'H804AH109', 'T341HP35', 'P624MH197', 'E290CX777', 'B271BT750', 'Y474CC199', 'C610YH35', 'C442HO33', 'O348PK47', 'E964AX35', 'P925XO35', 'C429BP777']\n",
            "['X583TO197', 'A481BO57', 'T673TB35', 'M917KY777', 'P596OM750', 'P536XP35', 'O284MH190', 'B489XE35', 'X007OC197', 'K594BK750', 'B958BH777', 'O153XC61', 'H038BE178', 'E999HK99', 'E028AX799', 'X782EP78', 'O048CA38', 'T171CP71', 'M380CY190', 'B236YX35', 'H653OK190', 'P136MH777', 'Y245OT199', 'A444KE42', 'T667TT35', 'C042HO199', 'O004AB199', 'B482TO150', 'P562OX71', 'C906AP35', 'B859EE35', 'O573OO90']\n",
            "['H141MT777', 'P117KT71', 'B922ET35', 'B327OH21', 'B082EE35', 'Y259OE750', 'T998XC98', 'C461TB199', 'A408CX199', 'P500OM750', 'E471XB90', 'X738EP777', 'C671KM50', 'T904CO35', 'B116KM35', 'K817EH799', 'K500BA197', 'A004YK197', 'X045YB777', 'T562MY35', 'E705BK35', 'O191BB777', 'Y446YK197', 'M900BH71', 'E636AX35', 'Y528BK777', 'O813EE77', 'P735XP35', 'M129YC71', 'M554XP102', 'B600BM35', 'B192KH21']\n",
            "['C869XY197', 'T614AM47', 'O086AO37', 'C164YM197', 'K487EM777', 'T998MY35', 'A250TX35', 'T497KE750', 'T730CO197', 'X727YH47', 'K447YH77', 'P085PY57', 'B817PA190', 'B942CC35', 'A407CE35', 'P616AC50', 'K820ET71', 'B153BH197', 'K005KT177', 'K283MM97', 'E811AM35', 'E232XP97', 'P154OT190', 'P900AB178', 'Y298KK35', 'H100XA177', 'P136MH777', 'C182KC35', 'T307XY35', 'C446XA150', 'B899HY35', 'K837HX77']\n",
            "['M441EK799', 'P548CB178', 'K671CK197', 'B878EH35', 'X013PE197', 'B434OP77', 'E767OB150', 'X467MT190', 'Y611XP197', 'K546KT178', 'E909AB35', 'H170EEA190', 'T680HH35', 'C763YX57', 'X703CT47', 'Y100AA98', 'E894CP97', 'B676CM35', 'A894CA777', 'Y153MO150', 'B718TP35', 'A305BY799', 'K853AY777', 'A988HY197', 'X837BM777', 'O920YP35', 'B856XC35', 'B043YH35', 'B217HH67', 'Y222AK64', 'P401MK750', 'Y883AC35']\n",
            "['B700AX35', 'Y846MY777', 'X555XX34', 'X071CA190', 'O174HB197', 'M860OB77', 'X150AB124', 'B979PY197', 'T572KB777', 'O503OY197', 'P122BK116', 'A350OY35', 'A334BC777', 'A740CX35', 'Y426EC35', 'B532XE35', 'M319BY05', 'A675XB35', 'T561TY35', 'B208YB777', 'K571PT99', 'B980XY199', 'B450EA77', 'A941PY35', 'C411XH777', 'T987BX777', 'T645YH190', 'Y304CA98', 'B109CC35', 'P333PK777', 'A001CC172', 'X478XA199']\n",
            "['A535PX35', 'Y965BA197', 'M158KY178', 'H375PK777', 'C501XP77', 'O638KB40', 'Y056XK197', 'B238BH178', 'A372EY60', 'B043YH35', 'C181YM150', 'O043AT777', 'C267TX35', 'B755CB35', 'B108XT190', 'A464AH750', 'T275TM190', 'T572XB777', 'E469BA35', 'M881BK177', 'B269AM35', 'A737MY199', 'B091YY35', 'E040EK197', 'C884YK190', 'K419XP77', 'A799PP35', 'O492HO77', 'M096KX77', 'A777EA197', 'C480HH35', 'X905MX16']\n",
            "['T584AA777', 'X627EH178', 'B850AK35', 'X594BM99', 'M473HX77', 'O894HX98', 'Y958TA190', 'O257KY197', 'B034YP197', 'B141AP35', 'P005PM47', 'E656AA35', 'A474OY37', 'C509YC197', 'M388EC50', 'P214YM190', 'H160CM77', 'E007EX40', 'X952BM50', 'A705YB77', 'C297BT777', 'B847OK35', 'M093EK777', 'E764KB777', 'T841BP750', 'E977AX35', 'A646KY116', 'C086CC61', 'A907TM777', 'K218HY197', 'C599YC197', 'M926CH777']\n",
            "['B884EE35', 'T468KT777', 'B746TC35', 'B714CY35', 'H444AB190', 'T548HE77', 'M865PH197', 'K860AK152', 'O644KB40', 'M361TT71', 'T558XA35', 'M842KT71', 'T331XH35', 'B811YO77', 'O370OO76', 'O550HP77', 'C703XK35', 'C243TP77', 'M750OB71', 'A737XO35', 'T635KP77', 'E475EY750']\n"
          ]
        }
      ]
    },
    {
      "cell_type": "code",
      "source": [
        "from itertools import chain\n",
        "\n",
        "flat_list = np.array(list(chain(*answer_txt)))\n",
        "ind_lst = np.arange(len(flat_list))\n",
        "#ind_lst = list(ind_lst)"
      ],
      "metadata": {
        "id": "IqeU-FcU_lak"
      },
      "execution_count": 203,
      "outputs": []
    },
    {
      "cell_type": "code",
      "source": [
        "flat_list.shape"
      ],
      "metadata": {
        "colab": {
          "base_uri": "https://localhost:8080/"
        },
        "id": "JQ_6XAeqD_ZT",
        "outputId": "32cfea29-a13c-4a76-9f3a-b6805fca8b6c"
      },
      "execution_count": 204,
      "outputs": [
        {
          "output_type": "execute_result",
          "data": {
            "text/plain": [
              "(10518,)"
            ]
          },
          "metadata": {},
          "execution_count": 204
        }
      ]
    },
    {
      "cell_type": "code",
      "source": [
        "len(ind_lst)"
      ],
      "metadata": {
        "colab": {
          "base_uri": "https://localhost:8080/"
        },
        "id": "mPqzl_7nD79_",
        "outputId": "8712fca4-367d-4bb4-c5a9-713bab12c23d"
      },
      "execution_count": 205,
      "outputs": [
        {
          "output_type": "execute_result",
          "data": {
            "text/plain": [
              "10518"
            ]
          },
          "metadata": {},
          "execution_count": 205
        }
      ]
    },
    {
      "cell_type": "code",
      "source": [
        "columns = ['index', 'label']\n",
        "\n",
        "\n",
        "df_res = pd.DataFrame(columns=columns)\n",
        "df_res['index'] = ind_lst\n",
        "df_res['label'] = flat_list"
      ],
      "metadata": {
        "id": "0fLws72jA7KO"
      },
      "execution_count": 206,
      "outputs": []
    },
    {
      "cell_type": "code",
      "source": [
        "df_res = df_res.set_index('index')"
      ],
      "metadata": {
        "id": "L7T32kTVC9d4"
      },
      "execution_count": 207,
      "outputs": []
    },
    {
      "cell_type": "code",
      "source": [
        "from google.colab import files\n",
        "\n",
        "csv_filename = 'my_data.csv'\n",
        "df_res.to_csv(csv_filename, index=True)\n",
        "\n",
        "files.download(csv_filename)"
      ],
      "metadata": {
        "colab": {
          "base_uri": "https://localhost:8080/",
          "height": 17
        },
        "id": "GAu5BJvRBpT_",
        "outputId": "de901d6f-bbae-4ca5-8b03-fcb52e511107"
      },
      "execution_count": 208,
      "outputs": [
        {
          "output_type": "display_data",
          "data": {
            "text/plain": [
              "<IPython.core.display.Javascript object>"
            ],
            "application/javascript": [
              "\n",
              "    async function download(id, filename, size) {\n",
              "      if (!google.colab.kernel.accessAllowed) {\n",
              "        return;\n",
              "      }\n",
              "      const div = document.createElement('div');\n",
              "      const label = document.createElement('label');\n",
              "      label.textContent = `Downloading \"${filename}\": `;\n",
              "      div.appendChild(label);\n",
              "      const progress = document.createElement('progress');\n",
              "      progress.max = size;\n",
              "      div.appendChild(progress);\n",
              "      document.body.appendChild(div);\n",
              "\n",
              "      const buffers = [];\n",
              "      let downloaded = 0;\n",
              "\n",
              "      const channel = await google.colab.kernel.comms.open(id);\n",
              "      // Send a message to notify the kernel that we're ready.\n",
              "      channel.send({})\n",
              "\n",
              "      for await (const message of channel.messages) {\n",
              "        // Send a message to notify the kernel that we're ready.\n",
              "        channel.send({})\n",
              "        if (message.buffers) {\n",
              "          for (const buffer of message.buffers) {\n",
              "            buffers.push(buffer);\n",
              "            downloaded += buffer.byteLength;\n",
              "            progress.value = downloaded;\n",
              "          }\n",
              "        }\n",
              "      }\n",
              "      const blob = new Blob(buffers, {type: 'application/binary'});\n",
              "      const a = document.createElement('a');\n",
              "      a.href = window.URL.createObjectURL(blob);\n",
              "      a.download = filename;\n",
              "      div.appendChild(a);\n",
              "      a.click();\n",
              "      div.remove();\n",
              "    }\n",
              "  "
            ]
          },
          "metadata": {}
        },
        {
          "output_type": "display_data",
          "data": {
            "text/plain": [
              "<IPython.core.display.Javascript object>"
            ],
            "application/javascript": [
              "download(\"download_970ca7e2-fcef-42f7-8ba9-4c62a3877d1e\", \"my_data.csv\", 151649)"
            ]
          },
          "metadata": {}
        }
      ]
    }
  ]
}